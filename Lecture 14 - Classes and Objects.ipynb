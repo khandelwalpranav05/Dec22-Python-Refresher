{
 "cells": [
  {
   "cell_type": "code",
   "execution_count": 1,
   "id": "08827b93",
   "metadata": {},
   "outputs": [],
   "source": [
    "a = 3"
   ]
  },
  {
   "cell_type": "code",
   "execution_count": 2,
   "id": "580a0924",
   "metadata": {},
   "outputs": [
    {
     "name": "stdout",
     "output_type": "stream",
     "text": [
      "<class 'int'>\n"
     ]
    }
   ],
   "source": [
    "print(type(a))"
   ]
  },
  {
   "cell_type": "code",
   "execution_count": 3,
   "id": "76166cc8",
   "metadata": {},
   "outputs": [],
   "source": [
    "s = \"Pranav\""
   ]
  },
  {
   "cell_type": "code",
   "execution_count": 4,
   "id": "df231281",
   "metadata": {},
   "outputs": [
    {
     "name": "stdout",
     "output_type": "stream",
     "text": [
      "<class 'str'>\n"
     ]
    }
   ],
   "source": [
    "print(type(s))"
   ]
  },
  {
   "cell_type": "code",
   "execution_count": 5,
   "id": "3a1ecff0",
   "metadata": {},
   "outputs": [],
   "source": [
    "a+=1"
   ]
  },
  {
   "cell_type": "code",
   "execution_count": 6,
   "id": "83c88b97",
   "metadata": {},
   "outputs": [
    {
     "data": {
      "text/plain": [
       "4"
      ]
     },
     "execution_count": 6,
     "metadata": {},
     "output_type": "execute_result"
    }
   ],
   "source": [
    "a"
   ]
  },
  {
   "cell_type": "code",
   "execution_count": 7,
   "id": "c429b519",
   "metadata": {},
   "outputs": [
    {
     "data": {
      "text/plain": [
       "16"
      ]
     },
     "execution_count": 7,
     "metadata": {},
     "output_type": "execute_result"
    }
   ],
   "source": [
    "a*4"
   ]
  },
  {
   "cell_type": "code",
   "execution_count": 10,
   "id": "9d3052c7",
   "metadata": {},
   "outputs": [],
   "source": [
    "def func(): # function declaration\n",
    "    pass # function body"
   ]
  },
  {
   "cell_type": "code",
   "execution_count": 13,
   "id": "b12fd721",
   "metadata": {},
   "outputs": [],
   "source": [
    "if a==4:\n",
    "    pass"
   ]
  },
  {
   "cell_type": "code",
   "execution_count": 14,
   "id": "e5f01983",
   "metadata": {},
   "outputs": [],
   "source": [
    "class Human: # class declaration # custom class\n",
    "    pass # class body"
   ]
  },
  {
   "cell_type": "code",
   "execution_count": 15,
   "id": "9434d626",
   "metadata": {},
   "outputs": [],
   "source": [
    "h1 = Human() # object of class human"
   ]
  },
  {
   "cell_type": "code",
   "execution_count": 16,
   "id": "2563f802",
   "metadata": {},
   "outputs": [
    {
     "name": "stdout",
     "output_type": "stream",
     "text": [
      "<class '__main__.Human'>\n"
     ]
    }
   ],
   "source": [
    "print(type(h1))"
   ]
  },
  {
   "cell_type": "code",
   "execution_count": 17,
   "id": "fa46910e",
   "metadata": {},
   "outputs": [],
   "source": [
    "h2 = Human()"
   ]
  },
  {
   "cell_type": "code",
   "execution_count": 18,
   "id": "cb1664e4",
   "metadata": {},
   "outputs": [
    {
     "name": "stdout",
     "output_type": "stream",
     "text": [
      "<class '__main__.Human'>\n"
     ]
    }
   ],
   "source": [
    "print(type(h2))"
   ]
  },
  {
   "cell_type": "code",
   "execution_count": 19,
   "id": "fc8661f9",
   "metadata": {},
   "outputs": [],
   "source": [
    "h1.name = \"Pranav\" # to create and declare and initialize attribute"
   ]
  },
  {
   "cell_type": "code",
   "execution_count": 20,
   "id": "41b58cc4",
   "metadata": {},
   "outputs": [
    {
     "name": "stdout",
     "output_type": "stream",
     "text": [
      "Pranav\n"
     ]
    }
   ],
   "source": [
    "print(h1.name)"
   ]
  },
  {
   "cell_type": "code",
   "execution_count": 21,
   "id": "154e3316",
   "metadata": {},
   "outputs": [
    {
     "ename": "AttributeError",
     "evalue": "'Human' object has no attribute 'name'",
     "output_type": "error",
     "traceback": [
      "\u001b[0;31m---------------------------------------------------------------------------\u001b[0m",
      "\u001b[0;31mAttributeError\u001b[0m                            Traceback (most recent call last)",
      "Input \u001b[0;32mIn [21]\u001b[0m, in \u001b[0;36m<cell line: 1>\u001b[0;34m()\u001b[0m\n\u001b[0;32m----> 1\u001b[0m \u001b[38;5;28mprint\u001b[39m(\u001b[43mh2\u001b[49m\u001b[38;5;241;43m.\u001b[39;49m\u001b[43mname\u001b[49m)\n",
      "\u001b[0;31mAttributeError\u001b[0m: 'Human' object has no attribute 'name'"
     ]
    }
   ],
   "source": [
    "print(h2.name)"
   ]
  },
  {
   "cell_type": "code",
   "execution_count": 22,
   "id": "90479d95",
   "metadata": {},
   "outputs": [],
   "source": [
    "h2.name = \"Neha\""
   ]
  },
  {
   "cell_type": "code",
   "execution_count": 23,
   "id": "c780d8b2",
   "metadata": {},
   "outputs": [
    {
     "name": "stdout",
     "output_type": "stream",
     "text": [
      "Neha\n"
     ]
    }
   ],
   "source": [
    "print(h2.name)"
   ]
  },
  {
   "cell_type": "code",
   "execution_count": 24,
   "id": "a4cb0682",
   "metadata": {},
   "outputs": [],
   "source": [
    "# Initializer"
   ]
  },
  {
   "cell_type": "code",
   "execution_count": 46,
   "id": "cd64e8b0",
   "metadata": {},
   "outputs": [],
   "source": [
    "class Human:\n",
    "    def __init__(self): # when object of class is created, init method is executed/called\n",
    "        print(\"I'm called!\")\n",
    "        print(self)\n",
    "        self.name = \"Pranav\""
   ]
  },
  {
   "cell_type": "code",
   "execution_count": 47,
   "id": "eaa21266",
   "metadata": {},
   "outputs": [
    {
     "name": "stdout",
     "output_type": "stream",
     "text": [
      "I'm called!\n",
      "<__main__.Human object at 0x105f58ac0>\n"
     ]
    }
   ],
   "source": [
    "h1 = Human()"
   ]
  },
  {
   "cell_type": "code",
   "execution_count": 48,
   "id": "6a661c59",
   "metadata": {},
   "outputs": [
    {
     "name": "stdout",
     "output_type": "stream",
     "text": [
      "<__main__.Human object at 0x105f58ac0>\n"
     ]
    }
   ],
   "source": [
    "print(h1)"
   ]
  },
  {
   "cell_type": "code",
   "execution_count": 49,
   "id": "4791a1ab",
   "metadata": {},
   "outputs": [
    {
     "name": "stdout",
     "output_type": "stream",
     "text": [
      "Pranav\n"
     ]
    }
   ],
   "source": [
    "print(h1.name)"
   ]
  },
  {
   "cell_type": "code",
   "execution_count": null,
   "id": "540f2296",
   "metadata": {},
   "outputs": [],
   "source": []
  },
  {
   "cell_type": "code",
   "execution_count": 50,
   "id": "83c8153f",
   "metadata": {},
   "outputs": [
    {
     "name": "stdout",
     "output_type": "stream",
     "text": [
      "I'm called!\n",
      "<__main__.Human object at 0x105d5ac10>\n"
     ]
    }
   ],
   "source": [
    "h2 = Human()"
   ]
  },
  {
   "cell_type": "code",
   "execution_count": 51,
   "id": "2f9147a9",
   "metadata": {},
   "outputs": [
    {
     "name": "stdout",
     "output_type": "stream",
     "text": [
      "<__main__.Human object at 0x105d5ac10>\n"
     ]
    }
   ],
   "source": [
    "print(h2)"
   ]
  },
  {
   "cell_type": "code",
   "execution_count": 52,
   "id": "3d042b74",
   "metadata": {},
   "outputs": [
    {
     "name": "stdout",
     "output_type": "stream",
     "text": [
      "Pranav\n"
     ]
    }
   ],
   "source": [
    "print(h2.name)"
   ]
  },
  {
   "cell_type": "code",
   "execution_count": 66,
   "id": "0e7bc97d",
   "metadata": {},
   "outputs": [
    {
     "name": "stdout",
     "output_type": "stream",
     "text": [
      "3\n"
     ]
    }
   ],
   "source": [
    "a = 3\n",
    "print(a)"
   ]
  },
  {
   "cell_type": "code",
   "execution_count": null,
   "id": "eb8cf141",
   "metadata": {},
   "outputs": [],
   "source": []
  },
  {
   "cell_type": "code",
   "execution_count": 61,
   "id": "85a83cf9",
   "metadata": {},
   "outputs": [],
   "source": [
    "class Human:\n",
    "    def __init__(self,first_name):\n",
    "#         print(f\"First Name {first_name}\")\n",
    "        self.name = first_name"
   ]
  },
  {
   "cell_type": "code",
   "execution_count": 62,
   "id": "c282be68",
   "metadata": {},
   "outputs": [],
   "source": [
    "h1 = Human(\"Sanjith\")"
   ]
  },
  {
   "cell_type": "code",
   "execution_count": 63,
   "id": "890e3d34",
   "metadata": {},
   "outputs": [
    {
     "data": {
      "text/plain": [
       "'Sanjith'"
      ]
     },
     "execution_count": 63,
     "metadata": {},
     "output_type": "execute_result"
    }
   ],
   "source": [
    "h1.name"
   ]
  },
  {
   "cell_type": "code",
   "execution_count": 64,
   "id": "606a23de",
   "metadata": {},
   "outputs": [],
   "source": [
    "h2 = Human(\"Kaushik\")"
   ]
  },
  {
   "cell_type": "code",
   "execution_count": 65,
   "id": "fd32125d",
   "metadata": {},
   "outputs": [
    {
     "data": {
      "text/plain": [
       "'Kaushik'"
      ]
     },
     "execution_count": 65,
     "metadata": {},
     "output_type": "execute_result"
    }
   ],
   "source": [
    "h2.name"
   ]
  },
  {
   "cell_type": "code",
   "execution_count": 67,
   "id": "3689cb53",
   "metadata": {},
   "outputs": [],
   "source": [
    "h3 = Human(\"Somil\")"
   ]
  },
  {
   "cell_type": "code",
   "execution_count": 69,
   "id": "a6b5ea16",
   "metadata": {},
   "outputs": [
    {
     "data": {
      "text/plain": [
       "'Somil'"
      ]
     },
     "execution_count": 69,
     "metadata": {},
     "output_type": "execute_result"
    }
   ],
   "source": [
    "h3.name"
   ]
  },
  {
   "cell_type": "code",
   "execution_count": null,
   "id": "f918e339",
   "metadata": {},
   "outputs": [],
   "source": []
  },
  {
   "cell_type": "code",
   "execution_count": 80,
   "id": "6613d110",
   "metadata": {},
   "outputs": [],
   "source": [
    "class Human:\n",
    "    def __init__(self,name,age,gender,height,disease=None):\n",
    "        # they are called as instance variables\n",
    "        self.name = name\n",
    "        self.age = age\n",
    "        self.gender = gender\n",
    "        self.height = height\n",
    "        self.disease = disease"
   ]
  },
  {
   "cell_type": "code",
   "execution_count": 81,
   "id": "908f822e",
   "metadata": {},
   "outputs": [],
   "source": [
    "h1 = Human(\"Pranav\",26,\"M\",178, \"Covid\")"
   ]
  },
  {
   "cell_type": "code",
   "execution_count": 84,
   "id": "92234639",
   "metadata": {},
   "outputs": [
    {
     "name": "stdout",
     "output_type": "stream",
     "text": [
      "Pranav\n",
      "26\n",
      "M\n",
      "178\n",
      "Covid\n"
     ]
    }
   ],
   "source": [
    "print(h1.name)\n",
    "print(h1.age)\n",
    "print(h1.gender)\n",
    "print(h1.height)\n",
    "print(h1.disease)"
   ]
  },
  {
   "cell_type": "code",
   "execution_count": null,
   "id": "243a73cb",
   "metadata": {},
   "outputs": [],
   "source": []
  },
  {
   "cell_type": "code",
   "execution_count": null,
   "id": "ddb19cfd",
   "metadata": {},
   "outputs": [],
   "source": []
  },
  {
   "cell_type": "code",
   "execution_count": 119,
   "id": "5804a2e9",
   "metadata": {},
   "outputs": [],
   "source": [
    "class Human:\n",
    "    def __init__(self,name,age,gender,height,disease=None):\n",
    "        # they are called as instance variables\n",
    "        self.name = name\n",
    "        self.age = age\n",
    "        self.gender = gender\n",
    "        self.height = height\n",
    "        self.disease = disease\n",
    "        \n",
    "    def __repr__(self):\n",
    "        return f\"I'm {self.name} and I am {self.age} years old\""
   ]
  },
  {
   "cell_type": "code",
   "execution_count": 120,
   "id": "f9e99cca",
   "metadata": {},
   "outputs": [],
   "source": [
    "h1 = Human(\"Pranav\",26,\"M\",178)"
   ]
  },
  {
   "cell_type": "code",
   "execution_count": 121,
   "id": "682589be",
   "metadata": {},
   "outputs": [
    {
     "name": "stdout",
     "output_type": "stream",
     "text": [
      "I'm Pranav and I am 26 years old\n"
     ]
    }
   ],
   "source": [
    "print(h1)"
   ]
  },
  {
   "cell_type": "code",
   "execution_count": 90,
   "id": "833325c0",
   "metadata": {},
   "outputs": [
    {
     "name": "stdout",
     "output_type": "stream",
     "text": [
      "13\n"
     ]
    }
   ],
   "source": [
    "val = 13\n",
    "print(val) # object of int at XXXXXXX"
   ]
  },
  {
   "cell_type": "code",
   "execution_count": null,
   "id": "1624d723",
   "metadata": {},
   "outputs": [],
   "source": []
  },
  {
   "cell_type": "code",
   "execution_count": null,
   "id": "7905f144",
   "metadata": {},
   "outputs": [],
   "source": []
  },
  {
   "cell_type": "code",
   "execution_count": 142,
   "id": "4dd9d208",
   "metadata": {},
   "outputs": [],
   "source": [
    "class Human:\n",
    "    def __init__(self,name,age,gender,height,disease=None):\n",
    "        # they are called as instance variables\n",
    "        self.name = name\n",
    "        self.age = age\n",
    "        self.gender = gender\n",
    "        self.height = height\n",
    "        self.disease = disease\n",
    "    \n",
    "    def eating(self, dish):\n",
    "        return f\"I'm eating {dish}\"\n",
    "    \n",
    "    def calculate(self,a,b):\n",
    "        return a + b\n",
    "    \n",
    "    def __repr__(self):\n",
    "        return f\"I'm {self.name} and I am {self.age} years old\""
   ]
  },
  {
   "cell_type": "code",
   "execution_count": 143,
   "id": "fdfa74c7",
   "metadata": {},
   "outputs": [],
   "source": [
    "h1 = Human(\"Pranav\",26,\"M\",178)"
   ]
  },
  {
   "cell_type": "code",
   "execution_count": 144,
   "id": "64680319",
   "metadata": {},
   "outputs": [
    {
     "data": {
      "text/plain": [
       "\"I'm eating Biryani\""
      ]
     },
     "execution_count": 144,
     "metadata": {},
     "output_type": "execute_result"
    }
   ],
   "source": [
    "h1.eating(\"Biryani\")"
   ]
  },
  {
   "cell_type": "code",
   "execution_count": 145,
   "id": "c4d3bcae",
   "metadata": {},
   "outputs": [
    {
     "data": {
      "text/plain": [
       "30"
      ]
     },
     "execution_count": 145,
     "metadata": {},
     "output_type": "execute_result"
    }
   ],
   "source": [
    "h1.calculate(10,20)"
   ]
  },
  {
   "cell_type": "code",
   "execution_count": 125,
   "id": "ff9cbba0",
   "metadata": {},
   "outputs": [],
   "source": [
    "s= \"Pranav\""
   ]
  },
  {
   "cell_type": "code",
   "execution_count": 126,
   "id": "27a88ff1",
   "metadata": {},
   "outputs": [
    {
     "data": {
      "text/plain": [
       "'Pxanav'"
      ]
     },
     "execution_count": 126,
     "metadata": {},
     "output_type": "execute_result"
    }
   ],
   "source": [
    "s.replace(\"r\",\"x\")"
   ]
  },
  {
   "cell_type": "code",
   "execution_count": null,
   "id": "84e25750",
   "metadata": {},
   "outputs": [],
   "source": []
  },
  {
   "cell_type": "code",
   "execution_count": 174,
   "id": "7b73a8fd",
   "metadata": {},
   "outputs": [],
   "source": [
    "class Human:\n",
    "    # Class Variable\n",
    "    population = 0\n",
    "    \n",
    "    def __init__(self,name,age,gender,height,disease=None):\n",
    "        # they are called as instance variables\n",
    "        self.name = name\n",
    "        self.age = age\n",
    "        self.gender = gender\n",
    "        self.height = height\n",
    "        self.disease = disease\n",
    "        Human.population+=1\n",
    "    \n",
    "    def eating(self, dish):\n",
    "        return f\"I'm eating {dish}\"\n",
    "    \n",
    "    def calculate(self,a,b):\n",
    "        return a + b\n",
    "    \n",
    "    def death(self):\n",
    "        Human.population-=1\n",
    "        return f\"RIP {self.name}\"\n",
    "    \n",
    "    def __repr__(self):\n",
    "        return f\"I'm {self.name} and I am {self.age} years old\""
   ]
  },
  {
   "cell_type": "code",
   "execution_count": 175,
   "id": "6c7533f3",
   "metadata": {},
   "outputs": [
    {
     "data": {
      "text/plain": [
       "0"
      ]
     },
     "execution_count": 175,
     "metadata": {},
     "output_type": "execute_result"
    }
   ],
   "source": [
    "Human.population"
   ]
  },
  {
   "cell_type": "code",
   "execution_count": 176,
   "id": "94cb6399",
   "metadata": {},
   "outputs": [],
   "source": [
    "h1 = Human(\"Pranav\",26,\"M\",178)"
   ]
  },
  {
   "cell_type": "code",
   "execution_count": 177,
   "id": "95598da2",
   "metadata": {},
   "outputs": [
    {
     "data": {
      "text/plain": [
       "1"
      ]
     },
     "execution_count": 177,
     "metadata": {},
     "output_type": "execute_result"
    }
   ],
   "source": [
    "Human.population"
   ]
  },
  {
   "cell_type": "code",
   "execution_count": 178,
   "id": "55c647f4",
   "metadata": {},
   "outputs": [],
   "source": [
    "h2 = Human(\"Rahul\", 25, \"M\", 180)"
   ]
  },
  {
   "cell_type": "code",
   "execution_count": 179,
   "id": "494117ad",
   "metadata": {},
   "outputs": [
    {
     "data": {
      "text/plain": [
       "2"
      ]
     },
     "execution_count": 179,
     "metadata": {},
     "output_type": "execute_result"
    }
   ],
   "source": [
    "Human.population"
   ]
  },
  {
   "cell_type": "code",
   "execution_count": 180,
   "id": "743f6642",
   "metadata": {},
   "outputs": [],
   "source": [
    "h3 = Human(\"Divya\", 23, \"F\", 170)"
   ]
  },
  {
   "cell_type": "code",
   "execution_count": 181,
   "id": "1bfcb781",
   "metadata": {},
   "outputs": [
    {
     "data": {
      "text/plain": [
       "3"
      ]
     },
     "execution_count": 181,
     "metadata": {},
     "output_type": "execute_result"
    }
   ],
   "source": [
    "Human.population"
   ]
  },
  {
   "cell_type": "code",
   "execution_count": 182,
   "id": "90225712",
   "metadata": {},
   "outputs": [
    {
     "data": {
      "text/plain": [
       "'RIP Pranav'"
      ]
     },
     "execution_count": 182,
     "metadata": {},
     "output_type": "execute_result"
    }
   ],
   "source": [
    "h1.death()"
   ]
  },
  {
   "cell_type": "code",
   "execution_count": 183,
   "id": "18436c14",
   "metadata": {},
   "outputs": [
    {
     "data": {
      "text/plain": [
       "2"
      ]
     },
     "execution_count": 183,
     "metadata": {},
     "output_type": "execute_result"
    }
   ],
   "source": [
    "Human.population"
   ]
  },
  {
   "cell_type": "code",
   "execution_count": 184,
   "id": "684c2d58",
   "metadata": {},
   "outputs": [],
   "source": [
    "# Feel Free to ping me\n",
    "# https://www.linkedin.com/in/khandelwalpranav05/"
   ]
  },
  {
   "cell_type": "code",
   "execution_count": 185,
   "id": "047d2166",
   "metadata": {},
   "outputs": [],
   "source": [
    "# Doubts"
   ]
  },
  {
   "cell_type": "code",
   "execution_count": null,
   "id": "d4884713",
   "metadata": {},
   "outputs": [],
   "source": [
    "class Gym:\n",
    "    def __init__(self, location, trainers,members,):\n",
    "        "
   ]
  }
 ],
 "metadata": {
  "kernelspec": {
   "display_name": "Python 3 (ipykernel)",
   "language": "python",
   "name": "python3"
  },
  "language_info": {
   "codemirror_mode": {
    "name": "ipython",
    "version": 3
   },
   "file_extension": ".py",
   "mimetype": "text/x-python",
   "name": "python",
   "nbconvert_exporter": "python",
   "pygments_lexer": "ipython3",
   "version": "3.8.13"
  }
 },
 "nbformat": 4,
 "nbformat_minor": 5
}
