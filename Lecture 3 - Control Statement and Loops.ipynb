{
 "cells": [
  {
   "cell_type": "code",
   "execution_count": 10,
   "id": "de3ba650",
   "metadata": {},
   "outputs": [],
   "source": [
    "# Recap"
   ]
  },
  {
   "cell_type": "code",
   "execution_count": 14,
   "id": "bee2e129",
   "metadata": {},
   "outputs": [
    {
     "name": "stdout",
     "output_type": "stream",
     "text": [
      "True\n"
     ]
    }
   ],
   "source": [
    "print((3!=4 and 5==5) or ((4%1==3) and (4//4==1.0)))"
   ]
  },
  {
   "cell_type": "code",
   "execution_count": null,
   "id": "bc95d1aa",
   "metadata": {},
   "outputs": [],
   "source": [
    "# Assignment ops"
   ]
  },
  {
   "cell_type": "code",
   "execution_count": 17,
   "id": "7e79f4c0",
   "metadata": {},
   "outputs": [
    {
     "name": "stdout",
     "output_type": "stream",
     "text": [
      "7\n"
     ]
    }
   ],
   "source": [
    "a = 3\n",
    "a = a + 4 # <- a+=4\n",
    "print(a)"
   ]
  },
  {
   "cell_type": "code",
   "execution_count": 18,
   "id": "56adb5bd",
   "metadata": {},
   "outputs": [
    {
     "name": "stdout",
     "output_type": "stream",
     "text": [
      "20\n"
     ]
    }
   ],
   "source": [
    "c = 4\n",
    "c*=5 # c = c*5\n",
    "print(c)"
   ]
  },
  {
   "cell_type": "code",
   "execution_count": 19,
   "id": "91db4bd3",
   "metadata": {},
   "outputs": [
    {
     "name": "stdout",
     "output_type": "stream",
     "text": [
      "4.0\n"
     ]
    }
   ],
   "source": [
    "x = 10\n",
    "x/=2.5 # x = x/2.5\n",
    "print(x)"
   ]
  },
  {
   "cell_type": "code",
   "execution_count": 20,
   "id": "62532f33",
   "metadata": {},
   "outputs": [
    {
     "name": "stdout",
     "output_type": "stream",
     "text": [
      "2\n"
     ]
    }
   ],
   "source": [
    "a = 14\n",
    "a%=3 # a = a % 3\n",
    "print(a)"
   ]
  },
  {
   "cell_type": "code",
   "execution_count": 21,
   "id": "c141ea35",
   "metadata": {},
   "outputs": [],
   "source": [
    "# print statement"
   ]
  },
  {
   "cell_type": "code",
   "execution_count": 22,
   "id": "d9c078e9",
   "metadata": {},
   "outputs": [
    {
     "name": "stdout",
     "output_type": "stream",
     "text": [
      "5\n",
      "4\n"
     ]
    }
   ],
   "source": [
    "a = 5\n",
    "b = 4\n",
    "print(a)\n",
    "print(b)"
   ]
  },
  {
   "cell_type": "code",
   "execution_count": 23,
   "id": "4d4c522a",
   "metadata": {},
   "outputs": [
    {
     "name": "stdout",
     "output_type": "stream",
     "text": [
      "5 4\n"
     ]
    }
   ],
   "source": [
    "print(a,b)"
   ]
  },
  {
   "cell_type": "code",
   "execution_count": 30,
   "id": "b58b24b9",
   "metadata": {},
   "outputs": [
    {
     "name": "stdout",
     "output_type": "stream",
     "text": [
      "5 , Pranav , 4 , Scaler , 23\n",
      "45\n"
     ]
    }
   ],
   "source": [
    "print(a,\"Pranav\",b,\"Scaler\",23, sep=\" , \")\n",
    "print(45)"
   ]
  },
  {
   "cell_type": "code",
   "execution_count": 36,
   "id": "3b739c3b",
   "metadata": {},
   "outputs": [
    {
     "name": "stdout",
     "output_type": "stream",
     "text": [
      "5\n",
      "4\n"
     ]
    }
   ],
   "source": [
    "print(a, end=\"\\n\")\n",
    "print(b)"
   ]
  },
  {
   "cell_type": "code",
   "execution_count": 37,
   "id": "14f17934",
   "metadata": {},
   "outputs": [
    {
     "name": "stdout",
     "output_type": "stream",
     "text": [
      "5\n",
      "4\n"
     ]
    }
   ],
   "source": [
    "print(a)\n",
    "print(b)"
   ]
  },
  {
   "cell_type": "code",
   "execution_count": 39,
   "id": "edd6b71b",
   "metadata": {},
   "outputs": [
    {
     "name": "stdout",
     "output_type": "stream",
     "text": [
      "5 dk,fbniloegbnjkergfhjkerghjk,reghv 4\n"
     ]
    }
   ],
   "source": [
    "print(a, end=\" dk,fbniloegbnjkergfhjkerghjk,reghv \")\n",
    "print(b)"
   ]
  },
  {
   "cell_type": "code",
   "execution_count": 40,
   "id": "25654b21",
   "metadata": {},
   "outputs": [
    {
     "name": "stdout",
     "output_type": "stream",
     "text": [
      "5242459"
     ]
    }
   ],
   "source": [
    "print(a, b, 45, sep = \"2\", end=\"9\")"
   ]
  },
  {
   "cell_type": "code",
   "execution_count": 42,
   "id": "4b4a8f29",
   "metadata": {},
   "outputs": [],
   "source": [
    "# Control Statement"
   ]
  },
  {
   "cell_type": "code",
   "execution_count": 49,
   "id": "40b7252e",
   "metadata": {},
   "outputs": [],
   "source": [
    "# check if number is odd or even\n",
    "a = 17"
   ]
  },
  {
   "cell_type": "code",
   "execution_count": 48,
   "id": "c7c29063",
   "metadata": {},
   "outputs": [
    {
     "name": "stdout",
     "output_type": "stream",
     "text": [
      "Even\n",
      "This is another line inside the if block\n"
     ]
    }
   ],
   "source": [
    "if a%2==0:\n",
    "    print(\"Even\") # it is written under the if block\n",
    "    print(\"This is another line inside the if block\")\n",
    "else:\n",
    "    print(\"Odd\") # written under the else block\n",
    "    print(\"This is another line inside the else block\")\n"
   ]
  },
  {
   "cell_type": "code",
   "execution_count": null,
   "id": "18e00d66",
   "metadata": {},
   "outputs": [],
   "source": []
  },
  {
   "cell_type": "code",
   "execution_count": 51,
   "id": "ab2f8e3b",
   "metadata": {},
   "outputs": [
    {
     "name": "stdout",
     "output_type": "stream",
     "text": [
      "Positive Data\n"
     ]
    }
   ],
   "source": [
    "a = -12\n",
    "if a > 0:\n",
    "    print(\"Positive Data\")\n",
    "elif a < 0:\n",
    "    print(\"Negative Data\")\n",
    "else:\n",
    "    print(\"Zero\")\n"
   ]
  },
  {
   "cell_type": "code",
   "execution_count": 59,
   "id": "c2397958",
   "metadata": {},
   "outputs": [
    {
     "name": "stdout",
     "output_type": "stream",
     "text": [
      "Here is the end of all if statements\n"
     ]
    }
   ],
   "source": [
    "traffic_signal = \"Kharab Ho gayi\" # red-> Stop, yellow-> Ready, green->Go, Not Working-> Check and Go\n",
    "\n",
    "if traffic_signal==\"Red\":\n",
    "    print(\"Stop\")\n",
    "elif traffic_signal==\"Yellow\":\n",
    "    print(\"Ready\")\n",
    "elif traffic_signal==\"Green\":\n",
    "    print(\"Go\")\n",
    "elif traffic_signal==\"Not Working\":\n",
    "    print(\"Check and Go\")\n",
    "    \n",
    "    \n",
    "print(\"Here is the end of all if statements\")"
   ]
  },
  {
   "cell_type": "code",
   "execution_count": 64,
   "id": "12940a93",
   "metadata": {},
   "outputs": [
    {
     "name": "stdout",
     "output_type": "stream",
     "text": [
      "I'm inside the if block\n"
     ]
    }
   ],
   "source": [
    "a = 15\n",
    "if a < 20:\n",
    "    print(\"I'm inside the if block\")\n"
   ]
  },
  {
   "cell_type": "code",
   "execution_count": 65,
   "id": "f9302add",
   "metadata": {},
   "outputs": [
    {
     "ename": "SyntaxError",
     "evalue": "invalid syntax (3190253886.py, line 2)",
     "output_type": "error",
     "traceback": [
      "\u001b[0;36m  Input \u001b[0;32mIn [65]\u001b[0;36m\u001b[0m\n\u001b[0;31m    elif a < 20:\u001b[0m\n\u001b[0m    ^\u001b[0m\n\u001b[0;31mSyntaxError\u001b[0m\u001b[0;31m:\u001b[0m invalid syntax\n"
     ]
    }
   ],
   "source": [
    "a = 15\n",
    "elif a < 20:\n",
    "    print(\"I'm inside the if block\")\n"
   ]
  },
  {
   "cell_type": "code",
   "execution_count": 66,
   "id": "19fcc968",
   "metadata": {},
   "outputs": [
    {
     "ename": "SyntaxError",
     "evalue": "invalid syntax (801778239.py, line 2)",
     "output_type": "error",
     "traceback": [
      "\u001b[0;36m  Input \u001b[0;32mIn [66]\u001b[0;36m\u001b[0m\n\u001b[0;31m    else:\u001b[0m\n\u001b[0m    ^\u001b[0m\n\u001b[0;31mSyntaxError\u001b[0m\u001b[0;31m:\u001b[0m invalid syntax\n"
     ]
    }
   ],
   "source": [
    "a = 15\n",
    "else:\n",
    "    print(\"I'm inside the if block\")\n"
   ]
  },
  {
   "cell_type": "code",
   "execution_count": 67,
   "id": "1412b13e",
   "metadata": {},
   "outputs": [
    {
     "name": "stdout",
     "output_type": "stream",
     "text": [
      "-3\n"
     ]
    }
   ],
   "source": [
    "#Quiz\n",
    "a = 6\n",
    "a -= 9 # a = a - 9\n",
    "print(a)"
   ]
  },
  {
   "cell_type": "code",
   "execution_count": 70,
   "id": "1acdac6e",
   "metadata": {},
   "outputs": [
    {
     "name": "stdout",
     "output_type": "stream",
     "text": [
      "negative\n"
     ]
    }
   ],
   "source": [
    "# quiz 2\n",
    "x = -10\n",
    "\n",
    "if x > 0:\n",
    "    print('positive')\n",
    "elif x == 0:\n",
    "    print('zero')\n",
    "else:\n",
    "    print('negative')"
   ]
  },
  {
   "cell_type": "code",
   "execution_count": 71,
   "id": "23703015",
   "metadata": {},
   "outputs": [
    {
     "name": "stdout",
     "output_type": "stream",
     "text": [
      "Machine Learning\n"
     ]
    }
   ],
   "source": [
    "# Quiz 3\n",
    "if False:\n",
    "    print(\"Artificial Intelligence\")\n",
    "elif True:\n",
    "    print(\"Machine Learning\")\n",
    "elif True:\n",
    "    print(\"Data Science\")\n",
    "else:\n",
    "    print(\"Deep Learning\")"
   ]
  },
  {
   "cell_type": "code",
   "execution_count": 72,
   "id": "af10f5e7",
   "metadata": {},
   "outputs": [
    {
     "name": "stdout",
     "output_type": "stream",
     "text": [
      "30\n"
     ]
    }
   ],
   "source": [
    "# Quiz 4\n",
    "num1 = 10\n",
    "num2 = 20\n",
    "result = 4000\n",
    "\n",
    "if (num1 > 50 or num2 <= 5): # 10>50 or 20<=5 -> F or F -> F\n",
    "    result = num1 * num2\n",
    "else:\n",
    "    result = num1 + num2 # result = 10 + 20\n",
    "    \n",
    "print(result) # 30 <- this is written outside the if else block"
   ]
  },
  {
   "cell_type": "code",
   "execution_count": 73,
   "id": "08af91d7",
   "metadata": {},
   "outputs": [
    {
     "name": "stdout",
     "output_type": "stream",
     "text": [
      "test1\n",
      "test3\n",
      "test4\n"
     ]
    }
   ],
   "source": [
    "val = 10\n",
    "\n",
    "if val == 10:\n",
    "    print(\"test1\")\n",
    "elif val == 10:\n",
    "    print(\"test2\")\n",
    "\n",
    "if val == 10:\n",
    "    print(\"test3\")\n",
    "if val == 10:\n",
    "    print(\"test4\")"
   ]
  },
  {
   "cell_type": "code",
   "execution_count": null,
   "id": "521de6bb",
   "metadata": {},
   "outputs": [],
   "source": [
    "# Fizzbuzz\n",
    "# N if given\n",
    "# N is divisible by 3 print \"Fizz\" if it is divible by 5 print \"Buzz\"\n",
    "# if divisible by both 3 and 5 then \"FizzBuzz\""
   ]
  },
  {
   "cell_type": "code",
   "execution_count": 76,
   "id": "6af2d917",
   "metadata": {},
   "outputs": [
    {
     "name": "stdout",
     "output_type": "stream",
     "text": [
      "Fizz\n"
     ]
    }
   ],
   "source": [
    "# Wrong code\n",
    "n = 15\n",
    "if n%3 == 0:\n",
    "    print(\"Fizz\")\n",
    "elif n%5==0:\n",
    "    print(\"Buzz\")\n",
    "elif n%3 ==0 and n%5==0:\n",
    "    print(\"FizzBuzz\")\n"
   ]
  },
  {
   "cell_type": "code",
   "execution_count": 82,
   "id": "fedaedaa",
   "metadata": {},
   "outputs": [
    {
     "name": "stdout",
     "output_type": "stream",
     "text": [
      "FizzBuzz\n"
     ]
    }
   ],
   "source": [
    "n = 60\n",
    "if n%3 ==0 and n%5==0:\n",
    "    print(\"FizzBuzz\")\n",
    "elif n%5==0:\n",
    "    print(\"Buzz\")\n",
    "elif n%3==0:\n",
    "    print(\"Fizz\")\n"
   ]
  },
  {
   "cell_type": "code",
   "execution_count": 86,
   "id": "ef6c40ac",
   "metadata": {},
   "outputs": [
    {
     "name": "stdout",
     "output_type": "stream",
     "text": [
      "FizzBuzz\n"
     ]
    }
   ],
   "source": [
    "n = 15\n",
    "if n%3==0:\n",
    "    print(\"Fizz\",end=\"\")\n",
    "if n%5==0:\n",
    "    print(\"Buzz\")"
   ]
  },
  {
   "cell_type": "code",
   "execution_count": null,
   "id": "10eb6ef7",
   "metadata": {},
   "outputs": [],
   "source": []
  },
  {
   "cell_type": "code",
   "execution_count": null,
   "id": "55599381",
   "metadata": {},
   "outputs": [],
   "source": []
  },
  {
   "cell_type": "code",
   "execution_count": 87,
   "id": "1b4984d3",
   "metadata": {},
   "outputs": [],
   "source": [
    "# Loops"
   ]
  },
  {
   "cell_type": "code",
   "execution_count": 88,
   "id": "174cb441",
   "metadata": {},
   "outputs": [],
   "source": [
    "# find the correct pin betwee 0 to 9"
   ]
  },
  {
   "cell_type": "code",
   "execution_count": 89,
   "id": "8d39c7cd",
   "metadata": {},
   "outputs": [
    {
     "name": "stdout",
     "output_type": "stream",
     "text": [
      "Try again with 0\n",
      "Try again with 1\n",
      "Try again with 2\n",
      "Try again with 3\n",
      "Try again with 4\n",
      "Try again with 5\n",
      "Try again with 6\n",
      "Try again with 7\n"
     ]
    }
   ],
   "source": [
    "start_pin = 0 # initialization\n",
    "correct_pin = 8\n",
    "\n",
    "while start_pin != correct_pin: # condition\n",
    "    print(\"Try again with\",start_pin)\n",
    "    start_pin+=1 # updation\n",
    "    "
   ]
  },
  {
   "cell_type": "code",
   "execution_count": 90,
   "id": "d3f2242f",
   "metadata": {},
   "outputs": [],
   "source": [
    "# Print numbers from 1 to n"
   ]
  },
  {
   "cell_type": "code",
   "execution_count": 94,
   "id": "196535fb",
   "metadata": {},
   "outputs": [
    {
     "name": "stdout",
     "output_type": "stream",
     "text": [
      "1\n",
      "2\n",
      "3\n",
      "4\n",
      "5\n"
     ]
    }
   ],
   "source": [
    "n = 5\n",
    "i = 1\n",
    "while i<=n:\n",
    "    print(i)\n",
    "    i+=1"
   ]
  },
  {
   "cell_type": "code",
   "execution_count": null,
   "id": "9e517114",
   "metadata": {},
   "outputs": [],
   "source": []
  }
 ],
 "metadata": {
  "kernelspec": {
   "display_name": "Python 3 (ipykernel)",
   "language": "python",
   "name": "python3"
  },
  "language_info": {
   "codemirror_mode": {
    "name": "ipython",
    "version": 3
   },
   "file_extension": ".py",
   "mimetype": "text/x-python",
   "name": "python",
   "nbconvert_exporter": "python",
   "pygments_lexer": "ipython3",
   "version": "3.8.13"
  }
 },
 "nbformat": 4,
 "nbformat_minor": 5
}
