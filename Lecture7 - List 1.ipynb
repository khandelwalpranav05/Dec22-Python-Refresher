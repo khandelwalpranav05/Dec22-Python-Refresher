{
 "cells": [
  {
   "cell_type": "code",
   "execution_count": 29,
   "id": "20f39085",
   "metadata": {},
   "outputs": [
    {
     "name": "stdout",
     "output_type": "stream",
     "text": [
      "Pranav\n",
      "45\n",
      "Nothing\n",
      "None\n"
     ]
    }
   ],
   "source": [
    "def func(name, age,job,skill=\"Python\"):\n",
    "    print(name)\n",
    "    print(age)\n",
    "    if skill == \"Python\":\n",
    "        print(job)\n",
    "        return 43\n",
    "    print(skill)\n",
    "    \n",
    "\n",
    "print(func(\"Pranav\", 45, job=\"SWE\", skill=\"Nothing\"))"
   ]
  },
  {
   "cell_type": "code",
   "execution_count": 30,
   "id": "6169714e",
   "metadata": {},
   "outputs": [],
   "source": [
    "# Intro"
   ]
  },
  {
   "cell_type": "code",
   "execution_count": 31,
   "id": "d46c7883",
   "metadata": {},
   "outputs": [
    {
     "name": "stdout",
     "output_type": "stream",
     "text": [
      "5\n"
     ]
    }
   ],
   "source": [
    "goal1 = 3\n",
    "goal2 = 2\n",
    "goal3 = 0\n",
    "print(goal1 + goal2 + goal3)"
   ]
  },
  {
   "cell_type": "code",
   "execution_count": 32,
   "id": "71e93445",
   "metadata": {},
   "outputs": [],
   "source": [
    "goals = [3,2,0]"
   ]
  },
  {
   "cell_type": "code",
   "execution_count": 33,
   "id": "5e795123",
   "metadata": {},
   "outputs": [
    {
     "name": "stdout",
     "output_type": "stream",
     "text": [
      "[3, 2, 0]\n"
     ]
    }
   ],
   "source": [
    "print(goals)"
   ]
  },
  {
   "cell_type": "code",
   "execution_count": 36,
   "id": "1ad27f89",
   "metadata": {},
   "outputs": [],
   "source": [
    "# list and array are not same <- Important\n",
    "# Python does have array but we are studying List for now"
   ]
  },
  {
   "cell_type": "code",
   "execution_count": 35,
   "id": "ab4e4bec",
   "metadata": {},
   "outputs": [],
   "source": [
    "# List -> Ordered Collection of Hetrogeneous Data"
   ]
  },
  {
   "cell_type": "code",
   "execution_count": 37,
   "id": "90f40d57",
   "metadata": {},
   "outputs": [
    {
     "data": {
      "text/plain": [
       "[3, 2, 0]"
      ]
     },
     "execution_count": 37,
     "metadata": {},
     "output_type": "execute_result"
    }
   ],
   "source": [
    "goals # list"
   ]
  },
  {
   "cell_type": "code",
   "execution_count": 40,
   "id": "e9d2273a",
   "metadata": {},
   "outputs": [],
   "source": [
    "pranav_fav = [\"Avengers\",45,True,\"Jonny Depp\", 6.78]"
   ]
  },
  {
   "cell_type": "code",
   "execution_count": 41,
   "id": "fff9ad91",
   "metadata": {},
   "outputs": [
    {
     "name": "stdout",
     "output_type": "stream",
     "text": [
      "['Avengers', 45, True, 'Jonny Depp', 6.78]\n"
     ]
    }
   ],
   "source": [
    "print(pranav_fav)"
   ]
  },
  {
   "cell_type": "code",
   "execution_count": null,
   "id": "ced51255",
   "metadata": {},
   "outputs": [],
   "source": []
  },
  {
   "cell_type": "code",
   "execution_count": 43,
   "id": "9fa5cf36",
   "metadata": {},
   "outputs": [],
   "source": [
    "# Indexing"
   ]
  },
  {
   "cell_type": "code",
   "execution_count": 44,
   "id": "85a40220",
   "metadata": {},
   "outputs": [],
   "source": [
    "goals = [3, 2, 0,4,1]"
   ]
  },
  {
   "cell_type": "code",
   "execution_count": 45,
   "id": "d7c06625",
   "metadata": {},
   "outputs": [
    {
     "name": "stdout",
     "output_type": "stream",
     "text": [
      "[3, 2, 0, 4, 1]\n"
     ]
    }
   ],
   "source": [
    "print(goals)"
   ]
  },
  {
   "cell_type": "code",
   "execution_count": 46,
   "id": "1a657d84",
   "metadata": {},
   "outputs": [
    {
     "name": "stdout",
     "output_type": "stream",
     "text": [
      "0\n"
     ]
    }
   ],
   "source": [
    "print(goals[2])"
   ]
  },
  {
   "cell_type": "code",
   "execution_count": 47,
   "id": "6be7657d",
   "metadata": {},
   "outputs": [
    {
     "name": "stdout",
     "output_type": "stream",
     "text": [
      "2\n"
     ]
    }
   ],
   "source": [
    "print(goals[1])"
   ]
  },
  {
   "cell_type": "code",
   "execution_count": 48,
   "id": "d23b4a78",
   "metadata": {},
   "outputs": [
    {
     "name": "stdout",
     "output_type": "stream",
     "text": [
      "4\n"
     ]
    }
   ],
   "source": [
    "print(goals[3])"
   ]
  },
  {
   "cell_type": "code",
   "execution_count": 49,
   "id": "d0a1af11",
   "metadata": {},
   "outputs": [],
   "source": [
    "# Length"
   ]
  },
  {
   "cell_type": "code",
   "execution_count": 50,
   "id": "f90ada4f",
   "metadata": {},
   "outputs": [],
   "source": [
    "goals = [3, 2, 0,4,1]"
   ]
  },
  {
   "cell_type": "code",
   "execution_count": 51,
   "id": "0cc86fbd",
   "metadata": {},
   "outputs": [
    {
     "name": "stdout",
     "output_type": "stream",
     "text": [
      "5\n"
     ]
    }
   ],
   "source": [
    "print(len(goals))"
   ]
  },
  {
   "cell_type": "code",
   "execution_count": 52,
   "id": "7609a298",
   "metadata": {},
   "outputs": [
    {
     "name": "stdout",
     "output_type": "stream",
     "text": [
      "Help on built-in function len in module builtins:\n",
      "\n",
      "len(obj, /)\n",
      "    Return the number of items in a container.\n",
      "\n",
      "None\n"
     ]
    }
   ],
   "source": [
    "print(help(len))"
   ]
  },
  {
   "cell_type": "code",
   "execution_count": 53,
   "id": "a99be907",
   "metadata": {},
   "outputs": [],
   "source": [
    "val=[1,2,3,4,5,6,7,8,9]"
   ]
  },
  {
   "cell_type": "code",
   "execution_count": 54,
   "id": "de97dbf3",
   "metadata": {},
   "outputs": [
    {
     "name": "stdout",
     "output_type": "stream",
     "text": [
      "9\n"
     ]
    }
   ],
   "source": [
    "print(len(val))"
   ]
  },
  {
   "cell_type": "code",
   "execution_count": 55,
   "id": "588bd0bb",
   "metadata": {},
   "outputs": [],
   "source": [
    "n = len(val)"
   ]
  },
  {
   "cell_type": "code",
   "execution_count": 56,
   "id": "17e7bde2",
   "metadata": {},
   "outputs": [
    {
     "name": "stdout",
     "output_type": "stream",
     "text": [
      "9\n"
     ]
    }
   ],
   "source": [
    "print(n)"
   ]
  },
  {
   "cell_type": "code",
   "execution_count": 57,
   "id": "d260c623",
   "metadata": {},
   "outputs": [],
   "source": [
    "last_idx = n-1"
   ]
  },
  {
   "cell_type": "code",
   "execution_count": 58,
   "id": "86eb013f",
   "metadata": {},
   "outputs": [
    {
     "name": "stdout",
     "output_type": "stream",
     "text": [
      "8\n"
     ]
    }
   ],
   "source": [
    "print(last_idx)"
   ]
  },
  {
   "cell_type": "code",
   "execution_count": 59,
   "id": "9c9576d9",
   "metadata": {},
   "outputs": [
    {
     "name": "stdout",
     "output_type": "stream",
     "text": [
      "9\n"
     ]
    }
   ],
   "source": [
    "print(val[last_idx])"
   ]
  },
  {
   "cell_type": "code",
   "execution_count": 63,
   "id": "0f63650a",
   "metadata": {},
   "outputs": [
    {
     "name": "stdout",
     "output_type": "stream",
     "text": [
      "9\n"
     ]
    }
   ],
   "source": [
    "print(val[len(val)-1]) # N-1th index"
   ]
  },
  {
   "cell_type": "code",
   "execution_count": null,
   "id": "05b1ebc1",
   "metadata": {},
   "outputs": [],
   "source": []
  },
  {
   "cell_type": "code",
   "execution_count": 64,
   "id": "80588d2d",
   "metadata": {},
   "outputs": [],
   "source": [
    "# Negative Index"
   ]
  },
  {
   "cell_type": "code",
   "execution_count": 65,
   "id": "3e7deb85",
   "metadata": {},
   "outputs": [],
   "source": [
    "val=[1,2,3,4,5,6,7,8,9]"
   ]
  },
  {
   "cell_type": "code",
   "execution_count": 66,
   "id": "2e912c77",
   "metadata": {},
   "outputs": [
    {
     "name": "stdout",
     "output_type": "stream",
     "text": [
      "9\n"
     ]
    }
   ],
   "source": [
    "print(val[-1])"
   ]
  },
  {
   "cell_type": "code",
   "execution_count": 67,
   "id": "cab2fe92",
   "metadata": {},
   "outputs": [
    {
     "name": "stdout",
     "output_type": "stream",
     "text": [
      "7\n"
     ]
    }
   ],
   "source": [
    "print(val[-3])"
   ]
  },
  {
   "cell_type": "code",
   "execution_count": 68,
   "id": "4303f4d3",
   "metadata": {},
   "outputs": [
    {
     "name": "stdout",
     "output_type": "stream",
     "text": [
      "1\n"
     ]
    }
   ],
   "source": [
    "print(val[-9])"
   ]
  },
  {
   "cell_type": "code",
   "execution_count": 69,
   "id": "649c33b7",
   "metadata": {},
   "outputs": [
    {
     "ename": "IndexError",
     "evalue": "list index out of range",
     "output_type": "error",
     "traceback": [
      "\u001b[0;31m---------------------------------------------------------------------------\u001b[0m",
      "\u001b[0;31mIndexError\u001b[0m                                Traceback (most recent call last)",
      "Input \u001b[0;32mIn [69]\u001b[0m, in \u001b[0;36m<cell line: 1>\u001b[0;34m()\u001b[0m\n\u001b[0;32m----> 1\u001b[0m \u001b[38;5;28mprint\u001b[39m(\u001b[43mval\u001b[49m\u001b[43m[\u001b[49m\u001b[38;5;241;43m13\u001b[39;49m\u001b[43m]\u001b[49m)\n",
      "\u001b[0;31mIndexError\u001b[0m: list index out of range"
     ]
    }
   ],
   "source": [
    "print(val[13])"
   ]
  },
  {
   "cell_type": "code",
   "execution_count": 70,
   "id": "23140e5c",
   "metadata": {},
   "outputs": [
    {
     "ename": "IndexError",
     "evalue": "list index out of range",
     "output_type": "error",
     "traceback": [
      "\u001b[0;31m---------------------------------------------------------------------------\u001b[0m",
      "\u001b[0;31mIndexError\u001b[0m                                Traceback (most recent call last)",
      "Input \u001b[0;32mIn [70]\u001b[0m, in \u001b[0;36m<cell line: 1>\u001b[0;34m()\u001b[0m\n\u001b[0;32m----> 1\u001b[0m \u001b[38;5;28mprint\u001b[39m(\u001b[43mval\u001b[49m\u001b[43m[\u001b[49m\u001b[38;5;241;43m-\u001b[39;49m\u001b[38;5;241;43m10\u001b[39;49m\u001b[43m]\u001b[49m)\n",
      "\u001b[0;31mIndexError\u001b[0m: list index out of range"
     ]
    }
   ],
   "source": [
    "print(val[-10])"
   ]
  },
  {
   "cell_type": "code",
   "execution_count": null,
   "id": "61807a35",
   "metadata": {},
   "outputs": [],
   "source": []
  },
  {
   "cell_type": "code",
   "execution_count": 71,
   "id": "b3e19226",
   "metadata": {},
   "outputs": [],
   "source": [
    "# Adding Value in List"
   ]
  },
  {
   "cell_type": "code",
   "execution_count": 78,
   "id": "2a8e8ac0",
   "metadata": {},
   "outputs": [],
   "source": [
    "goals = [4,5,1,0,3]"
   ]
  },
  {
   "cell_type": "code",
   "execution_count": 79,
   "id": "1d6c3555",
   "metadata": {},
   "outputs": [],
   "source": [
    "new_goal_count = 2"
   ]
  },
  {
   "cell_type": "code",
   "execution_count": 80,
   "id": "a59541f1",
   "metadata": {},
   "outputs": [],
   "source": [
    "goals.append(new_goal_count) # Add the value at the end of the list"
   ]
  },
  {
   "cell_type": "code",
   "execution_count": 81,
   "id": "26e2874b",
   "metadata": {},
   "outputs": [
    {
     "name": "stdout",
     "output_type": "stream",
     "text": [
      "[4, 5, 1, 0, 3, 2]\n"
     ]
    }
   ],
   "source": [
    "print(goals)"
   ]
  },
  {
   "cell_type": "code",
   "execution_count": 82,
   "id": "04819fb4",
   "metadata": {},
   "outputs": [],
   "source": [
    "goals.append(489)"
   ]
  },
  {
   "cell_type": "code",
   "execution_count": 83,
   "id": "635af0cd",
   "metadata": {},
   "outputs": [
    {
     "name": "stdout",
     "output_type": "stream",
     "text": [
      "[4, 5, 1, 0, 3, 2, 489]\n"
     ]
    }
   ],
   "source": [
    "print(goals)"
   ]
  },
  {
   "cell_type": "code",
   "execution_count": 84,
   "id": "ee96e828",
   "metadata": {},
   "outputs": [],
   "source": [
    "goals.append(\"Pranav!\")"
   ]
  },
  {
   "cell_type": "code",
   "execution_count": 85,
   "id": "a07a712f",
   "metadata": {},
   "outputs": [
    {
     "name": "stdout",
     "output_type": "stream",
     "text": [
      "[4, 5, 1, 0, 3, 2, 489, 'Pranav!']\n"
     ]
    }
   ],
   "source": [
    "print(goals)"
   ]
  },
  {
   "cell_type": "code",
   "execution_count": 86,
   "id": "c15fd614",
   "metadata": {},
   "outputs": [],
   "source": [
    "# Insert"
   ]
  },
  {
   "cell_type": "code",
   "execution_count": 92,
   "id": "712c3819",
   "metadata": {},
   "outputs": [],
   "source": [
    "val = [3,5,9,2,6]"
   ]
  },
  {
   "cell_type": "code",
   "execution_count": 93,
   "id": "9e14ba88",
   "metadata": {},
   "outputs": [],
   "source": [
    "val.insert(0,789)"
   ]
  },
  {
   "cell_type": "code",
   "execution_count": 94,
   "id": "191ae580",
   "metadata": {},
   "outputs": [
    {
     "name": "stdout",
     "output_type": "stream",
     "text": [
      "[789, 3, 5, 9, 2, 6]\n"
     ]
    }
   ],
   "source": [
    "print(val)"
   ]
  },
  {
   "cell_type": "code",
   "execution_count": 95,
   "id": "6d983005",
   "metadata": {},
   "outputs": [],
   "source": [
    "val.insert(3,67)"
   ]
  },
  {
   "cell_type": "code",
   "execution_count": 96,
   "id": "da6f672d",
   "metadata": {},
   "outputs": [
    {
     "name": "stdout",
     "output_type": "stream",
     "text": [
      "[789, 3, 5, 67, 9, 2, 6]\n"
     ]
    }
   ],
   "source": [
    "print(val)"
   ]
  },
  {
   "cell_type": "code",
   "execution_count": 97,
   "id": "329c8283",
   "metadata": {},
   "outputs": [
    {
     "name": "stdout",
     "output_type": "stream",
     "text": [
      "[2, 4, 45, 6, 7]\n"
     ]
    }
   ],
   "source": [
    "l = [2,4,6,7]\n",
    "l.insert(-2,45)\n",
    "print(l)"
   ]
  },
  {
   "cell_type": "code",
   "execution_count": 98,
   "id": "dd860fca",
   "metadata": {},
   "outputs": [
    {
     "name": "stdout",
     "output_type": "stream",
     "text": [
      "45\n"
     ]
    }
   ],
   "source": [
    "print(l[-3])"
   ]
  },
  {
   "cell_type": "code",
   "execution_count": 99,
   "id": "f4bc233e",
   "metadata": {},
   "outputs": [],
   "source": [
    "# Quizes\n"
   ]
  },
  {
   "cell_type": "code",
   "execution_count": 100,
   "id": "c4ca4f4f",
   "metadata": {},
   "outputs": [
    {
     "name": "stdout",
     "output_type": "stream",
     "text": [
      "-2\n"
     ]
    }
   ],
   "source": [
    "# Quiz 1\n",
    "l = [5, 1, -2, 2, 3, 4]\n",
    "print(l[2])"
   ]
  },
  {
   "cell_type": "code",
   "execution_count": 101,
   "id": "84cbeb1f",
   "metadata": {},
   "outputs": [
    {
     "name": "stdout",
     "output_type": "stream",
     "text": [
      "10\n",
      "17\n",
      "4\n",
      "31\n"
     ]
    }
   ],
   "source": [
    "# Quiz 2\n",
    "runs = [10, 55, 4, 67, 17]\n",
    "print(runs[0]) # 10\n",
    "print(runs[-1]) # 17\n",
    "print(runs[-3]) # 4\n",
    "print(runs[0] + runs[-1] + runs[-3])"
   ]
  },
  {
   "cell_type": "code",
   "execution_count": 102,
   "id": "2d26be0b",
   "metadata": {
    "scrolled": true
   },
   "outputs": [
    {
     "name": "stdout",
     "output_type": "stream",
     "text": [
      "[10, 55, 4, 67, 17, 6, 200]\n",
      "200\n",
      "4\n",
      "204\n"
     ]
    }
   ],
   "source": [
    "runs = [10, 55, 4, 67, 17]\n",
    "runs.append(6)\n",
    "runs.append(200)\n",
    "print(runs) # [10,55,4,67,17,6,200]\n",
    "print(runs[-1]) # 200\n",
    "print(runs[2]) # 4\n",
    "print(runs[-1] + runs[2])"
   ]
  },
  {
   "cell_type": "code",
   "execution_count": 103,
   "id": "d47dea69",
   "metadata": {},
   "outputs": [
    {
     "name": "stdout",
     "output_type": "stream",
     "text": [
      "19\n"
     ]
    }
   ],
   "source": [
    "# Quiz 3\n",
    "val = [1,5,8,3,19]\n",
    "n = len(val)\n",
    "last_idx = n - 1\n",
    "print(val[last_idx])"
   ]
  },
  {
   "cell_type": "code",
   "execution_count": 106,
   "id": "cd92fad4",
   "metadata": {},
   "outputs": [
    {
     "name": "stdout",
     "output_type": "stream",
     "text": [
      "[1, 2, 3, 3, 5, 10, 6, 7, 5]\n"
     ]
    }
   ],
   "source": [
    "#    0  1  2  3  4  5   6  7\n",
    "l = [1, 2, 3, 3, 5, 6, 7, 5]\n",
    "l.insert(5, 10)\n",
    "print(l)"
   ]
  },
  {
   "cell_type": "code",
   "execution_count": null,
   "id": "5db8c472",
   "metadata": {},
   "outputs": [],
   "source": []
  },
  {
   "cell_type": "code",
   "execution_count": 107,
   "id": "ec4103b7",
   "metadata": {},
   "outputs": [],
   "source": [
    "#Loops over list"
   ]
  },
  {
   "cell_type": "code",
   "execution_count": 109,
   "id": "888a453b",
   "metadata": {},
   "outputs": [
    {
     "name": "stdout",
     "output_type": "stream",
     "text": [
      "1 5 8 3 9 "
     ]
    }
   ],
   "source": [
    "# list -> Iterable\n",
    "# range -> Iterable\n",
    "# i -> Iterator\n",
    "\n",
    "val = [1,5,8,3,9]\n",
    "for i in val:\n",
    "    print(i, end=\" \")"
   ]
  },
  {
   "cell_type": "code",
   "execution_count": 110,
   "id": "a3f94d8a",
   "metadata": {},
   "outputs": [],
   "source": [
    "# Sum of all elements of list"
   ]
  },
  {
   "cell_type": "code",
   "execution_count": 111,
   "id": "e61c9c80",
   "metadata": {},
   "outputs": [
    {
     "name": "stdout",
     "output_type": "stream",
     "text": [
      "26\n"
     ]
    }
   ],
   "source": [
    "val = [1,5,8,3,9]\n",
    "ans = 0\n",
    "for i in val:\n",
    "    ans+=i\n",
    "    \n",
    "print(ans)"
   ]
  },
  {
   "cell_type": "code",
   "execution_count": 112,
   "id": "9656f656",
   "metadata": {},
   "outputs": [
    {
     "data": {
      "text/plain": [
       "26"
      ]
     },
     "execution_count": 112,
     "metadata": {},
     "output_type": "execute_result"
    }
   ],
   "source": [
    "sum(val)"
   ]
  },
  {
   "cell_type": "code",
   "execution_count": 115,
   "id": "5c88ab0d",
   "metadata": {},
   "outputs": [],
   "source": [
    "# Sum of all element at odd index"
   ]
  },
  {
   "cell_type": "code",
   "execution_count": 116,
   "id": "e3897374",
   "metadata": {},
   "outputs": [
    {
     "name": "stdout",
     "output_type": "stream",
     "text": [
      "18\n"
     ]
    }
   ],
   "source": [
    "val = [1,5,8,3,9]\n",
    "ans = 0\n",
    "for i in val:\n",
    "    if i%2==1:\n",
    "        ans+=i\n",
    "    \n",
    "print(ans)"
   ]
  },
  {
   "cell_type": "code",
   "execution_count": 132,
   "id": "0e9d022e",
   "metadata": {},
   "outputs": [
    {
     "name": "stdout",
     "output_type": "stream",
     "text": [
      "8\n"
     ]
    }
   ],
   "source": [
    "val = [1,5,8,3,9]\n",
    "n = len(val)\n",
    "ans = 0\n",
    "for idx in range(0, n):\n",
    "    if idx%2==1:\n",
    "        ans+=val[idx]\n",
    "        \n",
    "print(ans)"
   ]
  },
  {
   "cell_type": "code",
   "execution_count": 133,
   "id": "0d9e44e2",
   "metadata": {},
   "outputs": [
    {
     "name": "stdout",
     "output_type": "stream",
     "text": [
      "8\n"
     ]
    }
   ],
   "source": [
    "val = [1,5,8,3,9]\n",
    "n = len(val)\n",
    "ans = 0\n",
    "for idx in range(1, n,2):\n",
    "    ans+=val[idx]\n",
    "        \n",
    "print(ans)"
   ]
  },
  {
   "cell_type": "code",
   "execution_count": 134,
   "id": "8618f9cb",
   "metadata": {},
   "outputs": [],
   "source": [
    "# Updating the list"
   ]
  },
  {
   "cell_type": "code",
   "execution_count": 136,
   "id": "c11dac32",
   "metadata": {},
   "outputs": [],
   "source": [
    "val = [1,5,8,3,9] # -> [1,5,-3,3,9]"
   ]
  },
  {
   "cell_type": "code",
   "execution_count": 137,
   "id": "4b91c8ec",
   "metadata": {},
   "outputs": [],
   "source": [
    "val[2] = -3"
   ]
  },
  {
   "cell_type": "code",
   "execution_count": 138,
   "id": "47928187",
   "metadata": {},
   "outputs": [
    {
     "name": "stdout",
     "output_type": "stream",
     "text": [
      "[1, 5, -3, 3, 9]\n"
     ]
    }
   ],
   "source": [
    "print(val)"
   ]
  },
  {
   "cell_type": "code",
   "execution_count": 139,
   "id": "39f3f462",
   "metadata": {},
   "outputs": [],
   "source": [
    "val[0] = 56"
   ]
  },
  {
   "cell_type": "code",
   "execution_count": 140,
   "id": "4c6ff102",
   "metadata": {},
   "outputs": [
    {
     "name": "stdout",
     "output_type": "stream",
     "text": [
      "[56, 5, -3, 3, 9]\n"
     ]
    }
   ],
   "source": [
    "print(val)"
   ]
  },
  {
   "cell_type": "code",
   "execution_count": 141,
   "id": "7dc16bfb",
   "metadata": {},
   "outputs": [],
   "source": [
    "val[-2] = 789"
   ]
  },
  {
   "cell_type": "code",
   "execution_count": 142,
   "id": "ec2a3124",
   "metadata": {},
   "outputs": [
    {
     "name": "stdout",
     "output_type": "stream",
     "text": [
      "[56, 5, -3, 789, 9]\n"
     ]
    }
   ],
   "source": [
    "print(val)"
   ]
  },
  {
   "cell_type": "code",
   "execution_count": 143,
   "id": "dafbbf0c",
   "metadata": {},
   "outputs": [],
   "source": [
    "# Pop"
   ]
  },
  {
   "cell_type": "code",
   "execution_count": 144,
   "id": "0cb1f644",
   "metadata": {},
   "outputs": [],
   "source": [
    "val = [1,5,8,3,9]"
   ]
  },
  {
   "cell_type": "code",
   "execution_count": 145,
   "id": "8c3d2626",
   "metadata": {},
   "outputs": [
    {
     "data": {
      "text/plain": [
       "9"
      ]
     },
     "execution_count": 145,
     "metadata": {},
     "output_type": "execute_result"
    }
   ],
   "source": [
    "val.pop()"
   ]
  },
  {
   "cell_type": "code",
   "execution_count": 146,
   "id": "57cbaf01",
   "metadata": {},
   "outputs": [
    {
     "name": "stdout",
     "output_type": "stream",
     "text": [
      "[1, 5, 8, 3]\n"
     ]
    }
   ],
   "source": [
    "print(val)"
   ]
  },
  {
   "cell_type": "code",
   "execution_count": 147,
   "id": "672d4a40",
   "metadata": {},
   "outputs": [
    {
     "data": {
      "text/plain": [
       "5"
      ]
     },
     "execution_count": 147,
     "metadata": {},
     "output_type": "execute_result"
    }
   ],
   "source": [
    "val.pop(1) # pass index value"
   ]
  },
  {
   "cell_type": "code",
   "execution_count": 148,
   "id": "d9f2a8a8",
   "metadata": {},
   "outputs": [
    {
     "name": "stdout",
     "output_type": "stream",
     "text": [
      "[1, 8, 3]\n"
     ]
    }
   ],
   "source": [
    "print(val)"
   ]
  },
  {
   "cell_type": "code",
   "execution_count": 149,
   "id": "a324d655",
   "metadata": {},
   "outputs": [
    {
     "name": "stdout",
     "output_type": "stream",
     "text": [
      "Help on method_descriptor:\n",
      "\n",
      "pop(self, index=-1, /)\n",
      "    Remove and return item at index (default last).\n",
      "    \n",
      "    Raises IndexError if list is empty or index is out of range.\n",
      "\n",
      "None\n"
     ]
    }
   ],
   "source": [
    "print(help(list.pop))"
   ]
  },
  {
   "cell_type": "code",
   "execution_count": 150,
   "id": "78e29cef",
   "metadata": {},
   "outputs": [],
   "source": [
    "x = []"
   ]
  },
  {
   "cell_type": "code",
   "execution_count": 151,
   "id": "ce942d00",
   "metadata": {},
   "outputs": [
    {
     "ename": "IndexError",
     "evalue": "pop from empty list",
     "output_type": "error",
     "traceback": [
      "\u001b[0;31m---------------------------------------------------------------------------\u001b[0m",
      "\u001b[0;31mIndexError\u001b[0m                                Traceback (most recent call last)",
      "Input \u001b[0;32mIn [151]\u001b[0m, in \u001b[0;36m<cell line: 1>\u001b[0;34m()\u001b[0m\n\u001b[0;32m----> 1\u001b[0m \u001b[43mx\u001b[49m\u001b[38;5;241;43m.\u001b[39;49m\u001b[43mpop\u001b[49m\u001b[43m(\u001b[49m\u001b[38;5;241;43m3\u001b[39;49m\u001b[43m)\u001b[49m\n",
      "\u001b[0;31mIndexError\u001b[0m: pop from empty list"
     ]
    }
   ],
   "source": [
    "x.pop(3)"
   ]
  },
  {
   "cell_type": "code",
   "execution_count": 152,
   "id": "400f7837",
   "metadata": {},
   "outputs": [
    {
     "name": "stdout",
     "output_type": "stream",
     "text": [
      "Help on class list in module builtins:\n",
      "\n",
      "class list(object)\n",
      " |  list(iterable=(), /)\n",
      " |  \n",
      " |  Built-in mutable sequence.\n",
      " |  \n",
      " |  If no argument is given, the constructor creates a new empty list.\n",
      " |  The argument must be an iterable if specified.\n",
      " |  \n",
      " |  Methods defined here:\n",
      " |  \n",
      " |  __add__(self, value, /)\n",
      " |      Return self+value.\n",
      " |  \n",
      " |  __contains__(self, key, /)\n",
      " |      Return key in self.\n",
      " |  \n",
      " |  __delitem__(self, key, /)\n",
      " |      Delete self[key].\n",
      " |  \n",
      " |  __eq__(self, value, /)\n",
      " |      Return self==value.\n",
      " |  \n",
      " |  __ge__(self, value, /)\n",
      " |      Return self>=value.\n",
      " |  \n",
      " |  __getattribute__(self, name, /)\n",
      " |      Return getattr(self, name).\n",
      " |  \n",
      " |  __getitem__(...)\n",
      " |      x.__getitem__(y) <==> x[y]\n",
      " |  \n",
      " |  __gt__(self, value, /)\n",
      " |      Return self>value.\n",
      " |  \n",
      " |  __iadd__(self, value, /)\n",
      " |      Implement self+=value.\n",
      " |  \n",
      " |  __imul__(self, value, /)\n",
      " |      Implement self*=value.\n",
      " |  \n",
      " |  __init__(self, /, *args, **kwargs)\n",
      " |      Initialize self.  See help(type(self)) for accurate signature.\n",
      " |  \n",
      " |  __iter__(self, /)\n",
      " |      Implement iter(self).\n",
      " |  \n",
      " |  __le__(self, value, /)\n",
      " |      Return self<=value.\n",
      " |  \n",
      " |  __len__(self, /)\n",
      " |      Return len(self).\n",
      " |  \n",
      " |  __lt__(self, value, /)\n",
      " |      Return self<value.\n",
      " |  \n",
      " |  __mul__(self, value, /)\n",
      " |      Return self*value.\n",
      " |  \n",
      " |  __ne__(self, value, /)\n",
      " |      Return self!=value.\n",
      " |  \n",
      " |  __repr__(self, /)\n",
      " |      Return repr(self).\n",
      " |  \n",
      " |  __reversed__(self, /)\n",
      " |      Return a reverse iterator over the list.\n",
      " |  \n",
      " |  __rmul__(self, value, /)\n",
      " |      Return value*self.\n",
      " |  \n",
      " |  __setitem__(self, key, value, /)\n",
      " |      Set self[key] to value.\n",
      " |  \n",
      " |  __sizeof__(self, /)\n",
      " |      Return the size of the list in memory, in bytes.\n",
      " |  \n",
      " |  append(self, object, /)\n",
      " |      Append object to the end of the list.\n",
      " |  \n",
      " |  clear(self, /)\n",
      " |      Remove all items from list.\n",
      " |  \n",
      " |  copy(self, /)\n",
      " |      Return a shallow copy of the list.\n",
      " |  \n",
      " |  count(self, value, /)\n",
      " |      Return number of occurrences of value.\n",
      " |  \n",
      " |  extend(self, iterable, /)\n",
      " |      Extend list by appending elements from the iterable.\n",
      " |  \n",
      " |  index(self, value, start=0, stop=9223372036854775807, /)\n",
      " |      Return first index of value.\n",
      " |      \n",
      " |      Raises ValueError if the value is not present.\n",
      " |  \n",
      " |  insert(self, index, object, /)\n",
      " |      Insert object before index.\n",
      " |  \n",
      " |  pop(self, index=-1, /)\n",
      " |      Remove and return item at index (default last).\n",
      " |      \n",
      " |      Raises IndexError if list is empty or index is out of range.\n",
      " |  \n",
      " |  remove(self, value, /)\n",
      " |      Remove first occurrence of value.\n",
      " |      \n",
      " |      Raises ValueError if the value is not present.\n",
      " |  \n",
      " |  reverse(self, /)\n",
      " |      Reverse *IN PLACE*.\n",
      " |  \n",
      " |  sort(self, /, *, key=None, reverse=False)\n",
      " |      Sort the list in ascending order and return None.\n",
      " |      \n",
      " |      The sort is in-place (i.e. the list itself is modified) and stable (i.e. the\n",
      " |      order of two equal elements is maintained).\n",
      " |      \n",
      " |      If a key function is given, apply it once to each list item and sort them,\n",
      " |      ascending or descending, according to their function values.\n",
      " |      \n",
      " |      The reverse flag can be set to sort in descending order.\n",
      " |  \n",
      " |  ----------------------------------------------------------------------\n",
      " |  Static methods defined here:\n",
      " |  \n",
      " |  __new__(*args, **kwargs) from builtins.type\n",
      " |      Create and return a new object.  See help(type) for accurate signature.\n",
      " |  \n",
      " |  ----------------------------------------------------------------------\n",
      " |  Data and other attributes defined here:\n",
      " |  \n",
      " |  __hash__ = None\n",
      "\n",
      "None\n"
     ]
    }
   ],
   "source": [
    "print(help(list))"
   ]
  },
  {
   "cell_type": "code",
   "execution_count": null,
   "id": "31367def",
   "metadata": {},
   "outputs": [],
   "source": []
  },
  {
   "cell_type": "code",
   "execution_count": null,
   "id": "776ac37e",
   "metadata": {},
   "outputs": [],
   "source": []
  },
  {
   "cell_type": "code",
   "execution_count": 153,
   "id": "d2176a12",
   "metadata": {},
   "outputs": [],
   "source": [
    "# Quizes"
   ]
  },
  {
   "cell_type": "code",
   "execution_count": 154,
   "id": "e02b1670",
   "metadata": {},
   "outputs": [
    {
     "name": "stdout",
     "output_type": "stream",
     "text": [
      "[2, 5, 10]\n"
     ]
    }
   ],
   "source": [
    "user_values = [2, 5, 9]\n",
    "user_values[2] = user_values[2] + 1 # 9 + 1\n",
    "\n",
    "print(user_values)"
   ]
  },
  {
   "cell_type": "code",
   "execution_count": 155,
   "id": "2f1c9e55",
   "metadata": {},
   "outputs": [
    {
     "name": "stdout",
     "output_type": "stream",
     "text": [
      "[1, 1, 8]\n"
     ]
    }
   ],
   "source": [
    "user_values = [1, 6, 8]\n",
    "user_values[1] = user_values[0] # user_values[1] = 1\n",
    "\n",
    "print(user_values)"
   ]
  },
  {
   "cell_type": "code",
   "execution_count": 156,
   "id": "4b021e19",
   "metadata": {},
   "outputs": [
    {
     "name": "stdout",
     "output_type": "stream",
     "text": [
      "[3, 7, 3]\n"
     ]
    }
   ],
   "source": [
    "user_values = [3, 6, 7]\n",
    "user_values[1] = user_values[2]\n",
    "user_values[2] = user_values[0]\n",
    "\n",
    "print(user_values)"
   ]
  },
  {
   "cell_type": "code",
   "execution_count": 157,
   "id": "05793c19",
   "metadata": {},
   "outputs": [],
   "source": [
    "# remove"
   ]
  },
  {
   "cell_type": "code",
   "execution_count": 158,
   "id": "3a045392",
   "metadata": {},
   "outputs": [],
   "source": [
    "val = [1,5,8,3,9]"
   ]
  },
  {
   "cell_type": "code",
   "execution_count": 159,
   "id": "7246ab52",
   "metadata": {},
   "outputs": [],
   "source": [
    "val.remove(3)"
   ]
  },
  {
   "cell_type": "code",
   "execution_count": 160,
   "id": "65e40ebc",
   "metadata": {},
   "outputs": [
    {
     "name": "stdout",
     "output_type": "stream",
     "text": [
      "[1, 5, 8, 9]\n"
     ]
    }
   ],
   "source": [
    "print(val)"
   ]
  },
  {
   "cell_type": "code",
   "execution_count": 161,
   "id": "b9e95fb2",
   "metadata": {},
   "outputs": [],
   "source": [
    "val.remove(9)"
   ]
  },
  {
   "cell_type": "code",
   "execution_count": 162,
   "id": "26ee54fc",
   "metadata": {},
   "outputs": [
    {
     "name": "stdout",
     "output_type": "stream",
     "text": [
      "[1, 5, 8]\n"
     ]
    }
   ],
   "source": [
    "print(val)"
   ]
  },
  {
   "cell_type": "code",
   "execution_count": 163,
   "id": "5d22247b",
   "metadata": {},
   "outputs": [],
   "source": [
    "val = [5,5,7,7,2,8,2]"
   ]
  },
  {
   "cell_type": "code",
   "execution_count": 164,
   "id": "32c5556f",
   "metadata": {},
   "outputs": [],
   "source": [
    "val.remove(2)"
   ]
  },
  {
   "cell_type": "code",
   "execution_count": 165,
   "id": "319a5ed0",
   "metadata": {},
   "outputs": [
    {
     "name": "stdout",
     "output_type": "stream",
     "text": [
      "[5, 5, 7, 7, 8, 2]\n"
     ]
    }
   ],
   "source": [
    "print(val)"
   ]
  },
  {
   "cell_type": "code",
   "execution_count": 166,
   "id": "3208397f",
   "metadata": {},
   "outputs": [],
   "source": [
    "val.remove(2)"
   ]
  },
  {
   "cell_type": "code",
   "execution_count": 167,
   "id": "18c66f96",
   "metadata": {},
   "outputs": [
    {
     "name": "stdout",
     "output_type": "stream",
     "text": [
      "[5, 5, 7, 7, 8]\n"
     ]
    }
   ],
   "source": [
    "print(val)"
   ]
  },
  {
   "cell_type": "code",
   "execution_count": 168,
   "id": "4eaea167",
   "metadata": {},
   "outputs": [
    {
     "ename": "SyntaxError",
     "evalue": "invalid syntax (126516112.py, line 1)",
     "output_type": "error",
     "traceback": [
      "\u001b[0;36m  Input \u001b[0;32mIn [168]\u001b[0;36m\u001b[0m\n\u001b[0;31m    in # membership op\u001b[0m\n\u001b[0m    ^\u001b[0m\n\u001b[0;31mSyntaxError\u001b[0m\u001b[0;31m:\u001b[0m invalid syntax\n"
     ]
    }
   ],
   "source": [
    "in # membership op"
   ]
  },
  {
   "cell_type": "code",
   "execution_count": 169,
   "id": "0d073d3d",
   "metadata": {},
   "outputs": [
    {
     "data": {
      "text/plain": [
       "True"
      ]
     },
     "execution_count": 169,
     "metadata": {},
     "output_type": "execute_result"
    }
   ],
   "source": [
    "4 in [1,3,4,6,7]"
   ]
  },
  {
   "cell_type": "code",
   "execution_count": 170,
   "id": "60918bcd",
   "metadata": {},
   "outputs": [
    {
     "data": {
      "text/plain": [
       "True"
      ]
     },
     "execution_count": 170,
     "metadata": {},
     "output_type": "execute_result"
    }
   ],
   "source": [
    "5 in range(0,10)"
   ]
  },
  {
   "cell_type": "code",
   "execution_count": 171,
   "id": "63f01c19",
   "metadata": {},
   "outputs": [
    {
     "data": {
      "text/plain": [
       "False"
      ]
     },
     "execution_count": 171,
     "metadata": {},
     "output_type": "execute_result"
    }
   ],
   "source": [
    "4.4 in [1,2,3,4,5]"
   ]
  },
  {
   "cell_type": "code",
   "execution_count": 172,
   "id": "7bde2b69",
   "metadata": {},
   "outputs": [],
   "source": [
    "# Challenge: Remove all occurences of a given value\n",
    "l = [1, 3, 1, 2, 4, 1, 6, 1]\n",
    "# remove all 1"
   ]
  },
  {
   "cell_type": "code",
   "execution_count": null,
   "id": "d8d50ed0",
   "metadata": {},
   "outputs": [],
   "source": [
    "# 4 -> 1's\n",
    "l.remove(1) # 4 times"
   ]
  },
  {
   "cell_type": "code",
   "execution_count": 174,
   "id": "52dc6f72",
   "metadata": {},
   "outputs": [],
   "source": [
    "# Solution 1\n",
    "# get the count of 1 -> 4\n",
    "# remove the 1 the no. of time it exist i.e 4 in this case -> 4 times"
   ]
  },
  {
   "cell_type": "code",
   "execution_count": 175,
   "id": "0bfebd2d",
   "metadata": {},
   "outputs": [],
   "source": [
    "# Solution 2\n",
    "# Remove 1 till it is present in the list\n",
    "# using in operator"
   ]
  },
  {
   "cell_type": "code",
   "execution_count": 176,
   "id": "7f6ee49b",
   "metadata": {},
   "outputs": [
    {
     "name": "stdout",
     "output_type": "stream",
     "text": [
      "[1, 3, 1, 2, 4, 1, 6, 1]\n",
      "[3, 2, 4, 6]\n"
     ]
    }
   ],
   "source": [
    "# Solution\n",
    "\n",
    "print(l)\n",
    "\n",
    "while (1 in l):\n",
    "    l.remove(1)\n",
    "    \n",
    "print(l)"
   ]
  },
  {
   "cell_type": "code",
   "execution_count": 178,
   "id": "28f82410",
   "metadata": {},
   "outputs": [],
   "source": [
    "# Input in list"
   ]
  },
  {
   "cell_type": "code",
   "execution_count": 179,
   "id": "9cf314f0",
   "metadata": {},
   "outputs": [],
   "source": [
    "# inpout the N <- Length of the list 5\n",
    "# input list <- 5 6 89 4 2"
   ]
  },
  {
   "cell_type": "code",
   "execution_count": 180,
   "id": "ab063e4a",
   "metadata": {},
   "outputs": [
    {
     "name": "stdout",
     "output_type": "stream",
     "text": [
      "5\n"
     ]
    }
   ],
   "source": [
    "n = int(input())"
   ]
  },
  {
   "cell_type": "code",
   "execution_count": 181,
   "id": "31c6f40e",
   "metadata": {},
   "outputs": [
    {
     "data": {
      "text/plain": [
       "5"
      ]
     },
     "execution_count": 181,
     "metadata": {},
     "output_type": "execute_result"
    }
   ],
   "source": [
    "n"
   ]
  },
  {
   "cell_type": "code",
   "execution_count": 182,
   "id": "39c1a945",
   "metadata": {},
   "outputs": [
    {
     "name": "stdout",
     "output_type": "stream",
     "text": [
      "5 6 67 9\n"
     ]
    }
   ],
   "source": [
    "x = input()"
   ]
  },
  {
   "cell_type": "code",
   "execution_count": 184,
   "id": "0af8eedb",
   "metadata": {},
   "outputs": [
    {
     "data": {
      "text/plain": [
       "'5 6 67 9'"
      ]
     },
     "execution_count": 184,
     "metadata": {},
     "output_type": "execute_result"
    }
   ],
   "source": [
    "x.split() # split the data taking white space as a sepator"
   ]
  },
  {
   "cell_type": "code",
   "execution_count": 186,
   "id": "7acaa290",
   "metadata": {},
   "outputs": [],
   "source": [
    "val = x.split() # string function"
   ]
  },
  {
   "cell_type": "code",
   "execution_count": 187,
   "id": "a86e9023",
   "metadata": {},
   "outputs": [
    {
     "data": {
      "text/plain": [
       "['5', '6', '67', '9']"
      ]
     },
     "execution_count": 187,
     "metadata": {},
     "output_type": "execute_result"
    }
   ],
   "source": [
    "val"
   ]
  },
  {
   "cell_type": "code",
   "execution_count": 190,
   "id": "c3f994fb",
   "metadata": {},
   "outputs": [],
   "source": [
    "res = [] # 5, 6 , 67, 9\n",
    "for i in val:\n",
    "    converted_data = int(i)\n",
    "    res.append(converted_data)"
   ]
  },
  {
   "cell_type": "code",
   "execution_count": 191,
   "id": "7739ab0b",
   "metadata": {},
   "outputs": [
    {
     "data": {
      "text/plain": [
       "[5, 6, 67, 9]"
      ]
     },
     "execution_count": 191,
     "metadata": {},
     "output_type": "execute_result"
    }
   ],
   "source": [
    "res"
   ]
  },
  {
   "cell_type": "code",
   "execution_count": null,
   "id": "442a043c",
   "metadata": {},
   "outputs": [],
   "source": []
  },
  {
   "cell_type": "code",
   "execution_count": 192,
   "id": "f9f32e87",
   "metadata": {},
   "outputs": [
    {
     "name": "stdout",
     "output_type": "stream",
     "text": [
      "5\n",
      "1 2 5 7 9\n",
      "[1, 2, 5, 7, 9]\n"
     ]
    }
   ],
   "source": [
    "n = int(input()) # Java, C++, C \n",
    "x = input().split()\n",
    "res = []\n",
    "for i in x:\n",
    "    res.append(int(i))\n",
    "\n",
    "print(res)"
   ]
  },
  {
   "cell_type": "code",
   "execution_count": null,
   "id": "05df5eb3",
   "metadata": {},
   "outputs": [],
   "source": []
  },
  {
   "cell_type": "code",
   "execution_count": null,
   "id": "d6ff818b",
   "metadata": {},
   "outputs": [],
   "source": [
    "# Doubts"
   ]
  },
  {
   "cell_type": "code",
   "execution_count": 194,
   "id": "f9c3dbb2",
   "metadata": {},
   "outputs": [],
   "source": [
    "val = [1,2,3,1,1,4,5,5]"
   ]
  },
  {
   "cell_type": "code",
   "execution_count": 195,
   "id": "ff0bd0d8",
   "metadata": {},
   "outputs": [],
   "source": [
    "# output -> [1,2,3,4]\n",
    "\n"
   ]
  },
  {
   "cell_type": "code",
   "execution_count": 196,
   "id": "1eebc55d",
   "metadata": {},
   "outputs": [],
   "source": [
    "a = 1"
   ]
  },
  {
   "cell_type": "code",
   "execution_count": 197,
   "id": "bb8aa0ae",
   "metadata": {},
   "outputs": [],
   "source": [
    "val = [a,a]"
   ]
  },
  {
   "cell_type": "code",
   "execution_count": 198,
   "id": "7088c514",
   "metadata": {},
   "outputs": [
    {
     "data": {
      "text/plain": [
       "[1, 1]"
      ]
     },
     "execution_count": 198,
     "metadata": {},
     "output_type": "execute_result"
    }
   ],
   "source": [
    "val"
   ]
  },
  {
   "cell_type": "code",
   "execution_count": 199,
   "id": "e26fe168",
   "metadata": {},
   "outputs": [],
   "source": [
    "# input list\n",
    "# N 3 5 7 9 6"
   ]
  },
  {
   "cell_type": "code",
   "execution_count": 200,
   "id": "28842c80",
   "metadata": {},
   "outputs": [
    {
     "name": "stdout",
     "output_type": "stream",
     "text": [
      "5 3 5 7 9 6\n"
     ]
    }
   ],
   "source": [
    "x = input().split()"
   ]
  },
  {
   "cell_type": "code",
   "execution_count": 201,
   "id": "485dcc86",
   "metadata": {},
   "outputs": [
    {
     "data": {
      "text/plain": [
       "['5', '3', '5', '7', '9', '6']"
      ]
     },
     "execution_count": 201,
     "metadata": {},
     "output_type": "execute_result"
    }
   ],
   "source": [
    "x"
   ]
  },
  {
   "cell_type": "code",
   "execution_count": 202,
   "id": "4d17c8a9",
   "metadata": {},
   "outputs": [],
   "source": [
    "N = int(x[0])"
   ]
  },
  {
   "cell_type": "code",
   "execution_count": 206,
   "id": "2b775599",
   "metadata": {},
   "outputs": [],
   "source": [
    "res = []\n",
    "for idx in range(1,len(x)):\n",
    "    res.append(int(x[idx]))\n",
    "    "
   ]
  },
  {
   "cell_type": "code",
   "execution_count": 207,
   "id": "f0c3b4f6",
   "metadata": {},
   "outputs": [
    {
     "data": {
      "text/plain": [
       "[3, 5, 7, 9, 6]"
      ]
     },
     "execution_count": 207,
     "metadata": {},
     "output_type": "execute_result"
    }
   ],
   "source": [
    "res"
   ]
  },
  {
   "cell_type": "code",
   "execution_count": null,
   "id": "a1cd637d",
   "metadata": {},
   "outputs": [],
   "source": []
  }
 ],
 "metadata": {
  "kernelspec": {
   "display_name": "Python 3 (ipykernel)",
   "language": "python",
   "name": "python3"
  },
  "language_info": {
   "codemirror_mode": {
    "name": "ipython",
    "version": 3
   },
   "file_extension": ".py",
   "mimetype": "text/x-python",
   "name": "python",
   "nbconvert_exporter": "python",
   "pygments_lexer": "ipython3",
   "version": "3.8.13"
  }
 },
 "nbformat": 4,
 "nbformat_minor": 5
}
