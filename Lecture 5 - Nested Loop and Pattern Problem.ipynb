{
 "cells": [
  {
   "cell_type": "code",
   "execution_count": null,
   "id": "56d8caba",
   "metadata": {},
   "outputs": [],
   "source": [
    "# Recap"
   ]
  },
  {
   "cell_type": "code",
   "execution_count": 3,
   "id": "b9bd3986",
   "metadata": {},
   "outputs": [
    {
     "name": "stdout",
     "output_type": "stream",
     "text": [
      "NOT PRIME\n"
     ]
    }
   ],
   "source": [
    "# Check if given number is prime\n",
    "# print \"PRIME\" or \"NOT PRIME\" \n",
    "n = 9\n",
    "is_prime = True\n",
    "\n",
    "for number in range(2,n):\n",
    "    if n%number==0:\n",
    "        print(\"NOT PRIME\")\n",
    "        is_prime = False\n",
    "        break\n",
    "\n",
    "if is_prime==True:\n",
    "    print(\"PRIME\")"
   ]
  },
  {
   "cell_type": "code",
   "execution_count": 5,
   "id": "d3a65643",
   "metadata": {},
   "outputs": [
    {
     "name": "stdout",
     "output_type": "stream",
     "text": [
      "1 3 5 7 9 "
     ]
    }
   ],
   "source": [
    "# Quiz\n",
    "for i in range(1, 11, 2):\n",
    "    print(i, end=\" \")\n",
    "    \n",
    "# Answer is 5"
   ]
  },
  {
   "cell_type": "code",
   "execution_count": 6,
   "id": "7350dbfb",
   "metadata": {},
   "outputs": [
    {
     "name": "stdout",
     "output_type": "stream",
     "text": [
      "10,7,4,1,"
     ]
    }
   ],
   "source": [
    "for i in range(10, -1, -3):\n",
    "    print(i, end = ',')"
   ]
  },
  {
   "cell_type": "code",
   "execution_count": 8,
   "id": "ee4a7297",
   "metadata": {},
   "outputs": [
    {
     "name": "stdout",
     "output_type": "stream",
     "text": [
      "Step1\n",
      "Step 2\n"
     ]
    }
   ],
   "source": [
    "print(\"Step1\")\n",
    "for i in range(1,7,-2):\n",
    "    print(i, end=\" \")\n",
    "    \n",
    "print(\"Step 2\")"
   ]
  },
  {
   "cell_type": "code",
   "execution_count": null,
   "id": "f8a72c02",
   "metadata": {},
   "outputs": [],
   "source": [
    "# Take input of numbers till you get 5 then stop"
   ]
  },
  {
   "cell_type": "code",
   "execution_count": 9,
   "id": "cc9140b8",
   "metadata": {},
   "outputs": [],
   "source": [
    "# continous input -> Loops\n",
    "# input -> 5\n",
    "# break <- skip/exit out of the current loop"
   ]
  },
  {
   "cell_type": "code",
   "execution_count": 12,
   "id": "18d7e7f0",
   "metadata": {},
   "outputs": [
    {
     "name": "stdout",
     "output_type": "stream",
     "text": [
      "1\n",
      "value -> 1\n",
      "4\n",
      "value -> 4\n",
      "7\n",
      "value -> 7\n",
      "6\n",
      "value -> 6\n",
      "5\n",
      "value -> 5\n"
     ]
    }
   ],
   "source": [
    "while True:\n",
    "    n = int(input()) # will always take a string\n",
    "    print(\"value ->\",n)\n",
    "    if n==5: \n",
    "        break"
   ]
  },
  {
   "cell_type": "code",
   "execution_count": 13,
   "id": "ca2b5415",
   "metadata": {},
   "outputs": [
    {
     "name": "stdout",
     "output_type": "stream",
     "text": [
      "6\n",
      "value -> 6\n",
      "4\n",
      "value -> 4\n",
      "8\n",
      "value -> 8\n",
      "5\n",
      "value -> 5\n"
     ]
    }
   ],
   "source": [
    "n = 0\n",
    "while n!=5:\n",
    "    n = int(input()) # will always take a string\n",
    "    print(\"value ->\",n)"
   ]
  },
  {
   "cell_type": "markdown",
   "id": "915fc7e1",
   "metadata": {},
   "source": [
    "### Home Work\n",
    "Write a program that continually asks the user to enter a number until they enter a number 5.\n",
    "\n",
    "At this point the program should print how many numbers the user has entered.\n",
    "\n",
    "You may assume the user will only enter numbers.\n"
   ]
  },
  {
   "cell_type": "code",
   "execution_count": null,
   "id": "6f2fa6da",
   "metadata": {},
   "outputs": [],
   "source": []
  },
  {
   "cell_type": "code",
   "execution_count": 14,
   "id": "4825f425",
   "metadata": {},
   "outputs": [],
   "source": [
    "# Continue"
   ]
  },
  {
   "cell_type": "code",
   "execution_count": 15,
   "id": "45f031f3",
   "metadata": {},
   "outputs": [
    {
     "name": "stdout",
     "output_type": "stream",
     "text": [
      "1 2 4 "
     ]
    }
   ],
   "source": [
    "for i in range(1,5):\n",
    "    if i == 3:\n",
    "        continue\n",
    "    print(i, end=\" \")"
   ]
  },
  {
   "cell_type": "code",
   "execution_count": 17,
   "id": "36740955",
   "metadata": {},
   "outputs": [
    {
     "name": "stdout",
     "output_type": "stream",
     "text": [
      "2\n",
      "3\n",
      "test1\n",
      "test2\n",
      "test3\n",
      "----------------\n",
      "4\n",
      "test1\n",
      "test2\n",
      "test3\n",
      "----------------\n"
     ]
    }
   ],
   "source": [
    "i = 2\n",
    "while i<=4:\n",
    "    print(i)\n",
    "    i+=1\n",
    "    if i==3:\n",
    "        continue\n",
    "    print(\"test1\")\n",
    "    print(\"test2\")\n",
    "    print(\"test3\")\n",
    "    print(\"----------------\")"
   ]
  },
  {
   "cell_type": "code",
   "execution_count": null,
   "id": "c2c5734c",
   "metadata": {},
   "outputs": [],
   "source": []
  },
  {
   "cell_type": "code",
   "execution_count": null,
   "id": "509a0027",
   "metadata": {},
   "outputs": [],
   "source": []
  },
  {
   "cell_type": "markdown",
   "id": "4becd5c7",
   "metadata": {},
   "source": [
    "#### Ques1\n",
    "\n",
    "N = 5\n",
    "\n",
    "output: *****\n",
    "\n",
    "N = 3\n",
    "\n",
    "output: ***"
   ]
  },
  {
   "cell_type": "code",
   "execution_count": 25,
   "id": "5f08a4c6",
   "metadata": {},
   "outputs": [
    {
     "name": "stdout",
     "output_type": "stream",
     "text": [
      "5\n",
      " -- For --\n",
      "* * * * * \n",
      " -- While --\n",
      "* * * * * "
     ]
    }
   ],
   "source": [
    "n = int(input())\n",
    "\n",
    "print(\" -- For --\")\n",
    "for i in range(n):\n",
    "    print(\"*\", end=\" \")\n",
    "\n",
    "print()\n",
    "print(\" -- While --\")\n",
    "    \n",
    "i = 1\n",
    "while i<=n:\n",
    "    print(\"*\", end=\" \")\n",
    "    i+=1"
   ]
  },
  {
   "cell_type": "code",
   "execution_count": null,
   "id": "236c79bc",
   "metadata": {},
   "outputs": [],
   "source": []
  },
  {
   "cell_type": "code",
   "execution_count": 26,
   "id": "abd4a332",
   "metadata": {},
   "outputs": [],
   "source": [
    "# Print Rectangele\n",
    "# N = 5\n",
    "# M = 7"
   ]
  },
  {
   "cell_type": "raw",
   "id": "89e9035f",
   "metadata": {},
   "source": [
    "OUTPUT\n",
    "******\n",
    "******\n",
    "******\n",
    "******\n",
    "******"
   ]
  },
  {
   "cell_type": "code",
   "execution_count": 32,
   "id": "c238621a",
   "metadata": {},
   "outputs": [
    {
     "name": "stdout",
     "output_type": "stream",
     "text": [
      "****\n",
      "****\n",
      "****"
     ]
    }
   ],
   "source": [
    "for i in range(4):\n",
    "    print(\"*\", end=\"\")\n",
    "\n",
    "print() # default end=\"\\n\"\n",
    "    \n",
    "for i in range(4):\n",
    "    print(\"*\", end=\"\")\n",
    "\n",
    "print(\"\",end=\"\\n\")\n",
    "    \n",
    "for i in range(4):\n",
    "    print(\"*\", end=\"\")"
   ]
  },
  {
   "cell_type": "code",
   "execution_count": 31,
   "id": "99216573",
   "metadata": {},
   "outputs": [
    {
     "name": "stdout",
     "output_type": "stream",
     "text": [
      "\n",
      "\n"
     ]
    }
   ],
   "source": [
    "print()\n",
    "print(\"\",end=\"\\n\") # creating a new line"
   ]
  },
  {
   "cell_type": "code",
   "execution_count": 39,
   "id": "5e1048bb",
   "metadata": {},
   "outputs": [
    {
     "name": "stdout",
     "output_type": "stream",
     "text": [
      "****\n",
      "****\n",
      "****\n"
     ]
    }
   ],
   "source": [
    "# Better Code\n",
    "n = 3\n",
    "m = 4\n",
    "for j in range(1,n+1): # Outer Loop -> All the rows\n",
    "#     print(\"j->\",j)\n",
    "    for i in range(m): # Inner Loop -> Filling the columns left to right\n",
    "        print(\"*\", end=\"\")\n",
    "    print()"
   ]
  },
  {
   "cell_type": "code",
   "execution_count": null,
   "id": "3acfdcf7",
   "metadata": {},
   "outputs": [],
   "source": [
    "N = 5, M = 7\n",
    "*******\n",
    "*******\n",
    "*******\n",
    "*******\n",
    "*******\n",
    "\n",
    "N-> Rows 5 Rows\n",
    "M-> Columns, 7 Columns"
   ]
  },
  {
   "cell_type": "code",
   "execution_count": 40,
   "id": "6663fdd0",
   "metadata": {},
   "outputs": [
    {
     "name": "stdout",
     "output_type": "stream",
     "text": [
      "* * * * \n",
      "* * * * \n"
     ]
    }
   ],
   "source": [
    "# A\n",
    "for i in range(4):\n",
    "    print(\"*\", end=\" \")\n",
    "print()    \n",
    "\n",
    "# B\n",
    "for i in range(1,5):\n",
    "    print(\"*\", end=\" \")\n",
    "print()"
   ]
  },
  {
   "cell_type": "code",
   "execution_count": null,
   "id": "8865c2fa",
   "metadata": {},
   "outputs": [],
   "source": []
  },
  {
   "cell_type": "raw",
   "id": "d0e37f16",
   "metadata": {},
   "source": [
    "N = 5\n",
    "*\n",
    "**\n",
    "***\n",
    "****\n",
    "*****"
   ]
  },
  {
   "cell_type": "code",
   "execution_count": 46,
   "id": "54fcd54e",
   "metadata": {},
   "outputs": [
    {
     "name": "stdout",
     "output_type": "stream",
     "text": [
      "*\n",
      "**\n",
      "***\n",
      "****\n",
      "*****\n",
      "******\n",
      "*******\n",
      "********\n",
      "*********\n",
      "**********\n"
     ]
    }
   ],
   "source": [
    "n = 10\n",
    "\n",
    "for i in range(1,n+1): # outer loop which will go over each row\n",
    "    # Some code that will print stars\n",
    "    for j in range(i): # inner loop\n",
    "        print(\"*\",end=\"\")\n",
    "    print()"
   ]
  },
  {
   "cell_type": "code",
   "execution_count": 50,
   "id": "5b6cab78",
   "metadata": {},
   "outputs": [
    {
     "name": "stdout",
     "output_type": "stream",
     "text": [
      "*\n",
      "**\n",
      "***\n",
      "****\n",
      "*****"
     ]
    }
   ],
   "source": [
    "n = 5\n",
    "\n",
    "for row in range(1,n+1): # outer loop which will go over each row\n",
    "    # Some code that will print stars\n",
    "    for col in range(row): # inner loop\n",
    "        print(\"*\",end=\"\")\n",
    "    \n",
    "    if row!=n:\n",
    "        print()"
   ]
  },
  {
   "cell_type": "code",
   "execution_count": null,
   "id": "97c75236",
   "metadata": {},
   "outputs": [],
   "source": []
  },
  {
   "cell_type": "raw",
   "id": "fc5102a4",
   "metadata": {},
   "source": [
    "N = 5\n",
    "*****\n",
    "****\n",
    "***\n",
    "**\n",
    "*"
   ]
  },
  {
   "cell_type": "code",
   "execution_count": 51,
   "id": "19789767",
   "metadata": {},
   "outputs": [
    {
     "name": "stdout",
     "output_type": "stream",
     "text": [
      "*****\n",
      "****\n",
      "***\n",
      "**\n",
      "*\n"
     ]
    }
   ],
   "source": [
    "n = 5\n",
    "\n",
    "for i in range(1,n+1):\n",
    "    # Stars\n",
    "    # n + 1 - i\n",
    "    for j in range(n+1-i):\n",
    "        print(\"*\", end=\"\")\n",
    "    print()"
   ]
  },
  {
   "cell_type": "code",
   "execution_count": 57,
   "id": "412514f6",
   "metadata": {},
   "outputs": [
    {
     "name": "stdout",
     "output_type": "stream",
     "text": [
      "*****\n",
      "****\n",
      "***\n",
      "**\n",
      "*\n"
     ]
    }
   ],
   "source": [
    "for row in range(n,0,-1):\n",
    "    # inner loop for stars\n",
    "    for col in range(row,0,-1):\n",
    "        print(\"*\", end=\"\")\n",
    "    print()"
   ]
  },
  {
   "cell_type": "code",
   "execution_count": 55,
   "id": "74d21fe5",
   "metadata": {},
   "outputs": [
    {
     "name": "stdout",
     "output_type": "stream",
     "text": [
      "* * * * * \n",
      "* * * * * \n"
     ]
    }
   ],
   "source": [
    "for i in range(5): # 0 1 2 3 4 \n",
    "    print(\"*\", end=\" \")\n",
    "print()\n",
    "\n",
    "for i in range(5,0,-1): # 5 4 3 2 1\n",
    "    print(\"*\", end=\" \")\n",
    "print()"
   ]
  },
  {
   "cell_type": "code",
   "execution_count": null,
   "id": "20c56fa3",
   "metadata": {},
   "outputs": [],
   "source": []
  },
  {
   "cell_type": "raw",
   "id": "365a2073",
   "metadata": {},
   "source": [
    "N = 5\n",
    "\n",
    "----*\n",
    "---**\n",
    "--***\n",
    "-****\n",
    "*****"
   ]
  },
  {
   "cell_type": "code",
   "execution_count": null,
   "id": "75c29cbe",
   "metadata": {},
   "outputs": [],
   "source": []
  },
  {
   "cell_type": "code",
   "execution_count": 62,
   "id": "654996d6",
   "metadata": {},
   "outputs": [
    {
     "name": "stdout",
     "output_type": "stream",
     "text": [
      "       *\n",
      "      **\n",
      "     ***\n",
      "    ****\n",
      "   *****\n",
      "  ******\n",
      " *******\n",
      "********\n"
     ]
    }
   ],
   "source": [
    "n = 8\n",
    "for i in range(1,n+1):\n",
    "    # Spaces\n",
    "    for j in range(n-i):\n",
    "        print(\" \",end=\"\")\n",
    "    \n",
    "    # Stars\n",
    "    for j in range(i):\n",
    "        print(\"*\",end=\"\")\n",
    "    \n",
    "    print()\n",
    "    "
   ]
  },
  {
   "cell_type": "raw",
   "id": "7bda19f4",
   "metadata": {},
   "source": [
    "Pyramid Pattern\n",
    "N = 5\n",
    "\n",
    "----*\n",
    "---***\n",
    "--*****\n",
    "-*******\n",
    "*********"
   ]
  },
  {
   "cell_type": "code",
   "execution_count": null,
   "id": "9c673213",
   "metadata": {},
   "outputs": [],
   "source": []
  },
  {
   "cell_type": "code",
   "execution_count": 68,
   "id": "8a986e1e",
   "metadata": {},
   "outputs": [
    {
     "name": "stdout",
     "output_type": "stream",
     "text": [
      "    *\n",
      "   ***\n",
      "  *****\n",
      " *******\n",
      "*********\n"
     ]
    }
   ],
   "source": [
    "n = 5\n",
    "for row in range(1,n+1):\n",
    "    # Space\n",
    "    for col in range(n-row):\n",
    "        print(\" \",end=\"\")\n",
    "    \n",
    "    stars = 2*row - 1\n",
    "    # Stars\n",
    "    for col in range(stars):\n",
    "        print(\"*\",end=\"\")\n",
    "    \n",
    "    print()"
   ]
  },
  {
   "cell_type": "code",
   "execution_count": null,
   "id": "0af7b46a",
   "metadata": {},
   "outputs": [],
   "source": []
  },
  {
   "cell_type": "raw",
   "id": "dc178ccb",
   "metadata": {},
   "source": [
    "Given N = 5, print the following pattern\n",
    "\n",
    "********** // 0 spaces\n",
    "****__**** // 2 spaces\n",
    "***____*** // 4 spaces\n",
    "**______** // 6 spaces\n",
    "*________* // 8 spaces"
   ]
  },
  {
   "cell_type": "code",
   "execution_count": 71,
   "id": "87f05c61",
   "metadata": {},
   "outputs": [
    {
     "name": "stdout",
     "output_type": "stream",
     "text": [
      "********************\n",
      "*********  *********\n",
      "********    ********\n",
      "*******      *******\n",
      "******        ******\n",
      "*****          *****\n",
      "****            ****\n",
      "***              ***\n",
      "**                **\n",
      "*                  *\n"
     ]
    }
   ],
   "source": [
    "n = 10\n",
    "\n",
    "for i in range(1,n+1):\n",
    "    # Star1\n",
    "    for j in range(n-i+1):\n",
    "        print(\"*\",end=\"\")\n",
    "        \n",
    "    # Space\n",
    "    space = 2*i - 2\n",
    "    for j in range(space):\n",
    "        print(\" \",end=\"\")\n",
    "        \n",
    "    # Star2\n",
    "    for j in range(n-i+1):\n",
    "        print(\"*\",end=\"\")\n",
    "    \n",
    "    print()"
   ]
  },
  {
   "cell_type": "raw",
   "id": "8858595b",
   "metadata": {},
   "source": [
    "## HomeWork\n",
    "\n",
    "Given N = 5, print the following pattern\n",
    "\n",
    "*________* // 8 spaces\n",
    "**______** // 6 spaces\n",
    "***____*** // 4 spaces\n",
    "****__**** // 2 spaces\n",
    "********** // 0 spaces"
   ]
  },
  {
   "cell_type": "code",
   "execution_count": null,
   "id": "47e7a26d",
   "metadata": {},
   "outputs": [],
   "source": [
    "# For loop can be used for Fixed condition\n",
    "# While loop for dynamic conditions"
   ]
  },
  {
   "cell_type": "code",
   "execution_count": 75,
   "id": "9de4df07",
   "metadata": {},
   "outputs": [
    {
     "name": "stdout",
     "output_type": "stream",
     "text": [
      "Testing\n",
      "9\n"
     ]
    }
   ],
   "source": [
    "for a in range(10,12,-1):\n",
    "    if a%2==0:\n",
    "        continue\n",
    "else:\n",
    "    print(\"Testing\")\n",
    "print(a)"
   ]
  },
  {
   "cell_type": "code",
   "execution_count": 78,
   "id": "d4fe2de6",
   "metadata": {},
   "outputs": [
    {
     "name": "stdout",
     "output_type": "stream",
     "text": [
      "no\n"
     ]
    }
   ],
   "source": [
    "while False:\n",
    "    print (\"yes\")\n",
    "else:\n",
    "    print (\"no\")"
   ]
  },
  {
   "cell_type": "code",
   "execution_count": 80,
   "id": "c2acd128",
   "metadata": {},
   "outputs": [
    {
     "name": "stdout",
     "output_type": "stream",
     "text": [
      "2\n",
      "231\n",
      "Sum of number is 6\n",
      "345\n",
      "Sum of number is 12\n"
     ]
    }
   ],
   "source": [
    "t = int(input())\n",
    "\n",
    "while t>0:\n",
    "    # code for solution\n",
    "    n = int(input())\n",
    "    sum_of_num = 0\n",
    "    while n>0:\n",
    "        rem = n%10 # 453%10 = 3 | 45%10 -> 5\n",
    "        sum_of_num+=rem\n",
    "        n = n//10 # 453//10 -> 45 | 45//10 -> 4\n",
    "        \n",
    "    print(\"Sum of number is\", sum_of_num)\n",
    "    t-=1"
   ]
  },
  {
   "cell_type": "code",
   "execution_count": null,
   "id": "7b0f6cf0",
   "metadata": {},
   "outputs": [],
   "source": []
  }
 ],
 "metadata": {
  "kernelspec": {
   "display_name": "Python 3 (ipykernel)",
   "language": "python",
   "name": "python3"
  },
  "language_info": {
   "codemirror_mode": {
    "name": "ipython",
    "version": 3
   },
   "file_extension": ".py",
   "mimetype": "text/x-python",
   "name": "python",
   "nbconvert_exporter": "python",
   "pygments_lexer": "ipython3",
   "version": "3.8.13"
  }
 },
 "nbformat": 4,
 "nbformat_minor": 5
}
