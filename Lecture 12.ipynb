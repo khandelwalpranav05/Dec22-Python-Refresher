{
 "cells": [
  {
   "cell_type": "code",
   "execution_count": 16,
   "id": "0efd360a",
   "metadata": {},
   "outputs": [],
   "source": [
    "val = {\"Sanjith\", \"Pranav\", \"Sahil\", \"Amrit\", \"Krishan\", \n",
    "       \"Cornel\", \"Gowtham\", \"Vini\"}"
   ]
  },
  {
   "cell_type": "code",
   "execution_count": 17,
   "id": "ba9b1bec",
   "metadata": {},
   "outputs": [
    {
     "name": "stdout",
     "output_type": "stream",
     "text": [
      "<class 'set'>\n"
     ]
    }
   ],
   "source": [
    "print(type(val))"
   ]
  },
  {
   "cell_type": "code",
   "execution_count": 18,
   "id": "a4613205",
   "metadata": {},
   "outputs": [
    {
     "ename": "TypeError",
     "evalue": "'set' object is not subscriptable",
     "output_type": "error",
     "traceback": [
      "\u001b[0;31m---------------------------------------------------------------------------\u001b[0m",
      "\u001b[0;31mTypeError\u001b[0m                                 Traceback (most recent call last)",
      "Input \u001b[0;32mIn [18]\u001b[0m, in \u001b[0;36m<cell line: 1>\u001b[0;34m()\u001b[0m\n\u001b[0;32m----> 1\u001b[0m \u001b[43mval\u001b[49m\u001b[43m[\u001b[49m\u001b[38;5;241;43m0\u001b[39;49m\u001b[43m]\u001b[49m\n",
      "\u001b[0;31mTypeError\u001b[0m: 'set' object is not subscriptable"
     ]
    }
   ],
   "source": [
    "val[0]"
   ]
  },
  {
   "cell_type": "code",
   "execution_count": 19,
   "id": "c02431a7",
   "metadata": {},
   "outputs": [],
   "source": [
    "val = {211,16789,34569,3444,9871}"
   ]
  },
  {
   "cell_type": "code",
   "execution_count": 20,
   "id": "a6606abb",
   "metadata": {},
   "outputs": [
    {
     "data": {
      "text/plain": [
       "set"
      ]
     },
     "execution_count": 20,
     "metadata": {},
     "output_type": "execute_result"
    }
   ],
   "source": [
    "type(val)"
   ]
  },
  {
   "cell_type": "code",
   "execution_count": 21,
   "id": "e6b89878",
   "metadata": {},
   "outputs": [
    {
     "name": "stdout",
     "output_type": "stream",
     "text": [
      "{34569, 9871, 211, 3444, 16789}\n"
     ]
    }
   ],
   "source": [
    "print(val)"
   ]
  },
  {
   "cell_type": "code",
   "execution_count": 22,
   "id": "0e633f63",
   "metadata": {},
   "outputs": [
    {
     "name": "stdout",
     "output_type": "stream",
     "text": [
      "{34569, 9871, 211, 3444, 16789}\n"
     ]
    }
   ],
   "source": [
    "print(val)"
   ]
  },
  {
   "cell_type": "code",
   "execution_count": 23,
   "id": "3ec8ae34",
   "metadata": {},
   "outputs": [],
   "source": [
    "val = {1,23,\"Pranav\",456}"
   ]
  },
  {
   "cell_type": "code",
   "execution_count": 24,
   "id": "c5945a31",
   "metadata": {},
   "outputs": [
    {
     "data": {
      "text/plain": [
       "{1, 23, 456, 'Pranav'}"
      ]
     },
     "execution_count": 24,
     "metadata": {},
     "output_type": "execute_result"
    }
   ],
   "source": [
    "val"
   ]
  },
  {
   "cell_type": "code",
   "execution_count": null,
   "id": "e65008ad",
   "metadata": {},
   "outputs": [],
   "source": []
  },
  {
   "cell_type": "code",
   "execution_count": 25,
   "id": "19539fe6",
   "metadata": {},
   "outputs": [],
   "source": [
    "# Add"
   ]
  },
  {
   "cell_type": "code",
   "execution_count": 26,
   "id": "87ffcc3e",
   "metadata": {},
   "outputs": [],
   "source": [
    "val = {211,16789,34569,3444,9871}"
   ]
  },
  {
   "cell_type": "code",
   "execution_count": 31,
   "id": "ccd5cf5c",
   "metadata": {},
   "outputs": [
    {
     "data": {
      "text/plain": [
       "{211, 3444, 9871, 16789, 34569}"
      ]
     },
     "execution_count": 31,
     "metadata": {},
     "output_type": "execute_result"
    }
   ],
   "source": [
    "val"
   ]
  },
  {
   "cell_type": "code",
   "execution_count": 32,
   "id": "211fd1bf",
   "metadata": {},
   "outputs": [
    {
     "ename": "AttributeError",
     "evalue": "'set' object has no attribute 'append'",
     "output_type": "error",
     "traceback": [
      "\u001b[0;31m---------------------------------------------------------------------------\u001b[0m",
      "\u001b[0;31mAttributeError\u001b[0m                            Traceback (most recent call last)",
      "Input \u001b[0;32mIn [32]\u001b[0m, in \u001b[0;36m<cell line: 1>\u001b[0;34m()\u001b[0m\n\u001b[0;32m----> 1\u001b[0m \u001b[43mval\u001b[49m\u001b[38;5;241;43m.\u001b[39;49m\u001b[43mappend\u001b[49m(\u001b[38;5;241m8790\u001b[39m)\n",
      "\u001b[0;31mAttributeError\u001b[0m: 'set' object has no attribute 'append'"
     ]
    }
   ],
   "source": [
    "val.append(8790)"
   ]
  },
  {
   "cell_type": "code",
   "execution_count": 33,
   "id": "64ed96b9",
   "metadata": {},
   "outputs": [],
   "source": [
    "val.add(8790)"
   ]
  },
  {
   "cell_type": "code",
   "execution_count": 34,
   "id": "524f5ef4",
   "metadata": {},
   "outputs": [
    {
     "data": {
      "text/plain": [
       "{211, 3444, 8790, 9871, 16789, 34569}"
      ]
     },
     "execution_count": 34,
     "metadata": {},
     "output_type": "execute_result"
    }
   ],
   "source": [
    "val"
   ]
  },
  {
   "cell_type": "code",
   "execution_count": 35,
   "id": "b7fc9d71",
   "metadata": {},
   "outputs": [],
   "source": [
    "val.add(211)"
   ]
  },
  {
   "cell_type": "code",
   "execution_count": 36,
   "id": "86fd0b39",
   "metadata": {},
   "outputs": [
    {
     "data": {
      "text/plain": [
       "{211, 3444, 8790, 9871, 16789, 34569}"
      ]
     },
     "execution_count": 36,
     "metadata": {},
     "output_type": "execute_result"
    }
   ],
   "source": [
    "val"
   ]
  },
  {
   "cell_type": "code",
   "execution_count": 37,
   "id": "61341370",
   "metadata": {},
   "outputs": [
    {
     "data": {
      "text/plain": [
       "True"
      ]
     },
     "execution_count": 37,
     "metadata": {},
     "output_type": "execute_result"
    }
   ],
   "source": [
    "211 in val"
   ]
  },
  {
   "cell_type": "code",
   "execution_count": 38,
   "id": "9947769f",
   "metadata": {},
   "outputs": [
    {
     "data": {
      "text/plain": [
       "False"
      ]
     },
     "execution_count": 38,
     "metadata": {},
     "output_type": "execute_result"
    }
   ],
   "source": [
    "7367634 in val"
   ]
  },
  {
   "cell_type": "code",
   "execution_count": 39,
   "id": "e3b8dea0",
   "metadata": {},
   "outputs": [
    {
     "name": "stdout",
     "output_type": "stream",
     "text": [
      "True\n",
      "True\n"
     ]
    }
   ],
   "source": [
    "l = [1,2,3,4] # Linear search\n",
    "print(2 in l)\n",
    "s = {4,3,2,1}\n",
    "print(2 in s) # this is much faster than list | NOT A BINARY SEARCH"
   ]
  },
  {
   "cell_type": "code",
   "execution_count": 40,
   "id": "41253929",
   "metadata": {},
   "outputs": [],
   "source": [
    "# Set to LIST "
   ]
  },
  {
   "cell_type": "code",
   "execution_count": 42,
   "id": "402118fa",
   "metadata": {},
   "outputs": [],
   "source": [
    "l = [3,5,6,7,3,2,2,7]"
   ]
  },
  {
   "cell_type": "code",
   "execution_count": 43,
   "id": "4ecde897",
   "metadata": {},
   "outputs": [],
   "source": [
    "s = set(l)"
   ]
  },
  {
   "cell_type": "code",
   "execution_count": 44,
   "id": "76eee993",
   "metadata": {},
   "outputs": [
    {
     "data": {
      "text/plain": [
       "{2, 3, 5, 6, 7}"
      ]
     },
     "execution_count": 44,
     "metadata": {},
     "output_type": "execute_result"
    }
   ],
   "source": [
    "s"
   ]
  },
  {
   "cell_type": "code",
   "execution_count": 45,
   "id": "88355a5e",
   "metadata": {},
   "outputs": [
    {
     "data": {
      "text/plain": [
       "5"
      ]
     },
     "execution_count": 45,
     "metadata": {},
     "output_type": "execute_result"
    }
   ],
   "source": [
    "len(s)"
   ]
  },
  {
   "cell_type": "code",
   "execution_count": 46,
   "id": "5aafbc2d",
   "metadata": {},
   "outputs": [],
   "source": [
    "l = list(s)"
   ]
  },
  {
   "cell_type": "code",
   "execution_count": 47,
   "id": "b1838254",
   "metadata": {},
   "outputs": [
    {
     "data": {
      "text/plain": [
       "[2, 3, 5, 6, 7]"
      ]
     },
     "execution_count": 47,
     "metadata": {},
     "output_type": "execute_result"
    }
   ],
   "source": [
    "l"
   ]
  },
  {
   "cell_type": "code",
   "execution_count": 48,
   "id": "e95467ac",
   "metadata": {},
   "outputs": [],
   "source": [
    "val = [1,2,3,4,\"2\"]"
   ]
  },
  {
   "cell_type": "code",
   "execution_count": 49,
   "id": "344d5756",
   "metadata": {},
   "outputs": [],
   "source": [
    "s = set(val)"
   ]
  },
  {
   "cell_type": "code",
   "execution_count": 50,
   "id": "d68d5b20",
   "metadata": {},
   "outputs": [
    {
     "data": {
      "text/plain": [
       "{1, 2, '2', 3, 4}"
      ]
     },
     "execution_count": 50,
     "metadata": {},
     "output_type": "execute_result"
    }
   ],
   "source": [
    "s"
   ]
  },
  {
   "cell_type": "code",
   "execution_count": 52,
   "id": "33d8b587",
   "metadata": {},
   "outputs": [],
   "source": [
    "val = [2,3,4,4,5,3,'pranav',7,'pranav',7] \n",
    "s = set(val)"
   ]
  },
  {
   "cell_type": "code",
   "execution_count": 54,
   "id": "0d552a18",
   "metadata": {},
   "outputs": [
    {
     "data": {
      "text/plain": [
       "{2, 3, 4, 5, 7, 'pranav'}"
      ]
     },
     "execution_count": 54,
     "metadata": {},
     "output_type": "execute_result"
    }
   ],
   "source": [
    "s"
   ]
  },
  {
   "cell_type": "code",
   "execution_count": 55,
   "id": "801bdfa6",
   "metadata": {},
   "outputs": [],
   "source": [
    "# get the data from set"
   ]
  },
  {
   "cell_type": "code",
   "execution_count": 56,
   "id": "2bbeadbe",
   "metadata": {},
   "outputs": [],
   "source": [
    "# Challenge\n",
    "# Count the no of unique words in the sentence:"
   ]
  },
  {
   "cell_type": "code",
   "execution_count": 57,
   "id": "7a7db6c7",
   "metadata": {},
   "outputs": [],
   "source": [
    "sentence = \"be the change you wish to see in the world\""
   ]
  },
  {
   "cell_type": "code",
   "execution_count": 58,
   "id": "4b584def",
   "metadata": {},
   "outputs": [],
   "source": [
    "words = sentence.split()"
   ]
  },
  {
   "cell_type": "code",
   "execution_count": 59,
   "id": "11eb6416",
   "metadata": {},
   "outputs": [
    {
     "data": {
      "text/plain": [
       "['be', 'the', 'change', 'you', 'wish', 'to', 'see', 'in', 'the', 'world']"
      ]
     },
     "execution_count": 59,
     "metadata": {},
     "output_type": "execute_result"
    }
   ],
   "source": [
    "words"
   ]
  },
  {
   "cell_type": "code",
   "execution_count": 60,
   "id": "5b671211",
   "metadata": {},
   "outputs": [],
   "source": [
    "word_set = set(words)"
   ]
  },
  {
   "cell_type": "code",
   "execution_count": 61,
   "id": "360254e6",
   "metadata": {},
   "outputs": [
    {
     "data": {
      "text/plain": [
       "{'be', 'change', 'in', 'see', 'the', 'to', 'wish', 'world', 'you'}"
      ]
     },
     "execution_count": 61,
     "metadata": {},
     "output_type": "execute_result"
    }
   ],
   "source": [
    "word_set"
   ]
  },
  {
   "cell_type": "code",
   "execution_count": 62,
   "id": "e639f209",
   "metadata": {},
   "outputs": [
    {
     "data": {
      "text/plain": [
       "9"
      ]
     },
     "execution_count": 62,
     "metadata": {},
     "output_type": "execute_result"
    }
   ],
   "source": [
    "len(word_set)"
   ]
  },
  {
   "cell_type": "code",
   "execution_count": 63,
   "id": "44b11af6",
   "metadata": {},
   "outputs": [],
   "source": [
    "# Empty Set"
   ]
  },
  {
   "cell_type": "code",
   "execution_count": 64,
   "id": "7190a116",
   "metadata": {},
   "outputs": [],
   "source": [
    "s = set()"
   ]
  },
  {
   "cell_type": "code",
   "execution_count": 65,
   "id": "ace93b4c",
   "metadata": {},
   "outputs": [
    {
     "data": {
      "text/plain": [
       "set()"
      ]
     },
     "execution_count": 65,
     "metadata": {},
     "output_type": "execute_result"
    }
   ],
   "source": [
    "s"
   ]
  },
  {
   "cell_type": "code",
   "execution_count": 66,
   "id": "37daed00",
   "metadata": {},
   "outputs": [],
   "source": [
    "t = {} # This is not an empty set"
   ]
  },
  {
   "cell_type": "code",
   "execution_count": 67,
   "id": "25157e37",
   "metadata": {},
   "outputs": [],
   "source": [
    "s = set([2,2,3,3,4,4])"
   ]
  },
  {
   "cell_type": "code",
   "execution_count": 68,
   "id": "49604391",
   "metadata": {},
   "outputs": [
    {
     "data": {
      "text/plain": [
       "{2, 3, 4}"
      ]
     },
     "execution_count": 68,
     "metadata": {},
     "output_type": "execute_result"
    }
   ],
   "source": [
    "s"
   ]
  },
  {
   "cell_type": "code",
   "execution_count": 69,
   "id": "a8fee605",
   "metadata": {},
   "outputs": [],
   "source": [
    "s = set(\"Hello World\")"
   ]
  },
  {
   "cell_type": "code",
   "execution_count": 70,
   "id": "dccf16cd",
   "metadata": {},
   "outputs": [
    {
     "data": {
      "text/plain": [
       "{' ', 'H', 'W', 'd', 'e', 'l', 'o', 'r'}"
      ]
     },
     "execution_count": 70,
     "metadata": {},
     "output_type": "execute_result"
    }
   ],
   "source": [
    "s"
   ]
  },
  {
   "cell_type": "code",
   "execution_count": 71,
   "id": "c6d0e262",
   "metadata": {},
   "outputs": [],
   "source": [
    "# Update"
   ]
  },
  {
   "cell_type": "code",
   "execution_count": 72,
   "id": "569335a0",
   "metadata": {},
   "outputs": [],
   "source": [
    "tour_bag = {\"Blanket\", \"Clothes\", \"Torch\", \"Power Bank\", \"First Aid Kit\"}"
   ]
  },
  {
   "cell_type": "code",
   "execution_count": 73,
   "id": "6569926e",
   "metadata": {},
   "outputs": [
    {
     "data": {
      "text/plain": [
       "{'Blanket', 'Clothes', 'First Aid Kit', 'Power Bank', 'Torch'}"
      ]
     },
     "execution_count": 73,
     "metadata": {},
     "output_type": "execute_result"
    }
   ],
   "source": [
    "tour_bag"
   ]
  },
  {
   "cell_type": "code",
   "execution_count": 74,
   "id": "bfb54b1b",
   "metadata": {},
   "outputs": [],
   "source": [
    "utilities_kit = ['soap', 'face wash', 'brush', 'perfume', 'hair oil',\n",
    "             'comb', 'shaver', 'tooth paste', 'sunscreen']"
   ]
  },
  {
   "cell_type": "code",
   "execution_count": 75,
   "id": "3de57b07",
   "metadata": {},
   "outputs": [],
   "source": [
    "tour_bag.update(utilities_kit)"
   ]
  },
  {
   "cell_type": "code",
   "execution_count": 76,
   "id": "61517421",
   "metadata": {},
   "outputs": [
    {
     "data": {
      "text/plain": [
       "{'Blanket',\n",
       " 'Clothes',\n",
       " 'First Aid Kit',\n",
       " 'Power Bank',\n",
       " 'Torch',\n",
       " 'brush',\n",
       " 'comb',\n",
       " 'face wash',\n",
       " 'hair oil',\n",
       " 'perfume',\n",
       " 'shaver',\n",
       " 'soap',\n",
       " 'sunscreen',\n",
       " 'tooth paste'}"
      ]
     },
     "execution_count": 76,
     "metadata": {},
     "output_type": "execute_result"
    }
   ],
   "source": [
    "tour_bag"
   ]
  },
  {
   "cell_type": "code",
   "execution_count": null,
   "id": "ebbf5c6a",
   "metadata": {},
   "outputs": [],
   "source": [
    "# set.update(iterable) "
   ]
  },
  {
   "cell_type": "code",
   "execution_count": 78,
   "id": "23acb37d",
   "metadata": {},
   "outputs": [],
   "source": [
    "val = {1,2,3}"
   ]
  },
  {
   "cell_type": "code",
   "execution_count": 79,
   "id": "39ed6672",
   "metadata": {},
   "outputs": [],
   "source": [
    "val.update(\"abc\")"
   ]
  },
  {
   "cell_type": "code",
   "execution_count": 80,
   "id": "e7f47c43",
   "metadata": {},
   "outputs": [
    {
     "data": {
      "text/plain": [
       "{1, 2, 3, 'a', 'b', 'c'}"
      ]
     },
     "execution_count": 80,
     "metadata": {},
     "output_type": "execute_result"
    }
   ],
   "source": [
    "val"
   ]
  },
  {
   "cell_type": "code",
   "execution_count": 82,
   "id": "cfc5d0d1",
   "metadata": {},
   "outputs": [],
   "source": [
    "# Remove"
   ]
  },
  {
   "cell_type": "code",
   "execution_count": 84,
   "id": "140f008d",
   "metadata": {},
   "outputs": [
    {
     "data": {
      "text/plain": [
       "2"
      ]
     },
     "execution_count": 84,
     "metadata": {},
     "output_type": "execute_result"
    }
   ],
   "source": [
    "val.pop() # gives random data value"
   ]
  },
  {
   "cell_type": "code",
   "execution_count": 85,
   "id": "f427d55b",
   "metadata": {},
   "outputs": [
    {
     "data": {
      "text/plain": [
       "{3, 'a', 'b', 'c'}"
      ]
     },
     "execution_count": 85,
     "metadata": {},
     "output_type": "execute_result"
    }
   ],
   "source": [
    "val"
   ]
  },
  {
   "cell_type": "code",
   "execution_count": 86,
   "id": "c46eae17",
   "metadata": {},
   "outputs": [],
   "source": [
    "val.remove(\"b\")"
   ]
  },
  {
   "cell_type": "code",
   "execution_count": 87,
   "id": "4c101772",
   "metadata": {},
   "outputs": [
    {
     "data": {
      "text/plain": [
       "{3, 'a', 'c'}"
      ]
     },
     "execution_count": 87,
     "metadata": {},
     "output_type": "execute_result"
    }
   ],
   "source": [
    "val"
   ]
  },
  {
   "cell_type": "code",
   "execution_count": 88,
   "id": "7ac6897a",
   "metadata": {},
   "outputs": [],
   "source": [
    "val.remove(3)"
   ]
  },
  {
   "cell_type": "code",
   "execution_count": 89,
   "id": "0f6780e6",
   "metadata": {},
   "outputs": [
    {
     "data": {
      "text/plain": [
       "{'a', 'c'}"
      ]
     },
     "execution_count": 89,
     "metadata": {},
     "output_type": "execute_result"
    }
   ],
   "source": [
    "val"
   ]
  },
  {
   "cell_type": "code",
   "execution_count": 90,
   "id": "f0ea5b10",
   "metadata": {},
   "outputs": [
    {
     "ename": "KeyError",
     "evalue": "'b'",
     "output_type": "error",
     "traceback": [
      "\u001b[0;31m---------------------------------------------------------------------------\u001b[0m",
      "\u001b[0;31mKeyError\u001b[0m                                  Traceback (most recent call last)",
      "Input \u001b[0;32mIn [90]\u001b[0m, in \u001b[0;36m<cell line: 1>\u001b[0;34m()\u001b[0m\n\u001b[0;32m----> 1\u001b[0m \u001b[43mval\u001b[49m\u001b[38;5;241;43m.\u001b[39;49m\u001b[43mremove\u001b[49m\u001b[43m(\u001b[49m\u001b[38;5;124;43m'\u001b[39;49m\u001b[38;5;124;43mb\u001b[39;49m\u001b[38;5;124;43m'\u001b[39;49m\u001b[43m)\u001b[49m\n",
      "\u001b[0;31mKeyError\u001b[0m: 'b'"
     ]
    }
   ],
   "source": [
    "val.remove('b')"
   ]
  },
  {
   "cell_type": "code",
   "execution_count": 92,
   "id": "c678353b",
   "metadata": {},
   "outputs": [],
   "source": [
    "java = {\"Pranav\", \"Sahil\", \"Ankit\", \"Raviteja\", \"Sanjith\", \"Divya\"}\n",
    "cpp = {\"Sahil\",\"Greeshma\", \"Vivek\", \"Pranav\"}"
   ]
  },
  {
   "cell_type": "code",
   "execution_count": 93,
   "id": "58041249",
   "metadata": {},
   "outputs": [
    {
     "data": {
      "text/plain": [
       "{'Pranav', 'Sahil'}"
      ]
     },
     "execution_count": 93,
     "metadata": {},
     "output_type": "execute_result"
    }
   ],
   "source": [
    "java.intersection(cpp)"
   ]
  },
  {
   "cell_type": "code",
   "execution_count": 94,
   "id": "159db2e1",
   "metadata": {},
   "outputs": [
    {
     "data": {
      "text/plain": [
       "{'Ankit', 'Divya', 'Pranav', 'Raviteja', 'Sahil', 'Sanjith'}"
      ]
     },
     "execution_count": 94,
     "metadata": {},
     "output_type": "execute_result"
    }
   ],
   "source": [
    "java"
   ]
  },
  {
   "cell_type": "code",
   "execution_count": 95,
   "id": "78bffaa9",
   "metadata": {},
   "outputs": [
    {
     "data": {
      "text/plain": [
       "{'Greeshma', 'Pranav', 'Sahil', 'Vivek'}"
      ]
     },
     "execution_count": 95,
     "metadata": {},
     "output_type": "execute_result"
    }
   ],
   "source": [
    "cpp"
   ]
  },
  {
   "cell_type": "code",
   "execution_count": 96,
   "id": "c9bfd699",
   "metadata": {},
   "outputs": [
    {
     "data": {
      "text/plain": [
       "{'Pranav', 'Sahil'}"
      ]
     },
     "execution_count": 96,
     "metadata": {},
     "output_type": "execute_result"
    }
   ],
   "source": [
    "cpp.intersection(java)"
   ]
  },
  {
   "cell_type": "code",
   "execution_count": 97,
   "id": "cbf8d710",
   "metadata": {},
   "outputs": [],
   "source": [
    "# union"
   ]
  },
  {
   "cell_type": "code",
   "execution_count": 98,
   "id": "729d0efb",
   "metadata": {},
   "outputs": [
    {
     "data": {
      "text/plain": [
       "{'Ankit',\n",
       " 'Divya',\n",
       " 'Greeshma',\n",
       " 'Pranav',\n",
       " 'Raviteja',\n",
       " 'Sahil',\n",
       " 'Sanjith',\n",
       " 'Vivek'}"
      ]
     },
     "execution_count": 98,
     "metadata": {},
     "output_type": "execute_result"
    }
   ],
   "source": [
    "java.union(cpp)"
   ]
  },
  {
   "cell_type": "code",
   "execution_count": 99,
   "id": "7ba4e7e8",
   "metadata": {},
   "outputs": [],
   "source": [
    "java.update(cpp)"
   ]
  },
  {
   "cell_type": "code",
   "execution_count": 100,
   "id": "5c755311",
   "metadata": {},
   "outputs": [
    {
     "data": {
      "text/plain": [
       "{'Ankit',\n",
       " 'Divya',\n",
       " 'Greeshma',\n",
       " 'Pranav',\n",
       " 'Raviteja',\n",
       " 'Sahil',\n",
       " 'Sanjith',\n",
       " 'Vivek'}"
      ]
     },
     "execution_count": 100,
     "metadata": {},
     "output_type": "execute_result"
    }
   ],
   "source": [
    "java"
   ]
  },
  {
   "cell_type": "code",
   "execution_count": 101,
   "id": "e95ce630",
   "metadata": {},
   "outputs": [],
   "source": [
    "# Quiz 1\n",
    "s = {\"be\", \"the\", \"change\", \"you\", \"wish\", \"to\", \"see\", \"in\", \"the\", \"world\"}"
   ]
  },
  {
   "cell_type": "code",
   "execution_count": 102,
   "id": "22a6f7eb",
   "metadata": {},
   "outputs": [
    {
     "data": {
      "text/plain": [
       "{'be', 'change', 'in', 'see', 'the', 'to', 'wish', 'world', 'you'}"
      ]
     },
     "execution_count": 102,
     "metadata": {},
     "output_type": "execute_result"
    }
   ],
   "source": [
    "s"
   ]
  },
  {
   "cell_type": "code",
   "execution_count": 103,
   "id": "2d36c5e1",
   "metadata": {},
   "outputs": [
    {
     "data": {
      "text/plain": [
       "True"
      ]
     },
     "execution_count": 103,
     "metadata": {},
     "output_type": "execute_result"
    }
   ],
   "source": [
    "\"wish\" in s # True"
   ]
  },
  {
   "cell_type": "code",
   "execution_count": 104,
   "id": "ec93478f",
   "metadata": {
    "scrolled": true
   },
   "outputs": [
    {
     "ename": "AttributeError",
     "evalue": "'set' object has no attribute 'append'",
     "output_type": "error",
     "traceback": [
      "\u001b[0;31m---------------------------------------------------------------------------\u001b[0m",
      "\u001b[0;31mAttributeError\u001b[0m                            Traceback (most recent call last)",
      "Input \u001b[0;32mIn [104]\u001b[0m, in \u001b[0;36m<cell line: 3>\u001b[0;34m()\u001b[0m\n\u001b[1;32m      1\u001b[0m \u001b[38;5;66;03m# Quiz 2\u001b[39;00m\n\u001b[1;32m      2\u001b[0m s \u001b[38;5;241m=\u001b[39m \u001b[38;5;28mset\u001b[39m()\n\u001b[0;32m----> 3\u001b[0m \u001b[43ms\u001b[49m\u001b[38;5;241;43m.\u001b[39;49m\u001b[43mappend\u001b[49m(\u001b[38;5;241m5\u001b[39m)\n",
      "\u001b[0;31mAttributeError\u001b[0m: 'set' object has no attribute 'append'"
     ]
    }
   ],
   "source": [
    "# Quiz 2\n",
    "s = set()\n",
    "s.append(5)"
   ]
  },
  {
   "cell_type": "code",
   "execution_count": 105,
   "id": "3f8887b7",
   "metadata": {},
   "outputs": [
    {
     "name": "stdout",
     "output_type": "stream",
     "text": [
      "{1, 2, 3, 4, 5}\n",
      "{3}\n"
     ]
    }
   ],
   "source": [
    "# Quiz 3\n",
    "a = {1,2,3}\n",
    "b = {3,4,5}\n",
    "print(a.union(b)) # {1,2,3} + {3,4,5} - {3}\n",
    "print(a.intersection(b)) # {3}"
   ]
  },
  {
   "cell_type": "code",
   "execution_count": 106,
   "id": "83232b2d",
   "metadata": {},
   "outputs": [
    {
     "name": "stdout",
     "output_type": "stream",
     "text": [
      "Hello\n"
     ]
    }
   ],
   "source": [
    "# Quiz 4\n",
    "a = \"Hello\"\n",
    "b = a\n",
    "a = \"Yello\"\n",
    "print(b)"
   ]
  },
  {
   "cell_type": "code",
   "execution_count": 107,
   "id": "e5983f63",
   "metadata": {},
   "outputs": [],
   "source": [
    "#Iteration"
   ]
  },
  {
   "cell_type": "code",
   "execution_count": 111,
   "id": "98f87535",
   "metadata": {},
   "outputs": [],
   "source": [
    "val = {1,335,769,10,15}"
   ]
  },
  {
   "cell_type": "code",
   "execution_count": 113,
   "id": "9df51a5a",
   "metadata": {},
   "outputs": [
    {
     "name": "stdout",
     "output_type": "stream",
     "text": [
      "1 769 10 15 335 "
     ]
    }
   ],
   "source": [
    "for i in val: # Value loop\n",
    "    print(i,end= \" \")"
   ]
  },
  {
   "cell_type": "code",
   "execution_count": null,
   "id": "592925e3",
   "metadata": {},
   "outputs": [],
   "source": [
    "val.pop()"
   ]
  },
  {
   "cell_type": "code",
   "execution_count": null,
   "id": "edf0bdec",
   "metadata": {},
   "outputs": [],
   "source": []
  },
  {
   "cell_type": "code",
   "execution_count": 114,
   "id": "3e29c642",
   "metadata": {},
   "outputs": [],
   "source": [
    "# Dict"
   ]
  },
  {
   "cell_type": "code",
   "execution_count": 115,
   "id": "af095719",
   "metadata": {},
   "outputs": [],
   "source": [
    "food = [\"Apple\", \"Orange\", \"Sandwich\", \"xyz\"]\n",
    "price = [120,200,300,123]"
   ]
  },
  {
   "cell_type": "code",
   "execution_count": 116,
   "id": "1ea4c479",
   "metadata": {},
   "outputs": [],
   "source": [
    "items = [(\"Apple\",120), (\"Orange\",200), (\"Sandwich\",300)]"
   ]
  },
  {
   "cell_type": "code",
   "execution_count": 117,
   "id": "26925644",
   "metadata": {},
   "outputs": [],
   "source": [
    "fruits = {\"Apple\": 120, \"Mango\": 200, \"Banana\": 60,\n",
    "          \"Papaya\": 50, \"Kiwi\": 400, \"Lichi\": 60,\n",
    "          \"Watermelon\": 80, \"Guava\": 100\n",
    "         }"
   ]
  },
  {
   "cell_type": "code",
   "execution_count": 118,
   "id": "37eb8537",
   "metadata": {},
   "outputs": [
    {
     "data": {
      "text/plain": [
       "{'Apple': 120,\n",
       " 'Mango': 200,\n",
       " 'Banana': 60,\n",
       " 'Papaya': 50,\n",
       " 'Kiwi': 400,\n",
       " 'Lichi': 60,\n",
       " 'Watermelon': 80,\n",
       " 'Guava': 100}"
      ]
     },
     "execution_count": 118,
     "metadata": {},
     "output_type": "execute_result"
    }
   ],
   "source": [
    "fruits"
   ]
  },
  {
   "cell_type": "code",
   "execution_count": 120,
   "id": "9a3010c1",
   "metadata": {},
   "outputs": [
    {
     "data": {
      "text/plain": [
       "200"
      ]
     },
     "execution_count": 120,
     "metadata": {},
     "output_type": "execute_result"
    }
   ],
   "source": [
    "fruits[\"Mango\"]"
   ]
  },
  {
   "cell_type": "code",
   "execution_count": 121,
   "id": "62a1eacc",
   "metadata": {},
   "outputs": [
    {
     "data": {
      "text/plain": [
       "80"
      ]
     },
     "execution_count": 121,
     "metadata": {},
     "output_type": "execute_result"
    }
   ],
   "source": [
    "fruits[\"Watermelon\"]"
   ]
  },
  {
   "cell_type": "code",
   "execution_count": 122,
   "id": "764a307f",
   "metadata": {},
   "outputs": [
    {
     "ename": "KeyError",
     "evalue": "'Paratha'",
     "output_type": "error",
     "traceback": [
      "\u001b[0;31m---------------------------------------------------------------------------\u001b[0m",
      "\u001b[0;31mKeyError\u001b[0m                                  Traceback (most recent call last)",
      "Input \u001b[0;32mIn [122]\u001b[0m, in \u001b[0;36m<cell line: 1>\u001b[0;34m()\u001b[0m\n\u001b[0;32m----> 1\u001b[0m \u001b[43mfruits\u001b[49m\u001b[43m[\u001b[49m\u001b[38;5;124;43m\"\u001b[39;49m\u001b[38;5;124;43mParatha\u001b[39;49m\u001b[38;5;124;43m\"\u001b[39;49m\u001b[43m]\u001b[49m\n",
      "\u001b[0;31mKeyError\u001b[0m: 'Paratha'"
     ]
    }
   ],
   "source": [
    "fruits[\"Paratha\"]"
   ]
  },
  {
   "cell_type": "code",
   "execution_count": 123,
   "id": "93ab0313",
   "metadata": {},
   "outputs": [
    {
     "ename": "KeyError",
     "evalue": "0",
     "output_type": "error",
     "traceback": [
      "\u001b[0;31m---------------------------------------------------------------------------\u001b[0m",
      "\u001b[0;31mKeyError\u001b[0m                                  Traceback (most recent call last)",
      "Input \u001b[0;32mIn [123]\u001b[0m, in \u001b[0;36m<cell line: 1>\u001b[0;34m()\u001b[0m\n\u001b[0;32m----> 1\u001b[0m \u001b[43mfruits\u001b[49m\u001b[43m[\u001b[49m\u001b[38;5;241;43m0\u001b[39;49m\u001b[43m]\u001b[49m\n",
      "\u001b[0;31mKeyError\u001b[0m: 0"
     ]
    }
   ],
   "source": [
    "fruits[0]"
   ]
  },
  {
   "cell_type": "code",
   "execution_count": 126,
   "id": "db7f7da2",
   "metadata": {},
   "outputs": [],
   "source": [
    "d = {1:2,\"a\":45,11:47}"
   ]
  },
  {
   "cell_type": "code",
   "execution_count": 127,
   "id": "5d975e58",
   "metadata": {},
   "outputs": [
    {
     "data": {
      "text/plain": [
       "{1: 2, 'a': 45, 11: 47}"
      ]
     },
     "execution_count": 127,
     "metadata": {},
     "output_type": "execute_result"
    }
   ],
   "source": [
    "d"
   ]
  },
  {
   "cell_type": "code",
   "execution_count": 128,
   "id": "1b82bbe4",
   "metadata": {},
   "outputs": [
    {
     "data": {
      "text/plain": [
       "{'Apple': 120,\n",
       " 'Mango': 200,\n",
       " 'Banana': 60,\n",
       " 'Papaya': 50,\n",
       " 'Kiwi': 400,\n",
       " 'Lichi': 60,\n",
       " 'Watermelon': 80,\n",
       " 'Guava': 100}"
      ]
     },
     "execution_count": 128,
     "metadata": {},
     "output_type": "execute_result"
    }
   ],
   "source": [
    "fruits"
   ]
  },
  {
   "cell_type": "code",
   "execution_count": 129,
   "id": "51001327",
   "metadata": {},
   "outputs": [],
   "source": [
    "fruits[\"Apple\"] = 150"
   ]
  },
  {
   "cell_type": "code",
   "execution_count": 130,
   "id": "8efd096a",
   "metadata": {},
   "outputs": [
    {
     "data": {
      "text/plain": [
       "{'Apple': 150,\n",
       " 'Mango': 200,\n",
       " 'Banana': 60,\n",
       " 'Papaya': 50,\n",
       " 'Kiwi': 400,\n",
       " 'Lichi': 60,\n",
       " 'Watermelon': 80,\n",
       " 'Guava': 100}"
      ]
     },
     "execution_count": 130,
     "metadata": {},
     "output_type": "execute_result"
    }
   ],
   "source": [
    "fruits"
   ]
  },
  {
   "cell_type": "code",
   "execution_count": 131,
   "id": "b526d7ca",
   "metadata": {},
   "outputs": [],
   "source": [
    "val = {2:[1,2,3], \"Pranav\":[26,56]}"
   ]
  },
  {
   "cell_type": "code",
   "execution_count": 132,
   "id": "80d49a15",
   "metadata": {},
   "outputs": [
    {
     "data": {
      "text/plain": [
       "{2: [1, 2, 3], 'Pranav': [26, 56]}"
      ]
     },
     "execution_count": 132,
     "metadata": {},
     "output_type": "execute_result"
    }
   ],
   "source": [
    "val"
   ]
  },
  {
   "cell_type": "code",
   "execution_count": 133,
   "id": "ae238688",
   "metadata": {},
   "outputs": [],
   "source": [
    "val[\"Scaler\"] = 123"
   ]
  },
  {
   "cell_type": "code",
   "execution_count": 134,
   "id": "f34137d1",
   "metadata": {},
   "outputs": [
    {
     "data": {
      "text/plain": [
       "{2: [1, 2, 3], 'Pranav': [26, 56], 'Scaler': 123}"
      ]
     },
     "execution_count": 134,
     "metadata": {},
     "output_type": "execute_result"
    }
   ],
   "source": [
    "val"
   ]
  },
  {
   "cell_type": "code",
   "execution_count": 135,
   "id": "51c9e13b",
   "metadata": {},
   "outputs": [
    {
     "data": {
      "text/plain": [
       "123"
      ]
     },
     "execution_count": 135,
     "metadata": {},
     "output_type": "execute_result"
    }
   ],
   "source": [
    "val[\"Scaler\"]"
   ]
  },
  {
   "cell_type": "code",
   "execution_count": 137,
   "id": "c6b51806",
   "metadata": {},
   "outputs": [
    {
     "ename": "KeyError",
     "evalue": "'scaler'",
     "output_type": "error",
     "traceback": [
      "\u001b[0;31m---------------------------------------------------------------------------\u001b[0m",
      "\u001b[0;31mKeyError\u001b[0m                                  Traceback (most recent call last)",
      "Input \u001b[0;32mIn [137]\u001b[0m, in \u001b[0;36m<cell line: 1>\u001b[0;34m()\u001b[0m\n\u001b[0;32m----> 1\u001b[0m \u001b[43mval\u001b[49m\u001b[43m[\u001b[49m\u001b[38;5;124;43m\"\u001b[39;49m\u001b[38;5;124;43mscaler\u001b[39;49m\u001b[38;5;124;43m\"\u001b[39;49m\u001b[43m]\u001b[49m\n",
      "\u001b[0;31mKeyError\u001b[0m: 'scaler'"
     ]
    }
   ],
   "source": [
    "val[\"scaler\"]"
   ]
  },
  {
   "cell_type": "code",
   "execution_count": 139,
   "id": "615e84e6",
   "metadata": {},
   "outputs": [],
   "source": [
    "val.get(\"scaler\") # returns nothing/None when key is not present"
   ]
  },
  {
   "cell_type": "code",
   "execution_count": 140,
   "id": "e1d7124a",
   "metadata": {},
   "outputs": [
    {
     "data": {
      "text/plain": [
       "123"
      ]
     },
     "execution_count": 140,
     "metadata": {},
     "output_type": "execute_result"
    }
   ],
   "source": [
    "val.get(\"Scaler\") # return the value associated with the key"
   ]
  },
  {
   "cell_type": "code",
   "execution_count": 144,
   "id": "1b89f0bd",
   "metadata": {},
   "outputs": [
    {
     "data": {
      "text/plain": [
       "'Give this value as default'"
      ]
     },
     "execution_count": 144,
     "metadata": {},
     "output_type": "execute_result"
    }
   ],
   "source": [
    "val.get(\"scaler\",\"Give this value as default\")"
   ]
  },
  {
   "cell_type": "code",
   "execution_count": 145,
   "id": "7fdeacfa",
   "metadata": {},
   "outputs": [
    {
     "data": {
      "text/plain": [
       "1234"
      ]
     },
     "execution_count": 145,
     "metadata": {},
     "output_type": "execute_result"
    }
   ],
   "source": [
    "val.get(\"scaler\",1234)"
   ]
  },
  {
   "cell_type": "code",
   "execution_count": 146,
   "id": "a850879d",
   "metadata": {},
   "outputs": [
    {
     "data": {
      "text/plain": [
       "123"
      ]
     },
     "execution_count": 146,
     "metadata": {},
     "output_type": "execute_result"
    }
   ],
   "source": [
    "val.get(\"Scaler\",\"sd,mjfbnsejk\")"
   ]
  },
  {
   "cell_type": "code",
   "execution_count": null,
   "id": "50f310c1",
   "metadata": {},
   "outputs": [],
   "source": [
    "# in op"
   ]
  },
  {
   "cell_type": "code",
   "execution_count": 141,
   "id": "d3abec1e",
   "metadata": {},
   "outputs": [
    {
     "data": {
      "text/plain": [
       "{2: [1, 2, 3], 'Pranav': [26, 56], 'Scaler': 123}"
      ]
     },
     "execution_count": 141,
     "metadata": {},
     "output_type": "execute_result"
    }
   ],
   "source": [
    "val"
   ]
  },
  {
   "cell_type": "code",
   "execution_count": 142,
   "id": "c4266f85",
   "metadata": {},
   "outputs": [
    {
     "data": {
      "text/plain": [
       "False"
      ]
     },
     "execution_count": 142,
     "metadata": {},
     "output_type": "execute_result"
    }
   ],
   "source": [
    "123 in val"
   ]
  },
  {
   "cell_type": "code",
   "execution_count": 143,
   "id": "d62a9d44",
   "metadata": {},
   "outputs": [
    {
     "data": {
      "text/plain": [
       "True"
      ]
     },
     "execution_count": 143,
     "metadata": {},
     "output_type": "execute_result"
    }
   ],
   "source": [
    "2 in val"
   ]
  },
  {
   "cell_type": "code",
   "execution_count": 147,
   "id": "38bf02b2",
   "metadata": {},
   "outputs": [],
   "source": [
    "# update"
   ]
  },
  {
   "cell_type": "code",
   "execution_count": 148,
   "id": "ac9d083d",
   "metadata": {},
   "outputs": [
    {
     "data": {
      "text/plain": [
       "{'Apple': 150,\n",
       " 'Mango': 200,\n",
       " 'Banana': 60,\n",
       " 'Papaya': 50,\n",
       " 'Kiwi': 400,\n",
       " 'Lichi': 60,\n",
       " 'Watermelon': 80,\n",
       " 'Guava': 100}"
      ]
     },
     "execution_count": 148,
     "metadata": {},
     "output_type": "execute_result"
    }
   ],
   "source": [
    "fruits"
   ]
  },
  {
   "cell_type": "code",
   "execution_count": 149,
   "id": "70ed02be",
   "metadata": {},
   "outputs": [],
   "source": [
    "fruits[\"Lichi\"] = 100"
   ]
  },
  {
   "cell_type": "code",
   "execution_count": 151,
   "id": "a83b28b1",
   "metadata": {},
   "outputs": [
    {
     "data": {
      "text/plain": [
       "{'Apple': 150,\n",
       " 'Mango': 200,\n",
       " 'Banana': 60,\n",
       " 'Papaya': 50,\n",
       " 'Kiwi': 400,\n",
       " 'Lichi': 100,\n",
       " 'Watermelon': 80,\n",
       " 'Guava': 100}"
      ]
     },
     "execution_count": 151,
     "metadata": {},
     "output_type": "execute_result"
    }
   ],
   "source": [
    "fruits"
   ]
  },
  {
   "cell_type": "code",
   "execution_count": 152,
   "id": "b880fac1",
   "metadata": {},
   "outputs": [],
   "source": [
    "fruits.update({'Lichi': 70, \"Jackfruit\": 50, \"Orange\": 90, \"Pear\": 70})"
   ]
  },
  {
   "cell_type": "code",
   "execution_count": 153,
   "id": "0c4cfc0e",
   "metadata": {},
   "outputs": [
    {
     "data": {
      "text/plain": [
       "{'Apple': 150,\n",
       " 'Mango': 200,\n",
       " 'Banana': 60,\n",
       " 'Papaya': 50,\n",
       " 'Kiwi': 400,\n",
       " 'Lichi': 70,\n",
       " 'Watermelon': 80,\n",
       " 'Guava': 100,\n",
       " 'Jackfruit': 50,\n",
       " 'Orange': 90,\n",
       " 'Pear': 70}"
      ]
     },
     "execution_count": 153,
     "metadata": {},
     "output_type": "execute_result"
    }
   ],
   "source": [
    "fruits"
   ]
  },
  {
   "cell_type": "code",
   "execution_count": 156,
   "id": "5b67cf43",
   "metadata": {},
   "outputs": [],
   "source": [
    "# Remove"
   ]
  },
  {
   "cell_type": "code",
   "execution_count": 158,
   "id": "e5d742be",
   "metadata": {},
   "outputs": [
    {
     "data": {
      "text/plain": [
       "70"
      ]
     },
     "execution_count": 158,
     "metadata": {},
     "output_type": "execute_result"
    }
   ],
   "source": [
    "fruits.pop(\"Pear\")"
   ]
  },
  {
   "cell_type": "code",
   "execution_count": 159,
   "id": "bf76b9a6",
   "metadata": {},
   "outputs": [
    {
     "data": {
      "text/plain": [
       "{'Apple': 150,\n",
       " 'Mango': 200,\n",
       " 'Banana': 60,\n",
       " 'Papaya': 50,\n",
       " 'Kiwi': 400,\n",
       " 'Lichi': 70,\n",
       " 'Watermelon': 80,\n",
       " 'Guava': 100,\n",
       " 'Jackfruit': 50,\n",
       " 'Orange': 90}"
      ]
     },
     "execution_count": 159,
     "metadata": {},
     "output_type": "execute_result"
    }
   ],
   "source": [
    "fruits"
   ]
  },
  {
   "cell_type": "code",
   "execution_count": 160,
   "id": "040e21a1",
   "metadata": {},
   "outputs": [],
   "source": [
    "del fruits[\"Apple\"]"
   ]
  },
  {
   "cell_type": "code",
   "execution_count": 162,
   "id": "4b795c66",
   "metadata": {},
   "outputs": [
    {
     "data": {
      "text/plain": [
       "{'Mango': 200,\n",
       " 'Banana': 60,\n",
       " 'Papaya': 50,\n",
       " 'Kiwi': 400,\n",
       " 'Lichi': 70,\n",
       " 'Watermelon': 80,\n",
       " 'Guava': 100,\n",
       " 'Jackfruit': 50,\n",
       " 'Orange': 90}"
      ]
     },
     "execution_count": 162,
     "metadata": {},
     "output_type": "execute_result"
    }
   ],
   "source": [
    "fruits"
   ]
  },
  {
   "cell_type": "code",
   "execution_count": 163,
   "id": "996de3f9",
   "metadata": {},
   "outputs": [
    {
     "ename": "TypeError",
     "evalue": "unhashable type: 'list'",
     "output_type": "error",
     "traceback": [
      "\u001b[0;31m---------------------------------------------------------------------------\u001b[0m",
      "\u001b[0;31mTypeError\u001b[0m                                 Traceback (most recent call last)",
      "Input \u001b[0;32mIn [163]\u001b[0m, in \u001b[0;36m<cell line: 1>\u001b[0;34m()\u001b[0m\n\u001b[0;32m----> 1\u001b[0m val \u001b[38;5;241m=\u001b[39m {[\u001b[38;5;241m1\u001b[39m,\u001b[38;5;241m2\u001b[39m]:\u001b[38;5;124m\"\u001b[39m\u001b[38;5;124mtest\u001b[39m\u001b[38;5;124m\"\u001b[39m}\n",
      "\u001b[0;31mTypeError\u001b[0m: unhashable type: 'list'"
     ]
    }
   ],
   "source": [
    "val = {[1,2]:\"test\"}"
   ]
  },
  {
   "cell_type": "code",
   "execution_count": 164,
   "id": "8936ed43",
   "metadata": {},
   "outputs": [],
   "source": [
    "# Iterating"
   ]
  },
  {
   "cell_type": "code",
   "execution_count": 165,
   "id": "11dd0288",
   "metadata": {},
   "outputs": [
    {
     "data": {
      "text/plain": [
       "{'Mango': 200,\n",
       " 'Banana': 60,\n",
       " 'Papaya': 50,\n",
       " 'Kiwi': 400,\n",
       " 'Lichi': 70,\n",
       " 'Watermelon': 80,\n",
       " 'Guava': 100,\n",
       " 'Jackfruit': 50,\n",
       " 'Orange': 90}"
      ]
     },
     "execution_count": 165,
     "metadata": {},
     "output_type": "execute_result"
    }
   ],
   "source": [
    "fruits"
   ]
  },
  {
   "cell_type": "code",
   "execution_count": 166,
   "id": "bc4732ee",
   "metadata": {},
   "outputs": [
    {
     "name": "stdout",
     "output_type": "stream",
     "text": [
      "Mango Banana Papaya Kiwi Lichi Watermelon Guava Jackfruit Orange "
     ]
    }
   ],
   "source": [
    "for i in fruits:\n",
    "    print(i, end = \" \")"
   ]
  },
  {
   "cell_type": "code",
   "execution_count": 167,
   "id": "d4477a7e",
   "metadata": {},
   "outputs": [
    {
     "name": "stdout",
     "output_type": "stream",
     "text": [
      "Mango -> 200\n",
      "Banana -> 60\n",
      "Papaya -> 50\n",
      "Kiwi -> 400\n",
      "Lichi -> 70\n",
      "Watermelon -> 80\n",
      "Guava -> 100\n",
      "Jackfruit -> 50\n",
      "Orange -> 90\n"
     ]
    }
   ],
   "source": [
    "for i in fruits:\n",
    "    print(i,\"->\",fruits[i])"
   ]
  },
  {
   "cell_type": "code",
   "execution_count": null,
   "id": "2b116c64",
   "metadata": {},
   "outputs": [],
   "source": []
  },
  {
   "cell_type": "code",
   "execution_count": 168,
   "id": "dc323042",
   "metadata": {},
   "outputs": [],
   "source": [
    "d = {}"
   ]
  },
  {
   "cell_type": "code",
   "execution_count": 170,
   "id": "efe9e23c",
   "metadata": {},
   "outputs": [
    {
     "name": "stdout",
     "output_type": "stream",
     "text": [
      "<class 'dict'>\n"
     ]
    }
   ],
   "source": [
    "print(type(d))"
   ]
  },
  {
   "cell_type": "code",
   "execution_count": 171,
   "id": "3381b284",
   "metadata": {},
   "outputs": [],
   "source": [
    "s = set()"
   ]
  },
  {
   "cell_type": "code",
   "execution_count": 172,
   "id": "883eff29",
   "metadata": {},
   "outputs": [
    {
     "data": {
      "text/plain": [
       "{}"
      ]
     },
     "execution_count": 172,
     "metadata": {},
     "output_type": "execute_result"
    }
   ],
   "source": [
    "d"
   ]
  },
  {
   "cell_type": "code",
   "execution_count": 173,
   "id": "e65d182b",
   "metadata": {},
   "outputs": [],
   "source": [
    "d[\"Pranav\"] = \"Python Mentor\""
   ]
  },
  {
   "cell_type": "code",
   "execution_count": 174,
   "id": "d76f58b7",
   "metadata": {},
   "outputs": [
    {
     "data": {
      "text/plain": [
       "{'Pranav': 'Python Mentor'}"
      ]
     },
     "execution_count": 174,
     "metadata": {},
     "output_type": "execute_result"
    }
   ],
   "source": [
    "d"
   ]
  },
  {
   "cell_type": "code",
   "execution_count": 175,
   "id": "b7a04382",
   "metadata": {},
   "outputs": [],
   "source": [
    "d.update({\"Ashwin\":\"Student\"})"
   ]
  },
  {
   "cell_type": "code",
   "execution_count": 176,
   "id": "9e5ad836",
   "metadata": {},
   "outputs": [
    {
     "data": {
      "text/plain": [
       "{'Pranav': 'Python Mentor', 'Ashwin': 'Student'}"
      ]
     },
     "execution_count": 176,
     "metadata": {},
     "output_type": "execute_result"
    }
   ],
   "source": [
    "d"
   ]
  },
  {
   "cell_type": "code",
   "execution_count": 177,
   "id": "6cf65cf6",
   "metadata": {},
   "outputs": [],
   "source": [
    "# Challenge:\n",
    "# Take an input string\n",
    "# Find the freq of each letter and return the letter and their freq"
   ]
  },
  {
   "cell_type": "code",
   "execution_count": 178,
   "id": "dff8c297",
   "metadata": {},
   "outputs": [],
   "source": [
    "# ex: \"Hello\"\n",
    "\n",
    "# 'H' -> 1\n",
    "\n",
    "# 'e' -> 1\n",
    "\n",
    "# 'l' -> 2\n",
    "\n",
    "# 'o' -> 1"
   ]
  },
  {
   "cell_type": "code",
   "execution_count": 181,
   "id": "434881fe",
   "metadata": {},
   "outputs": [
    {
     "name": "stdout",
     "output_type": "stream",
     "text": [
      "Hello\n",
      "{'H': 1, 'e': 1, 'l': 2, 'o': 1}\n"
     ]
    }
   ],
   "source": [
    "result = {}\n",
    "s = input()\n",
    "\n",
    "for ch in s:\n",
    "    if ch in result:\n",
    "        result[ch]+=1\n",
    "    else:\n",
    "        result[ch] = 1\n",
    "        \n",
    "print(result)"
   ]
  },
  {
   "cell_type": "code",
   "execution_count": null,
   "id": "032fd38c",
   "metadata": {},
   "outputs": [],
   "source": [
    "# Doubts"
   ]
  },
  {
   "cell_type": "code",
   "execution_count": 182,
   "id": "fe45a33c",
   "metadata": {},
   "outputs": [],
   "source": [
    "val = {1,2,3}"
   ]
  },
  {
   "cell_type": "code",
   "execution_count": 183,
   "id": "e84752c3",
   "metadata": {},
   "outputs": [],
   "source": [
    "val.add(\"abc\")"
   ]
  },
  {
   "cell_type": "code",
   "execution_count": 184,
   "id": "1667033e",
   "metadata": {},
   "outputs": [
    {
     "data": {
      "text/plain": [
       "{1, 2, 3, 'abc'}"
      ]
     },
     "execution_count": 184,
     "metadata": {},
     "output_type": "execute_result"
    }
   ],
   "source": [
    "val"
   ]
  },
  {
   "cell_type": "code",
   "execution_count": 185,
   "id": "b5a6b44a",
   "metadata": {},
   "outputs": [
    {
     "data": {
      "text/plain": [
       "{'1', '2', '3', '4'}"
      ]
     },
     "execution_count": 185,
     "metadata": {},
     "output_type": "execute_result"
    }
   ],
   "source": [
    "set(['1', '3', '2', '4'])"
   ]
  },
  {
   "cell_type": "code",
   "execution_count": 186,
   "id": "a2074a79",
   "metadata": {},
   "outputs": [
    {
     "name": "stdout",
     "output_type": "stream",
     "text": [
      "{'3', '2', '1'}\n"
     ]
    }
   ],
   "source": [
    "a = {\"1\", \"2\", \"3\"}\n",
    "print(a)"
   ]
  },
  {
   "cell_type": "code",
   "execution_count": 187,
   "id": "2580b6d2",
   "metadata": {},
   "outputs": [
    {
     "ename": "TypeError",
     "evalue": "unhashable type: 'set'",
     "output_type": "error",
     "traceback": [
      "\u001b[0;31m---------------------------------------------------------------------------\u001b[0m",
      "\u001b[0;31mTypeError\u001b[0m                                 Traceback (most recent call last)",
      "Input \u001b[0;32mIn [187]\u001b[0m, in \u001b[0;36m<cell line: 1>\u001b[0;34m()\u001b[0m\n\u001b[0;32m----> 1\u001b[0m s \u001b[38;5;241m=\u001b[39m {\u001b[38;5;241m1\u001b[39m,\u001b[38;5;241m2\u001b[39m,{\u001b[38;5;241m3\u001b[39m,\u001b[38;5;241m4\u001b[39m}}\n",
      "\u001b[0;31mTypeError\u001b[0m: unhashable type: 'set'"
     ]
    }
   ],
   "source": [
    "s = {1,2,{3,4}}"
   ]
  },
  {
   "cell_type": "code",
   "execution_count": null,
   "id": "f8875997",
   "metadata": {},
   "outputs": [],
   "source": [
    "val = [95,96,True, 95,1, 0 , False]"
   ]
  },
  {
   "cell_type": "code",
   "execution_count": 188,
   "id": "ecb83eca",
   "metadata": {},
   "outputs": [
    {
     "data": {
      "text/plain": [
       "True"
      ]
     },
     "execution_count": 188,
     "metadata": {},
     "output_type": "execute_result"
    }
   ],
   "source": [
    "1 in {True, False}"
   ]
  },
  {
   "cell_type": "code",
   "execution_count": 191,
   "id": "ec73da04",
   "metadata": {},
   "outputs": [],
   "source": [
    "val = set([True,1])"
   ]
  },
  {
   "cell_type": "code",
   "execution_count": 192,
   "id": "57bde7fa",
   "metadata": {},
   "outputs": [
    {
     "data": {
      "text/plain": [
       "{True}"
      ]
     },
     "execution_count": 192,
     "metadata": {},
     "output_type": "execute_result"
    }
   ],
   "source": [
    "val"
   ]
  },
  {
   "cell_type": "code",
   "execution_count": null,
   "id": "ff9088f3",
   "metadata": {},
   "outputs": [],
   "source": []
  }
 ],
 "metadata": {
  "kernelspec": {
   "display_name": "Python 3 (ipykernel)",
   "language": "python",
   "name": "python3"
  },
  "language_info": {
   "codemirror_mode": {
    "name": "ipython",
    "version": 3
   },
   "file_extension": ".py",
   "mimetype": "text/x-python",
   "name": "python",
   "nbconvert_exporter": "python",
   "pygments_lexer": "ipython3",
   "version": "3.8.13"
  }
 },
 "nbformat": 4,
 "nbformat_minor": 5
}
