{
 "cells": [
  {
   "cell_type": "code",
   "execution_count": 1,
   "id": "4da04d1b",
   "metadata": {},
   "outputs": [],
   "source": [
    "planets = ['Mercury', 'Venus', 'Earth', 'Mars',\n",
    "          'Jupiter', 'Saturn',' Uranus', 'Neptune']"
   ]
  },
  {
   "cell_type": "code",
   "execution_count": 2,
   "id": "a66206a2",
   "metadata": {},
   "outputs": [],
   "source": [
    "planets[1] = \"Pranav Planet\""
   ]
  },
  {
   "cell_type": "code",
   "execution_count": 4,
   "id": "64aafbd1",
   "metadata": {},
   "outputs": [
    {
     "data": {
      "text/plain": [
       "['Mercury',\n",
       " 'Pranav Planet',\n",
       " 'Earth',\n",
       " 'Mars',\n",
       " 'Jupiter',\n",
       " 'Saturn',\n",
       " ' Uranus',\n",
       " 'Neptune']"
      ]
     },
     "execution_count": 4,
     "metadata": {},
     "output_type": "execute_result"
    }
   ],
   "source": [
    "planets"
   ]
  },
  {
   "cell_type": "code",
   "execution_count": 5,
   "id": "0d0ed02a",
   "metadata": {},
   "outputs": [],
   "source": [
    "val = [1,2,32,4]"
   ]
  },
  {
   "cell_type": "code",
   "execution_count": 6,
   "id": "27f0f239",
   "metadata": {},
   "outputs": [],
   "source": [
    "val.append(\"delkjfbhweiop;jfrgbheijufh\")"
   ]
  },
  {
   "cell_type": "code",
   "execution_count": 7,
   "id": "667c650f",
   "metadata": {},
   "outputs": [
    {
     "data": {
      "text/plain": [
       "[1, 2, 32, 4, 'delkjfbhweiop;jfrgbheijufh']"
      ]
     },
     "execution_count": 7,
     "metadata": {},
     "output_type": "execute_result"
    }
   ],
   "source": [
    "val"
   ]
  },
  {
   "cell_type": "code",
   "execution_count": 9,
   "id": "0582a7ce",
   "metadata": {},
   "outputs": [],
   "source": [
    "x = (1,2,3,4)"
   ]
  },
  {
   "cell_type": "code",
   "execution_count": 10,
   "id": "c9334e4e",
   "metadata": {},
   "outputs": [
    {
     "name": "stdout",
     "output_type": "stream",
     "text": [
      "<class 'tuple'>\n"
     ]
    }
   ],
   "source": [
    "print(type(x))"
   ]
  },
  {
   "cell_type": "code",
   "execution_count": 11,
   "id": "3d8d869c",
   "metadata": {},
   "outputs": [
    {
     "data": {
      "text/plain": [
       "3"
      ]
     },
     "execution_count": 11,
     "metadata": {},
     "output_type": "execute_result"
    }
   ],
   "source": [
    "x[2]"
   ]
  },
  {
   "cell_type": "code",
   "execution_count": 12,
   "id": "38d0698e",
   "metadata": {},
   "outputs": [],
   "source": [
    "planets = ('Mercury', 'Venus', 'Earth', 'Mars',\n",
    "          'Jupiter', 'Saturn',' Uranus', 'Neptune')"
   ]
  },
  {
   "cell_type": "code",
   "execution_count": 13,
   "id": "000557c2",
   "metadata": {},
   "outputs": [
    {
     "data": {
      "text/plain": [
       "'Venus'"
      ]
     },
     "execution_count": 13,
     "metadata": {},
     "output_type": "execute_result"
    }
   ],
   "source": [
    "planets[1]"
   ]
  },
  {
   "cell_type": "code",
   "execution_count": 14,
   "id": "ec1ddc0b",
   "metadata": {},
   "outputs": [
    {
     "ename": "TypeError",
     "evalue": "'tuple' object does not support item assignment",
     "output_type": "error",
     "traceback": [
      "\u001b[0;31m---------------------------------------------------------------------------\u001b[0m",
      "\u001b[0;31mTypeError\u001b[0m                                 Traceback (most recent call last)",
      "Input \u001b[0;32mIn [14]\u001b[0m, in \u001b[0;36m<cell line: 1>\u001b[0;34m()\u001b[0m\n\u001b[0;32m----> 1\u001b[0m planets[\u001b[38;5;241m1\u001b[39m] \u001b[38;5;241m=\u001b[39m \u001b[38;5;124m\"\u001b[39m\u001b[38;5;124mPranav Planet\u001b[39m\u001b[38;5;124m\"\u001b[39m\n",
      "\u001b[0;31mTypeError\u001b[0m: 'tuple' object does not support item assignment"
     ]
    }
   ],
   "source": [
    "planets[1] = \"Pranav Planet\""
   ]
  },
  {
   "cell_type": "code",
   "execution_count": 15,
   "id": "5f43d7d9",
   "metadata": {},
   "outputs": [],
   "source": [
    "x = (1,2,3)"
   ]
  },
  {
   "cell_type": "code",
   "execution_count": 16,
   "id": "ab691e04",
   "metadata": {},
   "outputs": [
    {
     "ename": "AttributeError",
     "evalue": "'tuple' object has no attribute 'append'",
     "output_type": "error",
     "traceback": [
      "\u001b[0;31m---------------------------------------------------------------------------\u001b[0m",
      "\u001b[0;31mAttributeError\u001b[0m                            Traceback (most recent call last)",
      "Input \u001b[0;32mIn [16]\u001b[0m, in \u001b[0;36m<cell line: 1>\u001b[0;34m()\u001b[0m\n\u001b[0;32m----> 1\u001b[0m \u001b[43mx\u001b[49m\u001b[38;5;241;43m.\u001b[39;49m\u001b[43mappend\u001b[49m(\u001b[38;5;241m4\u001b[39m)\n",
      "\u001b[0;31mAttributeError\u001b[0m: 'tuple' object has no attribute 'append'"
     ]
    }
   ],
   "source": [
    "x.append(4)"
   ]
  },
  {
   "cell_type": "code",
   "execution_count": 17,
   "id": "51735c95",
   "metadata": {},
   "outputs": [],
   "source": [
    "# x.remove(4)\n",
    "# x.pop()\n",
    "# x.sort()\n",
    "# x.insert(...)\n",
    "# x.append(5)\n",
    "\n",
    "# all above operations not supported"
   ]
  },
  {
   "cell_type": "code",
   "execution_count": 18,
   "id": "ae89b9fc",
   "metadata": {},
   "outputs": [],
   "source": [
    "t = ()"
   ]
  },
  {
   "cell_type": "code",
   "execution_count": 19,
   "id": "1f25dd66",
   "metadata": {},
   "outputs": [
    {
     "name": "stdout",
     "output_type": "stream",
     "text": [
      "<class 'tuple'>\n"
     ]
    }
   ],
   "source": [
    "print(type(t))"
   ]
  },
  {
   "cell_type": "code",
   "execution_count": 20,
   "id": "4b606b28",
   "metadata": {},
   "outputs": [
    {
     "name": "stdout",
     "output_type": "stream",
     "text": [
      "<class 'int'>\n"
     ]
    }
   ],
   "source": [
    "val = 5\n",
    "print(type(val))"
   ]
  },
  {
   "cell_type": "code",
   "execution_count": 21,
   "id": "4c5d7267",
   "metadata": {},
   "outputs": [
    {
     "name": "stdout",
     "output_type": "stream",
     "text": [
      "<class 'int'>\n"
     ]
    }
   ],
   "source": [
    "val = (5-3)\n",
    "print(type(val))"
   ]
  },
  {
   "cell_type": "code",
   "execution_count": 22,
   "id": "ff05858d",
   "metadata": {},
   "outputs": [
    {
     "name": "stdout",
     "output_type": "stream",
     "text": [
      "<class 'int'>\n"
     ]
    }
   ],
   "source": [
    "val = (5) # math exp with no operators\n",
    "print(type(val))"
   ]
  },
  {
   "cell_type": "code",
   "execution_count": 23,
   "id": "360b3838",
   "metadata": {},
   "outputs": [
    {
     "name": "stdout",
     "output_type": "stream",
     "text": [
      "<class 'str'>\n"
     ]
    }
   ],
   "source": [
    "val = (\"5\") # math exp with no operators\n",
    "print(type(val))"
   ]
  },
  {
   "cell_type": "code",
   "execution_count": 24,
   "id": "662625a0",
   "metadata": {},
   "outputs": [
    {
     "data": {
      "text/plain": [
       "str"
      ]
     },
     "execution_count": 24,
     "metadata": {},
     "output_type": "execute_result"
    }
   ],
   "source": [
    "t = (\"Sahil\")\n",
    "type(t)"
   ]
  },
  {
   "cell_type": "code",
   "execution_count": 25,
   "id": "c60e4aec",
   "metadata": {},
   "outputs": [
    {
     "data": {
      "text/plain": [
       "tuple"
      ]
     },
     "execution_count": 25,
     "metadata": {},
     "output_type": "execute_result"
    }
   ],
   "source": [
    "t = (\"Sahil\",)\n",
    "type(t)"
   ]
  },
  {
   "cell_type": "code",
   "execution_count": 26,
   "id": "e198d355",
   "metadata": {},
   "outputs": [
    {
     "name": "stdout",
     "output_type": "stream",
     "text": [
      "<class 'list'>\n"
     ]
    }
   ],
   "source": [
    "l = []\n",
    "print(type(l))"
   ]
  },
  {
   "cell_type": "code",
   "execution_count": 27,
   "id": "2727036a",
   "metadata": {},
   "outputs": [
    {
     "name": "stdout",
     "output_type": "stream",
     "text": [
      "6\n"
     ]
    }
   ],
   "source": [
    "T1 = (1) # int\n",
    "T2 = (3, 4) # tuple\n",
    "T1 += 5 # T1 = 6\n",
    "print(T1)"
   ]
  },
  {
   "cell_type": "code",
   "execution_count": 28,
   "id": "9befe985",
   "metadata": {},
   "outputs": [
    {
     "name": "stdout",
     "output_type": "stream",
     "text": [
      "(1, 2, 3, 4)\n"
     ]
    }
   ],
   "source": [
    "t1 = (1,2)\n",
    "t2 = (3,4)\n",
    "t3 = t1 + t2\n",
    "print(t3)"
   ]
  },
  {
   "cell_type": "code",
   "execution_count": 29,
   "id": "fdff3545",
   "metadata": {},
   "outputs": [
    {
     "data": {
      "text/plain": [
       "(1, 2)"
      ]
     },
     "execution_count": 29,
     "metadata": {},
     "output_type": "execute_result"
    }
   ],
   "source": [
    "t1"
   ]
  },
  {
   "cell_type": "code",
   "execution_count": 30,
   "id": "c924b357",
   "metadata": {},
   "outputs": [
    {
     "data": {
      "text/plain": [
       "(3, 4)"
      ]
     },
     "execution_count": 30,
     "metadata": {},
     "output_type": "execute_result"
    }
   ],
   "source": [
    "t2"
   ]
  },
  {
   "cell_type": "code",
   "execution_count": 31,
   "id": "599641a7",
   "metadata": {},
   "outputs": [
    {
     "data": {
      "text/plain": [
       "4"
      ]
     },
     "execution_count": 31,
     "metadata": {},
     "output_type": "execute_result"
    }
   ],
   "source": [
    "t3[3]"
   ]
  },
  {
   "cell_type": "code",
   "execution_count": 32,
   "id": "6896b822",
   "metadata": {},
   "outputs": [
    {
     "name": "stdout",
     "output_type": "stream",
     "text": [
      "4418353088\n",
      "(1, 2, 6, 7)\n",
      "4418374768\n"
     ]
    }
   ],
   "source": [
    "a = (1,2)\n",
    "print(id(a)) # 1\n",
    "b = (6,7)\n",
    "a+=b\n",
    "print(a)\n",
    "print(id(a)) # 2"
   ]
  },
  {
   "cell_type": "code",
   "execution_count": 33,
   "id": "a953533d",
   "metadata": {},
   "outputs": [
    {
     "name": "stdout",
     "output_type": "stream",
     "text": [
      "4418261440\n"
     ]
    }
   ],
   "source": [
    "val = [1,2,3,4]\n",
    "print(id(val))"
   ]
  },
  {
   "cell_type": "code",
   "execution_count": 34,
   "id": "7ef07cd5",
   "metadata": {},
   "outputs": [
    {
     "name": "stdout",
     "output_type": "stream",
     "text": [
      "[1, 2, 3, 4, 5]\n",
      "4418261440\n"
     ]
    }
   ],
   "source": [
    "val.append(5)\n",
    "print(val)\n",
    "print(id(val))"
   ]
  },
  {
   "cell_type": "code",
   "execution_count": 36,
   "id": "ae8a63d2",
   "metadata": {},
   "outputs": [
    {
     "name": "stdout",
     "output_type": "stream",
     "text": [
      "4348323616\n",
      "4348323808\n"
     ]
    }
   ],
   "source": [
    "# int is also immutable\n",
    "a = 5\n",
    "print(id(a))\n",
    "a+=6 # 11\n",
    "print(id(a))"
   ]
  },
  {
   "cell_type": "code",
   "execution_count": 38,
   "id": "a802c63f",
   "metadata": {},
   "outputs": [
    {
     "name": "stdout",
     "output_type": "stream",
     "text": [
      "4418014064\n",
      "4418013840\n"
     ]
    }
   ],
   "source": [
    "# float are immutable\n",
    "a = 5.5\n",
    "print(id(a))\n",
    "a+=6.7\n",
    "print(id(a))"
   ]
  },
  {
   "cell_type": "code",
   "execution_count": null,
   "id": "d9b9df54",
   "metadata": {},
   "outputs": [],
   "source": []
  },
  {
   "cell_type": "code",
   "execution_count": 39,
   "id": "23595fc7",
   "metadata": {},
   "outputs": [],
   "source": [
    "# add, update, remove not allowed tuple"
   ]
  },
  {
   "cell_type": "code",
   "execution_count": 40,
   "id": "bbf434a6",
   "metadata": {},
   "outputs": [],
   "source": [
    "# slicing"
   ]
  },
  {
   "cell_type": "code",
   "execution_count": 41,
   "id": "aabaac8b",
   "metadata": {},
   "outputs": [],
   "source": [
    "t = (4,5,7,2,3)"
   ]
  },
  {
   "cell_type": "code",
   "execution_count": 44,
   "id": "c3831748",
   "metadata": {},
   "outputs": [
    {
     "data": {
      "text/plain": [
       "(7, 2, 3)"
      ]
     },
     "execution_count": 44,
     "metadata": {},
     "output_type": "execute_result"
    }
   ],
   "source": [
    "t[2:5]"
   ]
  },
  {
   "cell_type": "code",
   "execution_count": 45,
   "id": "1b6f3dca",
   "metadata": {},
   "outputs": [
    {
     "data": {
      "text/plain": [
       "5"
      ]
     },
     "execution_count": 45,
     "metadata": {},
     "output_type": "execute_result"
    }
   ],
   "source": [
    "len(t)"
   ]
  },
  {
   "cell_type": "code",
   "execution_count": 46,
   "id": "00eadb78",
   "metadata": {},
   "outputs": [
    {
     "data": {
      "text/plain": [
       "7"
      ]
     },
     "execution_count": 46,
     "metadata": {},
     "output_type": "execute_result"
    }
   ],
   "source": [
    "max(t)"
   ]
  },
  {
   "cell_type": "code",
   "execution_count": 47,
   "id": "559f0765",
   "metadata": {},
   "outputs": [
    {
     "data": {
      "text/plain": [
       "2"
      ]
     },
     "execution_count": 47,
     "metadata": {},
     "output_type": "execute_result"
    }
   ],
   "source": [
    "min(t)"
   ]
  },
  {
   "cell_type": "code",
   "execution_count": 48,
   "id": "2e99dd95",
   "metadata": {},
   "outputs": [
    {
     "data": {
      "text/plain": [
       "21"
      ]
     },
     "execution_count": 48,
     "metadata": {},
     "output_type": "execute_result"
    }
   ],
   "source": [
    "sum(t)"
   ]
  },
  {
   "cell_type": "code",
   "execution_count": 49,
   "id": "f34c3ddd",
   "metadata": {},
   "outputs": [],
   "source": [
    "t = (\"Pranav\", 26, 45.6)"
   ]
  },
  {
   "cell_type": "code",
   "execution_count": 50,
   "id": "0a6a4081",
   "metadata": {},
   "outputs": [
    {
     "data": {
      "text/plain": [
       "('Pranav', 26, 45.6)"
      ]
     },
     "execution_count": 50,
     "metadata": {},
     "output_type": "execute_result"
    }
   ],
   "source": [
    "t"
   ]
  },
  {
   "cell_type": "code",
   "execution_count": 51,
   "id": "2beac0e1",
   "metadata": {},
   "outputs": [
    {
     "ename": "AttributeError",
     "evalue": "'tuple' object has no attribute 'reverse'",
     "output_type": "error",
     "traceback": [
      "\u001b[0;31m---------------------------------------------------------------------------\u001b[0m",
      "\u001b[0;31mAttributeError\u001b[0m                            Traceback (most recent call last)",
      "Input \u001b[0;32mIn [51]\u001b[0m, in \u001b[0;36m<cell line: 1>\u001b[0;34m()\u001b[0m\n\u001b[0;32m----> 1\u001b[0m \u001b[43mt\u001b[49m\u001b[38;5;241;43m.\u001b[39;49m\u001b[43mreverse\u001b[49m()\n",
      "\u001b[0;31mAttributeError\u001b[0m: 'tuple' object has no attribute 'reverse'"
     ]
    }
   ],
   "source": [
    "t.reverse()"
   ]
  },
  {
   "cell_type": "code",
   "execution_count": null,
   "id": "5c4bc714",
   "metadata": {},
   "outputs": [],
   "source": []
  },
  {
   "cell_type": "code",
   "execution_count": 53,
   "id": "fc4fe5de",
   "metadata": {},
   "outputs": [],
   "source": [
    "planets = ('Mercury', 'Venus', 'Earth', 'Mars',\n",
    "          'Jupiter', 'Saturn','Uranus', 'Neptune')"
   ]
  },
  {
   "cell_type": "code",
   "execution_count": 52,
   "id": "60a1805a",
   "metadata": {},
   "outputs": [],
   "source": [
    "# tuple -> list, add the data in list and convert back to tuple"
   ]
  },
  {
   "cell_type": "code",
   "execution_count": 54,
   "id": "b57f9bed",
   "metadata": {},
   "outputs": [
    {
     "name": "stdout",
     "output_type": "stream",
     "text": [
      "<class 'tuple'>\n",
      "<class 'list'>\n"
     ]
    }
   ],
   "source": [
    "print(type(planets))\n",
    "planets = list(planets)\n",
    "print(type(planets))"
   ]
  },
  {
   "cell_type": "code",
   "execution_count": 55,
   "id": "00a0c9e0",
   "metadata": {},
   "outputs": [],
   "source": [
    "planets.append(\"Pluto\")"
   ]
  },
  {
   "cell_type": "code",
   "execution_count": 56,
   "id": "45a4cc7c",
   "metadata": {},
   "outputs": [
    {
     "data": {
      "text/plain": [
       "['Mercury',\n",
       " 'Venus',\n",
       " 'Earth',\n",
       " 'Mars',\n",
       " 'Jupiter',\n",
       " 'Saturn',\n",
       " 'Uranus',\n",
       " 'Neptune',\n",
       " 'Pluto']"
      ]
     },
     "execution_count": 56,
     "metadata": {},
     "output_type": "execute_result"
    }
   ],
   "source": [
    "planets"
   ]
  },
  {
   "cell_type": "code",
   "execution_count": 57,
   "id": "2a90481e",
   "metadata": {},
   "outputs": [
    {
     "name": "stdout",
     "output_type": "stream",
     "text": [
      "<class 'list'>\n",
      "<class 'tuple'>\n"
     ]
    }
   ],
   "source": [
    "print(type(planets))\n",
    "planets = tuple(planets)\n",
    "print(type(planets))"
   ]
  },
  {
   "cell_type": "code",
   "execution_count": 58,
   "id": "a2896474",
   "metadata": {},
   "outputs": [
    {
     "name": "stdout",
     "output_type": "stream",
     "text": [
      "Mercury, Venus, Earth, Mars, Jupiter, Saturn, Uranus, Neptune, Pluto, "
     ]
    }
   ],
   "source": [
    "for i in planets:\n",
    "    print(i, end=\", \")"
   ]
  },
  {
   "cell_type": "code",
   "execution_count": 59,
   "id": "73c95900",
   "metadata": {},
   "outputs": [],
   "source": [
    "# Doubts"
   ]
  },
  {
   "cell_type": "code",
   "execution_count": 63,
   "id": "f9d3e4da",
   "metadata": {},
   "outputs": [
    {
     "name": "stdout",
     "output_type": "stream",
     "text": [
      "4418491472\n"
     ]
    }
   ],
   "source": [
    "a = (1,2,3,[4,5,6])\n",
    "print(id(a))"
   ]
  },
  {
   "cell_type": "code",
   "execution_count": 64,
   "id": "8aee8fb8",
   "metadata": {},
   "outputs": [],
   "source": [
    "a[3].append(7)"
   ]
  },
  {
   "cell_type": "code",
   "execution_count": 65,
   "id": "c0028b16",
   "metadata": {},
   "outputs": [
    {
     "name": "stdout",
     "output_type": "stream",
     "text": [
      "(1, 2, 3, [4, 5, 6, 7])\n",
      "4418491472\n"
     ]
    }
   ],
   "source": [
    "print(a)\n",
    "print(id(a))"
   ]
  },
  {
   "cell_type": "code",
   "execution_count": null,
   "id": "9a9e948e",
   "metadata": {},
   "outputs": [],
   "source": []
  }
 ],
 "metadata": {
  "kernelspec": {
   "display_name": "Python 3 (ipykernel)",
   "language": "python",
   "name": "python3"
  },
  "language_info": {
   "codemirror_mode": {
    "name": "ipython",
    "version": 3
   },
   "file_extension": ".py",
   "mimetype": "text/x-python",
   "name": "python",
   "nbconvert_exporter": "python",
   "pygments_lexer": "ipython3",
   "version": "3.8.13"
  }
 },
 "nbformat": 4,
 "nbformat_minor": 5
}
