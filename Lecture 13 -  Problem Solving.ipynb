{
 "cells": [
  {
   "cell_type": "code",
   "execution_count": 1,
   "id": "c4e474e1",
   "metadata": {},
   "outputs": [],
   "source": [
    "# Transpose"
   ]
  },
  {
   "cell_type": "code",
   "execution_count": 10,
   "id": "4634edd5",
   "metadata": {},
   "outputs": [],
   "source": [
    "val = [[12,7],\n",
    "        [5,3],\n",
    "        [2,4]]"
   ]
  },
  {
   "cell_type": "code",
   "execution_count": 11,
   "id": "c5d91dcb",
   "metadata": {},
   "outputs": [
    {
     "data": {
      "text/plain": [
       "[[12, 7], [5, 3], [2, 4]]"
      ]
     },
     "execution_count": 11,
     "metadata": {},
     "output_type": "execute_result"
    }
   ],
   "source": [
    "val"
   ]
  },
  {
   "cell_type": "code",
   "execution_count": 6,
   "id": "c41d1a81",
   "metadata": {},
   "outputs": [],
   "source": [
    "rows = len(val)\n",
    "cols = len(val[0])"
   ]
  },
  {
   "cell_type": "code",
   "execution_count": 7,
   "id": "c625f028",
   "metadata": {},
   "outputs": [
    {
     "name": "stdout",
     "output_type": "stream",
     "text": [
      "3\n",
      "2\n"
     ]
    }
   ],
   "source": [
    "print(rows)\n",
    "print(cols)"
   ]
  },
  {
   "cell_type": "code",
   "execution_count": 14,
   "id": "52b51445",
   "metadata": {},
   "outputs": [
    {
     "data": {
      "text/plain": [
       "[[12, 7], [5, 3], [2, 4]]"
      ]
     },
     "execution_count": 14,
     "metadata": {},
     "output_type": "execute_result"
    }
   ],
   "source": [
    "val"
   ]
  },
  {
   "cell_type": "code",
   "execution_count": 18,
   "id": "ca7a1b7d",
   "metadata": {},
   "outputs": [],
   "source": [
    "result = []\n",
    "\n",
    "for col in range(cols): # range(2)\n",
    "    temp = []\n",
    "    for row in range(rows): # range(3)\n",
    "        temp.append(val[row][col])\n",
    "    result.append(temp)"
   ]
  },
  {
   "cell_type": "code",
   "execution_count": 19,
   "id": "3908c1a5",
   "metadata": {},
   "outputs": [
    {
     "data": {
      "text/plain": [
       "[[12, 5, 2], [7, 3, 4]]"
      ]
     },
     "execution_count": 19,
     "metadata": {},
     "output_type": "execute_result"
    }
   ],
   "source": [
    "result"
   ]
  },
  {
   "cell_type": "code",
   "execution_count": 20,
   "id": "013b24f1",
   "metadata": {},
   "outputs": [],
   "source": [
    "# Wave Print"
   ]
  },
  {
   "cell_type": "code",
   "execution_count": 21,
   "id": "766cf81c",
   "metadata": {},
   "outputs": [],
   "source": [
    "val = [[1, 2, 3], [4, 5, 6], [7, 8, 9]]"
   ]
  },
  {
   "cell_type": "code",
   "execution_count": 22,
   "id": "db5e2012",
   "metadata": {},
   "outputs": [],
   "source": [
    "rows = len(val)\n",
    "cols = len(val[0])"
   ]
  },
  {
   "cell_type": "code",
   "execution_count": 24,
   "id": "e62d9213",
   "metadata": {},
   "outputs": [
    {
     "name": "stdout",
     "output_type": "stream",
     "text": [
      "1 4 7 8 5 2 3 6 9 "
     ]
    }
   ],
   "source": [
    "for col in range(cols): # range(3)\n",
    "    if col%2==0:\n",
    "        for row in range(rows): # range(3)\n",
    "            print(val[row][col],end = \" \")\n",
    "    else:\n",
    "        for row in range(rows-1,-1,-1): # range(2,-1,-1)\n",
    "            print(val[row][col],end = \" \")\n"
   ]
  },
  {
   "cell_type": "code",
   "execution_count": 25,
   "id": "f8a8c41c",
   "metadata": {},
   "outputs": [],
   "source": [
    "# Input 2D list"
   ]
  },
  {
   "cell_type": "code",
   "execution_count": 26,
   "id": "3aa2d569",
   "metadata": {},
   "outputs": [
    {
     "name": "stdout",
     "output_type": "stream",
     "text": [
      "3 2 1 2 3 4 5 6\n"
     ]
    }
   ],
   "source": [
    "x = input()"
   ]
  },
  {
   "cell_type": "code",
   "execution_count": 27,
   "id": "7da66427",
   "metadata": {},
   "outputs": [
    {
     "data": {
      "text/plain": [
       "'3 2 1 2 3 4 5 6'"
      ]
     },
     "execution_count": 27,
     "metadata": {},
     "output_type": "execute_result"
    }
   ],
   "source": [
    "x"
   ]
  },
  {
   "cell_type": "code",
   "execution_count": 28,
   "id": "6de8d906",
   "metadata": {},
   "outputs": [],
   "source": [
    "val = x.split()"
   ]
  },
  {
   "cell_type": "code",
   "execution_count": 29,
   "id": "c0b3b44c",
   "metadata": {},
   "outputs": [
    {
     "data": {
      "text/plain": [
       "['3', '2', '1', '2', '3', '4', '5', '6']"
      ]
     },
     "execution_count": 29,
     "metadata": {},
     "output_type": "execute_result"
    }
   ],
   "source": [
    "val"
   ]
  },
  {
   "cell_type": "code",
   "execution_count": 30,
   "id": "85a215ec",
   "metadata": {},
   "outputs": [],
   "source": [
    "res = []\n",
    "for i in val:\n",
    "    res.append(int(i))"
   ]
  },
  {
   "cell_type": "code",
   "execution_count": 31,
   "id": "fcbd8560",
   "metadata": {},
   "outputs": [
    {
     "data": {
      "text/plain": [
       "[3, 2, 1, 2, 3, 4, 5, 6]"
      ]
     },
     "execution_count": 31,
     "metadata": {},
     "output_type": "execute_result"
    }
   ],
   "source": [
    "res"
   ]
  },
  {
   "cell_type": "code",
   "execution_count": 32,
   "id": "d85097e0",
   "metadata": {},
   "outputs": [],
   "source": [
    "row = res[0]\n",
    "col = res[1]"
   ]
  },
  {
   "cell_type": "code",
   "execution_count": 33,
   "id": "e3cc0c3f",
   "metadata": {},
   "outputs": [],
   "source": [
    "values = res[2:]"
   ]
  },
  {
   "cell_type": "code",
   "execution_count": 34,
   "id": "449d745a",
   "metadata": {},
   "outputs": [
    {
     "name": "stdout",
     "output_type": "stream",
     "text": [
      "3\n",
      "2\n",
      "[1, 2, 3, 4, 5, 6]\n"
     ]
    }
   ],
   "source": [
    "print(row)\n",
    "print(col)\n",
    "print(values)"
   ]
  },
  {
   "cell_type": "code",
   "execution_count": null,
   "id": "d4cd8c9a",
   "metadata": {},
   "outputs": [],
   "source": [
    "[1,2]\n",
    "[3,4]\n",
    "[5,6]"
   ]
  },
  {
   "cell_type": "code",
   "execution_count": 38,
   "id": "2edd3187",
   "metadata": {},
   "outputs": [
    {
     "name": "stdout",
     "output_type": "stream",
     "text": [
      "[[1, 2], [3, 4], [5, 6]]\n"
     ]
    }
   ],
   "source": [
    "r = 0\n",
    "c = 0\n",
    "result = []\n",
    "temp_row = []\n",
    "for value in values:\n",
    "#     print(value,end=\" \")\n",
    "    temp_row.append(value) # 1 2\n",
    "    c+=1\n",
    "    if c == col:\n",
    "        result.append(temp_row)\n",
    "        temp_row = []\n",
    "        c = 0\n",
    "        \n",
    "print(result)"
   ]
  },
  {
   "cell_type": "code",
   "execution_count": null,
   "id": "9c732bc1",
   "metadata": {},
   "outputs": [],
   "source": []
  },
  {
   "cell_type": "code",
   "execution_count": 39,
   "id": "82cafd53",
   "metadata": {},
   "outputs": [],
   "source": [
    "# Second largest value in listr"
   ]
  },
  {
   "cell_type": "code",
   "execution_count": 40,
   "id": "18b401d8",
   "metadata": {},
   "outputs": [],
   "source": [
    "val = [5,3,9,2,6,9,6,3]"
   ]
  },
  {
   "cell_type": "code",
   "execution_count": 41,
   "id": "49cf6700",
   "metadata": {},
   "outputs": [],
   "source": [
    "max_value = max(val)"
   ]
  },
  {
   "cell_type": "code",
   "execution_count": 42,
   "id": "d0975138",
   "metadata": {},
   "outputs": [
    {
     "data": {
      "text/plain": [
       "9"
      ]
     },
     "execution_count": 42,
     "metadata": {},
     "output_type": "execute_result"
    }
   ],
   "source": [
    "max_value"
   ]
  },
  {
   "cell_type": "code",
   "execution_count": 43,
   "id": "0c9f292f",
   "metadata": {},
   "outputs": [],
   "source": [
    "second_max = val[0]"
   ]
  },
  {
   "cell_type": "code",
   "execution_count": 44,
   "id": "5e70b7f2",
   "metadata": {},
   "outputs": [],
   "source": [
    "for current in val:\n",
    "    if current > second_max and current < max_value:\n",
    "        second_max = current"
   ]
  },
  {
   "cell_type": "code",
   "execution_count": 45,
   "id": "53617df3",
   "metadata": {},
   "outputs": [
    {
     "data": {
      "text/plain": [
       "6"
      ]
     },
     "execution_count": 45,
     "metadata": {},
     "output_type": "execute_result"
    }
   ],
   "source": [
    "second_max"
   ]
  },
  {
   "cell_type": "code",
   "execution_count": 46,
   "id": "0cac3e23",
   "metadata": {},
   "outputs": [],
   "source": [
    "# Find all occ"
   ]
  },
  {
   "cell_type": "code",
   "execution_count": 59,
   "id": "cb442ced",
   "metadata": {},
   "outputs": [],
   "source": [
    "def find_all_occ(s, substr):\n",
    "    indices = []\n",
    "    # Write your code here\n",
    "    start = 0\n",
    "    while start<len(s):\n",
    "        occ_idx = s.find(substr,start)\n",
    "        if occ_idx == -1:\n",
    "#             break\n",
    "            return indices\n",
    "        indices.append(occ_idx)\n",
    "        start = occ_idx + len(substr)\n",
    "    \n",
    "    return indices"
   ]
  },
  {
   "cell_type": "code",
   "execution_count": 60,
   "id": "52c0f932",
   "metadata": {},
   "outputs": [
    {
     "name": "stdout",
     "output_type": "stream",
     "text": [
      "[0, 4, 9]\n"
     ]
    }
   ],
   "source": [
    "print(find_all_occ(\"abc abcd abce ab\", \"abc\"))"
   ]
  },
  {
   "cell_type": "code",
   "execution_count": 50,
   "id": "42be685b",
   "metadata": {},
   "outputs": [
    {
     "name": "stdout",
     "output_type": "stream",
     "text": [
      "Help on method_descriptor:\n",
      "\n",
      "find(...)\n",
      "    S.find(sub[, start[, end]]) -> int\n",
      "    \n",
      "    Return the lowest index in S where substring sub is found,\n",
      "    such that sub is contained within S[start:end].  Optional\n",
      "    arguments start and end are interpreted as in slice notation.\n",
      "    \n",
      "    Return -1 on failure.\n",
      "\n"
     ]
    }
   ],
   "source": [
    "help(str.find)"
   ]
  },
  {
   "cell_type": "code",
   "execution_count": 51,
   "id": "e76d5bd5",
   "metadata": {},
   "outputs": [
    {
     "data": {
      "text/plain": [
       "4"
      ]
     },
     "execution_count": 51,
     "metadata": {},
     "output_type": "execute_result"
    }
   ],
   "source": [
    "\"abc abc abc\".find(\"abc\",3)"
   ]
  },
  {
   "cell_type": "code",
   "execution_count": 58,
   "id": "25edac56",
   "metadata": {},
   "outputs": [],
   "source": [
    "# Doubts"
   ]
  },
  {
   "cell_type": "code",
   "execution_count": 61,
   "id": "853fcbf5",
   "metadata": {},
   "outputs": [
    {
     "name": "stdout",
     "output_type": "stream",
     "text": [
      "{1, 2, 3}\n"
     ]
    }
   ],
   "source": [
    "val = {1,2,3}\n",
    "print(val)"
   ]
  },
  {
   "cell_type": "code",
   "execution_count": null,
   "id": "f587cd74",
   "metadata": {},
   "outputs": [],
   "source": []
  }
 ],
 "metadata": {
  "kernelspec": {
   "display_name": "Python 3 (ipykernel)",
   "language": "python",
   "name": "python3"
  },
  "language_info": {
   "codemirror_mode": {
    "name": "ipython",
    "version": 3
   },
   "file_extension": ".py",
   "mimetype": "text/x-python",
   "name": "python",
   "nbconvert_exporter": "python",
   "pygments_lexer": "ipython3",
   "version": "3.8.13"
  }
 },
 "nbformat": 4,
 "nbformat_minor": 5
}
