{
 "cells": [
  {
   "cell_type": "code",
   "execution_count": 1,
   "id": "6bb6b621",
   "metadata": {},
   "outputs": [],
   "source": [
    "s = \"harry pOtter\""
   ]
  },
  {
   "cell_type": "code",
   "execution_count": 2,
   "id": "21176915",
   "metadata": {},
   "outputs": [],
   "source": [
    "# output -> \"Harry Potter\" | title Format"
   ]
  },
  {
   "cell_type": "code",
   "execution_count": 3,
   "id": "530b9b9a",
   "metadata": {},
   "outputs": [],
   "source": [
    "# split into words\n",
    "# make all words title like that is first capital and rest small\n",
    "# join"
   ]
  },
  {
   "cell_type": "code",
   "execution_count": 4,
   "id": "af9198d7",
   "metadata": {},
   "outputs": [
    {
     "data": {
      "text/plain": [
       "'Harry Potter'"
      ]
     },
     "execution_count": 4,
     "metadata": {},
     "output_type": "execute_result"
    }
   ],
   "source": [
    "s.title()"
   ]
  },
  {
   "cell_type": "code",
   "execution_count": 5,
   "id": "4186d1fd",
   "metadata": {},
   "outputs": [
    {
     "name": "stdout",
     "output_type": "stream",
     "text": [
      "Help on method_descriptor:\n",
      "\n",
      "title(self, /)\n",
      "    Return a version of the string where each word is titlecased.\n",
      "    \n",
      "    More specifically, words start with uppercased characters and all remaining\n",
      "    cased characters have lower case.\n",
      "\n"
     ]
    }
   ],
   "source": [
    "help(str.title)"
   ]
  },
  {
   "cell_type": "code",
   "execution_count": 6,
   "id": "d354179b",
   "metadata": {},
   "outputs": [],
   "source": [
    "# count"
   ]
  },
  {
   "cell_type": "code",
   "execution_count": 11,
   "id": "cbbe4a2a",
   "metadata": {},
   "outputs": [],
   "source": [
    "s = \"Herry Potter\""
   ]
  },
  {
   "cell_type": "code",
   "execution_count": 8,
   "id": "9892adee",
   "metadata": {},
   "outputs": [
    {
     "data": {
      "text/plain": [
       "3"
      ]
     },
     "execution_count": 8,
     "metadata": {},
     "output_type": "execute_result"
    }
   ],
   "source": [
    "s.count(\"r\")"
   ]
  },
  {
   "cell_type": "code",
   "execution_count": 9,
   "id": "5e039768",
   "metadata": {},
   "outputs": [
    {
     "data": {
      "text/plain": [
       "1"
      ]
     },
     "execution_count": 9,
     "metadata": {},
     "output_type": "execute_result"
    }
   ],
   "source": [
    "s.count(\"a\")"
   ]
  },
  {
   "cell_type": "code",
   "execution_count": 12,
   "id": "568dc971",
   "metadata": {},
   "outputs": [
    {
     "data": {
      "text/plain": [
       "2"
      ]
     },
     "execution_count": 12,
     "metadata": {},
     "output_type": "execute_result"
    }
   ],
   "source": [
    "s.count(\"er\") # count can take substring"
   ]
  },
  {
   "cell_type": "code",
   "execution_count": 13,
   "id": "262afeac",
   "metadata": {},
   "outputs": [
    {
     "data": {
      "text/plain": [
       "1"
      ]
     },
     "execution_count": 13,
     "metadata": {},
     "output_type": "execute_result"
    }
   ],
   "source": [
    "s.count(\"Herry Potter\")"
   ]
  },
  {
   "cell_type": "code",
   "execution_count": 17,
   "id": "07f17bf9",
   "metadata": {},
   "outputs": [
    {
     "data": {
      "text/plain": [
       "0"
      ]
     },
     "execution_count": 17,
     "metadata": {},
     "output_type": "execute_result"
    }
   ],
   "source": [
    "s.count(\"p\")"
   ]
  },
  {
   "cell_type": "code",
   "execution_count": null,
   "id": "3128e929",
   "metadata": {},
   "outputs": [],
   "source": []
  },
  {
   "cell_type": "code",
   "execution_count": 14,
   "id": "ff634600",
   "metadata": {},
   "outputs": [],
   "source": [
    "# Replace"
   ]
  },
  {
   "cell_type": "code",
   "execution_count": 15,
   "id": "59af0036",
   "metadata": {},
   "outputs": [],
   "source": [
    "s = \"Harry Potter and the Deathly Hallows\""
   ]
  },
  {
   "cell_type": "code",
   "execution_count": 16,
   "id": "ecd97daf",
   "metadata": {},
   "outputs": [
    {
     "data": {
      "text/plain": [
       "'Prxnxv'"
      ]
     },
     "execution_count": 16,
     "metadata": {},
     "output_type": "execute_result"
    }
   ],
   "source": [
    "\"Pranav\".replace(\"a\",\"x\")"
   ]
  },
  {
   "cell_type": "code",
   "execution_count": 18,
   "id": "ca289641",
   "metadata": {},
   "outputs": [
    {
     "data": {
      "text/plain": [
       "'Parry Potter and the Deathly Pallows'"
      ]
     },
     "execution_count": 18,
     "metadata": {},
     "output_type": "execute_result"
    }
   ],
   "source": [
    "s.replace(\"Ha\", \"Pa\")"
   ]
  },
  {
   "cell_type": "code",
   "execution_count": 19,
   "id": "25d639cf",
   "metadata": {},
   "outputs": [],
   "source": [
    "s = \"two two one one one three three one\""
   ]
  },
  {
   "cell_type": "code",
   "execution_count": 20,
   "id": "1b95f1db",
   "metadata": {},
   "outputs": [
    {
     "data": {
      "text/plain": [
       "'two two one one one 3 3 one'"
      ]
     },
     "execution_count": 20,
     "metadata": {},
     "output_type": "execute_result"
    }
   ],
   "source": [
    "s.replace(\"three\",\"3\")"
   ]
  },
  {
   "cell_type": "code",
   "execution_count": 21,
   "id": "db3033d5",
   "metadata": {},
   "outputs": [
    {
     "name": "stdout",
     "output_type": "stream",
     "text": [
      "Help on method_descriptor:\n",
      "\n",
      "replace(self, old, new, count=-1, /)\n",
      "    Return a copy with all occurrences of substring old replaced by new.\n",
      "    \n",
      "      count\n",
      "        Maximum number of occurrences to replace.\n",
      "        -1 (the default value) means replace all occurrences.\n",
      "    \n",
      "    If the optional argument count is given, only the first count occurrences are\n",
      "    replaced.\n",
      "\n"
     ]
    }
   ],
   "source": [
    "help(str.replace)"
   ]
  },
  {
   "cell_type": "code",
   "execution_count": 23,
   "id": "60a5f594",
   "metadata": {},
   "outputs": [
    {
     "data": {
      "text/plain": [
       "'two two 1 1 one three three one'"
      ]
     },
     "execution_count": 23,
     "metadata": {},
     "output_type": "execute_result"
    }
   ],
   "source": [
    "s = \"two two one one one three three one\"\n",
    "s.replace(\"one\",\"1\",2)"
   ]
  },
  {
   "cell_type": "code",
   "execution_count": 26,
   "id": "0a7a5b26",
   "metadata": {},
   "outputs": [
    {
     "data": {
      "text/plain": [
       "'two two 1 1 1 three three 1'"
      ]
     },
     "execution_count": 26,
     "metadata": {},
     "output_type": "execute_result"
    }
   ],
   "source": [
    "s = \"two two one one one three three one\"\n",
    "s.replace(\"one\",\"1\",-2) # negative count means all occ"
   ]
  },
  {
   "cell_type": "code",
   "execution_count": null,
   "id": "3c9d306b",
   "metadata": {},
   "outputs": [],
   "source": []
  },
  {
   "cell_type": "code",
   "execution_count": 24,
   "id": "d8267b5f",
   "metadata": {},
   "outputs": [],
   "source": [
    "# Formating"
   ]
  },
  {
   "cell_type": "code",
   "execution_count": 27,
   "id": "5b7e8f57",
   "metadata": {},
   "outputs": [
    {
     "name": "stdout",
     "output_type": "stream",
     "text": [
      "Hi my name is Sahil I am 24 years old\n"
     ]
    }
   ],
   "source": [
    "name = 'Sahil'\n",
    "age = 24\n",
    "\n",
    "print('Hi my name is', name, 'I am', age, 'years old')"
   ]
  },
  {
   "cell_type": "code",
   "execution_count": 31,
   "id": "19d04889",
   "metadata": {},
   "outputs": [
    {
     "name": "stdout",
     "output_type": "stream",
     "text": [
      "Hi, my name is Sahil I am 24 years old\n"
     ]
    }
   ],
   "source": [
    "greeting = \"Hi, my name is \" + name + \" I am \" + str(age) + \" years old\"\n",
    "print(greeting)"
   ]
  },
  {
   "cell_type": "code",
   "execution_count": 32,
   "id": "b352274b",
   "metadata": {},
   "outputs": [],
   "source": [
    "# .Format"
   ]
  },
  {
   "cell_type": "code",
   "execution_count": 34,
   "id": "4fe204b1",
   "metadata": {},
   "outputs": [
    {
     "name": "stdout",
     "output_type": "stream",
     "text": [
      "Hi my name is Pranav. I am 26 years old\n"
     ]
    }
   ],
   "source": [
    "name = 'Pranav'\n",
    "age = 26\n",
    "\n",
    "s = 'Hi my name is {}. I am {} years old'.format(name, age)\n",
    "print(s)"
   ]
  },
  {
   "cell_type": "code",
   "execution_count": 35,
   "id": "5c8c586a",
   "metadata": {},
   "outputs": [
    {
     "name": "stdout",
     "output_type": "stream",
     "text": [
      "Hi my name is 26. I am Pranav years old\n"
     ]
    }
   ],
   "source": [
    "name = 'Pranav'\n",
    "age = 26\n",
    "\n",
    "s = 'Hi my name is {}. I am {} years old'.format(age, name)\n",
    "print(s)"
   ]
  },
  {
   "cell_type": "code",
   "execution_count": 37,
   "id": "d33ce073",
   "metadata": {},
   "outputs": [
    {
     "name": "stdout",
     "output_type": "stream",
     "text": [
      "Hi my name is 26. I am Pranav years old. I want 45 burger\n"
     ]
    }
   ],
   "source": [
    "name = 'Pranav'\n",
    "age = 26\n",
    "\n",
    "s = 'Hi my name is {}. I am {} years old. I want {} burger'.format(age, name,45)\n",
    "print(s)"
   ]
  },
  {
   "cell_type": "code",
   "execution_count": 38,
   "id": "ac7e089c",
   "metadata": {},
   "outputs": [
    {
     "name": "stdout",
     "output_type": "stream",
     "text": [
      "Hi my name is {}. I am 26 years old. I want Pranav burger\n"
     ]
    }
   ],
   "source": [
    "name = 'Pranav'\n",
    "age = 26\n",
    "\n",
    "s = 'Hi my name is {{}}. I am {} years old. I want {} burger'.format(age, name,45)\n",
    "print(s)"
   ]
  },
  {
   "cell_type": "code",
   "execution_count": 39,
   "id": "2c734f66",
   "metadata": {},
   "outputs": [],
   "source": [
    "# f-string - Python3.6+"
   ]
  },
  {
   "cell_type": "code",
   "execution_count": 41,
   "id": "e55f1421",
   "metadata": {},
   "outputs": [
    {
     "name": "stdout",
     "output_type": "stream",
     "text": [
      "Hi my name is Pranav. I am 26 years old. I want -58 Pizzas\n"
     ]
    }
   ],
   "source": [
    "name = 'Pranav'\n",
    "age = 26\n",
    "\n",
    "s = f'Hi my name is {name}. I am {age} years old. I want {3*3-67} Pizzas'\n",
    "print(s)"
   ]
  },
  {
   "cell_type": "code",
   "execution_count": 42,
   "id": "f2356efa",
   "metadata": {},
   "outputs": [],
   "source": [
    "# immutable"
   ]
  },
  {
   "cell_type": "code",
   "execution_count": 43,
   "id": "00b486d6",
   "metadata": {},
   "outputs": [],
   "source": [
    "a = \"hello\""
   ]
  },
  {
   "cell_type": "code",
   "execution_count": 46,
   "id": "9c3cc4ba",
   "metadata": {},
   "outputs": [],
   "source": [
    "a = a + \" world\""
   ]
  },
  {
   "cell_type": "code",
   "execution_count": 47,
   "id": "ef4decd6",
   "metadata": {},
   "outputs": [
    {
     "data": {
      "text/plain": [
       "'hello world'"
      ]
     },
     "execution_count": 47,
     "metadata": {},
     "output_type": "execute_result"
    }
   ],
   "source": [
    "a"
   ]
  },
  {
   "cell_type": "code",
   "execution_count": null,
   "id": "a72d5bb8",
   "metadata": {},
   "outputs": [],
   "source": []
  },
  {
   "cell_type": "code",
   "execution_count": 48,
   "id": "24385239",
   "metadata": {},
   "outputs": [
    {
     "name": "stdout",
     "output_type": "stream",
     "text": [
      "11\n"
     ]
    }
   ],
   "source": [
    "a = 5\n",
    "a+=6\n",
    "print(a)"
   ]
  },
  {
   "cell_type": "code",
   "execution_count": 49,
   "id": "40c30be6",
   "metadata": {},
   "outputs": [],
   "source": [
    "a = \"Pranav\""
   ]
  },
  {
   "cell_type": "code",
   "execution_count": 50,
   "id": "7e3f94c2",
   "metadata": {},
   "outputs": [
    {
     "data": {
      "text/plain": [
       "4404034800"
      ]
     },
     "execution_count": 50,
     "metadata": {},
     "output_type": "execute_result"
    }
   ],
   "source": [
    "id(a)"
   ]
  },
  {
   "cell_type": "code",
   "execution_count": 51,
   "id": "a862ca09",
   "metadata": {},
   "outputs": [
    {
     "name": "stdout",
     "output_type": "stream",
     "text": [
      "Pranav Khandelwal\n"
     ]
    }
   ],
   "source": [
    "a+=\" Khandelwal\"\n",
    "print(a)"
   ]
  },
  {
   "cell_type": "code",
   "execution_count": 52,
   "id": "72f5a4b0",
   "metadata": {},
   "outputs": [
    {
     "data": {
      "text/plain": [
       "4417299360"
      ]
     },
     "execution_count": 52,
     "metadata": {},
     "output_type": "execute_result"
    }
   ],
   "source": [
    "id(a)"
   ]
  },
  {
   "cell_type": "code",
   "execution_count": 53,
   "id": "ad714881",
   "metadata": {},
   "outputs": [],
   "source": [
    "val = \"Scaler\""
   ]
  },
  {
   "cell_type": "code",
   "execution_count": 54,
   "id": "d402b35d",
   "metadata": {},
   "outputs": [
    {
     "ename": "TypeError",
     "evalue": "'str' object does not support item assignment",
     "output_type": "error",
     "traceback": [
      "\u001b[0;31m---------------------------------------------------------------------------\u001b[0m",
      "\u001b[0;31mTypeError\u001b[0m                                 Traceback (most recent call last)",
      "Input \u001b[0;32mIn [54]\u001b[0m, in \u001b[0;36m<cell line: 1>\u001b[0;34m()\u001b[0m\n\u001b[0;32m----> 1\u001b[0m val[\u001b[38;5;241m2\u001b[39m] \u001b[38;5;241m=\u001b[39m \u001b[38;5;124m\"\u001b[39m\u001b[38;5;124mu\u001b[39m\u001b[38;5;124m\"\u001b[39m\n",
      "\u001b[0;31mTypeError\u001b[0m: 'str' object does not support item assignment"
     ]
    }
   ],
   "source": [
    "val[2] = \"u\""
   ]
  },
  {
   "cell_type": "code",
   "execution_count": 55,
   "id": "e096da04",
   "metadata": {},
   "outputs": [],
   "source": [
    "s = \"nxothing\""
   ]
  },
  {
   "cell_type": "code",
   "execution_count": 56,
   "id": "16928359",
   "metadata": {},
   "outputs": [],
   "source": [
    "val = s.upper()"
   ]
  },
  {
   "cell_type": "code",
   "execution_count": 57,
   "id": "19f96355",
   "metadata": {},
   "outputs": [
    {
     "name": "stdout",
     "output_type": "stream",
     "text": [
      "nxothing\n",
      "4407719856\n",
      "NXOTHING\n",
      "4417195568\n"
     ]
    }
   ],
   "source": [
    "print(s)\n",
    "print(id(s))\n",
    "print(val)\n",
    "print(id(val))"
   ]
  },
  {
   "cell_type": "code",
   "execution_count": null,
   "id": "0cae2b27",
   "metadata": {},
   "outputs": [],
   "source": [
    "# Replace BEHIND THE SCENES\n",
    "val = \"Pranav\"\n",
    "old = \"a\"\n",
    "new = \"x\"\n",
    "\n",
    "res = \"Pr\" + \"x\" + \"n\" + \"x\" + \"v\"\n",
    "return res"
   ]
  },
  {
   "cell_type": "code",
   "execution_count": 58,
   "id": "78784d5c",
   "metadata": {},
   "outputs": [],
   "source": [
    "a = \"hello\""
   ]
  },
  {
   "cell_type": "code",
   "execution_count": 59,
   "id": "b0a9618d",
   "metadata": {},
   "outputs": [
    {
     "data": {
      "text/plain": [
       "4395800752"
      ]
     },
     "execution_count": 59,
     "metadata": {},
     "output_type": "execute_result"
    }
   ],
   "source": [
    "id(a)"
   ]
  },
  {
   "cell_type": "code",
   "execution_count": 60,
   "id": "b2497521",
   "metadata": {},
   "outputs": [],
   "source": [
    "b = \"hello\""
   ]
  },
  {
   "cell_type": "code",
   "execution_count": 61,
   "id": "3099e354",
   "metadata": {},
   "outputs": [
    {
     "data": {
      "text/plain": [
       "4395800752"
      ]
     },
     "execution_count": 61,
     "metadata": {},
     "output_type": "execute_result"
    }
   ],
   "source": [
    "id(b)"
   ]
  },
  {
   "cell_type": "code",
   "execution_count": 62,
   "id": "66cb6b66",
   "metadata": {},
   "outputs": [],
   "source": [
    "# Quizzez"
   ]
  },
  {
   "cell_type": "code",
   "execution_count": 63,
   "id": "4ecaed1e",
   "metadata": {},
   "outputs": [],
   "source": [
    "# Which one of the following is a palindrome?\n",
    "# a) radar\n",
    "# b) level\n",
    "# c) rahul -> luhar"
   ]
  },
  {
   "cell_type": "code",
   "execution_count": null,
   "id": "20facab6",
   "metadata": {},
   "outputs": [],
   "source": [
    "# naman -> naman"
   ]
  },
  {
   "cell_type": "code",
   "execution_count": null,
   "id": "bc223fbd",
   "metadata": {},
   "outputs": [],
   "source": [
    "# Naman -> namaN"
   ]
  },
  {
   "cell_type": "code",
   "execution_count": 64,
   "id": "5fbd2827",
   "metadata": {},
   "outputs": [
    {
     "name": "stdout",
     "output_type": "stream",
     "text": [
      "l\n"
     ]
    }
   ],
   "source": [
    "# Quiz 2\n",
    "l = [\"sahil\", \"bansal\"]\n",
    "print(l[0][-1])"
   ]
  },
  {
   "cell_type": "code",
   "execution_count": 67,
   "id": "9fe0e9a4",
   "metadata": {},
   "outputs": [
    {
     "name": "stdout",
     "output_type": "stream",
     "text": [
      "ABRACadabra\n"
     ]
    }
   ],
   "source": [
    "# Quiz 3\n",
    "\n",
    "def mystery(s):\n",
    "    i = len(s)//2\n",
    "    a = s[:i]\n",
    "    b = s[i:]\n",
    "    return a.upper() + b.lower()\n",
    "\n",
    "print(mystery(\"abracadabra\"))"
   ]
  },
  {
   "cell_type": "code",
   "execution_count": 68,
   "id": "7284f607",
   "metadata": {},
   "outputs": [
    {
     "name": "stdout",
     "output_type": "stream",
     "text": [
      "89\n"
     ]
    }
   ],
   "source": [
    "# Quiz 4\n",
    "print(ord('Y'))"
   ]
  },
  {
   "cell_type": "code",
   "execution_count": 69,
   "id": "6b32e8df",
   "metadata": {},
   "outputs": [
    {
     "name": "stdout",
     "output_type": "stream",
     "text": [
      "string1+string2\n"
     ]
    }
   ],
   "source": [
    "# Quiz 5 \n",
    "n = ['string1', 'string2']\n",
    "print(\"+\".join(n)) # string1+string2"
   ]
  },
  {
   "cell_type": "code",
   "execution_count": 70,
   "id": "e43076ce",
   "metadata": {},
   "outputs": [
    {
     "ename": "SyntaxError",
     "evalue": "f-string: empty expression not allowed (1441343249.py, line 4)",
     "output_type": "error",
     "traceback": [
      "\u001b[0;36m  Input \u001b[0;32mIn [70]\u001b[0;36m\u001b[0m\n\u001b[0;31m    print(f\"Hey my name is {} and my age is {age}\")\u001b[0m\n\u001b[0m          ^\u001b[0m\n\u001b[0;31mSyntaxError\u001b[0m\u001b[0;31m:\u001b[0m f-string: empty expression not allowed\n"
     ]
    }
   ],
   "source": [
    "# Quiz 6\n",
    "name = \"Emma\"\n",
    "age = 32\n",
    "print(f\"Hey my name is {} and my age is {age}\")"
   ]
  },
  {
   "cell_type": "code",
   "execution_count": 71,
   "id": "65b0cf75",
   "metadata": {},
   "outputs": [
    {
     "name": "stdout",
     "output_type": "stream",
     "text": [
      "False\n"
     ]
    }
   ],
   "source": [
    "# Quiz 7\n",
    "def mystery(s):\n",
    "    i = len(s)//2 # i = 11//2 -> 5\n",
    "    a = s[:i] # s[:5] -> abrac\n",
    "    b = s[i:] # a[5:] -> adabra\n",
    "    return a[0].isupper() # 'a'.isupper()\n",
    "\n",
    "print(mystery(\"abracadabra\"))"
   ]
  },
  {
   "cell_type": "code",
   "execution_count": 72,
   "id": "6a4be488",
   "metadata": {},
   "outputs": [
    {
     "name": "stdout",
     "output_type": "stream",
     "text": [
      "abracadabra\n"
     ]
    }
   ],
   "source": [
    "# Quiz 8\n",
    "def mystery(s):\n",
    "    i = len(s)//2 # i = 5\n",
    "    a = s[:i] # s[:5] -> abrac\n",
    "    b = s[i:] # s[5:] -> adabra\n",
    "    return a + b # abrac + adabra\n",
    "\n",
    "print(mystery(\"abracadabra\"))"
   ]
  },
  {
   "cell_type": "code",
   "execution_count": null,
   "id": "d3d3d279",
   "metadata": {},
   "outputs": [],
   "source": [
    "# Quiz 9\n",
    "# Given a string containing url, https, HTTPS, Https etc are \n",
    "# all valid addresses, how will you check if given address web is valid?\n",
    "\n",
    "# https://google.com\n",
    "# HTTPS://google.com\n",
    "# Https://google.com\n",
    "\n",
    "s.lower().startwith(\"https\")"
   ]
  },
  {
   "cell_type": "code",
   "execution_count": 73,
   "id": "7c5d8ee8",
   "metadata": {},
   "outputs": [
    {
     "name": "stdout",
     "output_type": "stream",
     "text": [
      "1 2 3 4\n"
     ]
    },
    {
     "data": {
      "text/plain": [
       "['1', '2', '3', '4']"
      ]
     },
     "execution_count": 73,
     "metadata": {},
     "output_type": "execute_result"
    }
   ],
   "source": [
    "input().split()"
   ]
  },
  {
   "cell_type": "code",
   "execution_count": null,
   "id": "ccf521f1",
   "metadata": {},
   "outputs": [],
   "source": []
  }
 ],
 "metadata": {
  "kernelspec": {
   "display_name": "Python 3 (ipykernel)",
   "language": "python",
   "name": "python3"
  },
  "language_info": {
   "codemirror_mode": {
    "name": "ipython",
    "version": 3
   },
   "file_extension": ".py",
   "mimetype": "text/x-python",
   "name": "python",
   "nbconvert_exporter": "python",
   "pygments_lexer": "ipython3",
   "version": "3.8.13"
  }
 },
 "nbformat": 4,
 "nbformat_minor": 5
}
