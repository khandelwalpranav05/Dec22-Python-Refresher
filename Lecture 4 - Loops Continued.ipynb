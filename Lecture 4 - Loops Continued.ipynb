{
 "cells": [
  {
   "cell_type": "code",
   "execution_count": null,
   "id": "13bb5688",
   "metadata": {},
   "outputs": [],
   "source": [
    "# Recap"
   ]
  },
  {
   "cell_type": "code",
   "execution_count": 1,
   "id": "77ae2fa8",
   "metadata": {},
   "outputs": [
    {
     "name": "stdout",
     "output_type": "stream",
     "text": [
      "ML is fun\n",
      "I love DS\n"
     ]
    }
   ],
   "source": [
    "# Quiz \n",
    "a = 1 # True\n",
    "b = 0 # False\n",
    "c = 1 # True\n",
    "if (a and b): # T and F -> False\n",
    "    print(\"Scaler is awesome\")\n",
    "elif (a and c): # T and T -> True\n",
    "    print(\"ML is fun\")\n",
    "if (a and b and c): # T and F and T-> False\n",
    "    print(\"Python is amazing\")\n",
    "if (a or b or c): # T or F or T -> True\n",
    "    print(\"I love DS\")"
   ]
  },
  {
   "cell_type": "code",
   "execution_count": 2,
   "id": "1503f15f",
   "metadata": {},
   "outputs": [],
   "source": [
    "# Ques"
   ]
  },
  {
   "cell_type": "code",
   "execution_count": 3,
   "id": "0852217c",
   "metadata": {},
   "outputs": [],
   "source": [
    "# check if no is odd or even\n",
    "# if odd then check if it's divisble by 3 or not\n",
    "# if even check if it's divisble by 4 or not"
   ]
  },
  {
   "cell_type": "code",
   "execution_count": null,
   "id": "47e5f9d8",
   "metadata": {},
   "outputs": [],
   "source": [
    "# odd and divisible by 3 -> \"YES ODD\"\n",
    "# Odd and not divisible -> \"YES ODD BUT NOT DIVISIBLE\"\n",
    "\n",
    "# even and divisible by 4 -> \"YES EVEN\"\n",
    "# even and not divisible -> \"YES EVEN BUT NOT DIVISIBLE\""
   ]
  },
  {
   "cell_type": "code",
   "execution_count": 4,
   "id": "7984b798",
   "metadata": {},
   "outputs": [
    {
     "name": "stdout",
     "output_type": "stream",
     "text": [
      "YES ODD\n"
     ]
    }
   ],
   "source": [
    "# first we just need to check if even or odd\n",
    "\n",
    "\n",
    "n = 15\n",
    "\n",
    "# Nested if else conditions\n",
    "if n%2==0:\n",
    "    # write another if else condition\n",
    "    if n%4==0:\n",
    "        print(\"YES EVEN\")\n",
    "    else:\n",
    "        print(\"YES EVEN BUT NOT DIVISIBLE\")\n",
    "else:\n",
    "    if n%3==0:\n",
    "        print(\"YES ODD\")\n",
    "    else:\n",
    "        print(\"YES ODD BUT NOT DIVISIBLE\")"
   ]
  },
  {
   "cell_type": "code",
   "execution_count": 5,
   "id": "7cec4d87",
   "metadata": {},
   "outputs": [
    {
     "name": "stdout",
     "output_type": "stream",
     "text": [
      "1\n",
      "2\n",
      "3\n",
      "4\n",
      "5\n",
      "6\n",
      "7\n",
      "8\n",
      "9\n",
      "10\n"
     ]
    }
   ],
   "source": [
    "i = 1\n",
    "\n",
    "while i<=10:\n",
    "    print(i)\n",
    "    i+=1\n"
   ]
  },
  {
   "cell_type": "code",
   "execution_count": 7,
   "id": "6b668534",
   "metadata": {},
   "outputs": [
    {
     "name": "stdout",
     "output_type": "stream",
     "text": [
      "1 2 3 4 5 "
     ]
    }
   ],
   "source": [
    "# 1 to n\n",
    "# 1 2 3 4 5\n",
    "n = 5\n",
    "\n",
    "i = 1\n",
    "\n",
    "while i<=n:\n",
    "    print(i, end=\" \") # print(i, end=\"\\n\")\n",
    "    i+=1\n"
   ]
  },
  {
   "cell_type": "code",
   "execution_count": 8,
   "id": "54531926",
   "metadata": {},
   "outputs": [
    {
     "name": "stdout",
     "output_type": "stream",
     "text": [
      "1 2 3 4 5\n"
     ]
    }
   ],
   "source": [
    "print(1,2,3,4,5)"
   ]
  },
  {
   "cell_type": "code",
   "execution_count": 15,
   "id": "a42b96bf",
   "metadata": {},
   "outputs": [
    {
     "name": "stdout",
     "output_type": "stream",
     "text": [
      "1 3 5 7 9 "
     ]
    }
   ],
   "source": [
    "# print all odd values from 1 to n\n",
    "# 1 3 5 7 9\n",
    "\n",
    "# Solution A\n",
    "\n",
    "n = 9\n",
    "\n",
    "i = 1 # ini\n",
    "\n",
    "while i<=n: # condition\n",
    "    if i%2!=0: # Odd conditions\n",
    "        print(i, end=\" \")\n",
    "    i+=1 # updation"
   ]
  },
  {
   "cell_type": "code",
   "execution_count": 16,
   "id": "e6cdd937",
   "metadata": {},
   "outputs": [
    {
     "name": "stdout",
     "output_type": "stream",
     "text": [
      "1 3 5 7 9 "
     ]
    }
   ],
   "source": [
    "# Solution B\n",
    "\n",
    "n = 9\n",
    "\n",
    "i = 1 # ini\n",
    "\n",
    "while i<=n: # condition\n",
    "    print(i, end=\" \")\n",
    "    i+=2 # updation"
   ]
  },
  {
   "cell_type": "code",
   "execution_count": 17,
   "id": "e264929c",
   "metadata": {},
   "outputs": [],
   "source": [
    "# Print even values from 1 to N\n",
    "# HomeWork"
   ]
  },
  {
   "cell_type": "code",
   "execution_count": 21,
   "id": "d5ef99de",
   "metadata": {},
   "outputs": [
    {
     "name": "stdout",
     "output_type": "stream",
     "text": [
      "7 14 21 28 35 "
     ]
    }
   ],
   "source": [
    "# Print Value from 1 to N\n",
    "# Where values are divisible by 7\n",
    "# 7 14 21 28 35\n",
    "n = 40\n",
    "\n",
    "# you can use if condition to check divisibility by 7\n",
    "# OR\n",
    "# you can update with +=7\n",
    "i = 7\n",
    "\n",
    "while i<=n:\n",
    "    print(i, end=\" \")\n",
    "    i+=7\n",
    "    "
   ]
  },
  {
   "cell_type": "code",
   "execution_count": 31,
   "id": "904a47a0",
   "metadata": {},
   "outputs": [
    {
     "name": "stdout",
     "output_type": "stream",
     "text": [
      "5 4 3 2 1 "
     ]
    }
   ],
   "source": [
    "# Print values from N to 1\n",
    "# 5 4 3 2 1\n",
    "n = 5\n",
    "\n",
    "i = n\n",
    "\n",
    "while i>0:\n",
    "    print(i, end=\" \")\n",
    "    i-=1 # decrement\n"
   ]
  },
  {
   "cell_type": "code",
   "execution_count": 33,
   "id": "b6adfd8c",
   "metadata": {},
   "outputs": [
    {
     "ename": "NameError",
     "evalue": "name 'x' is not defined",
     "output_type": "error",
     "traceback": [
      "\u001b[0;31m---------------------------------------------------------------------------\u001b[0m",
      "\u001b[0;31mNameError\u001b[0m                                 Traceback (most recent call last)",
      "Input \u001b[0;32mIn [33]\u001b[0m, in \u001b[0;36m<cell line: 4>\u001b[0;34m()\u001b[0m\n\u001b[1;32m      1\u001b[0m \u001b[38;5;66;03m# Quiz\u001b[39;00m\n\u001b[1;32m      3\u001b[0m N \u001b[38;5;241m=\u001b[39m \u001b[38;5;241m2\u001b[39m\n\u001b[0;32m----> 4\u001b[0m \u001b[38;5;28;01mwhile\u001b[39;00m \u001b[43mx\u001b[49m \u001b[38;5;241m<\u001b[39m\u001b[38;5;241m=\u001b[39m N:\n\u001b[1;32m      5\u001b[0m     \u001b[38;5;28mprint\u001b[39m(x)\n\u001b[1;32m      6\u001b[0m     x \u001b[38;5;241m+\u001b[39m\u001b[38;5;241m=\u001b[39m \u001b[38;5;241m1\u001b[39m\n",
      "\u001b[0;31mNameError\u001b[0m: name 'x' is not defined"
     ]
    }
   ],
   "source": [
    "# Quiz\n",
    "\n",
    "N = 2\n",
    "while x <= N: # condition\n",
    "    print(x)\n",
    "    x += 1 # updation\n",
    "\n",
    "print(5)"
   ]
  },
  {
   "cell_type": "code",
   "execution_count": null,
   "id": "222746ab",
   "metadata": {},
   "outputs": [],
   "source": []
  },
  {
   "cell_type": "code",
   "execution_count": null,
   "id": "638bed4a",
   "metadata": {},
   "outputs": [],
   "source": []
  }
 ],
 "metadata": {
  "kernelspec": {
   "display_name": "Python 3 (ipykernel)",
   "language": "python",
   "name": "python3"
  },
  "language_info": {
   "codemirror_mode": {
    "name": "ipython",
    "version": 3
   },
   "file_extension": ".py",
   "mimetype": "text/x-python",
   "name": "python",
   "nbconvert_exporter": "python",
   "pygments_lexer": "ipython3",
   "version": "3.8.13"
  }
 },
 "nbformat": 4,
 "nbformat_minor": 5
}
