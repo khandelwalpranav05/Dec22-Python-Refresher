{
 "cells": [
  {
   "cell_type": "code",
   "execution_count": 1,
   "id": "cf43ec37",
   "metadata": {},
   "outputs": [],
   "source": [
    "# Recap"
   ]
  },
  {
   "cell_type": "code",
   "execution_count": 2,
   "id": "0f624fc2",
   "metadata": {},
   "outputs": [],
   "source": [
    "val = [2,3,7,9]"
   ]
  },
  {
   "cell_type": "code",
   "execution_count": 3,
   "id": "bf1222f9",
   "metadata": {},
   "outputs": [],
   "source": [
    "del val[2] # del is operator and pop is a method"
   ]
  },
  {
   "cell_type": "code",
   "execution_count": 4,
   "id": "b092fd61",
   "metadata": {},
   "outputs": [
    {
     "data": {
      "text/plain": [
       "[2, 3, 9]"
      ]
     },
     "execution_count": 4,
     "metadata": {},
     "output_type": "execute_result"
    }
   ],
   "source": [
    "val"
   ]
  },
  {
   "cell_type": "code",
   "execution_count": 5,
   "id": "caaecb7c",
   "metadata": {},
   "outputs": [
    {
     "data": {
      "text/plain": [
       "3"
      ]
     },
     "execution_count": 5,
     "metadata": {},
     "output_type": "execute_result"
    }
   ],
   "source": [
    "val.pop(1)"
   ]
  },
  {
   "cell_type": "code",
   "execution_count": 6,
   "id": "c38a9285",
   "metadata": {},
   "outputs": [
    {
     "data": {
      "text/plain": [
       "[2, 9]"
      ]
     },
     "execution_count": 6,
     "metadata": {},
     "output_type": "execute_result"
    }
   ],
   "source": [
    "val"
   ]
  },
  {
   "cell_type": "code",
   "execution_count": null,
   "id": "9855f8d7",
   "metadata": {},
   "outputs": [],
   "source": [
    "val.pop() v/s del val[idx]"
   ]
  },
  {
   "cell_type": "code",
   "execution_count": null,
   "id": "0e026e25",
   "metadata": {},
   "outputs": [],
   "source": [
    "val.pop() # default index = -1"
   ]
  },
  {
   "cell_type": "code",
   "execution_count": 8,
   "id": "6733a34b",
   "metadata": {},
   "outputs": [
    {
     "name": "stdout",
     "output_type": "stream",
     "text": [
      "Help on built-in function pop:\n",
      "\n",
      "pop(index=-1, /) method of builtins.list instance\n",
      "    Remove and return item at index (default last).\n",
      "    \n",
      "    Raises IndexError if list is empty or index is out of range.\n",
      "\n"
     ]
    }
   ],
   "source": [
    "help(val.pop)"
   ]
  },
  {
   "cell_type": "code",
   "execution_count": 9,
   "id": "de25dfd3",
   "metadata": {},
   "outputs": [
    {
     "name": "stdout",
     "output_type": "stream",
     "text": [
      "-2\n"
     ]
    }
   ],
   "source": [
    "# Quiz\n",
    "l = [5, 1, -2, 2, 3, 4]\n",
    "print(l[2])"
   ]
  },
  {
   "cell_type": "code",
   "execution_count": 17,
   "id": "ca471d95",
   "metadata": {},
   "outputs": [
    {
     "name": "stdout",
     "output_type": "stream",
     "text": [
      "Found it at index: 4\n"
     ]
    }
   ],
   "source": [
    "# Find the index of the value 99 in this array:\n",
    "runs = [0, 1, 55, 67, 99, 120, 200]\n",
    "target = 99\n",
    "found = False\n",
    "# iterate\n",
    "for idx in range(len(runs)):\n",
    "    if runs[idx]==target:\n",
    "        print(\"Found it at index:\",idx)\n",
    "        found = True\n",
    "        break\n",
    "        \n",
    "if found==False:\n",
    "    print(\"Not Found!\")"
   ]
  },
  {
   "cell_type": "code",
   "execution_count": null,
   "id": "baa44502",
   "metadata": {},
   "outputs": [],
   "source": [
    "# if target does not exist list"
   ]
  },
  {
   "cell_type": "code",
   "execution_count": 22,
   "id": "0632ec11",
   "metadata": {},
   "outputs": [
    {
     "name": "stdout",
     "output_type": "stream",
     "text": [
      "False\n"
     ]
    }
   ],
   "source": [
    "# If target found return index\n",
    "# if not found return False\n",
    "def find_index_of_target(lst, target):\n",
    "    for idx in range(len(lst)):\n",
    "        if lst[idx]==target:\n",
    "#             print(\"Found it at index:\",idx)\n",
    "            return idx\n",
    "\n",
    "    # if i'm here at the function does that mean i found the target ?\n",
    "    return False\n",
    "\n",
    "\n",
    "print(find_index_of_target(runs,55555))"
   ]
  },
  {
   "cell_type": "code",
   "execution_count": 23,
   "id": "afa48db3",
   "metadata": {},
   "outputs": [],
   "source": [
    "# Python in built function"
   ]
  },
  {
   "cell_type": "code",
   "execution_count": 25,
   "id": "f15d81ba",
   "metadata": {},
   "outputs": [
    {
     "name": "stdout",
     "output_type": "stream",
     "text": [
      "2\n"
     ]
    }
   ],
   "source": [
    "runs = [0, 1, 55, 67, 99, 120, 200, 55]\n",
    "print(runs.index(55))"
   ]
  },
  {
   "cell_type": "code",
   "execution_count": 26,
   "id": "690ccef5",
   "metadata": {},
   "outputs": [
    {
     "data": {
      "text/plain": [
       "4"
      ]
     },
     "execution_count": 26,
     "metadata": {},
     "output_type": "execute_result"
    }
   ],
   "source": [
    "runs.index(99)"
   ]
  },
  {
   "cell_type": "code",
   "execution_count": 27,
   "id": "44892553",
   "metadata": {},
   "outputs": [
    {
     "ename": "ValueError",
     "evalue": "567 is not in list",
     "output_type": "error",
     "traceback": [
      "\u001b[0;31m---------------------------------------------------------------------------\u001b[0m",
      "\u001b[0;31mValueError\u001b[0m                                Traceback (most recent call last)",
      "Input \u001b[0;32mIn [27]\u001b[0m, in \u001b[0;36m<cell line: 1>\u001b[0;34m()\u001b[0m\n\u001b[0;32m----> 1\u001b[0m \u001b[43mruns\u001b[49m\u001b[38;5;241;43m.\u001b[39;49m\u001b[43mindex\u001b[49m\u001b[43m(\u001b[49m\u001b[38;5;241;43m567\u001b[39;49m\u001b[43m)\u001b[49m\n",
      "\u001b[0;31mValueError\u001b[0m: 567 is not in list"
     ]
    }
   ],
   "source": [
    "runs.index(567)"
   ]
  },
  {
   "cell_type": "code",
   "execution_count": 28,
   "id": "7175ec0c",
   "metadata": {},
   "outputs": [
    {
     "name": "stdout",
     "output_type": "stream",
     "text": [
      "Help on method_descriptor:\n",
      "\n",
      "index(self, value, start=0, stop=9223372036854775807, /)\n",
      "    Return first index of value.\n",
      "    \n",
      "    Raises ValueError if the value is not present.\n",
      "\n"
     ]
    }
   ],
   "source": [
    "help(list.index)"
   ]
  },
  {
   "cell_type": "code",
   "execution_count": 29,
   "id": "82184972",
   "metadata": {},
   "outputs": [
    {
     "name": "stdout",
     "output_type": "stream",
     "text": [
      "4\n"
     ]
    }
   ],
   "source": [
    "target = 99\n",
    "runs = [0, 1, 55, 67, 99, 120, 200, 55]\n",
    "\n",
    "if target in runs:\n",
    "    print(runs.index(target))\n",
    "else:\n",
    "    print(\"Not Found\")"
   ]
  },
  {
   "cell_type": "code",
   "execution_count": 30,
   "id": "63dc8c81",
   "metadata": {},
   "outputs": [],
   "source": [
    "# Count"
   ]
  },
  {
   "cell_type": "code",
   "execution_count": 36,
   "id": "c7815183",
   "metadata": {},
   "outputs": [
    {
     "name": "stdout",
     "output_type": "stream",
     "text": [
      "3\n"
     ]
    }
   ],
   "source": [
    "val = [2,8,4,8,6,7,8,5,4]\n",
    "target = 8\n",
    "# Output -> 3\n",
    "\n",
    "counter = 0\n",
    "for value in val:\n",
    "    if value==target:\n",
    "        counter+=1\n",
    "        \n",
    "print(counter)"
   ]
  },
  {
   "cell_type": "code",
   "execution_count": 38,
   "id": "889447d7",
   "metadata": {},
   "outputs": [
    {
     "name": "stdout",
     "output_type": "stream",
     "text": [
      "3\n"
     ]
    }
   ],
   "source": [
    "print(val.count(target)) # inbuilt python method"
   ]
  },
  {
   "cell_type": "code",
   "execution_count": null,
   "id": "1df98db7",
   "metadata": {},
   "outputs": [],
   "source": []
  },
  {
   "cell_type": "code",
   "execution_count": 40,
   "id": "625621f4",
   "metadata": {},
   "outputs": [],
   "source": [
    "runs = [0, 99, 1, 99, 23, 99, 98, 100, 204, 199]\n",
    "# Find max in list"
   ]
  },
  {
   "cell_type": "code",
   "execution_count": 44,
   "id": "b946befa",
   "metadata": {},
   "outputs": [
    {
     "name": "stdout",
     "output_type": "stream",
     "text": [
      "Maximum Value: 989\n"
     ]
    }
   ],
   "source": [
    "runs = [0, 99, 1, 989, 23, 99, 98, 100, 204, 199]\n",
    "\n",
    "max_value = runs[0]\n",
    "\n",
    "#m index loop\n",
    "for idx in range(1,len(runs)): # 1 to n-1\n",
    "    current_value = runs[idx]\n",
    "    if current_value > max_value:\n",
    "        max_value = current_value\n",
    "\n",
    "print(\"Maximum Value:\", max_value)"
   ]
  },
  {
   "cell_type": "code",
   "execution_count": 46,
   "id": "9bb00239",
   "metadata": {},
   "outputs": [
    {
     "name": "stdout",
     "output_type": "stream",
     "text": [
      "Maximum Value: 989\n"
     ]
    }
   ],
   "source": [
    "runs = [0, 99, 1, 989, 23, 99, 98, 100, 204, 199]\n",
    "\n",
    "max_value = runs[0]\n",
    "\n",
    "# value loop\n",
    "for value in runs:\n",
    "    if value > max_value:\n",
    "        max_value = value\n",
    "\n",
    "print(\"Maximum Value:\", max_value)"
   ]
  },
  {
   "cell_type": "code",
   "execution_count": 47,
   "id": "58480690",
   "metadata": {},
   "outputs": [
    {
     "data": {
      "text/plain": [
       "989"
      ]
     },
     "execution_count": 47,
     "metadata": {},
     "output_type": "execute_result"
    }
   ],
   "source": [
    "max(runs) # Python method"
   ]
  },
  {
   "cell_type": "code",
   "execution_count": 48,
   "id": "0f22c0cc",
   "metadata": {},
   "outputs": [
    {
     "data": {
      "text/plain": [
       "1812"
      ]
     },
     "execution_count": 48,
     "metadata": {},
     "output_type": "execute_result"
    }
   ],
   "source": [
    "sum(runs)"
   ]
  },
  {
   "cell_type": "code",
   "execution_count": 49,
   "id": "a91c5a7b",
   "metadata": {},
   "outputs": [
    {
     "data": {
      "text/plain": [
       "0"
      ]
     },
     "execution_count": 49,
     "metadata": {},
     "output_type": "execute_result"
    }
   ],
   "source": [
    "min(runs)"
   ]
  },
  {
   "cell_type": "code",
   "execution_count": 50,
   "id": "dc353f79",
   "metadata": {},
   "outputs": [],
   "source": [
    "# homework\n",
    "# Write the code for sum as well as min value in list"
   ]
  },
  {
   "cell_type": "code",
   "execution_count": 51,
   "id": "35db7f82",
   "metadata": {},
   "outputs": [
    {
     "name": "stdout",
     "output_type": "stream",
     "text": [
      "36 1 96 "
     ]
    }
   ],
   "source": [
    "# Quiz\n",
    "nums = [12, 2, 1, 22, 23, 36]\n",
    "print(max(nums), end=' ')\n",
    "print(min(nums), end=' ')\n",
    "print(sum(nums), end=' ')"
   ]
  },
  {
   "cell_type": "code",
   "execution_count": 52,
   "id": "0dd5996f",
   "metadata": {},
   "outputs": [
    {
     "name": "stdout",
     "output_type": "stream",
     "text": [
      "0 2 2 "
     ]
    }
   ],
   "source": [
    "# Quiz\n",
    "#        0  1  2   3   4   5   6  \n",
    "nums = [12, 2, 1, 22, 22, 23, 36]\n",
    " \n",
    "print(nums.count(4), end=' ') # 0\n",
    "print(nums.count(22), end=' ') # 2\n",
    "print(nums.index(1), end=' ') # 2"
   ]
  },
  {
   "cell_type": "code",
   "execution_count": null,
   "id": "f37d7ef0",
   "metadata": {},
   "outputs": [],
   "source": []
  },
  {
   "cell_type": "code",
   "execution_count": 53,
   "id": "66ee6ba5",
   "metadata": {},
   "outputs": [],
   "source": [
    "# List Slicing"
   ]
  },
  {
   "cell_type": "code",
   "execution_count": 54,
   "id": "565c0e4a",
   "metadata": {},
   "outputs": [],
   "source": [
    "#      0 1 2 3 4 5\n",
    "val = [2,6,3,9,4,5]"
   ]
  },
  {
   "cell_type": "code",
   "execution_count": 55,
   "id": "c7c91e0d",
   "metadata": {},
   "outputs": [
    {
     "data": {
      "text/plain": [
       "[2, 6, 3, 9]"
      ]
     },
     "execution_count": 55,
     "metadata": {},
     "output_type": "execute_result"
    }
   ],
   "source": [
    "val[0:4]"
   ]
  },
  {
   "cell_type": "code",
   "execution_count": 56,
   "id": "10e843ef",
   "metadata": {},
   "outputs": [
    {
     "data": {
      "text/plain": [
       "[2, 6, 3, 9, 4, 5]"
      ]
     },
     "execution_count": 56,
     "metadata": {},
     "output_type": "execute_result"
    }
   ],
   "source": [
    "val"
   ]
  },
  {
   "cell_type": "code",
   "execution_count": 57,
   "id": "7fac519e",
   "metadata": {},
   "outputs": [
    {
     "data": {
      "text/plain": [
       "[3, 9, 4]"
      ]
     },
     "execution_count": 57,
     "metadata": {},
     "output_type": "execute_result"
    }
   ],
   "source": [
    "val[2:5] # start = 2, end = 5 and end is not included"
   ]
  },
  {
   "cell_type": "code",
   "execution_count": 58,
   "id": "85131fea",
   "metadata": {},
   "outputs": [
    {
     "name": "stdout",
     "output_type": "stream",
     "text": [
      "[6, 3, 9]\n",
      "[2, 6, 3, 9, 4, 5]\n"
     ]
    }
   ],
   "source": [
    "x = val[1:4]\n",
    "print(x)\n",
    "print(val)"
   ]
  },
  {
   "cell_type": "code",
   "execution_count": 59,
   "id": "a6bfa300",
   "metadata": {},
   "outputs": [
    {
     "data": {
      "text/plain": [
       "[3, 9]"
      ]
     },
     "execution_count": 59,
     "metadata": {},
     "output_type": "execute_result"
    }
   ],
   "source": [
    "val[-4:-2]"
   ]
  },
  {
   "cell_type": "code",
   "execution_count": 60,
   "id": "bfd1f184",
   "metadata": {},
   "outputs": [
    {
     "data": {
      "text/plain": [
       "[2, 6, 3, 9]"
      ]
     },
     "execution_count": 60,
     "metadata": {},
     "output_type": "execute_result"
    }
   ],
   "source": [
    "val[:4]"
   ]
  },
  {
   "cell_type": "code",
   "execution_count": 61,
   "id": "7f93d23a",
   "metadata": {},
   "outputs": [
    {
     "data": {
      "text/plain": [
       "[9, 4, 5]"
      ]
     },
     "execution_count": 61,
     "metadata": {},
     "output_type": "execute_result"
    }
   ],
   "source": [
    "val[3:]"
   ]
  },
  {
   "cell_type": "code",
   "execution_count": 62,
   "id": "3d01e72d",
   "metadata": {},
   "outputs": [],
   "source": [
    "val = [2,6,3,9,4,5]"
   ]
  },
  {
   "cell_type": "code",
   "execution_count": 63,
   "id": "e57e8c5c",
   "metadata": {},
   "outputs": [
    {
     "data": {
      "text/plain": [
       "[6, 3, 9, 4]"
      ]
     },
     "execution_count": 63,
     "metadata": {},
     "output_type": "execute_result"
    }
   ],
   "source": [
    "val[1:5:1] # val[start:end:step], s = 1, e = 5, step=1, end is not included"
   ]
  },
  {
   "cell_type": "code",
   "execution_count": 64,
   "id": "904627a9",
   "metadata": {},
   "outputs": [
    {
     "data": {
      "text/plain": [
       "[6, 9]"
      ]
     },
     "execution_count": 64,
     "metadata": {},
     "output_type": "execute_result"
    }
   ],
   "source": [
    "val[1:5:2]"
   ]
  },
  {
   "cell_type": "code",
   "execution_count": 65,
   "id": "559c7bc1",
   "metadata": {},
   "outputs": [
    {
     "data": {
      "text/plain": [
       "[3, 9, 4, 5]"
      ]
     },
     "execution_count": 65,
     "metadata": {},
     "output_type": "execute_result"
    }
   ],
   "source": [
    "val[2::] # start = 2, end=default->len(val)->n, step=default->1"
   ]
  },
  {
   "cell_type": "code",
   "execution_count": 66,
   "id": "3a6331e4",
   "metadata": {},
   "outputs": [
    {
     "data": {
      "text/plain": [
       "[2, 3]"
      ]
     },
     "execution_count": 66,
     "metadata": {},
     "output_type": "execute_result"
    }
   ],
   "source": [
    "val[0:4:2]"
   ]
  },
  {
   "cell_type": "code",
   "execution_count": 67,
   "id": "9829bf96",
   "metadata": {},
   "outputs": [
    {
     "data": {
      "text/plain": [
       "[2, 6, 3, 9, 4, 5]"
      ]
     },
     "execution_count": 67,
     "metadata": {},
     "output_type": "execute_result"
    }
   ],
   "source": [
    "val[::]"
   ]
  },
  {
   "cell_type": "code",
   "execution_count": 68,
   "id": "3920cdd6",
   "metadata": {},
   "outputs": [
    {
     "name": "stdout",
     "output_type": "stream",
     "text": [
      "[3]\n"
     ]
    }
   ],
   "source": [
    "val = [2,6,3,9,4,5]\n",
    "print(val[-4:-2:2])"
   ]
  },
  {
   "cell_type": "code",
   "execution_count": 69,
   "id": "01679040",
   "metadata": {},
   "outputs": [
    {
     "data": {
      "text/plain": [
       "[4, 9, 3]"
      ]
     },
     "execution_count": 69,
     "metadata": {},
     "output_type": "execute_result"
    }
   ],
   "source": [
    "val[-2:-5:-1]"
   ]
  },
  {
   "cell_type": "code",
   "execution_count": 70,
   "id": "1ff38fd1",
   "metadata": {},
   "outputs": [
    {
     "data": {
      "text/plain": [
       "[5, 9]"
      ]
     },
     "execution_count": 70,
     "metadata": {},
     "output_type": "execute_result"
    }
   ],
   "source": [
    "val[-1:-5:-2]"
   ]
  },
  {
   "cell_type": "code",
   "execution_count": 71,
   "id": "9e40c7a3",
   "metadata": {},
   "outputs": [],
   "source": [
    "n = len(val)"
   ]
  },
  {
   "cell_type": "code",
   "execution_count": 72,
   "id": "8b669d4e",
   "metadata": {},
   "outputs": [
    {
     "data": {
      "text/plain": [
       "[5, 4, 9, 3, 6]"
      ]
     },
     "execution_count": 72,
     "metadata": {},
     "output_type": "execute_result"
    }
   ],
   "source": [
    "val[-1:-n:-1]"
   ]
  },
  {
   "cell_type": "code",
   "execution_count": 73,
   "id": "5b33d453",
   "metadata": {
    "scrolled": true
   },
   "outputs": [
    {
     "name": "stdout",
     "output_type": "stream",
     "text": [
      "[5, 4, 9, 3, 6]\n"
     ]
    }
   ],
   "source": [
    "val = [2,6,3,9,4,5]\n",
    "print(val[n:0:-1])"
   ]
  },
  {
   "cell_type": "code",
   "execution_count": 74,
   "id": "b0f5d0b2",
   "metadata": {},
   "outputs": [
    {
     "data": {
      "text/plain": [
       "[2, 6, 3, 9, 4, 5]"
      ]
     },
     "execution_count": 74,
     "metadata": {},
     "output_type": "execute_result"
    }
   ],
   "source": [
    "val[0:456] # is stepper -ve or +ve in this case ?\n",
    "# s = 0. end = default to N"
   ]
  },
  {
   "cell_type": "code",
   "execution_count": 75,
   "id": "13fe6513",
   "metadata": {},
   "outputs": [
    {
     "data": {
      "text/plain": [
       "[2, 6, 3, 9, 4]"
      ]
     },
     "execution_count": 75,
     "metadata": {},
     "output_type": "execute_result"
    }
   ],
   "source": [
    "val[0:-1]"
   ]
  },
  {
   "cell_type": "code",
   "execution_count": 76,
   "id": "58afa9c3",
   "metadata": {},
   "outputs": [
    {
     "data": {
      "text/plain": [
       "[6, 3, 9]"
      ]
     },
     "execution_count": 76,
     "metadata": {},
     "output_type": "execute_result"
    }
   ],
   "source": [
    "val[-5:4]"
   ]
  },
  {
   "cell_type": "code",
   "execution_count": 77,
   "id": "1eec3be5",
   "metadata": {},
   "outputs": [
    {
     "data": {
      "text/plain": [
       "[10, 5, 6]"
      ]
     },
     "execution_count": 77,
     "metadata": {},
     "output_type": "execute_result"
    }
   ],
   "source": [
    "# Quiz\n",
    "#     0  1  2  3  4\n",
    "l = [10, 2, 5, 3, 6]\n",
    "l[0:5:2]"
   ]
  },
  {
   "cell_type": "code",
   "execution_count": 78,
   "id": "d9701ca2",
   "metadata": {},
   "outputs": [
    {
     "name": "stdout",
     "output_type": "stream",
     "text": [
      "[2, 3, 7]\n"
     ]
    }
   ],
   "source": [
    "# Quiz \n",
    "#    0  1  2  3  4  5\n",
    "l = [5, 1, 2, 3, 7, 8]\n",
    "res = l[2:5] # default jump = +1\n",
    "print(res)"
   ]
  },
  {
   "cell_type": "code",
   "execution_count": 79,
   "id": "c79973db",
   "metadata": {},
   "outputs": [
    {
     "data": {
      "text/plain": [
       "[]"
      ]
     },
     "execution_count": 79,
     "metadata": {},
     "output_type": "execute_result"
    }
   ],
   "source": [
    "val[3:1]"
   ]
  },
  {
   "cell_type": "code",
   "execution_count": 80,
   "id": "55804c0c",
   "metadata": {},
   "outputs": [],
   "source": [
    "for i in range(3,1):\n",
    "    print(i)"
   ]
  },
  {
   "cell_type": "code",
   "execution_count": 81,
   "id": "c5e7ed59",
   "metadata": {},
   "outputs": [
    {
     "data": {
      "text/plain": [
       "[]"
      ]
     },
     "execution_count": 81,
     "metadata": {},
     "output_type": "execute_result"
    }
   ],
   "source": [
    "val[-1:-1]"
   ]
  },
  {
   "cell_type": "code",
   "execution_count": null,
   "id": "182499db",
   "metadata": {},
   "outputs": [],
   "source": [
    "val[::-1] # reverse ?"
   ]
  },
  {
   "cell_type": "code",
   "execution_count": 83,
   "id": "da4173ad",
   "metadata": {},
   "outputs": [
    {
     "name": "stdout",
     "output_type": "stream",
     "text": [
      "hello\n"
     ]
    }
   ],
   "source": [
    "print(\"hello\")"
   ]
  },
  {
   "cell_type": "code",
   "execution_count": 84,
   "id": "0a98bd85",
   "metadata": {},
   "outputs": [
    {
     "data": {
      "text/plain": [
       "True"
      ]
     },
     "execution_count": 84,
     "metadata": {},
     "output_type": "execute_result"
    }
   ],
   "source": [
    "4 in [1,2,3,4,5]"
   ]
  },
  {
   "cell_type": "code",
   "execution_count": null,
   "id": "6dcbff2e",
   "metadata": {},
   "outputs": [],
   "source": []
  }
 ],
 "metadata": {
  "kernelspec": {
   "display_name": "Python 3 (ipykernel)",
   "language": "python",
   "name": "python3"
  },
  "language_info": {
   "codemirror_mode": {
    "name": "ipython",
    "version": 3
   },
   "file_extension": ".py",
   "mimetype": "text/x-python",
   "name": "python",
   "nbconvert_exporter": "python",
   "pygments_lexer": "ipython3",
   "version": "3.8.13"
  }
 },
 "nbformat": 4,
 "nbformat_minor": 5
}
