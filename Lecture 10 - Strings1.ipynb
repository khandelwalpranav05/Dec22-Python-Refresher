{
 "cells": [
  {
   "cell_type": "code",
   "execution_count": 21,
   "id": "7fc07b34",
   "metadata": {},
   "outputs": [],
   "source": [
    "val = []"
   ]
  },
  {
   "cell_type": "code",
   "execution_count": 23,
   "id": "d1556fad",
   "metadata": {},
   "outputs": [],
   "source": [
    "val = [[],[],[]]"
   ]
  },
  {
   "cell_type": "code",
   "execution_count": 24,
   "id": "6cee1340",
   "metadata": {},
   "outputs": [],
   "source": [
    "# Strings"
   ]
  },
  {
   "cell_type": "code",
   "execution_count": 25,
   "id": "7e90afe2",
   "metadata": {},
   "outputs": [],
   "source": [
    "val = \"Pranav\""
   ]
  },
  {
   "cell_type": "code",
   "execution_count": 26,
   "id": "8deb0ae2",
   "metadata": {},
   "outputs": [
    {
     "name": "stdout",
     "output_type": "stream",
     "text": [
      "<class 'str'>\n"
     ]
    }
   ],
   "source": [
    "print(type(val))"
   ]
  },
  {
   "cell_type": "code",
   "execution_count": 27,
   "id": "436f71ed",
   "metadata": {},
   "outputs": [
    {
     "name": "stdout",
     "output_type": "stream",
     "text": [
      "<class 'str'>\n"
     ]
    }
   ],
   "source": [
    "x = \"sd.kcfnsdeklfnekfnaeor;kfhnlo;ew\"\n",
    "print(type(x))"
   ]
  },
  {
   "cell_type": "code",
   "execution_count": null,
   "id": "79231dd8",
   "metadata": {},
   "outputs": [],
   "source": [
    "# Which of the following is a valid string?\n",
    "a = \"Rahul#'\n",
    "b = \"@rahul\"\n",
    "c = 'Tuna123\""
   ]
  },
  {
   "cell_type": "code",
   "execution_count": 37,
   "id": "77ca2f75",
   "metadata": {},
   "outputs": [],
   "source": [
    "b = \"@rahul\""
   ]
  },
  {
   "cell_type": "code",
   "execution_count": 33,
   "id": "5399d654",
   "metadata": {},
   "outputs": [
    {
     "ename": "SyntaxError",
     "evalue": "EOL while scanning string literal (4048244430.py, line 1)",
     "output_type": "error",
     "traceback": [
      "\u001b[0;36m  Input \u001b[0;32mIn [33]\u001b[0;36m\u001b[0m\n\u001b[0;31m    a = \"Rahul#'\u001b[0m\n\u001b[0m                ^\u001b[0m\n\u001b[0;31mSyntaxError\u001b[0m\u001b[0;31m:\u001b[0m EOL while scanning string literal\n"
     ]
    }
   ],
   "source": [
    "a = \"Rahul#'"
   ]
  },
  {
   "cell_type": "code",
   "execution_count": 36,
   "id": "14017cc8",
   "metadata": {},
   "outputs": [
    {
     "ename": "SyntaxError",
     "evalue": "EOL while scanning string literal (1677780572.py, line 1)",
     "output_type": "error",
     "traceback": [
      "\u001b[0;36m  Input \u001b[0;32mIn [36]\u001b[0;36m\u001b[0m\n\u001b[0;31m    c = 'Tuna123\"\u001b[0m\n\u001b[0m                 ^\u001b[0m\n\u001b[0;31mSyntaxError\u001b[0m\u001b[0;31m:\u001b[0m EOL while scanning string literal\n"
     ]
    }
   ],
   "source": [
    "c = 'Tuna123\""
   ]
  },
  {
   "cell_type": "code",
   "execution_count": 28,
   "id": "59a2b402",
   "metadata": {},
   "outputs": [],
   "source": [
    "val = 'scaler'"
   ]
  },
  {
   "cell_type": "code",
   "execution_count": 29,
   "id": "df77748f",
   "metadata": {},
   "outputs": [],
   "source": [
    "val = \"Scaler\""
   ]
  },
  {
   "cell_type": "code",
   "execution_count": 30,
   "id": "efad9bce",
   "metadata": {},
   "outputs": [],
   "source": [
    "val = \"\"\"\n",
    "Multi line\n",
    "String\n",
    "\"\"\""
   ]
  },
  {
   "cell_type": "code",
   "execution_count": 32,
   "id": "3482023e",
   "metadata": {},
   "outputs": [
    {
     "name": "stdout",
     "output_type": "stream",
     "text": [
      "\n",
      "Multi line\n",
      "String\n",
      "\n"
     ]
    }
   ],
   "source": [
    "print(val)"
   ]
  },
  {
   "cell_type": "code",
   "execution_count": null,
   "id": "7543af6a",
   "metadata": {},
   "outputs": [],
   "source": []
  },
  {
   "cell_type": "code",
   "execution_count": 38,
   "id": "4a4e8ff1",
   "metadata": {},
   "outputs": [],
   "source": [
    "name = \"Vinod\""
   ]
  },
  {
   "cell_type": "code",
   "execution_count": 39,
   "id": "a82d4a2c",
   "metadata": {},
   "outputs": [],
   "source": [
    "one_char = \"V\""
   ]
  },
  {
   "cell_type": "code",
   "execution_count": 40,
   "id": "1ed98507",
   "metadata": {},
   "outputs": [
    {
     "name": "stdout",
     "output_type": "stream",
     "text": [
      "<class 'str'>\n",
      "<class 'str'>\n"
     ]
    }
   ],
   "source": [
    "print(type(name))\n",
    "print(type(one_char))"
   ]
  },
  {
   "cell_type": "code",
   "execution_count": 41,
   "id": "3f9c2fb0",
   "metadata": {},
   "outputs": [],
   "source": [
    "# indexing"
   ]
  },
  {
   "cell_type": "code",
   "execution_count": 42,
   "id": "c2e865d3",
   "metadata": {},
   "outputs": [],
   "source": [
    "val = \"Scaler\""
   ]
  },
  {
   "cell_type": "code",
   "execution_count": 43,
   "id": "af88ed5f",
   "metadata": {},
   "outputs": [
    {
     "data": {
      "text/plain": [
       "'c'"
      ]
     },
     "execution_count": 43,
     "metadata": {},
     "output_type": "execute_result"
    }
   ],
   "source": [
    "val[1]"
   ]
  },
  {
   "cell_type": "code",
   "execution_count": 44,
   "id": "afd6a0d2",
   "metadata": {},
   "outputs": [
    {
     "data": {
      "text/plain": [
       "'e'"
      ]
     },
     "execution_count": 44,
     "metadata": {},
     "output_type": "execute_result"
    }
   ],
   "source": [
    "val[-2]"
   ]
  },
  {
   "cell_type": "code",
   "execution_count": 45,
   "id": "72ed99f5",
   "metadata": {},
   "outputs": [],
   "source": [
    "s1 = \"hello\"\n",
    "s2 = \"world\""
   ]
  },
  {
   "cell_type": "code",
   "execution_count": 46,
   "id": "d09cfb66",
   "metadata": {},
   "outputs": [
    {
     "data": {
      "text/plain": [
       "'helloworld'"
      ]
     },
     "execution_count": 46,
     "metadata": {},
     "output_type": "execute_result"
    }
   ],
   "source": [
    "s1 + s2 # concat"
   ]
  },
  {
   "cell_type": "code",
   "execution_count": 47,
   "id": "9c475d2f",
   "metadata": {},
   "outputs": [
    {
     "data": {
      "text/plain": [
       "'hellohello'"
      ]
     },
     "execution_count": 47,
     "metadata": {},
     "output_type": "execute_result"
    }
   ],
   "source": [
    "\"hello\"*2"
   ]
  },
  {
   "cell_type": "code",
   "execution_count": 48,
   "id": "6833532b",
   "metadata": {},
   "outputs": [
    {
     "data": {
      "text/plain": [
       "'33'"
      ]
     },
     "execution_count": 48,
     "metadata": {},
     "output_type": "execute_result"
    }
   ],
   "source": [
    "\"3\"*2 # \"3\" + \"3\""
   ]
  },
  {
   "cell_type": "code",
   "execution_count": 49,
   "id": "1510f53b",
   "metadata": {},
   "outputs": [
    {
     "data": {
      "text/plain": [
       "6"
      ]
     },
     "execution_count": 49,
     "metadata": {},
     "output_type": "execute_result"
    }
   ],
   "source": [
    "3*2 # 3 + 3"
   ]
  },
  {
   "cell_type": "code",
   "execution_count": 50,
   "id": "9af8cddb",
   "metadata": {},
   "outputs": [
    {
     "data": {
      "text/plain": [
       "'pranav'"
      ]
     },
     "execution_count": 50,
     "metadata": {},
     "output_type": "execute_result"
    }
   ],
   "source": [
    "'pranav'"
   ]
  },
  {
   "cell_type": "code",
   "execution_count": 51,
   "id": "e75c48a2",
   "metadata": {},
   "outputs": [
    {
     "data": {
      "text/plain": [
       "'pranav'"
      ]
     },
     "execution_count": 51,
     "metadata": {},
     "output_type": "execute_result"
    }
   ],
   "source": [
    "\"pranav\""
   ]
  },
  {
   "cell_type": "code",
   "execution_count": 52,
   "id": "037b46b9",
   "metadata": {},
   "outputs": [],
   "source": [
    "name = \"Kaushik\""
   ]
  },
  {
   "cell_type": "code",
   "execution_count": 53,
   "id": "6154d7ab",
   "metadata": {},
   "outputs": [
    {
     "data": {
      "text/plain": [
       "7"
      ]
     },
     "execution_count": 53,
     "metadata": {},
     "output_type": "execute_result"
    }
   ],
   "source": [
    "len(name)"
   ]
  },
  {
   "cell_type": "code",
   "execution_count": 54,
   "id": "2e798ef8",
   "metadata": {},
   "outputs": [],
   "source": [
    "# how Strings are stored ?"
   ]
  },
  {
   "cell_type": "code",
   "execution_count": null,
   "id": "7a5501b6",
   "metadata": {},
   "outputs": [],
   "source": [
    "\"10\" -> # 1-> 49 and 0 ->48"
   ]
  },
  {
   "cell_type": "code",
   "execution_count": 55,
   "id": "1a357621",
   "metadata": {},
   "outputs": [
    {
     "data": {
      "text/plain": [
       "65"
      ]
     },
     "execution_count": 55,
     "metadata": {},
     "output_type": "execute_result"
    }
   ],
   "source": [
    "ord('A')"
   ]
  },
  {
   "cell_type": "code",
   "execution_count": 56,
   "id": "37975c30",
   "metadata": {},
   "outputs": [
    {
     "data": {
      "text/plain": [
       "48"
      ]
     },
     "execution_count": 56,
     "metadata": {},
     "output_type": "execute_result"
    }
   ],
   "source": [
    "ord('0')"
   ]
  },
  {
   "cell_type": "code",
   "execution_count": 58,
   "id": "faa1aabf",
   "metadata": {},
   "outputs": [
    {
     "ename": "TypeError",
     "evalue": "ord() expected string of length 1, but int found",
     "output_type": "error",
     "traceback": [
      "\u001b[0;31m---------------------------------------------------------------------------\u001b[0m",
      "\u001b[0;31mTypeError\u001b[0m                                 Traceback (most recent call last)",
      "Input \u001b[0;32mIn [58]\u001b[0m, in \u001b[0;36m<cell line: 1>\u001b[0;34m()\u001b[0m\n\u001b[0;32m----> 1\u001b[0m \u001b[38;5;28;43mord\u001b[39;49m\u001b[43m(\u001b[49m\u001b[38;5;241;43m0\u001b[39;49m\u001b[43m)\u001b[49m\n",
      "\u001b[0;31mTypeError\u001b[0m: ord() expected string of length 1, but int found"
     ]
    }
   ],
   "source": [
    "ord(0)"
   ]
  },
  {
   "cell_type": "code",
   "execution_count": 59,
   "id": "c0245f7a",
   "metadata": {},
   "outputs": [
    {
     "ename": "TypeError",
     "evalue": "ord() expected a character, but string of length 2 found",
     "output_type": "error",
     "traceback": [
      "\u001b[0;31m---------------------------------------------------------------------------\u001b[0m",
      "\u001b[0;31mTypeError\u001b[0m                                 Traceback (most recent call last)",
      "Input \u001b[0;32mIn [59]\u001b[0m, in \u001b[0;36m<cell line: 1>\u001b[0;34m()\u001b[0m\n\u001b[0;32m----> 1\u001b[0m \u001b[38;5;28;43mord\u001b[39;49m\u001b[43m(\u001b[49m\u001b[38;5;124;43m\"\u001b[39;49m\u001b[38;5;124;43m10\u001b[39;49m\u001b[38;5;124;43m\"\u001b[39;49m\u001b[43m)\u001b[49m\n",
      "\u001b[0;31mTypeError\u001b[0m: ord() expected a character, but string of length 2 found"
     ]
    }
   ],
   "source": [
    "ord(\"10\")"
   ]
  },
  {
   "cell_type": "code",
   "execution_count": 60,
   "id": "32a3228b",
   "metadata": {},
   "outputs": [
    {
     "data": {
      "text/plain": [
       "122"
      ]
     },
     "execution_count": 60,
     "metadata": {},
     "output_type": "execute_result"
    }
   ],
   "source": [
    "ord('z')"
   ]
  },
  {
   "cell_type": "code",
   "execution_count": 61,
   "id": "e398e29d",
   "metadata": {},
   "outputs": [
    {
     "data": {
      "text/plain": [
       "'z'"
      ]
     },
     "execution_count": 61,
     "metadata": {},
     "output_type": "execute_result"
    }
   ],
   "source": [
    "chr(122)"
   ]
  },
  {
   "cell_type": "code",
   "execution_count": 62,
   "id": "07c3d024",
   "metadata": {},
   "outputs": [
    {
     "ename": "TypeError",
     "evalue": "an integer is required (got type str)",
     "output_type": "error",
     "traceback": [
      "\u001b[0;31m---------------------------------------------------------------------------\u001b[0m",
      "\u001b[0;31mTypeError\u001b[0m                                 Traceback (most recent call last)",
      "Input \u001b[0;32mIn [62]\u001b[0m, in \u001b[0;36m<cell line: 1>\u001b[0;34m()\u001b[0m\n\u001b[0;32m----> 1\u001b[0m \u001b[38;5;28;43mchr\u001b[39;49m\u001b[43m(\u001b[49m\u001b[38;5;124;43m'\u001b[39;49m\u001b[38;5;124;43m49\u001b[39;49m\u001b[38;5;124;43m'\u001b[39;49m\u001b[43m)\u001b[49m\n",
      "\u001b[0;31mTypeError\u001b[0m: an integer is required (got type str)"
     ]
    }
   ],
   "source": [
    "chr('49')"
   ]
  },
  {
   "cell_type": "code",
   "execution_count": 63,
   "id": "5b0cf313",
   "metadata": {},
   "outputs": [
    {
     "data": {
      "text/plain": [
       "'1'"
      ]
     },
     "execution_count": 63,
     "metadata": {},
     "output_type": "execute_result"
    }
   ],
   "source": [
    "chr(49)"
   ]
  },
  {
   "cell_type": "code",
   "execution_count": 64,
   "id": "a2a0ae09",
   "metadata": {},
   "outputs": [],
   "source": [
    "# Iteration"
   ]
  },
  {
   "cell_type": "code",
   "execution_count": 65,
   "id": "7efb7a61",
   "metadata": {},
   "outputs": [],
   "source": [
    "s = \"India\""
   ]
  },
  {
   "cell_type": "code",
   "execution_count": 67,
   "id": "728f2b1f",
   "metadata": {},
   "outputs": [
    {
     "name": "stdout",
     "output_type": "stream",
     "text": [
      "I\n",
      "n\n",
      "d\n",
      "i\n",
      "a\n"
     ]
    }
   ],
   "source": [
    "for ch in s: # value loop\n",
    "    print(ch)"
   ]
  },
  {
   "cell_type": "code",
   "execution_count": 70,
   "id": "65091394",
   "metadata": {},
   "outputs": [],
   "source": [
    "val = \"aBcD\""
   ]
  },
  {
   "cell_type": "code",
   "execution_count": 71,
   "id": "9c02a6b3",
   "metadata": {},
   "outputs": [],
   "source": [
    "# output -> 97 66 99 68"
   ]
  },
  {
   "cell_type": "code",
   "execution_count": 72,
   "id": "38d1a28b",
   "metadata": {},
   "outputs": [],
   "source": [
    "# Approach\n",
    "# ord(val) or loop over each char ?"
   ]
  },
  {
   "cell_type": "code",
   "execution_count": 74,
   "id": "3746e821",
   "metadata": {},
   "outputs": [
    {
     "name": "stdout",
     "output_type": "stream",
     "text": [
      "97 66 99 68 "
     ]
    }
   ],
   "source": [
    "for ch in val:\n",
    "    print(ord(ch), end = \" \")"
   ]
  },
  {
   "cell_type": "code",
   "execution_count": 75,
   "id": "1342198e",
   "metadata": {},
   "outputs": [],
   "source": [
    "# Slicing"
   ]
  },
  {
   "cell_type": "code",
   "execution_count": 76,
   "id": "4ff01ed7",
   "metadata": {},
   "outputs": [],
   "source": [
    "val = \"Scaler\""
   ]
  },
  {
   "cell_type": "code",
   "execution_count": 77,
   "id": "0d22b0f9",
   "metadata": {},
   "outputs": [
    {
     "data": {
      "text/plain": [
       "'ale'"
      ]
     },
     "execution_count": 77,
     "metadata": {},
     "output_type": "execute_result"
    }
   ],
   "source": [
    "val[2:5]"
   ]
  },
  {
   "cell_type": "code",
   "execution_count": 78,
   "id": "6c460fdc",
   "metadata": {},
   "outputs": [
    {
     "data": {
      "text/plain": [
       "'ler'"
      ]
     },
     "execution_count": 78,
     "metadata": {},
     "output_type": "execute_result"
    }
   ],
   "source": [
    "val[-3:]"
   ]
  },
  {
   "cell_type": "code",
   "execution_count": 79,
   "id": "4bad00d8",
   "metadata": {},
   "outputs": [
    {
     "data": {
      "text/plain": [
       "'ea'"
      ]
     },
     "execution_count": 79,
     "metadata": {},
     "output_type": "execute_result"
    }
   ],
   "source": [
    "val[-2:-5:-2]"
   ]
  },
  {
   "cell_type": "code",
   "execution_count": 80,
   "id": "01e489e3",
   "metadata": {},
   "outputs": [],
   "source": [
    "# Reverse"
   ]
  },
  {
   "cell_type": "code",
   "execution_count": 81,
   "id": "2045da5f",
   "metadata": {},
   "outputs": [],
   "source": [
    "s = \"Python\""
   ]
  },
  {
   "cell_type": "code",
   "execution_count": 82,
   "id": "4ddeb4f4",
   "metadata": {},
   "outputs": [
    {
     "data": {
      "text/plain": [
       "'nohtyP'"
      ]
     },
     "execution_count": 82,
     "metadata": {},
     "output_type": "execute_result"
    }
   ],
   "source": [
    "s[::-1]"
   ]
  },
  {
   "cell_type": "code",
   "execution_count": 88,
   "id": "795127b4",
   "metadata": {},
   "outputs": [
    {
     "name": "stdout",
     "output_type": "stream",
     "text": [
      "nohtyP\n"
     ]
    }
   ],
   "source": [
    "res = \"\"\n",
    "for idx in range(len(s)-1,-1,-1): #index loop\n",
    "#     print(s[idx],end = \"\")\n",
    "    res+=s[idx]\n",
    "\n",
    "print(res)"
   ]
  },
  {
   "cell_type": "code",
   "execution_count": null,
   "id": "a4c8694d",
   "metadata": {},
   "outputs": [],
   "source": []
  },
  {
   "cell_type": "code",
   "execution_count": 95,
   "id": "ebd448c5",
   "metadata": {},
   "outputs": [],
   "source": [
    "# Print only capital letters\n",
    "val = \"IndiA\"\n",
    "# output -> I A"
   ]
  },
  {
   "cell_type": "code",
   "execution_count": 96,
   "id": "9267ffad",
   "metadata": {},
   "outputs": [
    {
     "name": "stdout",
     "output_type": "stream",
     "text": [
      "I A "
     ]
    }
   ],
   "source": [
    "for ch in val:\n",
    "    if ord(ch)>=65 and ord(ch)<=90:\n",
    "        print(ch, end = \" \")\n",
    "        \n",
    "for ch in val:\n",
    "    if ch.isupper():\n",
    "        print(ch, end = \" \")"
   ]
  },
  {
   "cell_type": "code",
   "execution_count": 97,
   "id": "fa861280",
   "metadata": {},
   "outputs": [],
   "source": [
    "# Count of the no. of capital letters in a string | Home Work"
   ]
  },
  {
   "cell_type": "code",
   "execution_count": 98,
   "id": "fa71b5af",
   "metadata": {},
   "outputs": [
    {
     "data": {
      "text/plain": [
       "True"
      ]
     },
     "execution_count": 98,
     "metadata": {},
     "output_type": "execute_result"
    }
   ],
   "source": [
    "'HELLO'.isupper()"
   ]
  },
  {
   "cell_type": "code",
   "execution_count": 101,
   "id": "13f998bc",
   "metadata": {},
   "outputs": [
    {
     "name": "stdout",
     "output_type": "stream",
     "text": [
      "Help on method_descriptor:\n",
      "\n",
      "isupper(self, /)\n",
      "    Return True if the string is an uppercase string, False otherwise.\n",
      "    \n",
      "    A string is uppercase if all cased characters in the string are uppercase and\n",
      "    there is at least one cased character in the string.\n",
      "\n"
     ]
    }
   ],
   "source": [
    "help(str.isupper)"
   ]
  },
  {
   "cell_type": "code",
   "execution_count": 102,
   "id": "f36c532d",
   "metadata": {},
   "outputs": [
    {
     "data": {
      "text/plain": [
       "False"
      ]
     },
     "execution_count": 102,
     "metadata": {},
     "output_type": "execute_result"
    }
   ],
   "source": [
    "'Pranav'.isupper()"
   ]
  },
  {
   "cell_type": "code",
   "execution_count": 103,
   "id": "b27123fb",
   "metadata": {},
   "outputs": [
    {
     "data": {
      "text/plain": [
       "True"
      ]
     },
     "execution_count": 103,
     "metadata": {},
     "output_type": "execute_result"
    }
   ],
   "source": [
    "'A'.isupper()"
   ]
  },
  {
   "cell_type": "code",
   "execution_count": 104,
   "id": "3327753e",
   "metadata": {},
   "outputs": [
    {
     "data": {
      "text/plain": [
       "True"
      ]
     },
     "execution_count": 104,
     "metadata": {},
     "output_type": "execute_result"
    }
   ],
   "source": [
    "'a'.islower()"
   ]
  },
  {
   "cell_type": "code",
   "execution_count": 105,
   "id": "451d61ac",
   "metadata": {},
   "outputs": [
    {
     "data": {
      "text/plain": [
       "False"
      ]
     },
     "execution_count": 105,
     "metadata": {},
     "output_type": "execute_result"
    }
   ],
   "source": [
    "'Pranav'.islower()"
   ]
  },
  {
   "cell_type": "code",
   "execution_count": 106,
   "id": "a365a39a",
   "metadata": {},
   "outputs": [
    {
     "data": {
      "text/plain": [
       "True"
      ]
     },
     "execution_count": 106,
     "metadata": {},
     "output_type": "execute_result"
    }
   ],
   "source": [
    "'pranav'.islower()"
   ]
  },
  {
   "cell_type": "code",
   "execution_count": 109,
   "id": "497d68bc",
   "metadata": {},
   "outputs": [],
   "source": [
    "# Create a new string where all upper case char to lower case\n",
    "val = \"HellO World\"\n",
    "# output -> \"hello world\""
   ]
  },
  {
   "cell_type": "code",
   "execution_count": 110,
   "id": "96357252",
   "metadata": {},
   "outputs": [
    {
     "data": {
      "text/plain": [
       "72"
      ]
     },
     "execution_count": 110,
     "metadata": {},
     "output_type": "execute_result"
    }
   ],
   "source": [
    "ord('H')"
   ]
  },
  {
   "cell_type": "code",
   "execution_count": 111,
   "id": "5d41a507",
   "metadata": {},
   "outputs": [
    {
     "data": {
      "text/plain": [
       "104"
      ]
     },
     "execution_count": 111,
     "metadata": {},
     "output_type": "execute_result"
    }
   ],
   "source": [
    "ord('h')"
   ]
  },
  {
   "cell_type": "code",
   "execution_count": 112,
   "id": "7b9fdb2b",
   "metadata": {},
   "outputs": [
    {
     "data": {
      "text/plain": [
       "79"
      ]
     },
     "execution_count": 112,
     "metadata": {},
     "output_type": "execute_result"
    }
   ],
   "source": [
    "ord('O')"
   ]
  },
  {
   "cell_type": "code",
   "execution_count": 113,
   "id": "eb7fd794",
   "metadata": {},
   "outputs": [
    {
     "data": {
      "text/plain": [
       "111"
      ]
     },
     "execution_count": 113,
     "metadata": {},
     "output_type": "execute_result"
    }
   ],
   "source": [
    "ord('o')"
   ]
  },
  {
   "cell_type": "code",
   "execution_count": 114,
   "id": "f7169098",
   "metadata": {},
   "outputs": [
    {
     "data": {
      "text/plain": [
       "119"
      ]
     },
     "execution_count": 114,
     "metadata": {},
     "output_type": "execute_result"
    }
   ],
   "source": [
    "ord('w')"
   ]
  },
  {
   "cell_type": "code",
   "execution_count": 115,
   "id": "1e39252f",
   "metadata": {},
   "outputs": [
    {
     "data": {
      "text/plain": [
       "87"
      ]
     },
     "execution_count": 115,
     "metadata": {},
     "output_type": "execute_result"
    }
   ],
   "source": [
    "ord('W')"
   ]
  },
  {
   "cell_type": "code",
   "execution_count": 118,
   "id": "bcab7619",
   "metadata": {},
   "outputs": [
    {
     "name": "stdout",
     "output_type": "stream",
     "text": [
      "hello world\n"
     ]
    }
   ],
   "source": [
    "res = \"\"\n",
    "for ch in val:\n",
    "    ascii_ch = ord(ch)\n",
    "    if ascii_ch>=65 and ascii_ch<=90: # capital letter\n",
    "        small_ascii_ch = ascii_ch + 32\n",
    "        small_ch = chr(small_ascii_ch)\n",
    "        res+=small_ch\n",
    "    else: # for all other char add as it is\n",
    "        res+=ch\n",
    "    \n",
    "print(res)"
   ]
  },
  {
   "cell_type": "code",
   "execution_count": 121,
   "id": "9289f129",
   "metadata": {},
   "outputs": [],
   "source": [
    "# Home work\n",
    "# Create a string and convert all small case to upper case\n",
    "val = \"ScaLer\"\n",
    "# output -> \"SCALER\""
   ]
  },
  {
   "cell_type": "code",
   "execution_count": null,
   "id": "fc8613f4",
   "metadata": {},
   "outputs": [],
   "source": []
  },
  {
   "cell_type": "code",
   "execution_count": 122,
   "id": "b0a28657",
   "metadata": {},
   "outputs": [],
   "source": [
    "val = \"Pranav@SCALER.COM\""
   ]
  },
  {
   "cell_type": "code",
   "execution_count": 123,
   "id": "9c962a64",
   "metadata": {},
   "outputs": [
    {
     "data": {
      "text/plain": [
       "'PRANAV@SCALER.COM'"
      ]
     },
     "execution_count": 123,
     "metadata": {},
     "output_type": "execute_result"
    }
   ],
   "source": [
    "val.upper()"
   ]
  },
  {
   "cell_type": "code",
   "execution_count": 124,
   "id": "964dcf7a",
   "metadata": {},
   "outputs": [
    {
     "data": {
      "text/plain": [
       "'pranav@scaler.com'"
      ]
     },
     "execution_count": 124,
     "metadata": {},
     "output_type": "execute_result"
    }
   ],
   "source": [
    "val.lower()"
   ]
  },
  {
   "cell_type": "code",
   "execution_count": 125,
   "id": "0b5c5cfa",
   "metadata": {},
   "outputs": [
    {
     "name": "stdout",
     "output_type": "stream",
     "text": [
      "Help on method_descriptor:\n",
      "\n",
      "lower(self, /)\n",
      "    Return a copy of the string converted to lowercase.\n",
      "\n"
     ]
    }
   ],
   "source": [
    "help(str.lower)"
   ]
  },
  {
   "cell_type": "code",
   "execution_count": null,
   "id": "dc56cd5d",
   "metadata": {},
   "outputs": [],
   "source": []
  },
  {
   "cell_type": "code",
   "execution_count": 126,
   "id": "3363012e",
   "metadata": {},
   "outputs": [],
   "source": [
    "val = \"Kumar\""
   ]
  },
  {
   "cell_type": "code",
   "execution_count": 128,
   "id": "5e4e9444",
   "metadata": {},
   "outputs": [
    {
     "data": {
      "text/plain": [
       "True"
      ]
     },
     "execution_count": 128,
     "metadata": {},
     "output_type": "execute_result"
    }
   ],
   "source": [
    "val.startswith(\"Ku\")"
   ]
  },
  {
   "cell_type": "code",
   "execution_count": 129,
   "id": "a602c427",
   "metadata": {},
   "outputs": [
    {
     "data": {
      "text/plain": [
       "False"
      ]
     },
     "execution_count": 129,
     "metadata": {},
     "output_type": "execute_result"
    }
   ],
   "source": [
    "\"Nothing\".startswith(\"no\")"
   ]
  },
  {
   "cell_type": "code",
   "execution_count": 130,
   "id": "870b14d4",
   "metadata": {},
   "outputs": [
    {
     "data": {
      "text/plain": [
       "True"
      ]
     },
     "execution_count": 130,
     "metadata": {},
     "output_type": "execute_result"
    }
   ],
   "source": [
    "\"Nothing\".startswith(\"No\")"
   ]
  },
  {
   "cell_type": "code",
   "execution_count": null,
   "id": "1440ace2",
   "metadata": {},
   "outputs": [],
   "source": [
    "https://docs.python.org/3/library/stdtypes.html #string-methods"
   ]
  },
  {
   "cell_type": "code",
   "execution_count": null,
   "id": "93a47fd6",
   "metadata": {},
   "outputs": [],
   "source": []
  },
  {
   "cell_type": "code",
   "execution_count": 131,
   "id": "481b4c0a",
   "metadata": {},
   "outputs": [],
   "source": [
    "# find"
   ]
  },
  {
   "cell_type": "code",
   "execution_count": 133,
   "id": "a04c1be3",
   "metadata": {},
   "outputs": [],
   "source": [
    "s = \"Hello World\""
   ]
  },
  {
   "cell_type": "code",
   "execution_count": 134,
   "id": "f824b8b9",
   "metadata": {},
   "outputs": [
    {
     "data": {
      "text/plain": [
       "7"
      ]
     },
     "execution_count": 134,
     "metadata": {},
     "output_type": "execute_result"
    }
   ],
   "source": [
    "s.find(\"or\")"
   ]
  },
  {
   "cell_type": "code",
   "execution_count": 135,
   "id": "9ecce2a6",
   "metadata": {},
   "outputs": [
    {
     "data": {
      "text/plain": [
       "1"
      ]
     },
     "execution_count": 135,
     "metadata": {},
     "output_type": "execute_result"
    }
   ],
   "source": [
    "s.find(\"el\")"
   ]
  },
  {
   "cell_type": "code",
   "execution_count": 136,
   "id": "192e7225",
   "metadata": {},
   "outputs": [
    {
     "data": {
      "text/plain": [
       "-1"
      ]
     },
     "execution_count": 136,
     "metadata": {},
     "output_type": "execute_result"
    }
   ],
   "source": [
    "s.find(\"nothing\")"
   ]
  },
  {
   "cell_type": "code",
   "execution_count": 137,
   "id": "effc5bed",
   "metadata": {},
   "outputs": [
    {
     "data": {
      "text/plain": [
       "4"
      ]
     },
     "execution_count": 137,
     "metadata": {},
     "output_type": "execute_result"
    }
   ],
   "source": [
    "s.find(\"o\")"
   ]
  },
  {
   "cell_type": "code",
   "execution_count": 138,
   "id": "147365e9",
   "metadata": {},
   "outputs": [
    {
     "name": "stdout",
     "output_type": "stream",
     "text": [
      "Help on method_descriptor:\n",
      "\n",
      "find(...)\n",
      "    S.find(sub[, start[, end]]) -> int\n",
      "    \n",
      "    Return the lowest index in S where substring sub is found,\n",
      "    such that sub is contained within S[start:end].  Optional\n",
      "    arguments start and end are interpreted as in slice notation.\n",
      "    \n",
      "    Return -1 on failure.\n",
      "\n"
     ]
    }
   ],
   "source": [
    "help(str.find)"
   ]
  },
  {
   "cell_type": "code",
   "execution_count": 140,
   "id": "5342ea8d",
   "metadata": {},
   "outputs": [],
   "source": [
    "# Homework | Discussed either in Next class or 31st Jan session\n",
    "# Find all the indices of substr for the given string\n",
    "val = \"abcdabcabbcab\"\n",
    "substr = \"ab\"\n",
    "# output -> 0 4 7 11"
   ]
  },
  {
   "cell_type": "code",
   "execution_count": null,
   "id": "5d4c3fd2",
   "metadata": {},
   "outputs": [],
   "source": []
  },
  {
   "cell_type": "code",
   "execution_count": null,
   "id": "e29d3e97",
   "metadata": {},
   "outputs": [],
   "source": []
  },
  {
   "cell_type": "code",
   "execution_count": 141,
   "id": "85e99769",
   "metadata": {},
   "outputs": [],
   "source": [
    "# Split"
   ]
  },
  {
   "cell_type": "code",
   "execution_count": 142,
   "id": "9e2c05ac",
   "metadata": {},
   "outputs": [],
   "source": [
    "s = \"Hi My Name is Pranav\""
   ]
  },
  {
   "cell_type": "code",
   "execution_count": 144,
   "id": "69575831",
   "metadata": {},
   "outputs": [
    {
     "data": {
      "text/plain": [
       "['Hi', 'My', 'Name', 'is', 'Pranav']"
      ]
     },
     "execution_count": 144,
     "metadata": {},
     "output_type": "execute_result"
    }
   ],
   "source": [
    "s.split() # delimiter -> white space"
   ]
  },
  {
   "cell_type": "code",
   "execution_count": 145,
   "id": "4ac65091",
   "metadata": {},
   "outputs": [],
   "source": [
    "s = \"Hi, My nam,e is ,Pranav\""
   ]
  },
  {
   "cell_type": "code",
   "execution_count": 146,
   "id": "4a054c7a",
   "metadata": {},
   "outputs": [
    {
     "data": {
      "text/plain": [
       "['Hi', ' My nam', 'e is ', 'Pranav']"
      ]
     },
     "execution_count": 146,
     "metadata": {},
     "output_type": "execute_result"
    }
   ],
   "source": [
    "s.split(\",\")"
   ]
  },
  {
   "cell_type": "code",
   "execution_count": 148,
   "id": "dc799f6d",
   "metadata": {},
   "outputs": [],
   "source": [
    "# join"
   ]
  },
  {
   "cell_type": "code",
   "execution_count": 149,
   "id": "da5d461a",
   "metadata": {},
   "outputs": [
    {
     "data": {
      "text/plain": [
       "'1+2+3'"
      ]
     },
     "execution_count": 149,
     "metadata": {},
     "output_type": "execute_result"
    }
   ],
   "source": [
    "\"+\".join([\"1\",\"2\",\"3\"]) # \"1\" + \"+\" + \"2\" + \"+\" + \"3\""
   ]
  },
  {
   "cell_type": "code",
   "execution_count": 150,
   "id": "8faa2a4c",
   "metadata": {},
   "outputs": [
    {
     "ename": "TypeError",
     "evalue": "sequence item 0: expected str instance, int found",
     "output_type": "error",
     "traceback": [
      "\u001b[0;31m---------------------------------------------------------------------------\u001b[0m",
      "\u001b[0;31mTypeError\u001b[0m                                 Traceback (most recent call last)",
      "Input \u001b[0;32mIn [150]\u001b[0m, in \u001b[0;36m<cell line: 1>\u001b[0;34m()\u001b[0m\n\u001b[0;32m----> 1\u001b[0m \u001b[38;5;124;43m\"\u001b[39;49m\u001b[38;5;124;43m+\u001b[39;49m\u001b[38;5;124;43m\"\u001b[39;49m\u001b[38;5;241;43m.\u001b[39;49m\u001b[43mjoin\u001b[49m\u001b[43m(\u001b[49m\u001b[43m[\u001b[49m\u001b[38;5;241;43m1\u001b[39;49m\u001b[43m,\u001b[49m\u001b[38;5;241;43m2\u001b[39;49m\u001b[43m,\u001b[49m\u001b[38;5;241;43m3\u001b[39;49m\u001b[43m]\u001b[49m\u001b[43m)\u001b[49m\n",
      "\u001b[0;31mTypeError\u001b[0m: sequence item 0: expected str instance, int found"
     ]
    }
   ],
   "source": [
    "\"+\".join([1,2,3])"
   ]
  },
  {
   "cell_type": "code",
   "execution_count": 151,
   "id": "ba29d3fe",
   "metadata": {},
   "outputs": [
    {
     "name": "stdout",
     "output_type": "stream",
     "text": [
      "Help on method_descriptor:\n",
      "\n",
      "join(self, iterable, /)\n",
      "    Concatenate any number of strings.\n",
      "    \n",
      "    The string whose method is called is inserted in between each given string.\n",
      "    The result is returned as a new string.\n",
      "    \n",
      "    Example: '.'.join(['ab', 'pq', 'rs']) -> 'ab.pq.rs'\n",
      "\n"
     ]
    }
   ],
   "source": [
    "help(str.join)"
   ]
  },
  {
   "cell_type": "code",
   "execution_count": 152,
   "id": "ab88ec07",
   "metadata": {},
   "outputs": [
    {
     "data": {
      "text/plain": [
       "'h_e_l_l_o_ _w_o_r_l_d'"
      ]
     },
     "execution_count": 152,
     "metadata": {},
     "output_type": "execute_result"
    }
   ],
   "source": [
    "\"_\".join(\"hello world\")"
   ]
  },
  {
   "cell_type": "code",
   "execution_count": 153,
   "id": "c5ce7f37",
   "metadata": {},
   "outputs": [],
   "source": [
    "# strip"
   ]
  },
  {
   "cell_type": "code",
   "execution_count": 154,
   "id": "0df138e6",
   "metadata": {},
   "outputs": [
    {
     "name": "stdout",
     "output_type": "stream",
     "text": [
      "Help on method_descriptor:\n",
      "\n",
      "strip(self, chars=None, /)\n",
      "    Return a copy of the string with leading and trailing whitespace removed.\n",
      "    \n",
      "    If chars is given and not None, remove characters in chars instead.\n",
      "\n"
     ]
    }
   ],
   "source": [
    "help(str.strip)"
   ]
  },
  {
   "cell_type": "code",
   "execution_count": 155,
   "id": "bbb9e90f",
   "metadata": {},
   "outputs": [],
   "source": [
    "s = \"     pranav      \""
   ]
  },
  {
   "cell_type": "code",
   "execution_count": 156,
   "id": "20f56b13",
   "metadata": {},
   "outputs": [
    {
     "data": {
      "text/plain": [
       "'pranav'"
      ]
     },
     "execution_count": 156,
     "metadata": {},
     "output_type": "execute_result"
    }
   ],
   "source": [
    "s.strip()"
   ]
  },
  {
   "cell_type": "code",
   "execution_count": 157,
   "id": "671ba50c",
   "metadata": {},
   "outputs": [],
   "source": [
    "val = \"aaa pranav aaa\""
   ]
  },
  {
   "cell_type": "code",
   "execution_count": 158,
   "id": "87422bf1",
   "metadata": {},
   "outputs": [
    {
     "data": {
      "text/plain": [
       "' pranav '"
      ]
     },
     "execution_count": 158,
     "metadata": {},
     "output_type": "execute_result"
    }
   ],
   "source": [
    "val.strip(\"a\")"
   ]
  },
  {
   "cell_type": "code",
   "execution_count": null,
   "id": "9b02eae3",
   "metadata": {},
   "outputs": [],
   "source": []
  }
 ],
 "metadata": {
  "kernelspec": {
   "display_name": "Python 3 (ipykernel)",
   "language": "python",
   "name": "python3"
  },
  "language_info": {
   "codemirror_mode": {
    "name": "ipython",
    "version": 3
   },
   "file_extension": ".py",
   "mimetype": "text/x-python",
   "name": "python",
   "nbconvert_exporter": "python",
   "pygments_lexer": "ipython3",
   "version": "3.8.13"
  }
 },
 "nbformat": 4,
 "nbformat_minor": 5
}
