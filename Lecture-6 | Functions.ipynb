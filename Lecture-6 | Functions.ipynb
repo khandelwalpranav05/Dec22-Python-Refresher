{
 "cells": [
  {
   "cell_type": "code",
   "execution_count": 6,
   "id": "a1a87e7f",
   "metadata": {},
   "outputs": [
    {
     "name": "stdout",
     "output_type": "stream",
     "text": [
      "Test2\n"
     ]
    }
   ],
   "source": [
    "a = 15\n",
    "b = 5\n",
    "\n",
    "# 1st\n",
    "if a%b: => 0\n",
    "    print(\"Test1\")\n",
    "\n",
    "# 2nd\n",
    "if a%b==0:\n",
    "    print(\"Test2\")"
   ]
  },
  {
   "cell_type": "code",
   "execution_count": 12,
   "id": "b58accb9",
   "metadata": {},
   "outputs": [
    {
     "name": "stdout",
     "output_type": "stream",
     "text": [
      "Need pizza base\n",
      "Add cheese\n",
      "Add Mushrooms\n",
      "Add onion\n",
      "Pizza is ready\n",
      "Need 2 buns\n",
      "Add cheese\n",
      "Add patty\n",
      "Add Sauces\n",
      "Burger is ready\n",
      "Need pizza base\n",
      "Add cheese\n",
      "Add Mushrooms\n",
      "Add onion\n",
      "Pizza is ready\n",
      "Need 2 buns\n",
      "Add cheese\n",
      "Add patty\n",
      "Add Sauces\n",
      "Burger is ready\n",
      "Need 2 buns\n",
      "Add cheese\n",
      "Add patty\n",
      "Add Sauces\n",
      "Burger is ready\n"
     ]
    }
   ],
   "source": [
    "# Make Pizza and Burgers\n",
    "\n",
    "# Pizza Recipe\n",
    "print(\"Need pizza base\")\n",
    "print(\"Add cheese\")\n",
    "print(\"Add Mushrooms\")\n",
    "print(\"Add onion\")\n",
    "print(\"Pizza is ready\")\n",
    "\n",
    "\n",
    "# Make a Burger\n",
    "# Burger Recipe\n",
    "print(\"Need 2 buns\")\n",
    "print(\"Add cheese\")\n",
    "print(\"Add patty\")\n",
    "print(\"Add Sauces\")\n",
    "print(\"Burger is ready\")\n",
    "\n",
    "# Make a pizza again\n",
    "\n",
    "# Pizza Recipe\n",
    "print(\"Need pizza base\")\n",
    "print(\"Add cheese\")\n",
    "print(\"Add Mushrooms\")\n",
    "print(\"Add onion\")\n",
    "print(\"Pizza is ready\")\n",
    "\n",
    "# Make another burger\n",
    "\n",
    "# Burger Recipe\n",
    "print(\"Need 2 buns\")\n",
    "print(\"Add cheese\")\n",
    "print(\"Add patty\")\n",
    "print(\"Add Sauces\")\n",
    "print(\"Burger is ready\")\n",
    "\n",
    "# Make another burger\n",
    "\n",
    "# Burger Recipe\n",
    "print(\"Need 2 buns\")\n",
    "print(\"Add cheese\")\n",
    "print(\"Add patty\")\n",
    "print(\"Add Sauces\")\n",
    "print(\"Burger is ready\")"
   ]
  },
  {
   "cell_type": "code",
   "execution_count": null,
   "id": "e5a9e145",
   "metadata": {},
   "outputs": [],
   "source": []
  },
  {
   "cell_type": "code",
   "execution_count": 8,
   "id": "1bf9f116",
   "metadata": {},
   "outputs": [
    {
     "name": "stdout",
     "output_type": "stream",
     "text": [
      "30\n"
     ]
    }
   ],
   "source": [
    "print(10 + 20)"
   ]
  },
  {
   "cell_type": "code",
   "execution_count": 9,
   "id": "a807e79b",
   "metadata": {},
   "outputs": [
    {
     "name": "stdout",
     "output_type": "stream",
     "text": [
      "40\n"
     ]
    }
   ],
   "source": [
    "print(15 + 25)"
   ]
  },
  {
   "cell_type": "code",
   "execution_count": 11,
   "id": "0399eb44",
   "metadata": {},
   "outputs": [
    {
     "name": "stdout",
     "output_type": "stream",
     "text": [
      "10\n"
     ]
    }
   ],
   "source": [
    "a = 4\n",
    "b = 6\n",
    "print(a+b)"
   ]
  },
  {
   "cell_type": "code",
   "execution_count": null,
   "id": "fa34dfb8",
   "metadata": {},
   "outputs": [],
   "source": []
  },
  {
   "cell_type": "code",
   "execution_count": 13,
   "id": "06b3f505",
   "metadata": {},
   "outputs": [
    {
     "name": "stdout",
     "output_type": "stream",
     "text": [
      "Need pizza base\n",
      "Add cheese\n",
      "Add Mushrooms\n",
      "Add onion\n",
      "Pizza is ready\n",
      "Need 2 buns\n",
      "Add cheese\n",
      "Add patty\n",
      "Add Sauces\n",
      "Burger is ready\n",
      "Need pizza base\n",
      "Add cheese\n",
      "Add Mushrooms\n",
      "Add onion\n",
      "Pizza is ready\n",
      "Need 2 buns\n",
      "Add cheese\n",
      "Add patty\n",
      "Add Sauces\n",
      "Burger is ready\n",
      "Need 2 buns\n",
      "Add cheese\n",
      "Add patty\n",
      "Add Sauces\n",
      "Burger is ready\n"
     ]
    }
   ],
   "source": [
    "def burger_maker():\n",
    "    print(\"Need 2 buns\")\n",
    "    print(\"Add cheese\")\n",
    "    print(\"Add patty\")\n",
    "    print(\"Add Sauces\")\n",
    "    print(\"Burger is ready\")\n",
    "    \n",
    "\n",
    "def pizza_maker():\n",
    "    print(\"Need pizza base\")\n",
    "    print(\"Add cheese\")\n",
    "    print(\"Add Mushrooms\")\n",
    "    print(\"Add onion\")\n",
    "    print(\"Pizza is ready\")\n",
    "    \n",
    "\n",
    "# Orders are coming\n",
    "\n",
    "# Pizza\n",
    "pizza_maker()\n",
    "# Burger\n",
    "burger_maker()\n",
    "# Pizza\n",
    "pizza_maker()\n",
    "# Burger\n",
    "burger_maker()\n",
    "# Burger\n",
    "burger_maker()"
   ]
  },
  {
   "cell_type": "code",
   "execution_count": null,
   "id": "1c26a095",
   "metadata": {},
   "outputs": [],
   "source": []
  },
  {
   "cell_type": "code",
   "execution_count": null,
   "id": "e82a8f3c",
   "metadata": {},
   "outputs": [],
   "source": []
  },
  {
   "cell_type": "code",
   "execution_count": null,
   "id": "e807b80f",
   "metadata": {},
   "outputs": [],
   "source": []
  },
  {
   "cell_type": "code",
   "execution_count": 17,
   "id": "5ae4e5f4",
   "metadata": {},
   "outputs": [],
   "source": [
    "# Scenario A\n",
    "def hello():\n",
    "    print(\"Hi, Pranav\")\n",
    "    \n",
    "print(\"Before Function\")\n",
    "hello()\n",
    "print(\"After Function\")"
   ]
  },
  {
   "cell_type": "code",
   "execution_count": null,
   "id": "8fc5100d",
   "metadata": {},
   "outputs": [],
   "source": [
    "print(\"Before Function\")\n",
    "print(\"Hi, Pranav\")\n",
    "print(\"After Function\")"
   ]
  },
  {
   "cell_type": "code",
   "execution_count": null,
   "id": "cf6024ac",
   "metadata": {},
   "outputs": [],
   "source": []
  },
  {
   "cell_type": "code",
   "execution_count": null,
   "id": "e668d637",
   "metadata": {},
   "outputs": [],
   "source": [
    "# Scenario B\n",
    "print(\"Before Function\")\n",
    "hello()\n",
    "print(\"After Function\")\n",
    "\n",
    "def hello():\n",
    "    print(\"Hi, Pranav\")\n",
    "    \n",
    "# This would be an Error but Jupyter is stupid :P"
   ]
  },
  {
   "cell_type": "code",
   "execution_count": null,
   "id": "08c3a086",
   "metadata": {},
   "outputs": [],
   "source": []
  },
  {
   "cell_type": "code",
   "execution_count": null,
   "id": "9986b7d2",
   "metadata": {},
   "outputs": [],
   "source": []
  },
  {
   "cell_type": "code",
   "execution_count": null,
   "id": "17f9eab9",
   "metadata": {},
   "outputs": [],
   "source": [
    "# Agrument / Parameter Passing"
   ]
  },
  {
   "cell_type": "code",
   "execution_count": 27,
   "id": "4eae3367",
   "metadata": {},
   "outputs": [
    {
     "name": "stdout",
     "output_type": "stream",
     "text": [
      "Hi, Pranav\n",
      "Hi, Tarun\n",
      "Hi, Sahil\n"
     ]
    }
   ],
   "source": [
    "def greet_pranav():\n",
    "    print(\"Hi, Pranav\")\n",
    "    \n",
    "greet_pranav()\n",
    "\n",
    "\n",
    "def greet_tarun():\n",
    "    print(\"Hi, Tarun\")\n",
    "\n",
    "greet_tarun()\n",
    "\n",
    "def greet_sahil():\n",
    "    print(\"Hi, Sahil\")\n",
    "    \n",
    "greet_sahil()"
   ]
  },
  {
   "cell_type": "code",
   "execution_count": 21,
   "id": "935e5823",
   "metadata": {},
   "outputs": [
    {
     "name": "stdout",
     "output_type": "stream",
     "text": [
      "Hi, Pranav\n"
     ]
    }
   ],
   "source": [
    "print(\"Hi, Pranav\")"
   ]
  },
  {
   "cell_type": "code",
   "execution_count": 22,
   "id": "0b49e15f",
   "metadata": {},
   "outputs": [
    {
     "name": "stdout",
     "output_type": "stream",
     "text": [
      "Hi, Sahil\n"
     ]
    }
   ],
   "source": [
    "print(\"Hi, Sahil\")"
   ]
  },
  {
   "cell_type": "code",
   "execution_count": 23,
   "id": "f4e3e8ab",
   "metadata": {},
   "outputs": [
    {
     "name": "stdout",
     "output_type": "stream",
     "text": [
      "Hi, Tarun\n"
     ]
    }
   ],
   "source": [
    "print(\"Hi, Tarun\")"
   ]
  },
  {
   "cell_type": "code",
   "execution_count": 26,
   "id": "0f2c603e",
   "metadata": {},
   "outputs": [
    {
     "name": "stdout",
     "output_type": "stream",
     "text": [
      "Hi, Tarun\n"
     ]
    }
   ],
   "source": [
    "name = \"Tarun\"\n",
    "print(\"Hi,\",name)"
   ]
  },
  {
   "cell_type": "code",
   "execution_count": null,
   "id": "ab76e9c0",
   "metadata": {},
   "outputs": [],
   "source": []
  },
  {
   "cell_type": "code",
   "execution_count": 36,
   "id": "3d0adbc7",
   "metadata": {},
   "outputs": [
    {
     "ename": "TypeError",
     "evalue": "greet() missing 1 required positional argument: 'name'",
     "output_type": "error",
     "traceback": [
      "\u001b[0;31m---------------------------------------------------------------------------\u001b[0m",
      "\u001b[0;31mTypeError\u001b[0m                                 Traceback (most recent call last)",
      "Input \u001b[0;32mIn [36]\u001b[0m, in \u001b[0;36m<cell line: 6>\u001b[0;34m()\u001b[0m\n\u001b[1;32m      3\u001b[0m \u001b[38;5;28;01mdef\u001b[39;00m \u001b[38;5;21mgreet\u001b[39m(name):\n\u001b[1;32m      4\u001b[0m     \u001b[38;5;28mprint\u001b[39m(\u001b[38;5;124m\"\u001b[39m\u001b[38;5;124mHi,\u001b[39m\u001b[38;5;124m\"\u001b[39m, name)\n\u001b[0;32m----> 6\u001b[0m \u001b[43mgreet\u001b[49m\u001b[43m(\u001b[49m\u001b[43m)\u001b[49m\n",
      "\u001b[0;31mTypeError\u001b[0m: greet() missing 1 required positional argument: 'name'"
     ]
    }
   ],
   "source": [
    "# Smart way\n",
    "\n",
    "def greet(name):\n",
    "    print(\"Hi,\", name)\n",
    "    \n",
    "greet()"
   ]
  },
  {
   "cell_type": "code",
   "execution_count": 37,
   "id": "7c0e7a99",
   "metadata": {},
   "outputs": [
    {
     "name": "stdout",
     "output_type": "stream",
     "text": [
      "Hi, Pranav\n"
     ]
    }
   ],
   "source": [
    "def greet(name):\n",
    "    print(\"Hi,\", name)\n",
    "    \n",
    "greet(\"Pranav\")"
   ]
  },
  {
   "cell_type": "code",
   "execution_count": 40,
   "id": "c5335d24",
   "metadata": {},
   "outputs": [
    {
     "name": "stdout",
     "output_type": "stream",
     "text": [
      "Hi, 1234\n"
     ]
    }
   ],
   "source": [
    "def greet(name):\n",
    "    print(\"Hi,\", name)\n",
    "    \n",
    "greet(1234)"
   ]
  },
  {
   "cell_type": "code",
   "execution_count": 38,
   "id": "0753e40c",
   "metadata": {},
   "outputs": [],
   "source": [
    "name = \"Pranav\""
   ]
  },
  {
   "cell_type": "code",
   "execution_count": 39,
   "id": "7f809f5a",
   "metadata": {},
   "outputs": [],
   "source": [
    "name = 1234"
   ]
  },
  {
   "cell_type": "code",
   "execution_count": null,
   "id": "a15f431d",
   "metadata": {},
   "outputs": [],
   "source": []
  },
  {
   "cell_type": "code",
   "execution_count": 42,
   "id": "9467994d",
   "metadata": {},
   "outputs": [
    {
     "name": "stdout",
     "output_type": "stream",
     "text": [
      "<class 'str'>\n",
      "Hi, 1234\n"
     ]
    }
   ],
   "source": [
    "def greet(name):\n",
    "    print(type(name))\n",
    "    print(\"Hi,\", name)\n",
    "    \n",
    "greet(\"1234\")"
   ]
  },
  {
   "cell_type": "code",
   "execution_count": 43,
   "id": "f988f321",
   "metadata": {},
   "outputs": [],
   "source": [
    "# Multiple Arguments"
   ]
  },
  {
   "cell_type": "code",
   "execution_count": 45,
   "id": "7bf36cb4",
   "metadata": {},
   "outputs": [
    {
     "name": "stdout",
     "output_type": "stream",
     "text": [
      "Name: Pranav\n",
      "Age: 26\n",
      "Job: MTS-2\n",
      "Skill: Python\n",
      "\n"
     ]
    }
   ],
   "source": [
    "def person(name, age, job, skill):\n",
    "    print(\"Name:\", name)\n",
    "    print(\"Age:\", age)\n",
    "    print(\"Job:\", job)\n",
    "    print(\"Skill:\", skill)\n",
    "    print()\n",
    "\n",
    "person(\"Pranav\", 26, \"MTS-2\", \"Python\")"
   ]
  },
  {
   "cell_type": "code",
   "execution_count": 46,
   "id": "2c5db2b3",
   "metadata": {},
   "outputs": [
    {
     "name": "stdout",
     "output_type": "stream",
     "text": [
      "Name: 26\n",
      "Age: Pranav\n",
      "Job: MTS-2\n",
      "Skill: Python\n",
      "\n"
     ]
    }
   ],
   "source": [
    "def person(name, age, job, skill):\n",
    "    print(\"Name:\", name)\n",
    "    print(\"Age:\", age)\n",
    "    print(\"Job:\", job)\n",
    "    print(\"Skill:\", skill)\n",
    "    print()\n",
    "\n",
    "person(26,\"Pranav\", \"MTS-2\", \"Python\")"
   ]
  },
  {
   "cell_type": "code",
   "execution_count": 47,
   "id": "73cdcf94",
   "metadata": {},
   "outputs": [
    {
     "ename": "TypeError",
     "evalue": "person() missing 1 required positional argument: 'skill'",
     "output_type": "error",
     "traceback": [
      "\u001b[0;31m---------------------------------------------------------------------------\u001b[0m",
      "\u001b[0;31mTypeError\u001b[0m                                 Traceback (most recent call last)",
      "Input \u001b[0;32mIn [47]\u001b[0m, in \u001b[0;36m<cell line: 8>\u001b[0;34m()\u001b[0m\n\u001b[1;32m      5\u001b[0m     \u001b[38;5;28mprint\u001b[39m(\u001b[38;5;124m\"\u001b[39m\u001b[38;5;124mSkill:\u001b[39m\u001b[38;5;124m\"\u001b[39m, skill)\n\u001b[1;32m      6\u001b[0m     \u001b[38;5;28mprint\u001b[39m()\n\u001b[0;32m----> 8\u001b[0m \u001b[43mperson\u001b[49m\u001b[43m(\u001b[49m\u001b[38;5;241;43m26\u001b[39;49m\u001b[43m,\u001b[49m\u001b[38;5;124;43m\"\u001b[39;49m\u001b[38;5;124;43mPranav\u001b[39;49m\u001b[38;5;124;43m\"\u001b[39;49m\u001b[43m,\u001b[49m\u001b[43m \u001b[49m\u001b[38;5;124;43m\"\u001b[39;49m\u001b[38;5;124;43mMTS-2\u001b[39;49m\u001b[38;5;124;43m\"\u001b[39;49m\u001b[43m)\u001b[49m\n",
      "\u001b[0;31mTypeError\u001b[0m: person() missing 1 required positional argument: 'skill'"
     ]
    }
   ],
   "source": [
    "def person(name, age, job, skill):\n",
    "    print(\"Name:\", name)\n",
    "    print(\"Age:\", age)\n",
    "    print(\"Job:\", job)\n",
    "    print(\"Skill:\", skill)\n",
    "    print()\n",
    "\n",
    "person(26,\"Pranav\", \"MTS-2\")"
   ]
  },
  {
   "cell_type": "code",
   "execution_count": null,
   "id": "48bc78ef",
   "metadata": {},
   "outputs": [],
   "source": [
    "# Default Args"
   ]
  },
  {
   "cell_type": "code",
   "execution_count": 49,
   "id": "baa0bb52",
   "metadata": {},
   "outputs": [
    {
     "name": "stdout",
     "output_type": "stream",
     "text": [
      "Name: Pranav\n",
      "Age: 26\n",
      "Job: MTS-2\n",
      "Skill: Java\n",
      "\n"
     ]
    }
   ],
   "source": [
    "def person(name, age, job, skill=\"Java\"):\n",
    "    print(\"Name:\", name)\n",
    "    print(\"Age:\", age)\n",
    "    print(\"Job:\", job)\n",
    "    print(\"Skill:\", skill)\n",
    "    print()\n",
    "\n",
    "person(\"Pranav\",26, \"MTS-2\")"
   ]
  },
  {
   "cell_type": "code",
   "execution_count": 50,
   "id": "d3465713",
   "metadata": {},
   "outputs": [
    {
     "name": "stdout",
     "output_type": "stream",
     "text": [
      "Name: Pranav\n",
      "Age: 26\n",
      "Job: MTS-2\n",
      "Skill: Guitar\n",
      "\n"
     ]
    }
   ],
   "source": [
    "def person(name, age, job, skill=\"Java\"):\n",
    "    print(\"Name:\", name)\n",
    "    print(\"Age:\", age)\n",
    "    print(\"Job:\", job)\n",
    "    print(\"Skill:\", skill)\n",
    "    print()\n",
    "\n",
    "person(\"Pranav\",26, \"MTS-2\",\"Guitar\")"
   ]
  },
  {
   "cell_type": "code",
   "execution_count": null,
   "id": "91f4864d",
   "metadata": {},
   "outputs": [],
   "source": []
  },
  {
   "cell_type": "code",
   "execution_count": 52,
   "id": "b174aa83",
   "metadata": {},
   "outputs": [
    {
     "ename": "SyntaxError",
     "evalue": "non-default argument follows default argument (99437822.py, line 1)",
     "output_type": "error",
     "traceback": [
      "\u001b[0;36m  Input \u001b[0;32mIn [52]\u001b[0;36m\u001b[0m\n\u001b[0;31m    def person(name, age, skill=\"Java\", job):\u001b[0m\n\u001b[0m               ^\u001b[0m\n\u001b[0;31mSyntaxError\u001b[0m\u001b[0;31m:\u001b[0m non-default argument follows default argument\n"
     ]
    }
   ],
   "source": [
    "def person(name, age, skill=\"Java\", job):\n",
    "    print(\"Name:\", name)\n",
    "    print(\"Age:\", age)\n",
    "    print(\"Job:\", job)\n",
    "    print(\"Skill:\", skill)\n",
    "    print()\n",
    "\n",
    "person(\"Pranav\",26, \"MTS-2\",\"Guitar\")"
   ]
  },
  {
   "cell_type": "code",
   "execution_count": 53,
   "id": "052f2993",
   "metadata": {},
   "outputs": [
    {
     "name": "stdout",
     "output_type": "stream",
     "text": [
      "Name: Pranav\n",
      "Age: 26\n",
      "Job: Guitar\n",
      "Skill: MTS-2\n",
      "\n"
     ]
    }
   ],
   "source": [
    "def person(name, age, skill=\"Java\", job=\"Just Testing\"):\n",
    "    print(\"Name:\", name)\n",
    "    print(\"Age:\", age)\n",
    "    print(\"Job:\", job)\n",
    "    print(\"Skill:\", skill)\n",
    "    print()\n",
    "\n",
    "person(\"Pranav\",26, \"MTS-2\",\"Guitar\")"
   ]
  },
  {
   "cell_type": "code",
   "execution_count": 54,
   "id": "a0464a46",
   "metadata": {},
   "outputs": [
    {
     "ename": "SyntaxError",
     "evalue": "non-default argument follows default argument (3079542788.py, line 1)",
     "output_type": "error",
     "traceback": [
      "\u001b[0;36m  Input \u001b[0;32mIn [54]\u001b[0;36m\u001b[0m\n\u001b[0;31m    def person(name, skill=\"Java\", job=\"Just Testing\", age):\u001b[0m\n\u001b[0m               ^\u001b[0m\n\u001b[0;31mSyntaxError\u001b[0m\u001b[0;31m:\u001b[0m non-default argument follows default argument\n"
     ]
    }
   ],
   "source": [
    "def person(name, skill=\"Java\", job=\"Just Testing\", age):\n",
    "    print(\"Name:\", name)\n",
    "    print(\"Age:\", age)\n",
    "    print(\"Job:\", job)\n",
    "    print(\"Skill:\", skill)\n",
    "    print()\n",
    "\n",
    "person(\"Pranav\",26, \"MTS-2\",\"Guitar\")"
   ]
  },
  {
   "cell_type": "code",
   "execution_count": 55,
   "id": "aadc7140",
   "metadata": {},
   "outputs": [
    {
     "name": "stdout",
     "output_type": "stream",
     "text": [
      "11\n"
     ]
    }
   ],
   "source": [
    "def sum_values(a,b,c=5):\n",
    "    print(a+b+c)\n",
    "    \n",
    "sum_values(1,5)"
   ]
  },
  {
   "cell_type": "code",
   "execution_count": 56,
   "id": "f1264537",
   "metadata": {},
   "outputs": [
    {
     "name": "stdout",
     "output_type": "stream",
     "text": [
      "10\n"
     ]
    }
   ],
   "source": [
    "def sum_values(a,b,c=5):\n",
    "    print(a+b+c)\n",
    "    \n",
    "sum_values(a=1,b=5,c=4)"
   ]
  },
  {
   "cell_type": "code",
   "execution_count": 58,
   "id": "c5c7f2ed",
   "metadata": {},
   "outputs": [
    {
     "name": "stdout",
     "output_type": "stream",
     "text": [
      "a -> 1\n",
      "b -> 5\n",
      "c -> 4\n",
      "10\n"
     ]
    }
   ],
   "source": [
    "def sum_values(a,b,c=5):\n",
    "    print(\"a ->\",a)\n",
    "    print(\"b ->\",b)\n",
    "    print(\"c ->\",c)\n",
    "    print(a+b+c)\n",
    "    \n",
    "sum_values(b=5,c=4, a=1)"
   ]
  },
  {
   "cell_type": "code",
   "execution_count": 59,
   "id": "6b3fc1f7",
   "metadata": {},
   "outputs": [
    {
     "ename": "SyntaxError",
     "evalue": "duplicate argument 'a' in function definition (4135079687.py, line 1)",
     "output_type": "error",
     "traceback": [
      "\u001b[0;36m  Input \u001b[0;32mIn [59]\u001b[0;36m\u001b[0m\n\u001b[0;31m    def sum_values(a,a,c=5):\u001b[0m\n\u001b[0m    ^\u001b[0m\n\u001b[0;31mSyntaxError\u001b[0m\u001b[0;31m:\u001b[0m duplicate argument 'a' in function definition\n"
     ]
    }
   ],
   "source": [
    "def sum_values(a,a,c=5):\n",
    "    print(\"a ->\",a)\n",
    "    print(\"a ->\",a)\n",
    "    print(\"c ->\",c)\n",
    "    print(a+b+c)\n",
    "    \n",
    "sum_values(1,2,3)"
   ]
  },
  {
   "cell_type": "code",
   "execution_count": 60,
   "id": "2d3e156e",
   "metadata": {},
   "outputs": [
    {
     "ename": "TypeError",
     "evalue": "f() got multiple values for argument 'b'",
     "output_type": "error",
     "traceback": [
      "\u001b[0;31m---------------------------------------------------------------------------\u001b[0m",
      "\u001b[0;31mTypeError\u001b[0m                                 Traceback (most recent call last)",
      "Input \u001b[0;32mIn [60]\u001b[0m, in \u001b[0;36m<cell line: 7>\u001b[0;34m()\u001b[0m\n\u001b[1;32m      4\u001b[0m     \u001b[38;5;28mprint\u001b[39m(\u001b[38;5;124m'\u001b[39m\u001b[38;5;124mThird number (c): \u001b[39m\u001b[38;5;124m'\u001b[39m, c)\n\u001b[1;32m      5\u001b[0m     \u001b[38;5;28mprint\u001b[39m(\u001b[38;5;124m'\u001b[39m\u001b[38;5;124mThe result is: \u001b[39m\u001b[38;5;124m'\u001b[39m, \u001b[38;5;241m2\u001b[39m\u001b[38;5;241m*\u001b[39ma \u001b[38;5;241m+\u001b[39m b \u001b[38;5;241m-\u001b[39m \u001b[38;5;241m3\u001b[39m\u001b[38;5;241m*\u001b[39mc)\n\u001b[0;32m----> 7\u001b[0m \u001b[43mf\u001b[49m\u001b[43m(\u001b[49m\u001b[38;5;241;43m3\u001b[39;49m\u001b[43m,\u001b[49m\u001b[43m \u001b[49m\u001b[38;5;241;43m2\u001b[39;49m\u001b[43m,\u001b[49m\u001b[43m \u001b[49m\u001b[43mb\u001b[49m\u001b[38;5;241;43m=\u001b[39;49m\u001b[38;5;241;43m5\u001b[39;49m\u001b[43m)\u001b[49m\n",
      "\u001b[0;31mTypeError\u001b[0m: f() got multiple values for argument 'b'"
     ]
    }
   ],
   "source": [
    "def f(a, b, c=5):\n",
    "    print('First number (a): ', a)\n",
    "    print('Second number (b): ', b)\n",
    "    print('Third number (c): ', c)\n",
    "    print('The result is: ', 2*a + b - 3*c)\n",
    "\n",
    "f(3, 2, b=5)"
   ]
  },
  {
   "cell_type": "code",
   "execution_count": 61,
   "id": "32fc63b7",
   "metadata": {},
   "outputs": [
    {
     "name": "stdout",
     "output_type": "stream",
     "text": [
      "First number (a):  3\n",
      "Second number (b):  2\n",
      "Third number (c):  7\n",
      "The result is:  -13\n"
     ]
    }
   ],
   "source": [
    "def f(a, b, c=5,d=6):\n",
    "    print('First number (a): ', a)\n",
    "    print('Second number (b): ', b)\n",
    "    print('Third number (c): ', c)\n",
    "    print('The result is: ', 2*a + b - 3*c)\n",
    "\n",
    "f(3, 2, d=5, c=7)"
   ]
  },
  {
   "cell_type": "code",
   "execution_count": 62,
   "id": "479bdfd7",
   "metadata": {},
   "outputs": [
    {
     "name": "stdout",
     "output_type": "stream",
     "text": [
      "5 / 30 / 2022\n"
     ]
    }
   ],
   "source": [
    "# Quiz\n",
    "def print_date(d, m, y, style=0): # d=30, m=5, y=2022\n",
    "    if style == 0:  # American\n",
    "        print(m, '/', d, '/', y) # 5/30/2022\n",
    "    elif style == 1:  # European\n",
    "        print(d, '/', m, '/', y)\n",
    "    else:\n",
    "        print('Invalid Style')\n",
    "\n",
    "print_date(30, 5, 2022)"
   ]
  },
  {
   "cell_type": "code",
   "execution_count": 65,
   "id": "70fbcbff",
   "metadata": {},
   "outputs": [
    {
     "name": "stdout",
     "output_type": "stream",
     "text": [
      "1 <> 3 <> 4 <> 6 This is ending"
     ]
    }
   ],
   "source": [
    "print(1,3,4,6, sep=\" <> \", end=\" This is ending\") # sep and end are default args"
   ]
  },
  {
   "cell_type": "code",
   "execution_count": null,
   "id": "b40995e9",
   "metadata": {},
   "outputs": [],
   "source": []
  },
  {
   "cell_type": "code",
   "execution_count": 69,
   "id": "d8fff037",
   "metadata": {},
   "outputs": [
    {
     "name": "stdout",
     "output_type": "stream",
     "text": [
      "Result -> 12\n"
     ]
    }
   ],
   "source": [
    "def multiply(a, b):\n",
    "    return a*b\n",
    "    \n",
    "result = multiply(3,4)\n",
    "print(\"Result ->\", result)"
   ]
  },
  {
   "cell_type": "code",
   "execution_count": 70,
   "id": "c1a22f31",
   "metadata": {},
   "outputs": [
    {
     "name": "stdout",
     "output_type": "stream",
     "text": [
      "Result -> 20\n"
     ]
    }
   ],
   "source": [
    "def multiply(a, b):\n",
    "    return a*b # 20\n",
    "    \n",
    "result = multiply(4,5)\n",
    "print(\"Result ->\", result)"
   ]
  },
  {
   "cell_type": "code",
   "execution_count": 74,
   "id": "1e5a3f13",
   "metadata": {},
   "outputs": [
    {
     "name": "stdout",
     "output_type": "stream",
     "text": [
      "Line 1\n",
      "1\n"
     ]
    }
   ],
   "source": [
    "def testing():\n",
    "    print(\"Line 1\")\n",
    "    return 1 # method would return from here and below code will not be executed\n",
    "    print(\"Line 2\")\n",
    "    \n",
    "val = testing()\n",
    "print(val)"
   ]
  },
  {
   "cell_type": "code",
   "execution_count": 75,
   "id": "d47d2863",
   "metadata": {},
   "outputs": [
    {
     "name": "stdout",
     "output_type": "stream",
     "text": [
      "Line 1\n",
      "Line 2\n",
      "None\n"
     ]
    }
   ],
   "source": [
    "def testing(): # whole method would run\n",
    "    print(\"Line 1\")\n",
    "    print(\"Line 2\")\n",
    "    \n",
    "val = testing()\n",
    "print(val)"
   ]
  },
  {
   "cell_type": "code",
   "execution_count": null,
   "id": "1187c948",
   "metadata": {},
   "outputs": [],
   "source": [
    "def testing():\n",
    "    print(\"Line 1\")\n",
    "    print(\"Line 2\")\n",
    "    \n",
    "    \n",
    "def testing():\n",
    "    print(\"Line 1\")\n",
    "    print(\"Line 2\")\n",
    "    return None"
   ]
  },
  {
   "cell_type": "code",
   "execution_count": null,
   "id": "ce5bbd56",
   "metadata": {},
   "outputs": [],
   "source": []
  },
  {
   "cell_type": "code",
   "execution_count": 78,
   "id": "9fcea952",
   "metadata": {},
   "outputs": [
    {
     "name": "stdout",
     "output_type": "stream",
     "text": [
      "Before Function\n",
      "Hi, Pranav\n",
      "None\n",
      "After Function\n"
     ]
    }
   ],
   "source": [
    "# Scenario A\n",
    "def hello():\n",
    "    print(\"Hi, Pranav\") # Returning Nothing->None\n",
    "    \n",
    "print(\"Before Function\")\n",
    "val = hello() # val = None\n",
    "print(val)\n",
    "print(\"After Function\")"
   ]
  },
  {
   "cell_type": "code",
   "execution_count": null,
   "id": "a180528d",
   "metadata": {},
   "outputs": [],
   "source": []
  },
  {
   "cell_type": "code",
   "execution_count": 84,
   "id": "bdef3969",
   "metadata": {},
   "outputs": [
    {
     "name": "stdout",
     "output_type": "stream",
     "text": [
      "XYZ\n",
      "None\n"
     ]
    }
   ],
   "source": [
    "def test(a):\n",
    "    if a%2==0:\n",
    "        return \"Even\"\n",
    "    \n",
    "    print(\"XYZ\")\n",
    "    \n",
    "    \n",
    "val = test(5)\n",
    "print(val)"
   ]
  },
  {
   "cell_type": "code",
   "execution_count": 86,
   "id": "b9ad4450",
   "metadata": {},
   "outputs": [],
   "source": [
    "def test123():\n",
    "    print(\"testing\")"
   ]
  },
  {
   "cell_type": "code",
   "execution_count": 88,
   "id": "2f1fe663",
   "metadata": {},
   "outputs": [],
   "source": [
    "# Doc String\n",
    "\n",
    "def sum_value(a, b):\n",
    "    \"\"\"\n",
    "    Returns the sum of two int numbers in binary digits.\n",
    "    Parameters:\n",
    "            a (int): An integer\n",
    "            b (int): An integer\n",
    "\n",
    "    Returns:\n",
    "            sum (int): sum of a and b\n",
    "    \"\"\"\n",
    "    sum_add = a + b\n",
    "    return sum_add"
   ]
  },
  {
   "cell_type": "code",
   "execution_count": 89,
   "id": "149305fa",
   "metadata": {
    "scrolled": true
   },
   "outputs": [
    {
     "name": "stdout",
     "output_type": "stream",
     "text": [
      "hi\n"
     ]
    }
   ],
   "source": [
    "print(\"hi\")"
   ]
  },
  {
   "cell_type": "code",
   "execution_count": 91,
   "id": "2282cad4",
   "metadata": {},
   "outputs": [
    {
     "name": "stdout",
     "output_type": "stream",
     "text": [
      "Help on function sum_value in module __main__:\n",
      "\n",
      "sum_value(a, b)\n",
      "    Returns the sum of two decimal numbers in binary digits.\n",
      "    Parameters:\n",
      "            a (int): A decimal integer\n",
      "            b (int): Another decimal integer\n",
      "    \n",
      "    Returns:\n",
      "            sum (int): sum of a and b\n",
      "\n"
     ]
    }
   ],
   "source": [
    "help(sum_value)"
   ]
  },
  {
   "cell_type": "code",
   "execution_count": 92,
   "id": "a4ad3efa",
   "metadata": {},
   "outputs": [
    {
     "name": "stdout",
     "output_type": "stream",
     "text": [
      "Help on built-in function print in module builtins:\n",
      "\n",
      "print(...)\n",
      "    print(value, ..., sep=' ', end='\\n', file=sys.stdout, flush=False)\n",
      "    \n",
      "    Prints the values to a stream, or to sys.stdout by default.\n",
      "    Optional keyword arguments:\n",
      "    file:  a file-like object (stream); defaults to the current sys.stdout.\n",
      "    sep:   string inserted between values, default a space.\n",
      "    end:   string appended after the last value, default a newline.\n",
      "    flush: whether to forcibly flush the stream.\n",
      "\n"
     ]
    }
   ],
   "source": [
    "help(print)"
   ]
  },
  {
   "cell_type": "code",
   "execution_count": 94,
   "id": "2c5dadcf",
   "metadata": {},
   "outputs": [
    {
     "name": "stdout",
     "output_type": "stream",
     "text": [
      "25\n"
     ]
    }
   ],
   "source": [
    "# (a+b)^2\n",
    "a = 2\n",
    "b = 3 \n",
    "\n",
    "# (a+b)^2 = a^2 + 2*a*b + b^2\n",
    "\n",
    "def multiply(a, b):\n",
    "    return a*b\n",
    "\n",
    "\n",
    "result = multiply(a,a) + 2*multiply(a,b) + multiply(b,b)\n",
    "print(result)"
   ]
  },
  {
   "cell_type": "code",
   "execution_count": 95,
   "id": "021e1063",
   "metadata": {},
   "outputs": [
    {
     "name": "stdout",
     "output_type": "stream",
     "text": [
      "4 is maximum\n"
     ]
    }
   ],
   "source": [
    "# Quiz\n",
    "\n",
    "def print_max(a, b): # a =3, b =4\n",
    "    if a > b:\n",
    "        print(a, 'is maximum')\n",
    "    elif a == b:\n",
    "        print(a, 'is equal to', b)\n",
    "    else:\n",
    "        print(b, 'is maximum')\n",
    "        \n",
    "print_max(3, 4)"
   ]
  },
  {
   "cell_type": "code",
   "execution_count": 96,
   "id": "4a2aba9c",
   "metadata": {},
   "outputs": [],
   "source": [
    "# Doubts"
   ]
  },
  {
   "cell_type": "code",
   "execution_count": 97,
   "id": "c3867337",
   "metadata": {},
   "outputs": [
    {
     "name": "stdout",
     "output_type": "stream",
     "text": [
      "b\n"
     ]
    }
   ],
   "source": [
    "def fun():\n",
    "    print(\"a\")\n",
    "    \n",
    "def fun():\n",
    "    print(\"b\")\n",
    "    \n",
    "fun()"
   ]
  },
  {
   "cell_type": "code",
   "execution_count": 98,
   "id": "0026a77a",
   "metadata": {},
   "outputs": [
    {
     "name": "stdout",
     "output_type": "stream",
     "text": [
      "45\n"
     ]
    }
   ],
   "source": [
    "x = 7\n",
    "x = \"45\"\n",
    "\n",
    "print(x)"
   ]
  },
  {
   "cell_type": "code",
   "execution_count": 104,
   "id": "2be4c4e8",
   "metadata": {},
   "outputs": [
    {
     "name": "stdout",
     "output_type": "stream",
     "text": [
      "None\n"
     ]
    }
   ],
   "source": [
    "def func(a,b,c=\"\"): # a =2, b=3,c=\"\"\n",
    "    if a==0 and b==3 or c==5:\n",
    "        return True\n",
    "    \n",
    "val = func(2,3)\n",
    "print(val)"
   ]
  },
  {
   "cell_type": "code",
   "execution_count": null,
   "id": "0ed93173",
   "metadata": {},
   "outputs": [],
   "source": []
  }
 ],
 "metadata": {
  "kernelspec": {
   "display_name": "Python 3 (ipykernel)",
   "language": "python",
   "name": "python3"
  },
  "language_info": {
   "codemirror_mode": {
    "name": "ipython",
    "version": 3
   },
   "file_extension": ".py",
   "mimetype": "text/x-python",
   "name": "python",
   "nbconvert_exporter": "python",
   "pygments_lexer": "ipython3",
   "version": "3.8.13"
  }
 },
 "nbformat": 4,
 "nbformat_minor": 5
}
