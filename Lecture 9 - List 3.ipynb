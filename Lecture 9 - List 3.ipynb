{
 "cells": [
  {
   "cell_type": "code",
   "execution_count": 7,
   "id": "5888afbd",
   "metadata": {},
   "outputs": [],
   "source": [
    "# Ques"
   ]
  },
  {
   "cell_type": "code",
   "execution_count": 44,
   "id": "0bb4f1c3",
   "metadata": {},
   "outputs": [],
   "source": [
    "l1 = [1,2,3]\n",
    "l2 = [4,5,6]"
   ]
  },
  {
   "cell_type": "code",
   "execution_count": 45,
   "id": "392f8997",
   "metadata": {},
   "outputs": [],
   "source": [
    "# output -> [1,2,3,4,5,6]"
   ]
  },
  {
   "cell_type": "code",
   "execution_count": 46,
   "id": "077f18a1",
   "metadata": {},
   "outputs": [
    {
     "data": {
      "text/plain": [
       "'HelloWorld'"
      ]
     },
     "execution_count": 46,
     "metadata": {},
     "output_type": "execute_result"
    }
   ],
   "source": [
    "\"Hello\" + \"World\""
   ]
  },
  {
   "cell_type": "code",
   "execution_count": 47,
   "id": "42263add",
   "metadata": {},
   "outputs": [
    {
     "data": {
      "text/plain": [
       "5"
      ]
     },
     "execution_count": 47,
     "metadata": {},
     "output_type": "execute_result"
    }
   ],
   "source": [
    "2 + 3"
   ]
  },
  {
   "cell_type": "code",
   "execution_count": 48,
   "id": "213f66d5",
   "metadata": {},
   "outputs": [
    {
     "name": "stdout",
     "output_type": "stream",
     "text": [
      "<class 'list'>\n"
     ]
    }
   ],
   "source": [
    "print(type(l1))"
   ]
  },
  {
   "cell_type": "code",
   "execution_count": 49,
   "id": "fd2c8cfe",
   "metadata": {},
   "outputs": [],
   "source": [
    "l3 = l1 + l2"
   ]
  },
  {
   "cell_type": "code",
   "execution_count": 50,
   "id": "9e15ab5d",
   "metadata": {},
   "outputs": [
    {
     "data": {
      "text/plain": [
       "[1, 2, 3, 4, 5, 6]"
      ]
     },
     "execution_count": 50,
     "metadata": {},
     "output_type": "execute_result"
    }
   ],
   "source": [
    "l3"
   ]
  },
  {
   "cell_type": "code",
   "execution_count": 51,
   "id": "dafd6dd0",
   "metadata": {},
   "outputs": [],
   "source": [
    "# Ques 2\n",
    "l1 = [1,2,3]\n",
    "l2 = [4,5,6]"
   ]
  },
  {
   "cell_type": "code",
   "execution_count": 52,
   "id": "93226e08",
   "metadata": {},
   "outputs": [],
   "source": [
    "# output -> [1,2,3,6,5,4]"
   ]
  },
  {
   "cell_type": "code",
   "execution_count": 53,
   "id": "0ea30eec",
   "metadata": {},
   "outputs": [],
   "source": [
    "# Approach -> Add l1 and reverse of l2"
   ]
  },
  {
   "cell_type": "code",
   "execution_count": 54,
   "id": "9cd39364",
   "metadata": {},
   "outputs": [],
   "source": [
    "l3 = l1 + l2[::-1]"
   ]
  },
  {
   "cell_type": "code",
   "execution_count": 55,
   "id": "73e90b1b",
   "metadata": {},
   "outputs": [
    {
     "data": {
      "text/plain": [
       "[1, 2, 3, 6, 5, 4]"
      ]
     },
     "execution_count": 55,
     "metadata": {},
     "output_type": "execute_result"
    }
   ],
   "source": [
    "l3"
   ]
  },
  {
   "cell_type": "code",
   "execution_count": 56,
   "id": "24d22f74",
   "metadata": {},
   "outputs": [
    {
     "data": {
      "text/plain": [
       "[4, 5, 6]"
      ]
     },
     "execution_count": 56,
     "metadata": {},
     "output_type": "execute_result"
    }
   ],
   "source": [
    "l2"
   ]
  },
  {
   "cell_type": "code",
   "execution_count": 57,
   "id": "9819e52e",
   "metadata": {},
   "outputs": [],
   "source": [
    "reverse_l2 = l2[::-1]"
   ]
  },
  {
   "cell_type": "code",
   "execution_count": 58,
   "id": "a50f9300",
   "metadata": {},
   "outputs": [
    {
     "data": {
      "text/plain": [
       "[6, 5, 4]"
      ]
     },
     "execution_count": 58,
     "metadata": {},
     "output_type": "execute_result"
    }
   ],
   "source": [
    "reverse_l2"
   ]
  },
  {
   "cell_type": "code",
   "execution_count": 59,
   "id": "7aaf3e52",
   "metadata": {},
   "outputs": [
    {
     "data": {
      "text/plain": [
       "[4, 5, 6]"
      ]
     },
     "execution_count": 59,
     "metadata": {},
     "output_type": "execute_result"
    }
   ],
   "source": [
    "l2"
   ]
  },
  {
   "cell_type": "code",
   "execution_count": 60,
   "id": "2e37b657",
   "metadata": {},
   "outputs": [],
   "source": [
    "l2.reverse()"
   ]
  },
  {
   "cell_type": "code",
   "execution_count": 61,
   "id": "012ce7bc",
   "metadata": {},
   "outputs": [
    {
     "data": {
      "text/plain": [
       "[6, 5, 4]"
      ]
     },
     "execution_count": 61,
     "metadata": {},
     "output_type": "execute_result"
    }
   ],
   "source": [
    "l2"
   ]
  },
  {
   "cell_type": "code",
   "execution_count": 62,
   "id": "c166f84a",
   "metadata": {},
   "outputs": [],
   "source": [
    "# del vs pop\n",
    "# reverse vs slicing"
   ]
  },
  {
   "cell_type": "code",
   "execution_count": 63,
   "id": "a4d125de",
   "metadata": {},
   "outputs": [
    {
     "name": "stdout",
     "output_type": "stream",
     "text": [
      "Help on method_descriptor:\n",
      "\n",
      "reverse(self, /)\n",
      "    Reverse *IN PLACE*.\n",
      "\n"
     ]
    }
   ],
   "source": [
    "help(list.reverse)"
   ]
  },
  {
   "cell_type": "code",
   "execution_count": 64,
   "id": "df641d50",
   "metadata": {},
   "outputs": [
    {
     "data": {
      "text/plain": [
       "[1, 2, 3, 6, 5, 4]"
      ]
     },
     "execution_count": 64,
     "metadata": {},
     "output_type": "execute_result"
    }
   ],
   "source": [
    "l1 + l2"
   ]
  },
  {
   "cell_type": "code",
   "execution_count": 65,
   "id": "bdf1ebdf",
   "metadata": {},
   "outputs": [],
   "source": [
    "# Extend"
   ]
  },
  {
   "cell_type": "code",
   "execution_count": 66,
   "id": "71596457",
   "metadata": {},
   "outputs": [
    {
     "name": "stdout",
     "output_type": "stream",
     "text": [
      "[1, 2, 3, 6, 5, 4]\n",
      "[1, 2, 3]\n",
      "[6, 5, 4]\n"
     ]
    }
   ],
   "source": [
    "print(l1 + l2)\n",
    "print(l1)\n",
    "print(l2)"
   ]
  },
  {
   "cell_type": "code",
   "execution_count": 67,
   "id": "c66b1ddc",
   "metadata": {},
   "outputs": [],
   "source": [
    "# Add the element of l2 in l1"
   ]
  },
  {
   "cell_type": "code",
   "execution_count": 68,
   "id": "d4b7f70f",
   "metadata": {},
   "outputs": [],
   "source": [
    "l1.extend(l2) # inplace changes"
   ]
  },
  {
   "cell_type": "code",
   "execution_count": 69,
   "id": "05d4b27c",
   "metadata": {},
   "outputs": [
    {
     "data": {
      "text/plain": [
       "[1, 2, 3, 6, 5, 4]"
      ]
     },
     "execution_count": 69,
     "metadata": {},
     "output_type": "execute_result"
    }
   ],
   "source": [
    "l1"
   ]
  },
  {
   "cell_type": "code",
   "execution_count": 70,
   "id": "5f471005",
   "metadata": {},
   "outputs": [
    {
     "data": {
      "text/plain": [
       "[6, 5, 4]"
      ]
     },
     "execution_count": 70,
     "metadata": {},
     "output_type": "execute_result"
    }
   ],
   "source": [
    "l2 # is l2 changes ?"
   ]
  },
  {
   "cell_type": "code",
   "execution_count": 71,
   "id": "b58720e4",
   "metadata": {},
   "outputs": [],
   "source": [
    "# def (self, A) # you'll study in OOP"
   ]
  },
  {
   "cell_type": "code",
   "execution_count": 74,
   "id": "c6056df9",
   "metadata": {},
   "outputs": [],
   "source": [
    "l1 = l1 + l2 # Space complexity"
   ]
  },
  {
   "cell_type": "code",
   "execution_count": null,
   "id": "9f0fa021",
   "metadata": {},
   "outputs": [],
   "source": []
  },
  {
   "cell_type": "code",
   "execution_count": 76,
   "id": "fc824652",
   "metadata": {},
   "outputs": [
    {
     "name": "stdout",
     "output_type": "stream",
     "text": [
      "[4, 3, 2, 1, 5]\n"
     ]
    }
   ],
   "source": [
    "# Quiz 1\n",
    "l = [1, 2, 3, 4]\n",
    "l.reverse() # l = [4,3,2,1]\n",
    "l.append(5) # l = [4,3,2,1,5]\n",
    "print(l)"
   ]
  },
  {
   "cell_type": "code",
   "execution_count": 77,
   "id": "e331ed42",
   "metadata": {},
   "outputs": [
    {
     "name": "stdout",
     "output_type": "stream",
     "text": [
      "[120, 30, 50]\n"
     ]
    }
   ],
   "source": [
    "# Quiz 2\n",
    "l = []\n",
    "odi = [120, 30, 50]\n",
    "l.extend(odi) # values of odi will be appended to l -> l [120,30,50]\n",
    "print(l)"
   ]
  },
  {
   "cell_type": "code",
   "execution_count": 78,
   "id": "7dfb6312",
   "metadata": {},
   "outputs": [
    {
     "name": "stdout",
     "output_type": "stream",
     "text": [
      "[6, 5]\n"
     ]
    }
   ],
   "source": [
    "# Quiz 3\n",
    "l = [10, 2, 5, 3, 6]\n",
    "print(l[-1:0:-2])"
   ]
  },
  {
   "cell_type": "code",
   "execution_count": null,
   "id": "c4f56f03",
   "metadata": {},
   "outputs": [],
   "source": []
  },
  {
   "cell_type": "code",
   "execution_count": 79,
   "id": "0073d4e7",
   "metadata": {},
   "outputs": [],
   "source": [
    "l1 = [2,5,7]\n",
    "l2 = [4,6,8]"
   ]
  },
  {
   "cell_type": "code",
   "execution_count": 80,
   "id": "fe2a9e26",
   "metadata": {},
   "outputs": [],
   "source": [
    "l1.append(l2) # what append does ? Add data at the end of list"
   ]
  },
  {
   "cell_type": "code",
   "execution_count": 81,
   "id": "8d0bbf55",
   "metadata": {},
   "outputs": [
    {
     "data": {
      "text/plain": [
       "[2, 5, 7, [4, 6, 8]]"
      ]
     },
     "execution_count": 81,
     "metadata": {},
     "output_type": "execute_result"
    }
   ],
   "source": [
    "l1"
   ]
  },
  {
   "cell_type": "code",
   "execution_count": 85,
   "id": "746479a8",
   "metadata": {},
   "outputs": [
    {
     "name": "stdout",
     "output_type": "stream",
     "text": [
      "<class 'int'>\n"
     ]
    }
   ],
   "source": [
    "print(l1[1])\n",
    "print(type(l1[1]))"
   ]
  },
  {
   "cell_type": "code",
   "execution_count": 86,
   "id": "337d13de",
   "metadata": {},
   "outputs": [
    {
     "name": "stdout",
     "output_type": "stream",
     "text": [
      "7\n",
      "<class 'int'>\n"
     ]
    }
   ],
   "source": [
    "print(l1[2])\n",
    "print(type(l1[2]))"
   ]
  },
  {
   "cell_type": "code",
   "execution_count": 87,
   "id": "9f6cb281",
   "metadata": {},
   "outputs": [
    {
     "name": "stdout",
     "output_type": "stream",
     "text": [
      "[4, 6, 8]\n",
      "<class 'list'>\n"
     ]
    }
   ],
   "source": [
    "print(l1[3])\n",
    "print(type(l1[3]))"
   ]
  },
  {
   "cell_type": "code",
   "execution_count": 89,
   "id": "2cfb929d",
   "metadata": {},
   "outputs": [],
   "source": [
    "l2 = l1[3]"
   ]
  },
  {
   "cell_type": "code",
   "execution_count": 90,
   "id": "6e408682",
   "metadata": {},
   "outputs": [
    {
     "data": {
      "text/plain": [
       "[4, 6, 8]"
      ]
     },
     "execution_count": 90,
     "metadata": {},
     "output_type": "execute_result"
    }
   ],
   "source": [
    "l2"
   ]
  },
  {
   "cell_type": "code",
   "execution_count": 92,
   "id": "b702417e",
   "metadata": {},
   "outputs": [
    {
     "name": "stdout",
     "output_type": "stream",
     "text": [
      "<class 'int'>\n"
     ]
    }
   ],
   "source": [
    "print(type(l2[1]))"
   ]
  },
  {
   "cell_type": "code",
   "execution_count": 93,
   "id": "a59c4076",
   "metadata": {},
   "outputs": [
    {
     "data": {
      "text/plain": [
       "6"
      ]
     },
     "execution_count": 93,
     "metadata": {},
     "output_type": "execute_result"
    }
   ],
   "source": [
    "print(l2[1]) # l2 = l1[3]\n",
    "print(l3[3][1])"
   ]
  },
  {
   "cell_type": "code",
   "execution_count": 94,
   "id": "1876ec11",
   "metadata": {},
   "outputs": [],
   "source": [
    "l1[3].append([9,1])"
   ]
  },
  {
   "cell_type": "code",
   "execution_count": 95,
   "id": "8902fd12",
   "metadata": {},
   "outputs": [
    {
     "data": {
      "text/plain": [
       "[2, 5, 7, [4, 6, 8, [9, 1]]]"
      ]
     },
     "execution_count": 95,
     "metadata": {},
     "output_type": "execute_result"
    }
   ],
   "source": [
    "l1"
   ]
  },
  {
   "cell_type": "code",
   "execution_count": 97,
   "id": "9d1da694",
   "metadata": {},
   "outputs": [
    {
     "data": {
      "text/plain": [
       "[4, 6, 8, [9, 1]]"
      ]
     },
     "execution_count": 97,
     "metadata": {},
     "output_type": "execute_result"
    }
   ],
   "source": [
    "l1[3]"
   ]
  },
  {
   "cell_type": "code",
   "execution_count": 98,
   "id": "0792d0fb",
   "metadata": {},
   "outputs": [
    {
     "data": {
      "text/plain": [
       "[9, 1]"
      ]
     },
     "execution_count": 98,
     "metadata": {},
     "output_type": "execute_result"
    }
   ],
   "source": [
    "l1[3][3]"
   ]
  },
  {
   "cell_type": "code",
   "execution_count": 99,
   "id": "773706d0",
   "metadata": {},
   "outputs": [
    {
     "data": {
      "text/plain": [
       "1"
      ]
     },
     "execution_count": 99,
     "metadata": {},
     "output_type": "execute_result"
    }
   ],
   "source": [
    "l1[3][3][1]"
   ]
  },
  {
   "cell_type": "code",
   "execution_count": 100,
   "id": "071f3154",
   "metadata": {},
   "outputs": [],
   "source": [
    "l1.insert(1,[12,15])"
   ]
  },
  {
   "cell_type": "code",
   "execution_count": 103,
   "id": "b01a8d5d",
   "metadata": {},
   "outputs": [
    {
     "data": {
      "text/plain": [
       "[2, [12, 15], 5, 7, [4, 6, 8, [9, 1]]]"
      ]
     },
     "execution_count": 103,
     "metadata": {},
     "output_type": "execute_result"
    }
   ],
   "source": [
    "l1 # 2D or 3D ? -> 3D"
   ]
  },
  {
   "cell_type": "code",
   "execution_count": null,
   "id": "5d648c21",
   "metadata": {},
   "outputs": [],
   "source": []
  },
  {
   "cell_type": "code",
   "execution_count": 104,
   "id": "5486da8b",
   "metadata": {},
   "outputs": [],
   "source": [
    "val = [1,[1,[1,[1,[1]]]]] # 5D "
   ]
  },
  {
   "cell_type": "code",
   "execution_count": null,
   "id": "747f78e8",
   "metadata": {},
   "outputs": [],
   "source": []
  },
  {
   "cell_type": "code",
   "execution_count": 107,
   "id": "fc807047",
   "metadata": {},
   "outputs": [],
   "source": [
    "mat = [[1,2,3],\n",
    "       [4,5,6],\n",
    "       [7,8,9]]"
   ]
  },
  {
   "cell_type": "code",
   "execution_count": 108,
   "id": "63ca63c5",
   "metadata": {},
   "outputs": [
    {
     "name": "stdout",
     "output_type": "stream",
     "text": [
      "[[1, 2, 3], [4, 5, 6], [7, 8, 9]]\n"
     ]
    }
   ],
   "source": [
    "print(mat)"
   ]
  },
  {
   "cell_type": "code",
   "execution_count": 109,
   "id": "516f2613",
   "metadata": {},
   "outputs": [
    {
     "data": {
      "text/plain": [
       "3"
      ]
     },
     "execution_count": 109,
     "metadata": {},
     "output_type": "execute_result"
    }
   ],
   "source": [
    "mat[0][2]"
   ]
  },
  {
   "cell_type": "code",
   "execution_count": 111,
   "id": "64d495e0",
   "metadata": {},
   "outputs": [
    {
     "name": "stdout",
     "output_type": "stream",
     "text": [
      "8\n"
     ]
    }
   ],
   "source": [
    "print(mat[2][1])"
   ]
  },
  {
   "cell_type": "code",
   "execution_count": 110,
   "id": "7094bc36",
   "metadata": {},
   "outputs": [],
   "source": [
    "# create matrix/2D\n",
    "# access the matrix"
   ]
  },
  {
   "cell_type": "code",
   "execution_count": 112,
   "id": "6795195c",
   "metadata": {},
   "outputs": [],
   "source": [
    "# iteration"
   ]
  },
  {
   "cell_type": "code",
   "execution_count": null,
   "id": "ce5fbf9b",
   "metadata": {},
   "outputs": [],
   "source": [
    "# outer loop\n",
    "for i in range():\n",
    "    # inner loop\n",
    "    for j in range():\n",
    "        "
   ]
  },
  {
   "cell_type": "code",
   "execution_count": 114,
   "id": "95009130",
   "metadata": {},
   "outputs": [
    {
     "name": "stdout",
     "output_type": "stream",
     "text": [
      "Value at index 0 [1, 2, 3]\n",
      "Value at index 1 [4, 5, 6]\n",
      "Value at index 2 [7, 8, 9]\n"
     ]
    }
   ],
   "source": [
    "for i in range(3): # Rows\n",
    "    print(\"Value at index\",i,mat[i])"
   ]
  },
  {
   "cell_type": "code",
   "execution_count": 116,
   "id": "0aeca7fc",
   "metadata": {},
   "outputs": [
    {
     "name": "stdout",
     "output_type": "stream",
     "text": [
      "[1, 2, 3]\n",
      "[4, 5, 6]\n",
      "[7, 8, 9]\n"
     ]
    }
   ],
   "source": [
    "for i in mat: # again going along with the row values\n",
    "    print(i)"
   ]
  },
  {
   "cell_type": "code",
   "execution_count": 121,
   "id": "839c26b6",
   "metadata": {},
   "outputs": [
    {
     "name": "stdout",
     "output_type": "stream",
     "text": [
      "[1, 2, 3]\n",
      "1 2 3 \n",
      "[4, 5, 6]\n",
      "4 5 6 \n",
      "[7, 8, 9]\n",
      "7 8 9 \n"
     ]
    }
   ],
   "source": [
    "for row_values in mat:\n",
    "    # whole list\n",
    "    # inner loop iterating over column at each row\n",
    "    print(row_values)\n",
    "    for col_value in row_values:\n",
    "        print(col_value, end = \" \")\n",
    "    print()"
   ]
  },
  {
   "cell_type": "code",
   "execution_count": 122,
   "id": "56d1c99a",
   "metadata": {},
   "outputs": [],
   "source": [
    "# Calculate the sum of matrix"
   ]
  },
  {
   "cell_type": "code",
   "execution_count": 123,
   "id": "6a8ee92f",
   "metadata": {},
   "outputs": [
    {
     "name": "stdout",
     "output_type": "stream",
     "text": [
      "45\n"
     ]
    }
   ],
   "source": [
    "sum_value = 0\n",
    "for row_values in mat:\n",
    "    for col_value in row_values:\n",
    "        sum_value+=col_value\n",
    "\n",
    "print(sum_value)"
   ]
  },
  {
   "cell_type": "code",
   "execution_count": null,
   "id": "d18ac42b",
   "metadata": {},
   "outputs": [],
   "source": [
    "n(n+1)/2"
   ]
  },
  {
   "cell_type": "code",
   "execution_count": 124,
   "id": "6f4e3cb1",
   "metadata": {},
   "outputs": [
    {
     "data": {
      "text/plain": [
       "45.0"
      ]
     },
     "execution_count": 124,
     "metadata": {},
     "output_type": "execute_result"
    }
   ],
   "source": [
    "9*10/2"
   ]
  },
  {
   "cell_type": "code",
   "execution_count": null,
   "id": "9bcab8cf",
   "metadata": {},
   "outputs": [],
   "source": []
  },
  {
   "cell_type": "code",
   "execution_count": 125,
   "id": "40223615",
   "metadata": {},
   "outputs": [],
   "source": [
    "# Find the sum of each row"
   ]
  },
  {
   "cell_type": "code",
   "execution_count": 126,
   "id": "23fac337",
   "metadata": {},
   "outputs": [],
   "source": [
    "mat = [[1,2,3], # 6\n",
    "       [4,5,6], # 15\n",
    "       [7,8,9]] # 24"
   ]
  },
  {
   "cell_type": "code",
   "execution_count": 127,
   "id": "5129cbf9",
   "metadata": {},
   "outputs": [],
   "source": [
    "# 6 15 24"
   ]
  },
  {
   "cell_type": "code",
   "execution_count": 130,
   "id": "03c5c1fe",
   "metadata": {},
   "outputs": [
    {
     "name": "stdout",
     "output_type": "stream",
     "text": [
      "6\n",
      "15\n",
      "24\n"
     ]
    }
   ],
   "source": [
    "sum_value = 0\n",
    "for row in mat:\n",
    "    # start of my new row\n",
    "    sum_value = 0\n",
    "    for col in row:\n",
    "        sum_value+=col\n",
    "    # I'm done with current row sum\n",
    "    # just print that sum\n",
    "    # and start fresh for new row <- \n",
    "    print(sum_value)"
   ]
  },
  {
   "cell_type": "code",
   "execution_count": 131,
   "id": "9158ad55",
   "metadata": {},
   "outputs": [],
   "source": [
    "# Find max at each row"
   ]
  },
  {
   "cell_type": "code",
   "execution_count": 134,
   "id": "9b775a9c",
   "metadata": {},
   "outputs": [],
   "source": [
    "runs = [[120, 30, 50], # t20\n",
    "        [200, 248, 100], # odi\n",
    "        [80, 100, 60]] # test"
   ]
  },
  {
   "cell_type": "code",
   "execution_count": 135,
   "id": "112f8887",
   "metadata": {},
   "outputs": [],
   "source": [
    "# 120 248 100"
   ]
  },
  {
   "cell_type": "code",
   "execution_count": 139,
   "id": "7958b803",
   "metadata": {},
   "outputs": [
    {
     "name": "stdout",
     "output_type": "stream",
     "text": [
      "120\n",
      "248\n",
      "100\n"
     ]
    }
   ],
   "source": [
    "for row in runs:\n",
    "    print(max(row))"
   ]
  },
  {
   "cell_type": "code",
   "execution_count": 138,
   "id": "5aeba766",
   "metadata": {},
   "outputs": [],
   "source": [
    "# homework find min at each row"
   ]
  },
  {
   "cell_type": "code",
   "execution_count": 144,
   "id": "0f9e73aa",
   "metadata": {},
   "outputs": [],
   "source": [
    "# Find max value in whole matrix (Not allowed to use max function)\n",
    "# Don't create a new list"
   ]
  },
  {
   "cell_type": "code",
   "execution_count": 141,
   "id": "0c71aeb9",
   "metadata": {},
   "outputs": [],
   "source": [
    "runs = [[120, 30, 50], # t20\n",
    "        [200, 248, 100], # odi\n",
    "        [80, 100, 60]] # test"
   ]
  },
  {
   "cell_type": "code",
   "execution_count": 143,
   "id": "47aee4cd",
   "metadata": {},
   "outputs": [],
   "source": [
    "# output->248"
   ]
  },
  {
   "cell_type": "code",
   "execution_count": 147,
   "id": "aeefc2dd",
   "metadata": {},
   "outputs": [
    {
     "name": "stdout",
     "output_type": "stream",
     "text": [
      "248\n"
     ]
    }
   ],
   "source": [
    "max_value = runs[0][0]\n",
    "\n",
    "for row in runs:\n",
    "    for col in row:\n",
    "        if col > max_value:\n",
    "            max_value = col\n",
    "\n",
    "print(max_value)"
   ]
  },
  {
   "cell_type": "code",
   "execution_count": 148,
   "id": "b603b672",
   "metadata": {},
   "outputs": [
    {
     "name": "stdout",
     "output_type": "stream",
     "text": [
      "10\n"
     ]
    }
   ],
   "source": [
    "# Quiz \n",
    "nums = [[10, 20, 30], [98, 99]]\n",
    "print(nums[0][0])"
   ]
  },
  {
   "cell_type": "code",
   "execution_count": null,
   "id": "ecf53416",
   "metadata": {},
   "outputs": [],
   "source": [
    "for i in range(2):\n",
    "    for j in range(2):\n",
    "        print(i, j)"
   ]
  },
  {
   "cell_type": "code",
   "execution_count": null,
   "id": "add447d3",
   "metadata": {},
   "outputs": [],
   "source": []
  },
  {
   "cell_type": "code",
   "execution_count": 149,
   "id": "53bb2885",
   "metadata": {},
   "outputs": [],
   "source": [
    "mat = [[1,2,3,4],[5,6,7,8],[9,10,11,12]]"
   ]
  },
  {
   "cell_type": "code",
   "execution_count": 150,
   "id": "34a2bf82",
   "metadata": {},
   "outputs": [],
   "source": [
    "rows = len(mat)"
   ]
  },
  {
   "cell_type": "code",
   "execution_count": 151,
   "id": "6743cbcb",
   "metadata": {},
   "outputs": [
    {
     "data": {
      "text/plain": [
       "3"
      ]
     },
     "execution_count": 151,
     "metadata": {},
     "output_type": "execute_result"
    }
   ],
   "source": [
    "rows # 0 1 2"
   ]
  },
  {
   "cell_type": "code",
   "execution_count": 157,
   "id": "dc6c6b07",
   "metadata": {},
   "outputs": [
    {
     "name": "stdout",
     "output_type": "stream",
     "text": [
      "Row -> 0 Column ->0 1 2 3 \n",
      "Row -> 1 Column ->0 1 2 3 \n",
      "Row -> 2 Column ->0 1 2 3 \n"
     ]
    }
   ],
   "source": [
    "for row in range(rows):\n",
    "#     print(mat[row])\n",
    "    size_at_current_row = len(mat[row])\n",
    "    print(\"Row ->\",row,end = \" Column ->\")\n",
    "    for col in range(size_at_current_row):\n",
    "        print(col, end = \" \")\n",
    "    print()"
   ]
  },
  {
   "cell_type": "code",
   "execution_count": 159,
   "id": "aa1f933d",
   "metadata": {},
   "outputs": [
    {
     "name": "stdout",
     "output_type": "stream",
     "text": [
      "1\n",
      "2\n",
      "3\n",
      "4\n",
      "5\n",
      "6\n",
      "7\n",
      "8\n",
      "9\n",
      "10\n",
      "11\n",
      "12\n"
     ]
    }
   ],
   "source": [
    "for row in range(rows):\n",
    "    size_at_current_row = len(mat[row])\n",
    "    for col in range(size_at_current_row):\n",
    "        print(mat[row][col])\n"
   ]
  },
  {
   "cell_type": "code",
   "execution_count": 161,
   "id": "199221fd",
   "metadata": {},
   "outputs": [],
   "source": [
    "# ADD 2 Matrix\n",
    "\n",
    "X = [[12,7,3],\n",
    "     [4,5,6],\n",
    "     [7,8,9]]\n",
    "\n",
    "Y = [[5,8,1],\n",
    "     [6,7,3],\n",
    "     [4,5,9]]"
   ]
  },
  {
   "cell_type": "code",
   "execution_count": 162,
   "id": "5469f1b7",
   "metadata": {},
   "outputs": [],
   "source": [
    "result = []"
   ]
  },
  {
   "cell_type": "code",
   "execution_count": 163,
   "id": "6f717324",
   "metadata": {},
   "outputs": [],
   "source": [
    "# use index for loop"
   ]
  },
  {
   "cell_type": "code",
   "execution_count": 171,
   "id": "ead112c2",
   "metadata": {},
   "outputs": [
    {
     "name": "stdout",
     "output_type": "stream",
     "text": [
      "[17, 15, 4]\n",
      "[10, 12, 9]\n",
      "[11, 13, 18]\n"
     ]
    }
   ],
   "source": [
    "result = [] # 2D\n",
    "\n",
    "for i in range(len(X)):\n",
    "    inner_list = []\n",
    "    for j in range(len(X[i])):\n",
    "        new_added_value = X[i][j] + Y[i][j]\n",
    "        inner_list.append(new_added_value)\n",
    "    print(inner_list)\n",
    "    result.append(inner_list)"
   ]
  },
  {
   "cell_type": "code",
   "execution_count": null,
   "id": "41cbf3f3",
   "metadata": {},
   "outputs": [],
   "source": []
  },
  {
   "cell_type": "code",
   "execution_count": 173,
   "id": "3e335b77",
   "metadata": {},
   "outputs": [
    {
     "name": "stdout",
     "output_type": "stream",
     "text": [
      "[[17, 15, 4], [10, 12, 9], [11, 13, 18]]\n"
     ]
    }
   ],
   "source": [
    "print(result) # 2D List"
   ]
  },
  {
   "cell_type": "code",
   "execution_count": null,
   "id": "51abbacf",
   "metadata": {},
   "outputs": [],
   "source": []
  },
  {
   "cell_type": "code",
   "execution_count": 174,
   "id": "5d6d9afa",
   "metadata": {},
   "outputs": [],
   "source": [
    "# Doubts"
   ]
  },
  {
   "cell_type": "code",
   "execution_count": 176,
   "id": "b36ca28a",
   "metadata": {},
   "outputs": [
    {
     "ename": "SyntaxError",
     "evalue": "invalid syntax (3595780769.py, line 4)",
     "output_type": "error",
     "traceback": [
      "\u001b[0;36m  Input \u001b[0;32mIn [176]\u001b[0;36m\u001b[0m\n\u001b[0;31m    if (a==b _1_ a==c) and b==c:\u001b[0m\n\u001b[0m             ^\u001b[0m\n\u001b[0;31mSyntaxError\u001b[0m\u001b[0;31m:\u001b[0m invalid syntax\n"
     ]
    }
   ],
   "source": [
    "a = 2\n",
    "b = 3\n",
    "c = 5\n",
    "if (a==b _1_ a==c) and b==c:\n",
    "    print(\"Test\")"
   ]
  },
  {
   "cell_type": "code",
   "execution_count": 177,
   "id": "74ac1993",
   "metadata": {},
   "outputs": [],
   "source": [
    "# Lecture name and ques name"
   ]
  },
  {
   "cell_type": "code",
   "execution_count": 178,
   "id": "f80c97fe",
   "metadata": {},
   "outputs": [
    {
     "name": "stdout",
     "output_type": "stream",
     "text": [
      "5 4 3 7 8\n"
     ]
    },
    {
     "data": {
      "text/plain": [
       "'5 4 3 7 8'"
      ]
     },
     "execution_count": 178,
     "metadata": {},
     "output_type": "execute_result"
    }
   ],
   "source": [
    "input()"
   ]
  },
  {
   "cell_type": "code",
   "execution_count": null,
   "id": "1281e7aa",
   "metadata": {},
   "outputs": [],
   "source": [
    "List 1"
   ]
  },
  {
   "cell_type": "code",
   "execution_count": null,
   "id": "fa5ab90e",
   "metadata": {},
   "outputs": [],
   "source": [
    "2D list | with 3x3\n",
    "3x3 X and Y"
   ]
  },
  {
   "cell_type": "code",
   "execution_count": null,
   "id": "e63ee274",
   "metadata": {},
   "outputs": [],
   "source": [
    "# Strings, Tuples, Sets, Dic"
   ]
  },
  {
   "cell_type": "code",
   "execution_count": null,
   "id": "6f1d7685",
   "metadata": {},
   "outputs": [],
   "source": [
    "val = [2,5,7,3,6,6,6,6,6]\n",
    "max1 = 7\n",
    "\n",
    "if cur_value > 2nd_max and cur_value<max:"
   ]
  },
  {
   "cell_type": "code",
   "execution_count": 179,
   "id": "654dbde8",
   "metadata": {},
   "outputs": [],
   "source": [
    "val = [4,6,3,9,8]"
   ]
  },
  {
   "cell_type": "code",
   "execution_count": 180,
   "id": "680e5791",
   "metadata": {},
   "outputs": [],
   "source": [
    "val.sort() # slower"
   ]
  },
  {
   "cell_type": "code",
   "execution_count": 182,
   "id": "0d3431ac",
   "metadata": {},
   "outputs": [
    {
     "data": {
      "text/plain": [
       "[3, 4, 6, 8, 9]"
      ]
     },
     "execution_count": 182,
     "metadata": {},
     "output_type": "execute_result"
    }
   ],
   "source": [
    "val"
   ]
  },
  {
   "cell_type": "code",
   "execution_count": null,
   "id": "39e65d13",
   "metadata": {},
   "outputs": [],
   "source": []
  }
 ],
 "metadata": {
  "kernelspec": {
   "display_name": "Python 3 (ipykernel)",
   "language": "python",
   "name": "python3"
  },
  "language_info": {
   "codemirror_mode": {
    "name": "ipython",
    "version": 3
   },
   "file_extension": ".py",
   "mimetype": "text/x-python",
   "name": "python",
   "nbconvert_exporter": "python",
   "pygments_lexer": "ipython3",
   "version": "3.8.13"
  }
 },
 "nbformat": 4,
 "nbformat_minor": 5
}
