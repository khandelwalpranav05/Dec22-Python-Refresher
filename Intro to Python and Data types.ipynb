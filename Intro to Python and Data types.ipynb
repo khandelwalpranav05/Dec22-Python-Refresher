{
 "cells": [
  {
   "cell_type": "code",
   "execution_count": null,
   "id": "914aa616",
   "metadata": {},
   "outputs": [],
   "source": [
    "9pm - 11:30pm\n",
    "Theory till 11 and doubts till 11:30\n",
    "Tues Thurs Sat\n",
    "10 - 12 mins of break"
   ]
  },
  {
   "cell_type": "code",
   "execution_count": null,
   "id": "28f5272e",
   "metadata": {},
   "outputs": [],
   "source": [
    "- Intro to Python and it's Syntax\n",
    "- Data Types\n",
    "- Operators\n",
    "- if else\n",
    "- Loop\n",
    "- Strings\n",
    "- Lists\n",
    "- Tuples, Dict. Sets"
   ]
  },
  {
   "cell_type": "code",
   "execution_count": null,
   "id": "de666b9b",
   "metadata": {},
   "outputs": [],
   "source": [
    "Python IDE\n",
    "- Pycharm\n",
    "- Jupyter Notebook () Best new programmer\n",
    "- VS code"
   ]
  },
  {
   "cell_type": "code",
   "execution_count": null,
   "id": "d7fd8a9d",
   "metadata": {},
   "outputs": [],
   "source": []
  },
  {
   "cell_type": "code",
   "execution_count": 2,
   "id": "2c205084",
   "metadata": {},
   "outputs": [
    {
     "name": "stdout",
     "output_type": "stream",
     "text": [
      "23\n"
     ]
    }
   ],
   "source": [
    "print(23)"
   ]
  },
  {
   "cell_type": "code",
   "execution_count": 3,
   "id": "74acde94",
   "metadata": {},
   "outputs": [
    {
     "name": "stdout",
     "output_type": "stream",
     "text": [
      "34\n"
     ]
    }
   ],
   "source": [
    "print(34)"
   ]
  },
  {
   "cell_type": "code",
   "execution_count": 5,
   "id": "397462dd",
   "metadata": {},
   "outputs": [
    {
     "ename": "NameError",
     "evalue": "name 'pleasePrintMyData' is not defined",
     "output_type": "error",
     "traceback": [
      "\u001b[0;31m---------------------------------------------------------------------------\u001b[0m",
      "\u001b[0;31mNameError\u001b[0m                                 Traceback (most recent call last)",
      "Input \u001b[0;32mIn [5]\u001b[0m, in \u001b[0;36m<cell line: 1>\u001b[0;34m()\u001b[0m\n\u001b[0;32m----> 1\u001b[0m \u001b[43mpleasePrintMyData\u001b[49m(\u001b[38;5;124m\"\u001b[39m\u001b[38;5;124mHello World\u001b[39m\u001b[38;5;124m\"\u001b[39m)\n",
      "\u001b[0;31mNameError\u001b[0m: name 'pleasePrintMyData' is not defined"
     ]
    }
   ],
   "source": [
    "pleasePrintMyData(\"Hello World\")"
   ]
  },
  {
   "cell_type": "code",
   "execution_count": 6,
   "id": "22cb24fb",
   "metadata": {},
   "outputs": [
    {
     "name": "stdout",
     "output_type": "stream",
     "text": [
      "Pranav\n"
     ]
    }
   ],
   "source": [
    "print(\"Pranav\")"
   ]
  },
  {
   "cell_type": "code",
   "execution_count": null,
   "id": "c01477d8",
   "metadata": {},
   "outputs": [],
   "source": [
    "Python is Case sensitive"
   ]
  },
  {
   "cell_type": "code",
   "execution_count": 7,
   "id": "ccaa9073",
   "metadata": {},
   "outputs": [
    {
     "ename": "NameError",
     "evalue": "name 'Print' is not defined",
     "output_type": "error",
     "traceback": [
      "\u001b[0;31m---------------------------------------------------------------------------\u001b[0m",
      "\u001b[0;31mNameError\u001b[0m                                 Traceback (most recent call last)",
      "Input \u001b[0;32mIn [7]\u001b[0m, in \u001b[0;36m<cell line: 1>\u001b[0;34m()\u001b[0m\n\u001b[0;32m----> 1\u001b[0m \u001b[43mPrint\u001b[49m(\u001b[38;5;124m\"\u001b[39m\u001b[38;5;124mKhandelwal\u001b[39m\u001b[38;5;124m\"\u001b[39m)\n",
      "\u001b[0;31mNameError\u001b[0m: name 'Print' is not defined"
     ]
    }
   ],
   "source": [
    "Print(\"Khandelwal\")"
   ]
  },
  {
   "cell_type": "code",
   "execution_count": 8,
   "id": "83dbb7e2",
   "metadata": {},
   "outputs": [
    {
     "name": "stdout",
     "output_type": "stream",
     "text": [
      "Hi, I'm pranav welcome to scaler\n"
     ]
    }
   ],
   "source": [
    "print(\"Hi, I'm pranav welcome to scaler\")"
   ]
  },
  {
   "cell_type": "code",
   "execution_count": 9,
   "id": "2f9845cf",
   "metadata": {},
   "outputs": [
    {
     "name": "stdout",
     "output_type": "stream",
     "text": [
      "kwjfkjbfkljbfjwkblj76689879879sjhbjsdbjkshbdf\n"
     ]
    }
   ],
   "source": [
    "print(\"kwjfkjbfkljbfjwkblj76689879879sjhbjsdbjkshbdf\")"
   ]
  },
  {
   "cell_type": "code",
   "execution_count": 10,
   "id": "9812abf1",
   "metadata": {},
   "outputs": [
    {
     "ename": "NameError",
     "evalue": "name 'Pranav' is not defined",
     "output_type": "error",
     "traceback": [
      "\u001b[0;31m---------------------------------------------------------------------------\u001b[0m",
      "\u001b[0;31mNameError\u001b[0m                                 Traceback (most recent call last)",
      "Input \u001b[0;32mIn [10]\u001b[0m, in \u001b[0;36m<cell line: 1>\u001b[0;34m()\u001b[0m\n\u001b[0;32m----> 1\u001b[0m \u001b[38;5;28mprint\u001b[39m(\u001b[43mPranav\u001b[49m)\n",
      "\u001b[0;31mNameError\u001b[0m: name 'Pranav' is not defined"
     ]
    }
   ],
   "source": [
    "print(Pranav)"
   ]
  },
  {
   "cell_type": "code",
   "execution_count": 11,
   "id": "f2c44a0f",
   "metadata": {},
   "outputs": [
    {
     "name": "stdout",
     "output_type": "stream",
     "text": [
      "kwjfkjbfkljbfjwkblj76689879879sjhbjsdbjkshbdf\n"
     ]
    }
   ],
   "source": [
    "print('kwjfkjbfkljbfjwkblj76689879879sjhbjsdbjkshbdf')"
   ]
  },
  {
   "cell_type": "code",
   "execution_count": 12,
   "id": "e13f8873",
   "metadata": {},
   "outputs": [
    {
     "name": "stdout",
     "output_type": "stream",
     "text": [
      "this is single quote data\n"
     ]
    }
   ],
   "source": [
    "print('this is single quote data')"
   ]
  },
  {
   "cell_type": "code",
   "execution_count": 13,
   "id": "1323a64e",
   "metadata": {},
   "outputs": [
    {
     "name": "stdout",
     "output_type": "stream",
     "text": [
      "30\n"
     ]
    }
   ],
   "source": [
    "print(10 + 20)"
   ]
  },
  {
   "cell_type": "code",
   "execution_count": 14,
   "id": "3a68d83c",
   "metadata": {},
   "outputs": [
    {
     "name": "stdout",
     "output_type": "stream",
     "text": [
      "-10\n"
     ]
    }
   ],
   "source": [
    "print(10-20)"
   ]
  },
  {
   "cell_type": "code",
   "execution_count": 15,
   "id": "a29169e8",
   "metadata": {},
   "outputs": [
    {
     "name": "stdout",
     "output_type": "stream",
     "text": [
      "10\n"
     ]
    }
   ],
   "source": [
    "# quiz 1\n",
    "print(\"10\")"
   ]
  },
  {
   "cell_type": "code",
   "execution_count": 16,
   "id": "1ca5e00b",
   "metadata": {},
   "outputs": [
    {
     "name": "stdout",
     "output_type": "stream",
     "text": [
      "120\n"
     ]
    }
   ],
   "source": [
    "print(\"120\")"
   ]
  },
  {
   "cell_type": "code",
   "execution_count": 63,
   "id": "d51ef374",
   "metadata": {},
   "outputs": [],
   "source": [
    "# Anything that you write in double/single quotes is printed as it is"
   ]
  },
  {
   "cell_type": "code",
   "execution_count": 17,
   "id": "11dbd959",
   "metadata": {},
   "outputs": [
    {
     "name": "stdout",
     "output_type": "stream",
     "text": [
      "10+10\n"
     ]
    }
   ],
   "source": [
    "print(\"10+10\")"
   ]
  },
  {
   "cell_type": "code",
   "execution_count": 18,
   "id": "bacaa5e1",
   "metadata": {},
   "outputs": [
    {
     "name": "stdout",
     "output_type": "stream",
     "text": [
      "30\n"
     ]
    }
   ],
   "source": [
    "print(10+20)"
   ]
  },
  {
   "cell_type": "code",
   "execution_count": 19,
   "id": "97ad7bcf",
   "metadata": {},
   "outputs": [
    {
     "name": "stdout",
     "output_type": "stream",
     "text": [
      "30\n"
     ]
    }
   ],
   "source": [
    "print(10 + 20)"
   ]
  },
  {
   "cell_type": "markdown",
   "id": "28066964",
   "metadata": {},
   "source": [
    "### Primitive Data Types in Python\n",
    "These are the most primitive or the basic data structures. They are the building blocks for data manipulation\n",
    "and contain pure, simple values of a data. Python has four primitive variable types:\n",
    "1. Integers\n",
    "2. Float\n",
    "3. Strings\n",
    "4. Boolean"
   ]
  },
  {
   "cell_type": "code",
   "execution_count": 20,
   "id": "5dfba31d",
   "metadata": {},
   "outputs": [
    {
     "name": "stdout",
     "output_type": "stream",
     "text": [
      "<class 'int'>\n"
     ]
    }
   ],
   "source": [
    "print(type(5))"
   ]
  },
  {
   "cell_type": "code",
   "execution_count": 21,
   "id": "cbab475a",
   "metadata": {},
   "outputs": [
    {
     "name": "stdout",
     "output_type": "stream",
     "text": [
      "<class 'int'>\n"
     ]
    }
   ],
   "source": [
    "print(type(124))"
   ]
  },
  {
   "cell_type": "code",
   "execution_count": 22,
   "id": "df451376",
   "metadata": {},
   "outputs": [
    {
     "name": "stdout",
     "output_type": "stream",
     "text": [
      "<class 'int'>\n"
     ]
    }
   ],
   "source": [
    "print(type(-44))"
   ]
  },
  {
   "cell_type": "code",
   "execution_count": 23,
   "id": "3f408771",
   "metadata": {},
   "outputs": [
    {
     "name": "stdout",
     "output_type": "stream",
     "text": [
      "<class 'float'>\n"
     ]
    }
   ],
   "source": [
    "print(type(-5.5))"
   ]
  },
  {
   "cell_type": "code",
   "execution_count": 24,
   "id": "85fc4848",
   "metadata": {},
   "outputs": [
    {
     "name": "stdout",
     "output_type": "stream",
     "text": [
      "<class 'float'>\n"
     ]
    }
   ],
   "source": [
    "print(type(789.56))"
   ]
  },
  {
   "cell_type": "code",
   "execution_count": 25,
   "id": "14ff303f",
   "metadata": {},
   "outputs": [
    {
     "name": "stdout",
     "output_type": "stream",
     "text": [
      "<class 'str'>\n"
     ]
    }
   ],
   "source": [
    "print(type(\"What's the type for this data\"))"
   ]
  },
  {
   "cell_type": "code",
   "execution_count": 27,
   "id": "5d282311",
   "metadata": {},
   "outputs": [
    {
     "name": "stdout",
     "output_type": "stream",
     "text": [
      "<class 'str'>\n"
     ]
    }
   ],
   "source": [
    "print(type(\"102dl;kjfvndilohgvildfrujshbvcfejkwhgfuegfkejuyfgyjkure\"))"
   ]
  },
  {
   "cell_type": "code",
   "execution_count": 29,
   "id": "79786fe9",
   "metadata": {},
   "outputs": [
    {
     "name": "stdout",
     "output_type": "stream",
     "text": [
      "<class 'str'>\n"
     ]
    }
   ],
   "source": [
    "print(type('456dso;ifjeiuhfudeihfr'))"
   ]
  },
  {
   "cell_type": "code",
   "execution_count": 30,
   "id": "83c4c4b5",
   "metadata": {},
   "outputs": [
    {
     "name": "stdout",
     "output_type": "stream",
     "text": [
      "<class 'str'>\n"
     ]
    }
   ],
   "source": [
    "print(type(\"\"))"
   ]
  },
  {
   "cell_type": "code",
   "execution_count": 31,
   "id": "05a06604",
   "metadata": {},
   "outputs": [
    {
     "name": "stdout",
     "output_type": "stream",
     "text": [
      "<class 'bool'>\n"
     ]
    }
   ],
   "source": [
    "print(type(True))"
   ]
  },
  {
   "cell_type": "code",
   "execution_count": 32,
   "id": "03c89269",
   "metadata": {},
   "outputs": [
    {
     "name": "stdout",
     "output_type": "stream",
     "text": [
      "<class 'bool'>\n"
     ]
    }
   ],
   "source": [
    "print(type(False))"
   ]
  },
  {
   "cell_type": "code",
   "execution_count": 33,
   "id": "be08cc4c",
   "metadata": {},
   "outputs": [
    {
     "name": "stdout",
     "output_type": "stream",
     "text": [
      "<class 'int'>\n"
     ]
    }
   ],
   "source": [
    "print(type(0)) "
   ]
  },
  {
   "cell_type": "code",
   "execution_count": 34,
   "id": "13dae818",
   "metadata": {},
   "outputs": [
    {
     "ename": "NameError",
     "evalue": "name 'false' is not defined",
     "output_type": "error",
     "traceback": [
      "\u001b[0;31m---------------------------------------------------------------------------\u001b[0m",
      "\u001b[0;31mNameError\u001b[0m                                 Traceback (most recent call last)",
      "Input \u001b[0;32mIn [34]\u001b[0m, in \u001b[0;36m<cell line: 1>\u001b[0;34m()\u001b[0m\n\u001b[0;32m----> 1\u001b[0m \u001b[38;5;28mprint\u001b[39m(\u001b[38;5;28mtype\u001b[39m(\u001b[43mfalse\u001b[49m))\n",
      "\u001b[0;31mNameError\u001b[0m: name 'false' is not defined"
     ]
    }
   ],
   "source": [
    "print(type(false))"
   ]
  },
  {
   "cell_type": "code",
   "execution_count": 35,
   "id": "d5c0b118",
   "metadata": {},
   "outputs": [
    {
     "name": "stdout",
     "output_type": "stream",
     "text": [
      "<class 'NoneType'>\n"
     ]
    }
   ],
   "source": [
    "print(type(None))"
   ]
  },
  {
   "cell_type": "code",
   "execution_count": 36,
   "id": "0c3a07ea",
   "metadata": {},
   "outputs": [
    {
     "ename": "NameError",
     "evalue": "name 'none' is not defined",
     "output_type": "error",
     "traceback": [
      "\u001b[0;31m---------------------------------------------------------------------------\u001b[0m",
      "\u001b[0;31mNameError\u001b[0m                                 Traceback (most recent call last)",
      "Input \u001b[0;32mIn [36]\u001b[0m, in \u001b[0;36m<cell line: 1>\u001b[0;34m()\u001b[0m\n\u001b[0;32m----> 1\u001b[0m \u001b[38;5;28mprint\u001b[39m(\u001b[38;5;28mtype\u001b[39m(\u001b[43mnone\u001b[49m))\n",
      "\u001b[0;31mNameError\u001b[0m: name 'none' is not defined"
     ]
    }
   ],
   "source": [
    "print(type(none))"
   ]
  },
  {
   "cell_type": "markdown",
   "id": "487dcc55",
   "metadata": {},
   "source": [
    "### Variables "
   ]
  },
  {
   "cell_type": "code",
   "execution_count": 37,
   "id": "76234cb8",
   "metadata": {},
   "outputs": [
    {
     "name": "stdout",
     "output_type": "stream",
     "text": [
      "30\n"
     ]
    }
   ],
   "source": [
    "print(10 + 20)"
   ]
  },
  {
   "cell_type": "code",
   "execution_count": 38,
   "id": "64b17b7e",
   "metadata": {},
   "outputs": [
    {
     "name": "stdout",
     "output_type": "stream",
     "text": [
      "801\n"
     ]
    }
   ],
   "source": [
    "print(123 + 678)"
   ]
  },
  {
   "cell_type": "code",
   "execution_count": 39,
   "id": "ce4f1028",
   "metadata": {},
   "outputs": [
    {
     "name": "stdout",
     "output_type": "stream",
     "text": [
      "90\n"
     ]
    }
   ],
   "source": [
    "print(23 + 67)"
   ]
  },
  {
   "cell_type": "code",
   "execution_count": 41,
   "id": "b50c684e",
   "metadata": {},
   "outputs": [
    {
     "name": "stdout",
     "output_type": "stream",
     "text": [
      "54\n"
     ]
    }
   ],
   "source": [
    "x = 20\n",
    "y = 34\n",
    "print(x+y)"
   ]
  },
  {
   "cell_type": "code",
   "execution_count": 42,
   "id": "c7e770cb",
   "metadata": {},
   "outputs": [],
   "source": [
    "name = \"Pranav khandelwal\""
   ]
  },
  {
   "cell_type": "code",
   "execution_count": 43,
   "id": "57f66c72",
   "metadata": {},
   "outputs": [
    {
     "name": "stdout",
     "output_type": "stream",
     "text": [
      "Pranav khandelwal\n"
     ]
    }
   ],
   "source": [
    "print(name)"
   ]
  },
  {
   "cell_type": "code",
   "execution_count": 45,
   "id": "09118387",
   "metadata": {},
   "outputs": [
    {
     "name": "stdout",
     "output_type": "stream",
     "text": [
      "<class 'int'>\n"
     ]
    }
   ],
   "source": [
    "x = 5\n",
    "print(type(x))"
   ]
  },
  {
   "cell_type": "code",
   "execution_count": 47,
   "id": "32ad5ab4",
   "metadata": {},
   "outputs": [
    {
     "name": "stdout",
     "output_type": "stream",
     "text": [
      "<class 'str'>\n"
     ]
    }
   ],
   "source": [
    "y = \"pranav\"\n",
    "print(type(y))"
   ]
  },
  {
   "cell_type": "markdown",
   "id": "a281e021",
   "metadata": {},
   "source": [
    "### Rules for Python variables:\n",
    "1. A variable name must start with a letter or the underscore character\n",
    "2. A variable name cannot start with a number\n",
    "3. A variable name can only contain alpha-numeric characters and underscores (A-z, 0-9, and _ )\n",
    "4. Variable names are case-sensitive (age, Age and AGE are three different variables)"
   ]
  },
  {
   "cell_type": "code",
   "execution_count": 48,
   "id": "0249bc77",
   "metadata": {},
   "outputs": [],
   "source": [
    "y1r = \"test\""
   ]
  },
  {
   "cell_type": "code",
   "execution_count": 49,
   "id": "ab3d1aeb",
   "metadata": {},
   "outputs": [],
   "source": [
    "_y = 45"
   ]
  },
  {
   "cell_type": "code",
   "execution_count": 50,
   "id": "1d561043",
   "metadata": {},
   "outputs": [
    {
     "ename": "SyntaxError",
     "evalue": "invalid syntax (516087811.py, line 1)",
     "output_type": "error",
     "traceback": [
      "\u001b[0;36m  Input \u001b[0;32mIn [50]\u001b[0;36m\u001b[0m\n\u001b[0;31m    1a = 56\u001b[0m\n\u001b[0m     ^\u001b[0m\n\u001b[0;31mSyntaxError\u001b[0m\u001b[0;31m:\u001b[0m invalid syntax\n"
     ]
    }
   ],
   "source": [
    "1a = 56"
   ]
  },
  {
   "cell_type": "code",
   "execution_count": 51,
   "id": "77fe89e6",
   "metadata": {},
   "outputs": [],
   "source": [
    "_R = 56"
   ]
  },
  {
   "cell_type": "code",
   "execution_count": 52,
   "id": "6ac62b02",
   "metadata": {},
   "outputs": [],
   "source": [
    "a4b = \"scaler\""
   ]
  },
  {
   "cell_type": "code",
   "execution_count": 53,
   "id": "e2098513",
   "metadata": {},
   "outputs": [
    {
     "ename": "SyntaxError",
     "evalue": "invalid syntax (3381405377.py, line 1)",
     "output_type": "error",
     "traceback": [
      "\u001b[0;36m  Input \u001b[0;32mIn [53]\u001b[0;36m\u001b[0m\n\u001b[0;31m    a$b = \"scaler\"\u001b[0m\n\u001b[0m     ^\u001b[0m\n\u001b[0;31mSyntaxError\u001b[0m\u001b[0;31m:\u001b[0m invalid syntax\n"
     ]
    }
   ],
   "source": [
    "a$b = \"scaler\""
   ]
  },
  {
   "cell_type": "code",
   "execution_count": 55,
   "id": "bea2d27c",
   "metadata": {},
   "outputs": [],
   "source": [
    "_123 = \"test\" # you should not do it"
   ]
  },
  {
   "cell_type": "code",
   "execution_count": 56,
   "id": "c4f31aba",
   "metadata": {},
   "outputs": [],
   "source": [
    "_alone = \"alone\""
   ]
  },
  {
   "cell_type": "code",
   "execution_count": 57,
   "id": "ba4c00d6",
   "metadata": {},
   "outputs": [],
   "source": [
    "age = 12"
   ]
  },
  {
   "cell_type": "code",
   "execution_count": 58,
   "id": "7c13ab74",
   "metadata": {},
   "outputs": [],
   "source": [
    "AGE = 13"
   ]
  },
  {
   "cell_type": "code",
   "execution_count": 59,
   "id": "768eb729",
   "metadata": {},
   "outputs": [
    {
     "name": "stdout",
     "output_type": "stream",
     "text": [
      "12\n",
      "13\n"
     ]
    }
   ],
   "source": [
    "print(age)\n",
    "print(AGE)"
   ]
  },
  {
   "cell_type": "code",
   "execution_count": 60,
   "id": "33ccec5c",
   "metadata": {},
   "outputs": [],
   "source": [
    "AgE = 45"
   ]
  },
  {
   "cell_type": "code",
   "execution_count": 61,
   "id": "e232d851",
   "metadata": {},
   "outputs": [
    {
     "name": "stdout",
     "output_type": "stream",
     "text": [
      "45\n"
     ]
    }
   ],
   "source": [
    "print(AgE)"
   ]
  },
  {
   "cell_type": "code",
   "execution_count": 64,
   "id": "e0148844",
   "metadata": {},
   "outputs": [],
   "source": [
    "# comments\n",
    "# if you write # then anything you right after it python will not read it\n",
    "# this is line\n",
    "# this another line"
   ]
  },
  {
   "cell_type": "code",
   "execution_count": 65,
   "id": "1ac42e8b",
   "metadata": {},
   "outputs": [],
   "source": []
  },
  {
   "cell_type": "code",
   "execution_count": 66,
   "id": "60494a48",
   "metadata": {},
   "outputs": [],
   "source": [
    "val = \"\"\"\n",
    "this is also a way to write\n",
    "string in multine \n",
    "situation\n",
    "\"\"\""
   ]
  },
  {
   "cell_type": "code",
   "execution_count": 67,
   "id": "4d9166ad",
   "metadata": {},
   "outputs": [
    {
     "name": "stdout",
     "output_type": "stream",
     "text": [
      "<class 'str'>\n"
     ]
    }
   ],
   "source": [
    "print(type(val))"
   ]
  },
  {
   "cell_type": "code",
   "execution_count": null,
   "id": "4a898f0a",
   "metadata": {},
   "outputs": [],
   "source": []
  },
  {
   "cell_type": "code",
   "execution_count": null,
   "id": "88cb6a3f",
   "metadata": {},
   "outputs": [],
   "source": []
  },
  {
   "cell_type": "code",
   "execution_count": 68,
   "id": "5840343c",
   "metadata": {},
   "outputs": [],
   "source": [
    "# input"
   ]
  },
  {
   "cell_type": "code",
   "execution_count": 69,
   "id": "4061c5b1",
   "metadata": {},
   "outputs": [
    {
     "name": "stdout",
     "output_type": "stream",
     "text": [
      "60\n"
     ]
    }
   ],
   "source": [
    "a = 20\n",
    "b = 40\n",
    "print(a + b)"
   ]
  },
  {
   "cell_type": "code",
   "execution_count": 74,
   "id": "0faf60ad",
   "metadata": {},
   "outputs": [
    {
     "name": "stdout",
     "output_type": "stream",
     "text": [
      "Please provide the name Pranav\n"
     ]
    }
   ],
   "source": [
    "name = input(\"Please provide the name \")"
   ]
  },
  {
   "cell_type": "code",
   "execution_count": 75,
   "id": "f23a5032",
   "metadata": {},
   "outputs": [
    {
     "name": "stdout",
     "output_type": "stream",
     "text": [
      "Pranav\n"
     ]
    }
   ],
   "source": [
    "print(name)"
   ]
  },
  {
   "cell_type": "code",
   "execution_count": 78,
   "id": "ee2c9cad",
   "metadata": {},
   "outputs": [
    {
     "name": "stdout",
     "output_type": "stream",
     "text": [
      "Please provide the value for variable a monkey\n",
      "Please provide the value for variable b scaler\n",
      "monkey\n",
      "scaler\n"
     ]
    }
   ],
   "source": [
    "a = input(\"Please provide the value for variable a \")\n",
    "b = input(\"Please provide the value for variable b \")\n",
    "print(a)\n",
    "print(b)"
   ]
  },
  {
   "cell_type": "code",
   "execution_count": 76,
   "id": "20cd4c9a",
   "metadata": {},
   "outputs": [
    {
     "name": "stdout",
     "output_type": "stream",
     "text": [
      "<class 'str'>\n"
     ]
    }
   ],
   "source": [
    "print(type(name))"
   ]
  },
  {
   "cell_type": "code",
   "execution_count": 77,
   "id": "9c305c97",
   "metadata": {},
   "outputs": [
    {
     "name": "stdout",
     "output_type": "stream",
     "text": [
      "<class 'str'>\n"
     ]
    }
   ],
   "source": [
    "print(type(a)) # output for this ?"
   ]
  },
  {
   "cell_type": "code",
   "execution_count": null,
   "id": "785ce86d",
   "metadata": {},
   "outputs": [],
   "source": []
  },
  {
   "cell_type": "code",
   "execution_count": null,
   "id": "7c7cd4db",
   "metadata": {},
   "outputs": [],
   "source": []
  },
  {
   "cell_type": "code",
   "execution_count": 79,
   "id": "555f63f2",
   "metadata": {},
   "outputs": [
    {
     "name": "stdout",
     "output_type": "stream",
     "text": [
      "Please provide the value for variable a 20\n",
      "Please provide the value for variable b 40\n",
      "2040\n"
     ]
    }
   ],
   "source": [
    "a = input(\"Please provide the value for variable a \")\n",
    "b = input(\"Please provide the value for variable b \")\n",
    "print(a+b)"
   ]
  },
  {
   "cell_type": "code",
   "execution_count": 81,
   "id": "5df80d80",
   "metadata": {},
   "outputs": [
    {
     "name": "stdout",
     "output_type": "stream",
     "text": [
      "Hello World\n"
     ]
    }
   ],
   "source": [
    "a = \"Hello \"\n",
    "b = \"World\"\n",
    "print(a + b)"
   ]
  },
  {
   "cell_type": "code",
   "execution_count": 83,
   "id": "2ce5a2d6",
   "metadata": {},
   "outputs": [
    {
     "name": "stdout",
     "output_type": "stream",
     "text": [
      "Please provide the value for variable a 12\n",
      "Please provide the value for variable b 23\n",
      "35\n"
     ]
    }
   ],
   "source": [
    "a = input(\"Please provide the value for variable a \")\n",
    "b = input(\"Please provide the value for variable b \")\n",
    "x = int(a) # type casting str -> int\n",
    "y = int(b) # type casting str -> int\n",
    "print(x+y)"
   ]
  },
  {
   "cell_type": "code",
   "execution_count": null,
   "id": "cb4e5a85",
   "metadata": {},
   "outputs": [],
   "source": []
  }
 ],
 "metadata": {
  "kernelspec": {
   "display_name": "Python 3 (ipykernel)",
   "language": "python",
   "name": "python3"
  },
  "language_info": {
   "codemirror_mode": {
    "name": "ipython",
    "version": 3
   },
   "file_extension": ".py",
   "mimetype": "text/x-python",
   "name": "python",
   "nbconvert_exporter": "python",
   "pygments_lexer": "ipython3",
   "version": "3.8.13"
  }
 },
 "nbformat": 4,
 "nbformat_minor": 5
}
